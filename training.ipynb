{
  "nbformat": 4,
  "nbformat_minor": 0,
  "metadata": {
    "colab": {
      "provenance": [],
      "gpuType": "T4",
      "authorship_tag": "ABX9TyMHzXu3XswUtxDxjeaDmW81",
      "include_colab_link": true
    },
    "kernelspec": {
      "name": "python3",
      "display_name": "Python 3"
    },
    "language_info": {
      "name": "python"
    },
    "accelerator": "GPU"
  },
  "cells": [
    {
      "cell_type": "markdown",
      "metadata": {
        "id": "view-in-github",
        "colab_type": "text"
      },
      "source": [
        "<a href=\"https://colab.research.google.com/github/mostafa-ja/Anomaly-detection/blob/main/training.ipynb\" target=\"_parent\"><img src=\"https://colab.research.google.com/assets/colab-badge.svg\" alt=\"Open In Colab\"/></a>"
      ]
    },
    {
      "cell_type": "code",
      "source": [
        "# download datasets\n",
        "! wget 'https://raw.githubusercontent.com/wuyifan18/DeepLog/master/data/hdfs_train'\n",
        "! wget 'https://raw.githubusercontent.com/wuyifan18/DeepLog/master/data/hdfs_test_normal'\n",
        "! wget 'https://raw.githubusercontent.com/wuyifan18/DeepLog/master/data/hdfs_test_abnormal'"
      ],
      "metadata": {
        "colab": {
          "base_uri": "https://localhost:8080/"
        },
        "id": "wxO267KLNeBo",
        "outputId": "c991416f-91ca-4702-d292-7ed96914d73f"
      },
      "execution_count": 1,
      "outputs": [
        {
          "output_type": "stream",
          "name": "stdout",
          "text": [
            "--2023-07-11 07:50:38--  https://raw.githubusercontent.com/wuyifan18/DeepLog/master/data/hdfs_train\n",
            "Resolving raw.githubusercontent.com (raw.githubusercontent.com)... 185.199.108.133, 185.199.109.133, 185.199.110.133, ...\n",
            "Connecting to raw.githubusercontent.com (raw.githubusercontent.com)|185.199.108.133|:443... connected.\n",
            "HTTP request sent, awaiting response... 200 OK\n",
            "Length: 253021 (247K) [text/plain]\n",
            "Saving to: ‘hdfs_train’\n",
            "\n",
            "hdfs_train          100%[===================>] 247.09K  --.-KB/s    in 0.01s   \n",
            "\n",
            "2023-07-11 07:50:38 (24.1 MB/s) - ‘hdfs_train’ saved [253021/253021]\n",
            "\n",
            "--2023-07-11 07:50:39--  https://raw.githubusercontent.com/wuyifan18/DeepLog/master/data/hdfs_test_normal\n",
            "Resolving raw.githubusercontent.com (raw.githubusercontent.com)... 185.199.108.133, 185.199.109.133, 185.199.110.133, ...\n",
            "Connecting to raw.githubusercontent.com (raw.githubusercontent.com)|185.199.108.133|:443... connected.\n",
            "HTTP request sent, awaiting response... 200 OK\n",
            "Length: 28730917 (27M) [text/plain]\n",
            "Saving to: ‘hdfs_test_normal’\n",
            "\n",
            "hdfs_test_normal    100%[===================>]  27.40M  --.-KB/s    in 0.07s   \n",
            "\n",
            "2023-07-11 07:50:41 (404 MB/s) - ‘hdfs_test_normal’ saved [28730917/28730917]\n",
            "\n",
            "--2023-07-11 07:50:41--  https://raw.githubusercontent.com/wuyifan18/DeepLog/master/data/hdfs_test_abnormal\n",
            "Resolving raw.githubusercontent.com (raw.githubusercontent.com)... 185.199.108.133, 185.199.109.133, 185.199.110.133, ...\n",
            "Connecting to raw.githubusercontent.com (raw.githubusercontent.com)|185.199.108.133|:443... connected.\n",
            "HTTP request sent, awaiting response... 200 OK\n",
            "Length: 765642 (748K) [text/plain]\n",
            "Saving to: ‘hdfs_test_abnormal’\n",
            "\n",
            "hdfs_test_abnormal  100%[===================>] 747.70K  --.-KB/s    in 0.01s   \n",
            "\n",
            "2023-07-11 07:50:41 (61.6 MB/s) - ‘hdfs_test_abnormal’ saved [765642/765642]\n",
            "\n"
          ]
        }
      ]
    },
    {
      "cell_type": "code",
      "source": [
        "import time\n",
        "import torch\n",
        "import torch.nn as nn\n",
        "import torch.optim as optim\n",
        "from torch.utils.tensorboard import SummaryWriter\n",
        "from torch.utils.data import TensorDataset, DataLoader\n",
        "import argparse\n",
        "import os\n",
        "\n",
        "# Device configuration\n",
        "device = torch.device(\"cuda\" if torch.cuda.is_available() else \"cpu\")\n"
      ],
      "metadata": {
        "id": "DY20jHF8KUmK"
      },
      "execution_count": 2,
      "outputs": []
    },
    {
      "cell_type": "code",
      "source": [
        "# count rows of the hdfs_train\n",
        "\n",
        "with open('/content/hdfs_train', \"r\") as file:\n",
        "    totaln=0\n",
        "    for line in file:\n",
        "        totaln += 1\n",
        "\n",
        "print('There are a total of {} lines'.format(totaln))"
      ],
      "metadata": {
        "colab": {
          "base_uri": "https://localhost:8080/"
        },
        "id": "b6I2yQF-UhD8",
        "outputId": "87dade20-ca0c-48fd-9581-8899d4e99d8e"
      },
      "execution_count": 3,
      "outputs": [
        {
          "output_type": "stream",
          "name": "stdout",
          "text": [
            "There are a total of 4855 lines\n"
          ]
        }
      ]
    },
    {
      "cell_type": "markdown",
      "source": [
        "important point:\n",
        "if you need to modify the elements of the line later on, using a list would be more suitable. If you want to ensure that the elements remain immutable, using a tuple would be appropriate."
      ],
      "metadata": {
        "id": "86E6FrUzT3Ir"
      }
    },
    {
      "cell_type": "code",
      "source": [
        "window_size = 10\n",
        "num_sessions = 0\n",
        "inputs = []\n",
        "outputs = []\n",
        "with open('/content/hdfs_train', 'r') as f:\n",
        "        for line in f:\n",
        "            print(line)\n",
        "            num_sessions += 1\n",
        "            line = [int(n) - 1 for n in line.strip().split()]\n",
        "            for i in range(len(line) - window_size):\n",
        "                inputs.append(line[i:i + window_size])\n",
        "                outputs.append(line[i + window_size])\n",
        "            break\n",
        "\n",
        "print(line)\n",
        "print(inputs)\n",
        "print(outputs)\n",
        "print(num_sessions)"
      ],
      "metadata": {
        "colab": {
          "base_uri": "https://localhost:8080/"
        },
        "id": "zgqHCZFlTNAr",
        "outputId": "55b2e4d7-401d-4f8f-ce2a-fb5a9aabd14a"
      },
      "execution_count": 4,
      "outputs": [
        {
          "output_type": "stream",
          "name": "stdout",
          "text": [
            "5 5 5 22 11 9 11 9 11 9 26 26 26 23 23 23 21 21 21 \n",
            "\n",
            "[4, 4, 4, 21, 10, 8, 10, 8, 10, 8, 25, 25, 25, 22, 22, 22, 20, 20, 20]\n",
            "[[4, 4, 4, 21, 10, 8, 10, 8, 10, 8], [4, 4, 21, 10, 8, 10, 8, 10, 8, 25], [4, 21, 10, 8, 10, 8, 10, 8, 25, 25], [21, 10, 8, 10, 8, 10, 8, 25, 25, 25], [10, 8, 10, 8, 10, 8, 25, 25, 25, 22], [8, 10, 8, 10, 8, 25, 25, 25, 22, 22], [10, 8, 10, 8, 25, 25, 25, 22, 22, 22], [8, 10, 8, 25, 25, 25, 22, 22, 22, 20], [10, 8, 25, 25, 25, 22, 22, 22, 20, 20]]\n",
            "[25, 25, 25, 22, 22, 22, 20, 20, 20]\n",
            "1\n"
          ]
        }
      ]
    },
    {
      "cell_type": "code",
      "source": [
        "# what happen if the line is smaller than windows size or equal\n",
        "\n",
        "line = '5 5 5 22 11 9 11'\n",
        "window_size = 10\n",
        "num_sessions = 0\n",
        "inputs = []\n",
        "outputs = []\n",
        "\n",
        "line = [int(n) - 1 for n in line.strip().split()]\n",
        "for i in range(len(line) - window_size):\n",
        "    inputs.append(line[i:i + window_size])\n",
        "    outputs.append(line[i + window_size])\n",
        "\n",
        "print(line)\n",
        "print(inputs)\n",
        "print(outputs)\n"
      ],
      "metadata": {
        "colab": {
          "base_uri": "https://localhost:8080/"
        },
        "id": "ZyV6nQP2V7Q6",
        "outputId": "aa043ad6-d1ae-402c-aedb-f9e44c9950e9"
      },
      "execution_count": 5,
      "outputs": [
        {
          "output_type": "stream",
          "name": "stdout",
          "text": [
            "[4, 4, 4, 21, 10, 8, 10]\n",
            "[]\n",
            "[]\n"
          ]
        }
      ]
    },
    {
      "cell_type": "code",
      "source": [
        "line = '5 5 5 22 11 9 11 9 11 9'\n",
        "window_size = 10\n",
        "num_sessions = 0\n",
        "inputs = []\n",
        "outputs = []\n",
        "\n",
        "line = [int(n) - 1 for n in line.strip().split()]\n",
        "for i in range(len(line) - window_size):\n",
        "    inputs.append(line[i:i + window_size])\n",
        "    outputs.append(line[i + window_size])\n",
        "\n",
        "print(line)\n",
        "print(inputs)\n",
        "print(outputs)"
      ],
      "metadata": {
        "colab": {
          "base_uri": "https://localhost:8080/"
        },
        "id": "7tKNqEyBWmGW",
        "outputId": "e9e4e5ed-8c4d-43f6-aea7-a1acf3da302b"
      },
      "execution_count": 6,
      "outputs": [
        {
          "output_type": "stream",
          "name": "stdout",
          "text": [
            "[4, 4, 4, 21, 10, 8, 10, 8, 10, 8]\n",
            "[]\n",
            "[]\n"
          ]
        }
      ]
    },
    {
      "cell_type": "code",
      "source": [
        "import torch\n",
        "from torch.utils.data import TensorDataset\n",
        "\n",
        "name = 'hdfs_train'\n",
        "window_size = 10\n",
        "num_sessions = 0\n",
        "inputs = []\n",
        "outputs = []\n",
        "\n",
        "with open('/content/' + name, 'r') as f:\n",
        "        for row in f:\n",
        "            num_sessions += 1\n",
        "            line = [int(i) - 1 for i in row.strip().split()] # we substract by one from templates index for starting from zero\n",
        "            for i in range(len(line) - window_size):\n",
        "                inputs.append(line[i:i + window_size])\n",
        "                outputs.append(line[i + window_size])\n",
        "\n",
        "print('Number of sessions({}): {}'.format(name, num_sessions))\n",
        "print('Number of seqs({}): {}'.format(name, len(inputs)))\n",
        "dataset = TensorDataset(torch.tensor(inputs, dtype=torch.float), torch.tensor(outputs))\n"
      ],
      "metadata": {
        "colab": {
          "base_uri": "https://localhost:8080/"
        },
        "id": "iWjsmwEvKYd8",
        "outputId": "52f946fa-a9bc-4896-c9b2-26e8ce943b0d"
      },
      "execution_count": 7,
      "outputs": [
        {
          "output_type": "stream",
          "name": "stdout",
          "text": [
            "Number of sessions(hdfs_train): 4855\n",
            "Number of seqs(hdfs_train): 46575\n"
          ]
        }
      ]
    },
    {
      "cell_type": "code",
      "source": [
        "# ba carefull, we substract by one\n",
        "inputs[0]"
      ],
      "metadata": {
        "colab": {
          "base_uri": "https://localhost:8080/"
        },
        "id": "78AKB933NMAF",
        "outputId": "f52712eb-346c-45c9-dfb8-514699adbda7"
      },
      "execution_count": 8,
      "outputs": [
        {
          "output_type": "execute_result",
          "data": {
            "text/plain": [
              "[4, 4, 4, 21, 10, 8, 10, 8, 10, 8]"
            ]
          },
          "metadata": {},
          "execution_count": 8
        }
      ]
    },
    {
      "cell_type": "code",
      "source": [
        "outputs[0]"
      ],
      "metadata": {
        "colab": {
          "base_uri": "https://localhost:8080/"
        },
        "id": "FcfIi0uNVWQB",
        "outputId": "615c5934-0ec8-442f-963f-6519cdbd9c29"
      },
      "execution_count": 9,
      "outputs": [
        {
          "output_type": "execute_result",
          "data": {
            "text/plain": [
              "25"
            ]
          },
          "metadata": {},
          "execution_count": 9
        }
      ]
    },
    {
      "cell_type": "code",
      "source": [
        "import numpy as np\n",
        "print(np.max(outputs))\n",
        "print(np.min(outputs))"
      ],
      "metadata": {
        "colab": {
          "base_uri": "https://localhost:8080/"
        },
        "id": "T_Sxl7UKz7Vq",
        "outputId": "8eeea749-4d29-4b1d-f14f-4a1926eda38c"
      },
      "execution_count": 10,
      "outputs": [
        {
          "output_type": "stream",
          "name": "stdout",
          "text": [
            "25\n",
            "1\n"
          ]
        }
      ]
    },
    {
      "cell_type": "code",
      "source": [
        "# unique outputs\n",
        "print(set(outputs))\n",
        "len(set(outputs))"
      ],
      "metadata": {
        "colab": {
          "base_uri": "https://localhost:8080/"
        },
        "id": "2llz4X_p1YXc",
        "outputId": "233c91a9-83b3-4d61-a495-0249213de93e"
      },
      "execution_count": 11,
      "outputs": [
        {
          "output_type": "stream",
          "name": "stdout",
          "text": [
            "{1, 2, 3, 4, 5, 8, 10, 15, 17, 20, 21, 22, 24, 25}\n"
          ]
        },
        {
          "output_type": "execute_result",
          "data": {
            "text/plain": [
              "14"
            ]
          },
          "metadata": {},
          "execution_count": 11
        }
      ]
    },
    {
      "cell_type": "code",
      "source": [
        "dataset[0]"
      ],
      "metadata": {
        "colab": {
          "base_uri": "https://localhost:8080/"
        },
        "id": "oLYWKxu5XWmz",
        "outputId": "d2c73aa9-4744-4165-837f-5f28e5b31742"
      },
      "execution_count": 12,
      "outputs": [
        {
          "output_type": "execute_result",
          "data": {
            "text/plain": [
              "(tensor([ 4.,  4.,  4., 21., 10.,  8., 10.,  8., 10.,  8.]), tensor(25))"
            ]
          },
          "metadata": {},
          "execution_count": 12
        }
      ]
    },
    {
      "cell_type": "code",
      "source": [
        "class Model(nn.Module):\n",
        "    def __init__(self, input_size, hidden_size, num_layers, num_classes):\n",
        "        super(Model, self).__init__()\n",
        "        self.hidden_size = hidden_size\n",
        "        self.num_layers = num_layers\n",
        "        self.lstm = nn.LSTM(input_size, hidden_size, num_layers, batch_first=True)\n",
        "        self.fc = nn.Linear(hidden_size, num_classes)\n",
        "\n",
        "    def forward(self, x):\n",
        "        h0 = torch.zeros(self.num_layers, x.size(0), self.hidden_size).to(device)\n",
        "        c0 = torch.zeros(self.num_layers, x.size(0), self.hidden_size).to(device)\n",
        "        out, _ = self.lstm(x, (h0, c0))\n",
        "        out = self.fc(out[:, -1, :])\n",
        "        return out"
      ],
      "metadata": {
        "id": "1g0Vk-aTynIC"
      },
      "execution_count": 13,
      "outputs": []
    },
    {
      "cell_type": "code",
      "source": [
        "input_size = 1 # means each input has one feature(template's code)\n",
        "num_layers = 2\n",
        "hidden_size = 64\n",
        "num_classes = 28\n",
        "batch_size = 2048\n",
        "num_epochs = 50\n",
        "model_dir = 'model'"
      ],
      "metadata": {
        "id": "DV_Ix0rNyzsw"
      },
      "execution_count": 14,
      "outputs": []
    },
    {
      "cell_type": "code",
      "source": [
        "log = 'Adam_batch_size={}_epoch={}'.format(str(batch_size), str(num_epochs))\n",
        "writer = SummaryWriter(log_dir='log/' + log)\n",
        "\n",
        "\n",
        "model = Model(input_size, hidden_size, num_layers, num_classes).to(device)\n",
        "dataloader = DataLoader(dataset, batch_size=batch_size, shuffle=True, pin_memory=True)\n",
        "\n",
        "# Loss and optimizer\n",
        "criterion = nn.CrossEntropyLoss()\n",
        "optimizer = optim.Adam(model.parameters())"
      ],
      "metadata": {
        "id": "yG5EDgWS4in1"
      },
      "execution_count": 15,
      "outputs": []
    },
    {
      "cell_type": "code",
      "source": [
        "for step, (seq, label) in enumerate(dataloader):\n",
        "  print(seq.shape)\n",
        "  print(label.shape)\n",
        "  break"
      ],
      "metadata": {
        "colab": {
          "base_uri": "https://localhost:8080/"
        },
        "id": "CfpaMvNb5m3C",
        "outputId": "38e345da-a45b-4472-e89a-9a6b2d643568"
      },
      "execution_count": 16,
      "outputs": [
        {
          "output_type": "stream",
          "name": "stdout",
          "text": [
            "torch.Size([2048, 10])\n",
            "torch.Size([2048])\n"
          ]
        }
      ]
    },
    {
      "cell_type": "code",
      "source": [
        "# Train the model\n",
        "start_time = time.time()\n",
        "total_step = len(dataloader)\n",
        "for epoch in range(num_epochs):  # Loop over the dataset multiple times\n",
        "    train_loss = 0\n",
        "    for step, (seq, label) in enumerate(dataloader):\n",
        "        # Forward pass\n",
        "        seq = seq.clone().detach().view(-1, window_size, input_size).to(device)\n",
        "        print()\n",
        "        output = model(seq)\n",
        "        loss = criterion(output, label.to(device))\n",
        "\n",
        "        # Backward and optimize\n",
        "        optimizer.zero_grad()\n",
        "        loss.backward()\n",
        "        train_loss += loss.item()\n",
        "        optimizer.step()\n",
        "        writer.add_graph(model, seq)\n",
        "    print('Epoch [{}/{}], train_loss: {:.4f}'.format(epoch + 1, num_epochs, train_loss / total_step))\n",
        "    writer.add_scalar('train_loss', train_loss / total_step, epoch + 1)\n",
        "elapsed_time = time.time() - start_time\n",
        "print('elapsed_time: {:.3f}s'.format(elapsed_time))\n",
        "if not os.path.isdir(model_dir):\n",
        "    os.makedirs(model_dir)\n",
        "torch.save(model.state_dict(), model_dir + '/' + log + '.pt')\n",
        "writer.close()\n",
        "print('Finished Training')"
      ],
      "metadata": {
        "id": "6k8RYuMq46NF"
      },
      "execution_count": null,
      "outputs": []
    },
    {
      "cell_type": "code",
      "source": [
        "torch.save(model.state_dict(), '/content/model_parameter')\n",
        "\n",
        "# Print model's state_dict\n",
        "print(\"Model's state_dict:\")\n",
        "for param_tensor in model.state_dict():\n",
        "    print(param_tensor, \"\\t\", model.state_dict()[param_tensor].size())\n"
      ],
      "metadata": {
        "colab": {
          "base_uri": "https://localhost:8080/"
        },
        "id": "R5j0mAkD9Nmu",
        "outputId": "a5f40ebe-32c5-4ef6-a0ad-2c117be46ea1"
      },
      "execution_count": 30,
      "outputs": [
        {
          "output_type": "stream",
          "name": "stdout",
          "text": [
            "Model's state_dict:\n",
            "lstm.weight_ih_l0 \t torch.Size([256, 1])\n",
            "lstm.weight_hh_l0 \t torch.Size([256, 64])\n",
            "lstm.bias_ih_l0 \t torch.Size([256])\n",
            "lstm.bias_hh_l0 \t torch.Size([256])\n",
            "lstm.weight_ih_l1 \t torch.Size([256, 64])\n",
            "lstm.weight_hh_l1 \t torch.Size([256, 64])\n",
            "lstm.bias_ih_l1 \t torch.Size([256])\n",
            "lstm.bias_hh_l1 \t torch.Size([256])\n",
            "fc.weight \t torch.Size([28, 64])\n",
            "fc.bias \t torch.Size([28])\n"
          ]
        }
      ]
    },
    {
      "cell_type": "code",
      "source": [
        "x,y = dataset[0]\n",
        "print(x)\n",
        "print(y)"
      ],
      "metadata": {
        "colab": {
          "base_uri": "https://localhost:8080/"
        },
        "id": "ny24xENd8_rH",
        "outputId": "62f4d3f7-2202-4001-89db-586bcb95d9e6"
      },
      "execution_count": 45,
      "outputs": [
        {
          "output_type": "stream",
          "name": "stdout",
          "text": [
            "tensor([ 4.,  4.,  4., 21., 10.,  8., 10.,  8., 10.,  8.])\n",
            "tensor(25)\n"
          ]
        }
      ]
    },
    {
      "cell_type": "code",
      "source": [
        "model.eval()\n",
        "with torch.no_grad():\n",
        "  output = model(x.view(-1, 10, 1).to(device))\n",
        "\n",
        "print(output)\n",
        "print(np.argmax(output.cpu()))"
      ],
      "metadata": {
        "colab": {
          "base_uri": "https://localhost:8080/"
        },
        "id": "hnx84gzX8eB7",
        "outputId": "cb2e8ba2-32cc-4732-97be-2886fc220a6f"
      },
      "execution_count": 48,
      "outputs": [
        {
          "output_type": "stream",
          "name": "stdout",
          "text": [
            "tensor([[-3.0041,  0.3163,  1.0136,  1.7953, -2.0938, -1.6256, -3.8058, -3.6497,\n",
            "          2.4321, -3.2977,  0.6449, -3.3084, -3.4796, -2.5271, -3.7358, -1.5612,\n",
            "         -3.1032, -1.6390, -3.5196, -3.6346, -0.9240, -2.0603, -0.4215, -2.8204,\n",
            "         -0.8396,  9.3655, -3.0329, -3.1513]], device='cuda:0')\n",
            "tensor(25)\n"
          ]
        }
      ]
    },
    {
      "cell_type": "code",
      "source": [
        "x,y = dataset[5]\n",
        "print(x)\n",
        "print(y)"
      ],
      "metadata": {
        "colab": {
          "base_uri": "https://localhost:8080/"
        },
        "id": "HpO5xqME_Ml-",
        "outputId": "ecd44b9b-3170-4511-b674-7135a6ed7955"
      },
      "execution_count": 51,
      "outputs": [
        {
          "output_type": "stream",
          "name": "stdout",
          "text": [
            "tensor([ 8., 10.,  8., 10.,  8., 25., 25., 25., 22., 22.])\n",
            "tensor(22)\n"
          ]
        }
      ]
    },
    {
      "cell_type": "code",
      "source": [
        "model.eval()\n",
        "with torch.no_grad():\n",
        "  output = model(x.view(-1, 10, 1).to(device))\n",
        "\n",
        "print(output)\n",
        "print(np.argmax(output.cpu()))"
      ],
      "metadata": {
        "colab": {
          "base_uri": "https://localhost:8080/"
        },
        "id": "2S0W--j7_QOV",
        "outputId": "16fadf1b-cd67-414e-f4dd-fc4c51f3789c"
      },
      "execution_count": 52,
      "outputs": [
        {
          "output_type": "stream",
          "name": "stdout",
          "text": [
            "tensor([[-3.4347,  1.9512,  1.4356,  1.3532,  2.1123, -0.9423, -4.2348, -3.3266,\n",
            "         -1.3622, -3.6461, -0.8179, -2.8601, -3.2928, -3.0511, -3.1072, -1.3533,\n",
            "         -3.0274,  1.8199, -3.3067, -3.1413,  2.7089, -2.4208,  8.5549, -3.1654,\n",
            "          0.8736, -1.1496, -2.8451, -2.9724]], device='cuda:0')\n",
            "tensor(22)\n"
          ]
        }
      ]
    },
    {
      "cell_type": "code",
      "source": [],
      "metadata": {
        "id": "V5sNoFwzATJ5"
      },
      "execution_count": null,
      "outputs": []
    }
  ]
}