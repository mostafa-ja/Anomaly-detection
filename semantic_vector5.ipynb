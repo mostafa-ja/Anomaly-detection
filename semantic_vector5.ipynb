{
  "nbformat": 4,
  "nbformat_minor": 0,
  "metadata": {
    "colab": {
      "provenance": [],
      "authorship_tag": "ABX9TyOWOuDNwsjiROLBJ3L9cvGM",
      "include_colab_link": true
    },
    "kernelspec": {
      "name": "python3",
      "display_name": "Python 3"
    },
    "language_info": {
      "name": "python"
    }
  },
  "cells": [
    {
      "cell_type": "markdown",
      "metadata": {
        "id": "view-in-github",
        "colab_type": "text"
      },
      "source": [
        "<a href=\"https://colab.research.google.com/github/mostafa-ja/Anomaly-detection/blob/main/semantic_vector5.ipynb\" target=\"_parent\"><img src=\"https://colab.research.google.com/assets/colab-badge.svg\" alt=\"Open In Colab\"/></a>"
      ]
    },
    {
      "cell_type": "code",
      "execution_count": 1,
      "metadata": {
        "id": "oHFwni82nfL0"
      },
      "outputs": [],
      "source": [
        "import gensim.downloader"
      ]
    },
    {
      "cell_type": "code",
      "source": [],
      "metadata": {
        "id": "KHKuRqkHvczh"
      },
      "execution_count": null,
      "outputs": []
    },
    {
      "cell_type": "code",
      "source": [
        "print(list(gensim.downloader.info()['models'].keys()))"
      ],
      "metadata": {
        "colab": {
          "base_uri": "https://localhost:8080/"
        },
        "id": "Hk6kSdOonl4y",
        "outputId": "c90fc795-30e1-45ff-c54d-08aed17c413c"
      },
      "execution_count": 2,
      "outputs": [
        {
          "output_type": "stream",
          "name": "stdout",
          "text": [
            "['fasttext-wiki-news-subwords-300', 'conceptnet-numberbatch-17-06-300', 'word2vec-ruscorpora-300', 'word2vec-google-news-300', 'glove-wiki-gigaword-50', 'glove-wiki-gigaword-100', 'glove-wiki-gigaword-200', 'glove-wiki-gigaword-300', 'glove-twitter-25', 'glove-twitter-50', 'glove-twitter-100', 'glove-twitter-200', '__testing_word2vec-matrix-synopsis']\n"
          ]
        }
      ]
    },
    {
      "cell_type": "code",
      "source": [
        "# Download the 'glove-wiki-gigaword-300' embeddings\n",
        "glove_vectors = gensim.downloader.load('glove-wiki-gigaword-300')"
      ],
      "metadata": {
        "colab": {
          "base_uri": "https://localhost:8080/"
        },
        "id": "T5WemLIrnpYS",
        "outputId": "9427dd6b-8bab-4605-9338-9584b623a1df"
      },
      "execution_count": 11,
      "outputs": [
        {
          "output_type": "stream",
          "name": "stdout",
          "text": [
            "[==================================================] 100.0% 376.1/376.1MB downloaded\n"
          ]
        }
      ]
    },
    {
      "cell_type": "code",
      "source": [
        "glove_vectors.most_similar('car')"
      ],
      "metadata": {
        "colab": {
          "base_uri": "https://localhost:8080/"
        },
        "id": "7bZCfE49nxYz",
        "outputId": "6dafddd0-5c6a-4d7f-db44-ba888cd094b7"
      },
      "execution_count": 12,
      "outputs": [
        {
          "output_type": "execute_result",
          "data": {
            "text/plain": [
              "[('cars', 0.7827162146568298),\n",
              " ('vehicle', 0.7655367851257324),\n",
              " ('truck', 0.7350621819496155),\n",
              " ('driver', 0.7114784717559814),\n",
              " ('driving', 0.6442225575447083),\n",
              " ('vehicles', 0.6328005194664001),\n",
              " ('motorcycle', 0.6022513508796692),\n",
              " ('automobile', 0.595572829246521),\n",
              " ('parked', 0.5910030603408813),\n",
              " ('drivers', 0.5778359770774841)]"
            ]
          },
          "metadata": {},
          "execution_count": 12
        }
      ]
    },
    {
      "cell_type": "code",
      "source": [
        "glove_vectors.most_similar('remove')"
      ],
      "metadata": {
        "colab": {
          "base_uri": "https://localhost:8080/"
        },
        "id": "UhPTNzFSplQ3",
        "outputId": "76e7c2be-a9a3-4e56-b31b-a104073fd950"
      },
      "execution_count": 16,
      "outputs": [
        {
          "output_type": "execute_result",
          "data": {
            "text/plain": [
              "[('removing', 0.728606641292572),\n",
              " ('removed', 0.7269771099090576),\n",
              " ('removal', 0.6284374594688416),\n",
              " ('removes', 0.5681082010269165),\n",
              " ('discard', 0.5444066524505615),\n",
              " ('add', 0.5220069289207458),\n",
              " ('eliminate', 0.518939197063446),\n",
              " ('aside', 0.5014399290084839),\n",
              " ('allow', 0.49735134840011597),\n",
              " ('reduce', 0.4902816116809845)]"
            ]
          },
          "metadata": {},
          "execution_count": 16
        }
      ]
    },
    {
      "cell_type": "code",
      "source": [
        "glove_vectors.most_similar('add')"
      ],
      "metadata": {
        "colab": {
          "base_uri": "https://localhost:8080/"
        },
        "id": "jFoCiAzwoGkk",
        "outputId": "40299c91-4694-4a08-dca7-bee5470edb8f"
      },
      "execution_count": 20,
      "outputs": [
        {
          "output_type": "execute_result",
          "data": {
            "text/plain": [
              "[('combine', 0.6274809837341309),\n",
              " ('stir', 0.6155286431312561),\n",
              " ('adding', 0.5990938544273376),\n",
              " ('adds', 0.5671376585960388),\n",
              " ('extra', 0.5536364912986755),\n",
              " ('additional', 0.5467216372489929),\n",
              " ('mixture', 0.5362634658813477),\n",
              " ('mix', 0.5239564180374146),\n",
              " ('bring', 0.5228168368339539),\n",
              " ('remove', 0.5220069289207458)]"
            ]
          },
          "metadata": {},
          "execution_count": 20
        }
      ]
    },
    {
      "cell_type": "code",
      "source": [
        "glove_vectors.similarity('good', 'well')"
      ],
      "metadata": {
        "colab": {
          "base_uri": "https://localhost:8080/"
        },
        "id": "EOU2FgJhoqS4",
        "outputId": "060c3f29-bd84-4979-8219-2d400728634c"
      },
      "execution_count": 19,
      "outputs": [
        {
          "output_type": "execute_result",
          "data": {
            "text/plain": [
              "0.7045711"
            ]
          },
          "metadata": {},
          "execution_count": 19
        }
      ]
    },
    {
      "cell_type": "code",
      "source": [
        "glove_vectors.similarity('remove', 'delete')"
      ],
      "metadata": {
        "colab": {
          "base_uri": "https://localhost:8080/"
        },
        "id": "P_Wa1oOyoRpE",
        "outputId": "854f1321-0bf0-420d-f348-5b9d07096cf9"
      },
      "execution_count": 15,
      "outputs": [
        {
          "output_type": "execute_result",
          "data": {
            "text/plain": [
              "0.4504359"
            ]
          },
          "metadata": {},
          "execution_count": 15
        }
      ]
    },
    {
      "cell_type": "code",
      "source": [
        "# Download the 'fasttext-wiki-news-subwords-300' embeddings\n",
        "glove_vectors2 = gensim.downloader.load('fasttext-wiki-news-subwords-300')"
      ],
      "metadata": {
        "colab": {
          "base_uri": "https://localhost:8080/"
        },
        "id": "P7izRz-VqJ88",
        "outputId": "6f75785c-2cbf-4085-80ed-c2ac706dae88"
      },
      "execution_count": 21,
      "outputs": [
        {
          "output_type": "stream",
          "name": "stdout",
          "text": [
            "[=================================================-] 99.1% 949.6/958.4MB downloaded\n"
          ]
        }
      ]
    },
    {
      "cell_type": "code",
      "source": [
        "glove_vectors2.most_similar('remove')"
      ],
      "metadata": {
        "colab": {
          "base_uri": "https://localhost:8080/"
        },
        "id": "A4D1eacQrGAN",
        "outputId": "777fe4f6-f78c-4b30-e4a2-feaec52c40a6"
      },
      "execution_count": 22,
      "outputs": [
        {
          "output_type": "execute_result",
          "data": {
            "text/plain": [
              "[('removing', 0.7899618744850159),\n",
              " ('re-remove', 0.7863062024116516),\n",
              " ('removes', 0.7495123744010925),\n",
              " ('eliminate', 0.744507908821106),\n",
              " ('add', 0.7419832944869995),\n",
              " ('removel', 0.7359117269515991),\n",
              " ('delete', 0.7341917753219604),\n",
              " ('removeal', 0.7153740525245667),\n",
              " ('Remove', 0.7142655849456787),\n",
              " ('-remove', 0.7079887390136719)]"
            ]
          },
          "metadata": {},
          "execution_count": 22
        }
      ]
    },
    {
      "cell_type": "code",
      "source": [
        "glove_vectors2.most_similar('add')"
      ],
      "metadata": {
        "colab": {
          "base_uri": "https://localhost:8080/"
        },
        "id": "tsc8ZY_ZrIXE",
        "outputId": "59dae104-b4f7-4aec-e0f8-6cb044de84b6"
      },
      "execution_count": 23,
      "outputs": [
        {
          "output_type": "execute_result",
          "data": {
            "text/plain": [
              "[('addd', 0.7680056691169739),\n",
              " ('remove', 0.7419832348823547),\n",
              " ('readd', 0.7231984734535217),\n",
              " ('adding', 0.7205393314361572),\n",
              " ('addding', 0.704342246055603),\n",
              " ('modify', 0.6925883889198303),\n",
              " ('addded', 0.686305046081543),\n",
              " ('put', 0.685624897480011),\n",
              " ('adds', 0.6806658506393433),\n",
              " ('bring', 0.6788829565048218)]"
            ]
          },
          "metadata": {},
          "execution_count": 23
        }
      ]
    },
    {
      "cell_type": "code",
      "source": [
        "glove_vectors2.most_similar('terminate')"
      ],
      "metadata": {
        "colab": {
          "base_uri": "https://localhost:8080/"
        },
        "id": "nR7SmoJTrKFm",
        "outputId": "bdb5e017-a2a9-4066-eb75-16cadb1301b5"
      },
      "execution_count": 24,
      "outputs": [
        {
          "output_type": "execute_result",
          "data": {
            "text/plain": [
              "[('terminating', 0.806853175163269),\n",
              " ('terminates', 0.7850032448768616),\n",
              " ('terminated', 0.7804921269416809),\n",
              " ('termination', 0.7575322389602661),\n",
              " ('terminations', 0.6688103079795837),\n",
              " ('Terminate', 0.6568402647972107),\n",
              " ('suspend', 0.652666449546814),\n",
              " ('discontinue', 0.6491594910621643),\n",
              " ('initiate', 0.641779363155365),\n",
              " ('re-initiate', 0.6382942795753479)]"
            ]
          },
          "metadata": {},
          "execution_count": 24
        }
      ]
    },
    {
      "cell_type": "code",
      "source": [
        "# Download the 'word2vec-google-news-300' embeddings\n",
        "glove_vectors3 = gensim.downloader.load('word2vec-google-news-300')"
      ],
      "metadata": {
        "colab": {
          "base_uri": "https://localhost:8080/"
        },
        "id": "RsUHu9CGqWEX",
        "outputId": "d017a5bd-43ce-4c8f-bed7-77a2fe2d2c7e"
      },
      "execution_count": 25,
      "outputs": [
        {
          "output_type": "stream",
          "name": "stdout",
          "text": [
            "[==================================================] 100.0% 1662.8/1662.8MB downloaded\n"
          ]
        }
      ]
    },
    {
      "cell_type": "code",
      "source": [
        "glove_vectors3.most_similar('remove')"
      ],
      "metadata": {
        "colab": {
          "base_uri": "https://localhost:8080/"
        },
        "id": "8gHKopFErLw8",
        "outputId": "37da3cc9-d79e-4713-e8b6-84638219be36"
      },
      "execution_count": 26,
      "outputs": [
        {
          "output_type": "execute_result",
          "data": {
            "text/plain": [
              "[('removed', 0.7408319711685181),\n",
              " ('removing', 0.7345975041389465),\n",
              " ('removal', 0.6700960993766785),\n",
              " ('removes', 0.5899919867515564),\n",
              " ('Removing', 0.5880338549613953),\n",
              " ('eliminate', 0.57623690366745),\n",
              " ('rid', 0.5551490783691406),\n",
              " ('Remove', 0.5481694936752319),\n",
              " ('Removal', 0.5421373844146729),\n",
              " ('dislodge', 0.531387209892273)]"
            ]
          },
          "metadata": {},
          "execution_count": 26
        }
      ]
    },
    {
      "cell_type": "code",
      "source": [
        "glove_vectors3.most_similar('add')"
      ],
      "metadata": {
        "colab": {
          "base_uri": "https://localhost:8080/"
        },
        "id": "3TriwIdDrNPY",
        "outputId": "f2f1054b-1c67-4bd6-eb4a-f0dd99e5700a"
      },
      "execution_count": 27,
      "outputs": [
        {
          "output_type": "execute_result",
          "data": {
            "text/plain": [
              "[('Adding', 0.578197181224823),\n",
              " ('Add', 0.5681695938110352),\n",
              " ('adds', 0.5657491683959961),\n",
              " ('bring', 0.5600515604019165),\n",
              " ('augment', 0.5254836678504944),\n",
              " ('create', 0.521090567111969),\n",
              " ('incorporate', 0.504277765750885),\n",
              " ('expand', 0.49926939606666565),\n",
              " ('combine', 0.49364253878593445),\n",
              " ('elevate', 0.4872509241104126)]"
            ]
          },
          "metadata": {},
          "execution_count": 27
        }
      ]
    },
    {
      "cell_type": "code",
      "source": [
        "glove_vectors3.most_similar('terminate')"
      ],
      "metadata": {
        "colab": {
          "base_uri": "https://localhost:8080/"
        },
        "id": "AvtdIfZ2rOCC",
        "outputId": "bcef79d4-03b1-446a-be7f-8059f0b0e11e"
      },
      "execution_count": 28,
      "outputs": [
        {
          "output_type": "execute_result",
          "data": {
            "text/plain": [
              "[('terminated', 0.7549268007278442),\n",
              " ('terminating', 0.74428391456604),\n",
              " ('termination', 0.6620560884475708),\n",
              " ('terminates', 0.6616581678390503),\n",
              " ('unilaterally_terminate', 0.6598623991012573),\n",
              " ('rescind', 0.6366842985153198),\n",
              " ('discontinue', 0.593605637550354),\n",
              " ('suspend', 0.5815607905387878),\n",
              " ('cancel', 0.5713689923286438),\n",
              " ('revoke', 0.5567589402198792)]"
            ]
          },
          "metadata": {},
          "execution_count": 28
        }
      ]
    },
    {
      "cell_type": "code",
      "source": [
        "glove_vectors3.similarity('remove', 'delete')"
      ],
      "metadata": {
        "colab": {
          "base_uri": "https://localhost:8080/"
        },
        "id": "cVzK8_skuaPc",
        "outputId": "3c206073-1e6b-4cfd-e701-542e62c4dc90"
      },
      "execution_count": 30,
      "outputs": [
        {
          "output_type": "execute_result",
          "data": {
            "text/plain": [
              "0.499671"
            ]
          },
          "metadata": {},
          "execution_count": 30
        }
      ]
    },
    {
      "cell_type": "code",
      "source": [
        "glove_vectors3.similarity('remove', 'add')"
      ],
      "metadata": {
        "colab": {
          "base_uri": "https://localhost:8080/"
        },
        "id": "c3SoPYcRuhzp",
        "outputId": "0b1c6cbc-f2c6-4352-9519-3eea747c5d23"
      },
      "execution_count": 31,
      "outputs": [
        {
          "output_type": "execute_result",
          "data": {
            "text/plain": [
              "0.37258753"
            ]
          },
          "metadata": {},
          "execution_count": 31
        }
      ]
    },
    {
      "cell_type": "code",
      "source": [
        "glove_vectors3.similarity('remove', 'work')"
      ],
      "metadata": {
        "colab": {
          "base_uri": "https://localhost:8080/"
        },
        "id": "l8v_vgUuumGm",
        "outputId": "18304589-8309-4d7b-c77d-8366452a163d"
      },
      "execution_count": 32,
      "outputs": [
        {
          "output_type": "execute_result",
          "data": {
            "text/plain": [
              "0.12885761"
            ]
          },
          "metadata": {},
          "execution_count": 32
        }
      ]
    },
    {
      "cell_type": "code",
      "source": [
        "glove_vectors3.similarity('remove', 'block')"
      ],
      "metadata": {
        "colab": {
          "base_uri": "https://localhost:8080/"
        },
        "id": "PfD4D33VuoOP",
        "outputId": "285caeca-2e0d-4b3e-e2d0-10e4ebfe23c3"
      },
      "execution_count": 33,
      "outputs": [
        {
          "output_type": "execute_result",
          "data": {
            "text/plain": [
              "0.29622024"
            ]
          },
          "metadata": {},
          "execution_count": 33
        }
      ]
    },
    {
      "cell_type": "code",
      "source": [
        "glove_vectors3.similarity('change', 'delete')"
      ],
      "metadata": {
        "colab": {
          "base_uri": "https://localhost:8080/"
        },
        "id": "ivqOj0nkurBy",
        "outputId": "2ab087a2-6c9e-4e0c-8940-136f459e7931"
      },
      "execution_count": 34,
      "outputs": [
        {
          "output_type": "execute_result",
          "data": {
            "text/plain": [
              "0.20528314"
            ]
          },
          "metadata": {},
          "execution_count": 34
        }
      ]
    },
    {
      "cell_type": "code",
      "source": [
        "glove_vectors3.most_similar('for')"
      ],
      "metadata": {
        "colab": {
          "base_uri": "https://localhost:8080/"
        },
        "id": "IsCehBAWvImG",
        "outputId": "92ae5b68-ddfd-4be6-b5d7-8b804fd4f386"
      },
      "execution_count": 37,
      "outputs": [
        {
          "output_type": "execute_result",
          "data": {
            "text/plain": [
              "[('forthe', 0.5829182267189026),\n",
              " ('give', 0.46039873361587524),\n",
              " ('in', 0.4566476047039032),\n",
              " ('For', 0.4520778954029083),\n",
              " ('fοr', 0.44774287939071655),\n",
              " ('giving', 0.43650883436203003),\n",
              " ('fortheir', 0.4334302246570587),\n",
              " ('given', 0.416804701089859),\n",
              " ('plus', 0.41063857078552246),\n",
              " ('fo', 0.40567922592163086)]"
            ]
          },
          "metadata": {},
          "execution_count": 37
        }
      ]
    },
    {
      "cell_type": "code",
      "source": [
        "import numpy as np\n",
        "import re\n",
        "import pandas as pd\n",
        "from sklearn.feature_extraction.text import TfidfVectorizer\n",
        "from sklearn.metrics.pairwise import cosine_similarity\n",
        "\n",
        "import nltk\n",
        "from nltk.corpus import stopwords\n",
        "nltk.download('stopwords')"
      ],
      "metadata": {
        "colab": {
          "base_uri": "https://localhost:8080/"
        },
        "id": "geBw3CmEveUT",
        "outputId": "d168923e-3d3f-4d75-d9be-e221bc559e66"
      },
      "execution_count": 60,
      "outputs": [
        {
          "output_type": "stream",
          "name": "stderr",
          "text": [
            "[nltk_data] Downloading package stopwords to /root/nltk_data...\n",
            "[nltk_data]   Package stopwords is already up-to-date!\n"
          ]
        },
        {
          "output_type": "execute_result",
          "data": {
            "text/plain": [
              "True"
            ]
          },
          "metadata": {},
          "execution_count": 60
        }
      ]
    },
    {
      "cell_type": "code",
      "source": [
        "# Read log templates file into a DataFrame\n",
        "df = pd.read_csv('/content/HDFS_templates.csv')\n",
        "df.head(3)"
      ],
      "metadata": {
        "colab": {
          "base_uri": "https://localhost:8080/",
          "height": 143
        },
        "id": "zUXj0pH1vygB",
        "outputId": "8ab22d38-2434-4c9e-fff5-eeb24480f1ca"
      },
      "execution_count": 41,
      "outputs": [
        {
          "output_type": "execute_result",
          "data": {
            "text/plain": [
              "  EventId                           EventTemplate\n",
              "0      E1  <*>Adding an already existing block<*>\n",
              "1      E2        <*>Verification succeeded for<*>\n",
              "2      E3                 <*>Served block<*>to<*>"
            ],
            "text/html": [
              "\n",
              "\n",
              "  <div id=\"df-5b6608d0-d9be-40c0-8ef4-b5fdbce59db5\">\n",
              "    <div class=\"colab-df-container\">\n",
              "      <div>\n",
              "<style scoped>\n",
              "    .dataframe tbody tr th:only-of-type {\n",
              "        vertical-align: middle;\n",
              "    }\n",
              "\n",
              "    .dataframe tbody tr th {\n",
              "        vertical-align: top;\n",
              "    }\n",
              "\n",
              "    .dataframe thead th {\n",
              "        text-align: right;\n",
              "    }\n",
              "</style>\n",
              "<table border=\"1\" class=\"dataframe\">\n",
              "  <thead>\n",
              "    <tr style=\"text-align: right;\">\n",
              "      <th></th>\n",
              "      <th>EventId</th>\n",
              "      <th>EventTemplate</th>\n",
              "    </tr>\n",
              "  </thead>\n",
              "  <tbody>\n",
              "    <tr>\n",
              "      <th>0</th>\n",
              "      <td>E1</td>\n",
              "      <td>&lt;*&gt;Adding an already existing block&lt;*&gt;</td>\n",
              "    </tr>\n",
              "    <tr>\n",
              "      <th>1</th>\n",
              "      <td>E2</td>\n",
              "      <td>&lt;*&gt;Verification succeeded for&lt;*&gt;</td>\n",
              "    </tr>\n",
              "    <tr>\n",
              "      <th>2</th>\n",
              "      <td>E3</td>\n",
              "      <td>&lt;*&gt;Served block&lt;*&gt;to&lt;*&gt;</td>\n",
              "    </tr>\n",
              "  </tbody>\n",
              "</table>\n",
              "</div>\n",
              "      <button class=\"colab-df-convert\" onclick=\"convertToInteractive('df-5b6608d0-d9be-40c0-8ef4-b5fdbce59db5')\"\n",
              "              title=\"Convert this dataframe to an interactive table.\"\n",
              "              style=\"display:none;\">\n",
              "\n",
              "  <svg xmlns=\"http://www.w3.org/2000/svg\" height=\"24px\"viewBox=\"0 0 24 24\"\n",
              "       width=\"24px\">\n",
              "    <path d=\"M0 0h24v24H0V0z\" fill=\"none\"/>\n",
              "    <path d=\"M18.56 5.44l.94 2.06.94-2.06 2.06-.94-2.06-.94-.94-2.06-.94 2.06-2.06.94zm-11 1L8.5 8.5l.94-2.06 2.06-.94-2.06-.94L8.5 2.5l-.94 2.06-2.06.94zm10 10l.94 2.06.94-2.06 2.06-.94-2.06-.94-.94-2.06-.94 2.06-2.06.94z\"/><path d=\"M17.41 7.96l-1.37-1.37c-.4-.4-.92-.59-1.43-.59-.52 0-1.04.2-1.43.59L10.3 9.45l-7.72 7.72c-.78.78-.78 2.05 0 2.83L4 21.41c.39.39.9.59 1.41.59.51 0 1.02-.2 1.41-.59l7.78-7.78 2.81-2.81c.8-.78.8-2.07 0-2.86zM5.41 20L4 18.59l7.72-7.72 1.47 1.35L5.41 20z\"/>\n",
              "  </svg>\n",
              "      </button>\n",
              "\n",
              "\n",
              "\n",
              "    <div id=\"df-899e8ea5-56b1-428a-ae8b-77fe53ec2484\">\n",
              "      <button class=\"colab-df-quickchart\" onclick=\"quickchart('df-899e8ea5-56b1-428a-ae8b-77fe53ec2484')\"\n",
              "              title=\"Suggest charts.\"\n",
              "              style=\"display:none;\">\n",
              "\n",
              "<svg xmlns=\"http://www.w3.org/2000/svg\" height=\"24px\"viewBox=\"0 0 24 24\"\n",
              "     width=\"24px\">\n",
              "    <g>\n",
              "        <path d=\"M19 3H5c-1.1 0-2 .9-2 2v14c0 1.1.9 2 2 2h14c1.1 0 2-.9 2-2V5c0-1.1-.9-2-2-2zM9 17H7v-7h2v7zm4 0h-2V7h2v10zm4 0h-2v-4h2v4z\"/>\n",
              "    </g>\n",
              "</svg>\n",
              "      </button>\n",
              "    </div>\n",
              "\n",
              "<style>\n",
              "  .colab-df-quickchart {\n",
              "    background-color: #E8F0FE;\n",
              "    border: none;\n",
              "    border-radius: 50%;\n",
              "    cursor: pointer;\n",
              "    display: none;\n",
              "    fill: #1967D2;\n",
              "    height: 32px;\n",
              "    padding: 0 0 0 0;\n",
              "    width: 32px;\n",
              "  }\n",
              "\n",
              "  .colab-df-quickchart:hover {\n",
              "    background-color: #E2EBFA;\n",
              "    box-shadow: 0px 1px 2px rgba(60, 64, 67, 0.3), 0px 1px 3px 1px rgba(60, 64, 67, 0.15);\n",
              "    fill: #174EA6;\n",
              "  }\n",
              "\n",
              "  [theme=dark] .colab-df-quickchart {\n",
              "    background-color: #3B4455;\n",
              "    fill: #D2E3FC;\n",
              "  }\n",
              "\n",
              "  [theme=dark] .colab-df-quickchart:hover {\n",
              "    background-color: #434B5C;\n",
              "    box-shadow: 0px 1px 3px 1px rgba(0, 0, 0, 0.15);\n",
              "    filter: drop-shadow(0px 1px 2px rgba(0, 0, 0, 0.3));\n",
              "    fill: #FFFFFF;\n",
              "  }\n",
              "</style>\n",
              "\n",
              "    <script>\n",
              "      async function quickchart(key) {\n",
              "        const containerElement = document.querySelector('#' + key);\n",
              "        const charts = await google.colab.kernel.invokeFunction(\n",
              "            'suggestCharts', [key], {});\n",
              "      }\n",
              "    </script>\n",
              "\n",
              "      <script>\n",
              "\n",
              "function displayQuickchartButton(domScope) {\n",
              "  let quickchartButtonEl =\n",
              "    domScope.querySelector('#df-899e8ea5-56b1-428a-ae8b-77fe53ec2484 button.colab-df-quickchart');\n",
              "  quickchartButtonEl.style.display =\n",
              "    google.colab.kernel.accessAllowed ? 'block' : 'none';\n",
              "}\n",
              "\n",
              "        displayQuickchartButton(document);\n",
              "      </script>\n",
              "      <style>\n",
              "    .colab-df-container {\n",
              "      display:flex;\n",
              "      flex-wrap:wrap;\n",
              "      gap: 12px;\n",
              "    }\n",
              "\n",
              "    .colab-df-convert {\n",
              "      background-color: #E8F0FE;\n",
              "      border: none;\n",
              "      border-radius: 50%;\n",
              "      cursor: pointer;\n",
              "      display: none;\n",
              "      fill: #1967D2;\n",
              "      height: 32px;\n",
              "      padding: 0 0 0 0;\n",
              "      width: 32px;\n",
              "    }\n",
              "\n",
              "    .colab-df-convert:hover {\n",
              "      background-color: #E2EBFA;\n",
              "      box-shadow: 0px 1px 2px rgba(60, 64, 67, 0.3), 0px 1px 3px 1px rgba(60, 64, 67, 0.15);\n",
              "      fill: #174EA6;\n",
              "    }\n",
              "\n",
              "    [theme=dark] .colab-df-convert {\n",
              "      background-color: #3B4455;\n",
              "      fill: #D2E3FC;\n",
              "    }\n",
              "\n",
              "    [theme=dark] .colab-df-convert:hover {\n",
              "      background-color: #434B5C;\n",
              "      box-shadow: 0px 1px 3px 1px rgba(0, 0, 0, 0.15);\n",
              "      filter: drop-shadow(0px 1px 2px rgba(0, 0, 0, 0.3));\n",
              "      fill: #FFFFFF;\n",
              "    }\n",
              "  </style>\n",
              "\n",
              "      <script>\n",
              "        const buttonEl =\n",
              "          document.querySelector('#df-5b6608d0-d9be-40c0-8ef4-b5fdbce59db5 button.colab-df-convert');\n",
              "        buttonEl.style.display =\n",
              "          google.colab.kernel.accessAllowed ? 'block' : 'none';\n",
              "\n",
              "        async function convertToInteractive(key) {\n",
              "          const element = document.querySelector('#df-5b6608d0-d9be-40c0-8ef4-b5fdbce59db5');\n",
              "          const dataTable =\n",
              "            await google.colab.kernel.invokeFunction('convertToInteractive',\n",
              "                                                     [key], {});\n",
              "          if (!dataTable) return;\n",
              "\n",
              "          const docLinkHtml = 'Like what you see? Visit the ' +\n",
              "            '<a target=\"_blank\" href=https://colab.research.google.com/notebooks/data_table.ipynb>data table notebook</a>'\n",
              "            + ' to learn more about interactive tables.';\n",
              "          element.innerHTML = '';\n",
              "          dataTable['output_type'] = 'display_data';\n",
              "          await google.colab.output.renderOutput(dataTable, element);\n",
              "          const docLink = document.createElement('div');\n",
              "          docLink.innerHTML = docLinkHtml;\n",
              "          element.appendChild(docLink);\n",
              "        }\n",
              "      </script>\n",
              "    </div>\n",
              "  </div>\n"
            ]
          },
          "metadata": {},
          "execution_count": 41
        }
      ]
    },
    {
      "cell_type": "code",
      "source": [
        "stop_words = set(stopwords.words('english'))\n",
        "\n",
        "def normalize_template(text):\n",
        "  \"\"\"\n",
        "  Normalize text to extract most salient tokens\n",
        "  \"\"\"\n",
        "  # replace special characters with space and remove digits\n",
        "  text = re.sub(r'\\W+', ' ', text) # replaces one or more non-alphanumeric characters (\\W+) with a single space in the text\n",
        "  text = re.sub('\\d', '', text)    #  replaces any digit (\\d) with an empty string in the text\n",
        "\n",
        "  # convert camel case to snake case, then replace _ with space\n",
        "  text = re.sub('(.)([A-Z][a-z]+)', r'\\1_\\2', text)\n",
        "  text = re.sub('([a-z0-9])([A-Z])', r'\\1_\\2', text).lower().replace('_', ' ')\n",
        "\n",
        "  normalized_tokens = [w for w in text.split() if w not in stop_words]\n",
        "\n",
        "  # Reconstruct the sentence\n",
        "  filtered_sentence = ' '.join(normalized_tokens) # our output will be sentences not a list of words\n",
        "\n",
        "  return filtered_sentence"
      ],
      "metadata": {
        "id": "IZZFSabKvWa6"
      },
      "execution_count": 43,
      "outputs": []
    },
    {
      "cell_type": "code",
      "source": [
        "example_sent = '<*>BLOCK* NameSystem<*>addStoredBlock: addStoredBlock request received for<*>on<*>size<*>But it does not belong to any file remove  removing removed. '\n",
        "normalize_template(example_sent)"
      ],
      "metadata": {
        "colab": {
          "base_uri": "https://localhost:8080/",
          "height": 36
        },
        "id": "1bzFG-CAvqno",
        "outputId": "019b83f0-23af-4bed-b353-6b57fe233b53"
      },
      "execution_count": 44,
      "outputs": [
        {
          "output_type": "execute_result",
          "data": {
            "text/plain": [
              "'block name system add stored block add stored block request received size belong file remove removing removed'"
            ],
            "application/vnd.google.colaboratory.intrinsic+json": {
              "type": "string"
            }
          },
          "metadata": {},
          "execution_count": 44
        }
      ]
    },
    {
      "cell_type": "code",
      "source": [
        "normalized_templates = [normalize_template(sentence) for sentence in df['EventTemplate'] ]\n",
        "print(normalized_templates)"
      ],
      "metadata": {
        "colab": {
          "base_uri": "https://localhost:8080/"
        },
        "id": "YElOIC-Xv2p6",
        "outputId": "e1a8fe78-e261-4936-878f-2016cdfedf60"
      },
      "execution_count": 45,
      "outputs": [
        {
          "output_type": "stream",
          "name": "stdout",
          "text": [
            "['adding already existing block', 'verification succeeded', 'served block', 'got exception serving', 'receiving block src dest', 'received block src dest size', 'write block received exception', 'packet responder block interrupted', 'received block size', 'packet responder exception', 'packet responder block terminating', 'exception writing block mirror', 'receiving empty packet block', 'exception receive block block', 'changing block file offset block meta file offset', 'transmitted block', 'failed transfer got', 'starting thread transfer block', 'reopen block', 'unexpected error trying delete block block info found volume map', 'deleting block file', 'block name system allocate block', 'block name system delete added invalid set', 'block removing block needed replications belong file', 'block ask replicate', 'block name system add stored block block map updated added size', 'block name system add stored block redundant add stored block request received size', 'block name system add stored block add stored block request received size belong file', 'pending replication monitor timed block', 'block ask delete']\n"
          ]
        }
      ]
    },
    {
      "cell_type": "code",
      "source": [
        "# Create TF-IDF vectorizer\n",
        "tfidf_vectorizer = TfidfVectorizer()\n",
        "\n",
        "# Compute TF-IDF features\n",
        "tfidf_features = tfidf_vectorizer.fit_transform(normalized_templates)\n",
        "\n",
        "# Access the TF-IDF feature matrix\n",
        "print(tfidf_features.toarray().shape)"
      ],
      "metadata": {
        "colab": {
          "base_uri": "https://localhost:8080/"
        },
        "id": "U2NozG1kv6s9",
        "outputId": "bab7885f-6fc8-4aa2-d038-fc45edbb85d7"
      },
      "execution_count": 47,
      "outputs": [
        {
          "output_type": "stream",
          "name": "stdout",
          "text": [
            "(30, 64)\n"
          ]
        }
      ]
    },
    {
      "cell_type": "code",
      "source": [
        "tfidf_vectorizer.vocabulary_"
      ],
      "metadata": {
        "colab": {
          "base_uri": "https://localhost:8080/"
        },
        "id": "AfnKSjgDwcb6",
        "outputId": "adbfbe6e-03e8-464a-e8ef-d13f0926830a"
      },
      "execution_count": 48,
      "outputs": [
        {
          "output_type": "execute_result",
          "data": {
            "text/plain": [
              "{'adding': 2,\n",
              " 'already': 4,\n",
              " 'existing': 15,\n",
              " 'block': 7,\n",
              " 'verification': 60,\n",
              " 'succeeded': 50,\n",
              " 'served': 43,\n",
              " 'got': 19,\n",
              " 'exception': 14,\n",
              " 'serving': 44,\n",
              " 'receiving': 34,\n",
              " 'src': 47,\n",
              " 'dest': 11,\n",
              " 'received': 33,\n",
              " 'size': 46,\n",
              " 'write': 62,\n",
              " 'packet': 30,\n",
              " 'responder': 42,\n",
              " 'interrupted': 21,\n",
              " 'terminating': 52,\n",
              " 'writing': 63,\n",
              " 'mirror': 25,\n",
              " 'empty': 12,\n",
              " 'receive': 32,\n",
              " 'changing': 8,\n",
              " 'file': 17,\n",
              " 'offset': 29,\n",
              " 'meta': 24,\n",
              " 'transmitted': 56,\n",
              " 'failed': 16,\n",
              " 'transfer': 55,\n",
              " 'starting': 48,\n",
              " 'thread': 53,\n",
              " 'reopen': 37,\n",
              " 'unexpected': 58,\n",
              " 'error': 13,\n",
              " 'trying': 57,\n",
              " 'delete': 9,\n",
              " 'info': 20,\n",
              " 'found': 18,\n",
              " 'volume': 61,\n",
              " 'map': 23,\n",
              " 'deleting': 10,\n",
              " 'name': 27,\n",
              " 'system': 51,\n",
              " 'allocate': 3,\n",
              " 'added': 1,\n",
              " 'invalid': 22,\n",
              " 'set': 45,\n",
              " 'removing': 36,\n",
              " 'needed': 28,\n",
              " 'replications': 40,\n",
              " 'belong': 6,\n",
              " 'ask': 5,\n",
              " 'replicate': 38,\n",
              " 'add': 0,\n",
              " 'stored': 49,\n",
              " 'updated': 59,\n",
              " 'redundant': 35,\n",
              " 'request': 41,\n",
              " 'pending': 31,\n",
              " 'replication': 39,\n",
              " 'monitor': 26,\n",
              " 'timed': 54}"
            ]
          },
          "metadata": {},
          "execution_count": 48
        }
      ]
    },
    {
      "cell_type": "code",
      "source": [
        "dic = tfidf_vectorizer.vocabulary_\n",
        "matrix_weight = tfidf_features.toarray()\n",
        "\n",
        "dic_templates = {}\n",
        "\n",
        "for i, sentence in enumerate(normalized_templates):\n",
        "  vector = np.zeros(300) # same shape of embedding word : model.encode(word).shape\n",
        "  for word in sentence.split():\n",
        "    j = dic[word]\n",
        "    vector += matrix_weight[i,j] * glove_vectors3.get_vector(word)\n",
        "  dic_templates[i] = vector"
      ],
      "metadata": {
        "id": "h0-K01uTwh2c"
      },
      "execution_count": 52,
      "outputs": []
    },
    {
      "cell_type": "code",
      "source": [
        "normalized_templates[0]"
      ],
      "metadata": {
        "colab": {
          "base_uri": "https://localhost:8080/",
          "height": 36
        },
        "id": "pE-Z2GjZxMoR",
        "outputId": "6f72c367-1d13-4012-f4d4-66c9fe0bc047"
      },
      "execution_count": 53,
      "outputs": [
        {
          "output_type": "execute_result",
          "data": {
            "text/plain": [
              "'adding already existing block'"
            ],
            "application/vnd.google.colaboratory.intrinsic+json": {
              "type": "string"
            }
          },
          "metadata": {},
          "execution_count": 53
        }
      ]
    },
    {
      "cell_type": "code",
      "source": [
        "matrix_weight[0]"
      ],
      "metadata": {
        "colab": {
          "base_uri": "https://localhost:8080/"
        },
        "id": "mPPIWJA0xSyS",
        "outputId": "42b6c287-08cd-40eb-e557-ddfd97ce58c7"
      },
      "execution_count": 54,
      "outputs": [
        {
          "output_type": "execute_result",
          "data": {
            "text/plain": [
              "array([0.        , 0.        , 0.56864388, 0.        , 0.56864388,\n",
              "       0.        , 0.        , 0.17300986, 0.        , 0.        ,\n",
              "       0.        , 0.        , 0.        , 0.        , 0.        ,\n",
              "       0.56864388, 0.        , 0.        , 0.        , 0.        ,\n",
              "       0.        , 0.        , 0.        , 0.        , 0.        ,\n",
              "       0.        , 0.        , 0.        , 0.        , 0.        ,\n",
              "       0.        , 0.        , 0.        , 0.        , 0.        ,\n",
              "       0.        , 0.        , 0.        , 0.        , 0.        ,\n",
              "       0.        , 0.        , 0.        , 0.        , 0.        ,\n",
              "       0.        , 0.        , 0.        , 0.        , 0.        ,\n",
              "       0.        , 0.        , 0.        , 0.        , 0.        ,\n",
              "       0.        , 0.        , 0.        , 0.        , 0.        ,\n",
              "       0.        , 0.        , 0.        , 0.        ])"
            ]
          },
          "metadata": {},
          "execution_count": 54
        }
      ]
    },
    {
      "cell_type": "code",
      "source": [
        "dic_templates[0].shape"
      ],
      "metadata": {
        "colab": {
          "base_uri": "https://localhost:8080/"
        },
        "id": "GovZ0ikmyde0",
        "outputId": "286234c0-4efd-4336-a96b-fabc17087468"
      },
      "execution_count": 62,
      "outputs": [
        {
          "output_type": "execute_result",
          "data": {
            "text/plain": [
              "(300,)"
            ]
          },
          "metadata": {},
          "execution_count": 62
        }
      ]
    },
    {
      "cell_type": "code",
      "source": [
        "def cosine_similarity(vector1, vector2):\n",
        "    # Calculate the dot product\n",
        "    dot_product = np.dot(vector1, vector2)\n",
        "\n",
        "    # Calculate the magnitudes\n",
        "    magnitude1 = np.linalg.norm(vector1)\n",
        "    magnitude2 = np.linalg.norm(vector2)\n",
        "\n",
        "    # Calculate the cosine similarity\n",
        "    cosine_similarity = dot_product / (magnitude1 * magnitude2)\n",
        "\n",
        "    return cosine_similarity\n",
        "\n"
      ],
      "metadata": {
        "id": "RcI6Vxtr0QvS"
      },
      "execution_count": 68,
      "outputs": []
    },
    {
      "cell_type": "code",
      "source": [
        "cosine_similarity(dic_templates[0],dic_templates[1])"
      ],
      "metadata": {
        "colab": {
          "base_uri": "https://localhost:8080/"
        },
        "id": "Dn9CWPO7x2_a",
        "outputId": "5ada98e2-7206-499a-d287-c0e6220fac09"
      },
      "execution_count": 69,
      "outputs": [
        {
          "output_type": "execute_result",
          "data": {
            "text/plain": [
              "0.21925066637897225"
            ]
          },
          "metadata": {},
          "execution_count": 69
        }
      ]
    },
    {
      "cell_type": "code",
      "source": [
        "for i in range(30):\n",
        "  print(\"Similarity:\", cosine_similarity(dic_templates[0],dic_templates[i]))\n",
        "  print(normalized_templates[0])\n",
        "  print(normalized_templates[i])\n",
        "  print('------------------------------------')"
      ],
      "metadata": {
        "colab": {
          "base_uri": "https://localhost:8080/"
        },
        "id": "U2ik5KN6xczz",
        "outputId": "12cb7d56-005e-43a8-d8ab-9f3ca69b9dd0"
      },
      "execution_count": 70,
      "outputs": [
        {
          "output_type": "stream",
          "name": "stdout",
          "text": [
            "Similarity: 0.9999999999999999\n",
            "adding already existing block\n",
            "adding already existing block\n",
            "------------------------------------\n",
            "Similarity: 0.21925066637897225\n",
            "adding already existing block\n",
            "verification succeeded\n",
            "------------------------------------\n",
            "Similarity: 0.15047153621219084\n",
            "adding already existing block\n",
            "served block\n",
            "------------------------------------\n",
            "Similarity: 0.2460933076272953\n",
            "adding already existing block\n",
            "got exception serving\n",
            "------------------------------------\n",
            "Similarity: 0.15985740844471208\n",
            "adding already existing block\n",
            "receiving block src dest\n",
            "------------------------------------\n",
            "Similarity: 0.1781226566225512\n",
            "adding already existing block\n",
            "received block src dest size\n",
            "------------------------------------\n",
            "Similarity: 0.2465693960811159\n",
            "adding already existing block\n",
            "write block received exception\n",
            "------------------------------------\n",
            "Similarity: 0.10653356777293738\n",
            "adding already existing block\n",
            "packet responder block interrupted\n",
            "------------------------------------\n",
            "Similarity: 0.27826686771469505\n",
            "adding already existing block\n",
            "received block size\n",
            "------------------------------------\n",
            "Similarity: 0.1186538329323837\n",
            "adding already existing block\n",
            "packet responder exception\n",
            "------------------------------------\n",
            "Similarity: 0.25626455223433725\n",
            "adding already existing block\n",
            "packet responder block terminating\n",
            "------------------------------------\n",
            "Similarity: 0.2437522249952102\n",
            "adding already existing block\n",
            "exception writing block mirror\n",
            "------------------------------------\n",
            "Similarity: 0.29664311634791457\n",
            "adding already existing block\n",
            "receiving empty packet block\n",
            "------------------------------------\n",
            "Similarity: 0.34140124731420723\n",
            "adding already existing block\n",
            "exception receive block block\n",
            "------------------------------------\n",
            "Similarity: 0.3233829154883712\n",
            "adding already existing block\n",
            "changing block file offset block meta file offset\n",
            "------------------------------------\n",
            "Similarity: 0.11531933097587037\n",
            "adding already existing block\n",
            "transmitted block\n",
            "------------------------------------\n",
            "Similarity: 0.2416285717352395\n",
            "adding already existing block\n",
            "failed transfer got\n",
            "------------------------------------\n",
            "Similarity: 0.2610883165992282\n",
            "adding already existing block\n",
            "starting thread transfer block\n",
            "------------------------------------\n",
            "Similarity: 0.28351001821907057\n",
            "adding already existing block\n",
            "reopen block\n",
            "------------------------------------\n",
            "Similarity: 0.313834350336857\n",
            "adding already existing block\n",
            "unexpected error trying delete block block info found volume map\n",
            "------------------------------------\n",
            "Similarity: 0.27380272983183923\n",
            "adding already existing block\n",
            "deleting block file\n",
            "------------------------------------\n",
            "Similarity: 0.40046967049483534\n",
            "adding already existing block\n",
            "block name system allocate block\n",
            "------------------------------------\n",
            "Similarity: 0.4681951096056292\n",
            "adding already existing block\n",
            "block name system delete added invalid set\n",
            "------------------------------------\n",
            "Similarity: 0.4385792362941709\n",
            "adding already existing block\n",
            "block removing block needed replications belong file\n",
            "------------------------------------\n",
            "Similarity: 0.2663519732785223\n",
            "adding already existing block\n",
            "block ask replicate\n",
            "------------------------------------\n",
            "Similarity: 0.5234978907498786\n",
            "adding already existing block\n",
            "block name system add stored block block map updated added size\n",
            "------------------------------------\n",
            "Similarity: 0.515665845461816\n",
            "adding already existing block\n",
            "block name system add stored block redundant add stored block request received size\n",
            "------------------------------------\n",
            "Similarity: 0.4978171785586273\n",
            "adding already existing block\n",
            "block name system add stored block add stored block request received size belong file\n",
            "------------------------------------\n",
            "Similarity: 0.27765350180319864\n",
            "adding already existing block\n",
            "pending replication monitor timed block\n",
            "------------------------------------\n",
            "Similarity: 0.2394075170754911\n",
            "adding already existing block\n",
            "block ask delete\n",
            "------------------------------------\n"
          ]
        }
      ]
    },
    {
      "cell_type": "code",
      "source": [
        "matrix = np.zeros((len(normalized_templates),len(normalized_templates)))\n",
        "max_similarity = 0\n",
        "\n",
        "for i in range(len(normalized_templates)):\n",
        "  for j in range(i+1,len(normalized_templates)) :\n",
        "\n",
        "      similarity = cosine_similarity(dic_templates[i],dic_templates[j])\n",
        "      matrix[i,j] = similarity\n",
        "\n",
        "      if similarity > 0.7 :\n",
        "        print('similarity = ',similarity)\n",
        "        print(normalized_templates[i])\n",
        "        print(normalized_templates[j])\n",
        "        print('-----------------------------------')\n"
      ],
      "metadata": {
        "colab": {
          "base_uri": "https://localhost:8080/"
        },
        "id": "sGhl3ExdzH9w",
        "outputId": "98f4fe44-1aca-44e2-80ff-26fb9dc63de3"
      },
      "execution_count": 74,
      "outputs": [
        {
          "output_type": "stream",
          "name": "stdout",
          "text": [
            "similarity =  0.8470709133866171\n",
            "receiving block src dest\n",
            "received block src dest size\n",
            "-----------------------------------\n",
            "similarity =  0.7563605133545475\n",
            "packet responder block interrupted\n",
            "packet responder exception\n",
            "-----------------------------------\n",
            "similarity =  0.7252932284158484\n",
            "packet responder block interrupted\n",
            "packet responder block terminating\n",
            "-----------------------------------\n",
            "similarity =  0.7578512705674406\n",
            "packet responder exception\n",
            "packet responder block terminating\n",
            "-----------------------------------\n",
            "similarity =  0.7589474554165527\n",
            "block name system allocate block\n",
            "block name system add stored block block map updated added size\n",
            "-----------------------------------\n",
            "similarity =  0.7264049025970719\n",
            "block removing block needed replications belong file\n",
            "block name system add stored block add stored block request received size belong file\n",
            "-----------------------------------\n",
            "similarity =  0.8153416077531702\n",
            "block name system add stored block block map updated added size\n",
            "block name system add stored block redundant add stored block request received size\n",
            "-----------------------------------\n",
            "similarity =  0.8219305151521588\n",
            "block name system add stored block block map updated added size\n",
            "block name system add stored block add stored block request received size belong file\n",
            "-----------------------------------\n",
            "similarity =  0.9778670089308635\n",
            "block name system add stored block redundant add stored block request received size\n",
            "block name system add stored block add stored block request received size belong file\n",
            "-----------------------------------\n"
          ]
        }
      ]
    }
  ]
}