{
  "cells": [
    {
      "cell_type": "markdown",
      "metadata": {
        "id": "view-in-github",
        "colab_type": "text"
      },
      "source": [
        "<a href=\"https://colab.research.google.com/github/mostafa-ja/Anomaly-detection/blob/main/semantic_vector2.ipynb\" target=\"_parent\"><img src=\"https://colab.research.google.com/assets/colab-badge.svg\" alt=\"Open In Colab\"/></a>"
      ]
    },
    {
      "cell_type": "code",
      "source": [
        "!pip install -U sentence-transformers"
      ],
      "metadata": {
        "colab": {
          "base_uri": "https://localhost:8080/"
        },
        "id": "R6hDmwFHLdYG",
        "outputId": "8a81f9c4-2e25-4dda-ce15-e905aa857f71"
      },
      "execution_count": 3,
      "outputs": [
        {
          "output_type": "stream",
          "name": "stdout",
          "text": [
            "Collecting sentence-transformers\n",
            "  Downloading sentence-transformers-2.2.2.tar.gz (85 kB)\n",
            "\u001b[?25l     \u001b[90m━━━━━━━━━━━━━━━━━━━━━━━━━━━━━━━━━━━━━━━━\u001b[0m \u001b[32m0.0/86.0 kB\u001b[0m \u001b[31m?\u001b[0m eta \u001b[36m-:--:--\u001b[0m\r\u001b[2K     \u001b[90m━━━━━━━━━━━━━━━━━━━━━━━━━━━━━━━━━━━━━━━━\u001b[0m \u001b[32m86.0/86.0 kB\u001b[0m \u001b[31m3.7 MB/s\u001b[0m eta \u001b[36m0:00:00\u001b[0m\n",
            "\u001b[?25h  Preparing metadata (setup.py) ... \u001b[?25l\u001b[?25hdone\n",
            "Requirement already satisfied: transformers<5.0.0,>=4.6.0 in /usr/local/lib/python3.10/dist-packages (from sentence-transformers) (4.30.2)\n",
            "Requirement already satisfied: tqdm in /usr/local/lib/python3.10/dist-packages (from sentence-transformers) (4.65.0)\n",
            "Requirement already satisfied: torch>=1.6.0 in /usr/local/lib/python3.10/dist-packages (from sentence-transformers) (2.0.1+cu118)\n",
            "Requirement already satisfied: torchvision in /usr/local/lib/python3.10/dist-packages (from sentence-transformers) (0.15.2+cu118)\n",
            "Requirement already satisfied: numpy in /usr/local/lib/python3.10/dist-packages (from sentence-transformers) (1.22.4)\n",
            "Requirement already satisfied: scikit-learn in /usr/local/lib/python3.10/dist-packages (from sentence-transformers) (1.2.2)\n",
            "Requirement already satisfied: scipy in /usr/local/lib/python3.10/dist-packages (from sentence-transformers) (1.10.1)\n",
            "Requirement already satisfied: nltk in /usr/local/lib/python3.10/dist-packages (from sentence-transformers) (3.8.1)\n",
            "Collecting sentencepiece (from sentence-transformers)\n",
            "  Downloading sentencepiece-0.1.99-cp310-cp310-manylinux_2_17_x86_64.manylinux2014_x86_64.whl (1.3 MB)\n",
            "\u001b[2K     \u001b[90m━━━━━━━━━━━━━━━━━━━━━━━━━━━━━━━━━━━━━━━━\u001b[0m \u001b[32m1.3/1.3 MB\u001b[0m \u001b[31m26.6 MB/s\u001b[0m eta \u001b[36m0:00:00\u001b[0m\n",
            "\u001b[?25hRequirement already satisfied: huggingface-hub>=0.4.0 in /usr/local/lib/python3.10/dist-packages (from sentence-transformers) (0.16.4)\n",
            "Requirement already satisfied: filelock in /usr/local/lib/python3.10/dist-packages (from huggingface-hub>=0.4.0->sentence-transformers) (3.12.2)\n",
            "Requirement already satisfied: fsspec in /usr/local/lib/python3.10/dist-packages (from huggingface-hub>=0.4.0->sentence-transformers) (2023.6.0)\n",
            "Requirement already satisfied: requests in /usr/local/lib/python3.10/dist-packages (from huggingface-hub>=0.4.0->sentence-transformers) (2.27.1)\n",
            "Requirement already satisfied: pyyaml>=5.1 in /usr/local/lib/python3.10/dist-packages (from huggingface-hub>=0.4.0->sentence-transformers) (6.0)\n",
            "Requirement already satisfied: typing-extensions>=3.7.4.3 in /usr/local/lib/python3.10/dist-packages (from huggingface-hub>=0.4.0->sentence-transformers) (4.7.1)\n",
            "Requirement already satisfied: packaging>=20.9 in /usr/local/lib/python3.10/dist-packages (from huggingface-hub>=0.4.0->sentence-transformers) (23.1)\n",
            "Requirement already satisfied: sympy in /usr/local/lib/python3.10/dist-packages (from torch>=1.6.0->sentence-transformers) (1.11.1)\n",
            "Requirement already satisfied: networkx in /usr/local/lib/python3.10/dist-packages (from torch>=1.6.0->sentence-transformers) (3.1)\n",
            "Requirement already satisfied: jinja2 in /usr/local/lib/python3.10/dist-packages (from torch>=1.6.0->sentence-transformers) (3.1.2)\n",
            "Requirement already satisfied: triton==2.0.0 in /usr/local/lib/python3.10/dist-packages (from torch>=1.6.0->sentence-transformers) (2.0.0)\n",
            "Requirement already satisfied: cmake in /usr/local/lib/python3.10/dist-packages (from triton==2.0.0->torch>=1.6.0->sentence-transformers) (3.25.2)\n",
            "Requirement already satisfied: lit in /usr/local/lib/python3.10/dist-packages (from triton==2.0.0->torch>=1.6.0->sentence-transformers) (16.0.6)\n",
            "Requirement already satisfied: regex!=2019.12.17 in /usr/local/lib/python3.10/dist-packages (from transformers<5.0.0,>=4.6.0->sentence-transformers) (2022.10.31)\n",
            "Requirement already satisfied: tokenizers!=0.11.3,<0.14,>=0.11.1 in /usr/local/lib/python3.10/dist-packages (from transformers<5.0.0,>=4.6.0->sentence-transformers) (0.13.3)\n",
            "Requirement already satisfied: safetensors>=0.3.1 in /usr/local/lib/python3.10/dist-packages (from transformers<5.0.0,>=4.6.0->sentence-transformers) (0.3.1)\n",
            "Requirement already satisfied: click in /usr/local/lib/python3.10/dist-packages (from nltk->sentence-transformers) (8.1.4)\n",
            "Requirement already satisfied: joblib in /usr/local/lib/python3.10/dist-packages (from nltk->sentence-transformers) (1.3.1)\n",
            "Requirement already satisfied: threadpoolctl>=2.0.0 in /usr/local/lib/python3.10/dist-packages (from scikit-learn->sentence-transformers) (3.1.0)\n",
            "Requirement already satisfied: pillow!=8.3.*,>=5.3.0 in /usr/local/lib/python3.10/dist-packages (from torchvision->sentence-transformers) (8.4.0)\n",
            "Requirement already satisfied: MarkupSafe>=2.0 in /usr/local/lib/python3.10/dist-packages (from jinja2->torch>=1.6.0->sentence-transformers) (2.1.3)\n",
            "Requirement already satisfied: urllib3<1.27,>=1.21.1 in /usr/local/lib/python3.10/dist-packages (from requests->huggingface-hub>=0.4.0->sentence-transformers) (1.26.16)\n",
            "Requirement already satisfied: certifi>=2017.4.17 in /usr/local/lib/python3.10/dist-packages (from requests->huggingface-hub>=0.4.0->sentence-transformers) (2023.5.7)\n",
            "Requirement already satisfied: charset-normalizer~=2.0.0 in /usr/local/lib/python3.10/dist-packages (from requests->huggingface-hub>=0.4.0->sentence-transformers) (2.0.12)\n",
            "Requirement already satisfied: idna<4,>=2.5 in /usr/local/lib/python3.10/dist-packages (from requests->huggingface-hub>=0.4.0->sentence-transformers) (3.4)\n",
            "Requirement already satisfied: mpmath>=0.19 in /usr/local/lib/python3.10/dist-packages (from sympy->torch>=1.6.0->sentence-transformers) (1.3.0)\n",
            "Building wheels for collected packages: sentence-transformers\n",
            "  Building wheel for sentence-transformers (setup.py) ... \u001b[?25l\u001b[?25hdone\n",
            "  Created wheel for sentence-transformers: filename=sentence_transformers-2.2.2-py3-none-any.whl size=125926 sha256=9044484851e2db030a1c6aa1251149af29c648cb89abb46f88c62f65bddc580a\n",
            "  Stored in directory: /root/.cache/pip/wheels/62/f2/10/1e606fd5f02395388f74e7462910fe851042f97238cbbd902f\n",
            "Successfully built sentence-transformers\n",
            "Installing collected packages: sentencepiece, sentence-transformers\n",
            "Successfully installed sentence-transformers-2.2.2 sentencepiece-0.1.99\n"
          ]
        }
      ]
    },
    {
      "cell_type": "code",
      "source": [
        "from sentence_transformers import SentenceTransformer\n",
        "sentences = [\"This is an example sentence\", \"Each sentence is converted\"]\n",
        "\n",
        "model = SentenceTransformer('sentence-transformers/all-MiniLM-L6-v2')\n",
        "embeddings = model.encode(sentences)\n",
        "print(embeddings)\n"
      ],
      "metadata": {
        "id": "sye4bf8aLuWw"
      },
      "execution_count": null,
      "outputs": []
    },
    {
      "cell_type": "code",
      "source": [
        "from sentence_transformers import SentenceTransformer, util\n",
        "\n",
        "query_embedding = model.encode('How big is London')\n",
        "passage_embedding = model.encode(['London has 9,787,426 inhabitants at the 2011 census',\n",
        "                                  'London is known for its finacial district'])\n",
        "\n",
        "print(\"Similarity:\", util.dot_score(query_embedding, passage_embedding))"
      ],
      "metadata": {
        "colab": {
          "base_uri": "https://localhost:8080/"
        },
        "id": "X31qnxoLKGbB",
        "outputId": "a4fc9583-b102-41a5-bbe2-90a8cc8807d5"
      },
      "execution_count": 5,
      "outputs": [
        {
          "output_type": "stream",
          "name": "stdout",
          "text": [
            "Similarity: tensor([[0.5627, 0.5645]])\n"
          ]
        }
      ]
    },
    {
      "cell_type": "code",
      "source": [
        "query_embedding = model.encode('i am good person')\n",
        "passage_embedding = model.encode(['i am beautiful person',\n",
        "                                  'i am bad good'])\n",
        "print(\"Similarity:\", util.dot_score(query_embedding, passage_embedding))"
      ],
      "metadata": {
        "colab": {
          "base_uri": "https://localhost:8080/"
        },
        "id": "UpawdA6FML4m",
        "outputId": "d0dcbb1f-ca83-4f55-bce8-fb995daac2d0"
      },
      "execution_count": 7,
      "outputs": [
        {
          "output_type": "stream",
          "name": "stdout",
          "text": [
            "Similarity: tensor([[0.5520, 0.6742]])\n"
          ]
        }
      ]
    },
    {
      "cell_type": "code",
      "source": [
        "query_embedding = model.encode('double-hummer alignment exceptions')\n",
        "passage_embedding = model.encode(['floating point alignment exceptions',\n",
        "                                  '\t<*> torus receiver x+ input pipe error(s) (dcr <*>) detected and corrected'])\n",
        "print(\"Similarity:\", util.dot_score(query_embedding, passage_embedding))"
      ],
      "metadata": {
        "colab": {
          "base_uri": "https://localhost:8080/"
        },
        "id": "SEzkCi5tMvH_",
        "outputId": "04a03bd8-a25c-40e8-a7a5-1dc0e2565555"
      },
      "execution_count": 8,
      "outputs": [
        {
          "output_type": "stream",
          "name": "stdout",
          "text": [
            "Similarity: tensor([[0.5786, 0.2495]])\n"
          ]
        }
      ]
    },
    {
      "cell_type": "code",
      "source": [
        "import pandas as pd\n",
        "\n",
        "# Read the CSV file into a DataFrame\n",
        "df = pd.read_csv('/content/HDFS_templates.csv')\n",
        "df.head()"
      ],
      "metadata": {
        "colab": {
          "base_uri": "https://localhost:8080/",
          "height": 206
        },
        "id": "lqAtKBgENoHC",
        "outputId": "cda71d07-7efa-4ca1-cb01-829981f8f0ed"
      },
      "execution_count": 20,
      "outputs": [
        {
          "output_type": "execute_result",
          "data": {
            "text/plain": [
              "  EventId                           EventTemplate\n",
              "0      E1  <*>Adding an already existing block<*>\n",
              "1      E2        <*>Verification succeeded for<*>\n",
              "2      E3                 <*>Served block<*>to<*>\n",
              "3      E4  <*>Got exception while serving<*>to<*>\n",
              "4      E5    <*>Receiving block<*>src:<*>dest:<*>"
            ],
            "text/html": [
              "\n",
              "\n",
              "  <div id=\"df-ad3fc4e9-d816-42ff-a409-fcec922f4356\">\n",
              "    <div class=\"colab-df-container\">\n",
              "      <div>\n",
              "<style scoped>\n",
              "    .dataframe tbody tr th:only-of-type {\n",
              "        vertical-align: middle;\n",
              "    }\n",
              "\n",
              "    .dataframe tbody tr th {\n",
              "        vertical-align: top;\n",
              "    }\n",
              "\n",
              "    .dataframe thead th {\n",
              "        text-align: right;\n",
              "    }\n",
              "</style>\n",
              "<table border=\"1\" class=\"dataframe\">\n",
              "  <thead>\n",
              "    <tr style=\"text-align: right;\">\n",
              "      <th></th>\n",
              "      <th>EventId</th>\n",
              "      <th>EventTemplate</th>\n",
              "    </tr>\n",
              "  </thead>\n",
              "  <tbody>\n",
              "    <tr>\n",
              "      <th>0</th>\n",
              "      <td>E1</td>\n",
              "      <td>&lt;*&gt;Adding an already existing block&lt;*&gt;</td>\n",
              "    </tr>\n",
              "    <tr>\n",
              "      <th>1</th>\n",
              "      <td>E2</td>\n",
              "      <td>&lt;*&gt;Verification succeeded for&lt;*&gt;</td>\n",
              "    </tr>\n",
              "    <tr>\n",
              "      <th>2</th>\n",
              "      <td>E3</td>\n",
              "      <td>&lt;*&gt;Served block&lt;*&gt;to&lt;*&gt;</td>\n",
              "    </tr>\n",
              "    <tr>\n",
              "      <th>3</th>\n",
              "      <td>E4</td>\n",
              "      <td>&lt;*&gt;Got exception while serving&lt;*&gt;to&lt;*&gt;</td>\n",
              "    </tr>\n",
              "    <tr>\n",
              "      <th>4</th>\n",
              "      <td>E5</td>\n",
              "      <td>&lt;*&gt;Receiving block&lt;*&gt;src:&lt;*&gt;dest:&lt;*&gt;</td>\n",
              "    </tr>\n",
              "  </tbody>\n",
              "</table>\n",
              "</div>\n",
              "      <button class=\"colab-df-convert\" onclick=\"convertToInteractive('df-ad3fc4e9-d816-42ff-a409-fcec922f4356')\"\n",
              "              title=\"Convert this dataframe to an interactive table.\"\n",
              "              style=\"display:none;\">\n",
              "\n",
              "  <svg xmlns=\"http://www.w3.org/2000/svg\" height=\"24px\"viewBox=\"0 0 24 24\"\n",
              "       width=\"24px\">\n",
              "    <path d=\"M0 0h24v24H0V0z\" fill=\"none\"/>\n",
              "    <path d=\"M18.56 5.44l.94 2.06.94-2.06 2.06-.94-2.06-.94-.94-2.06-.94 2.06-2.06.94zm-11 1L8.5 8.5l.94-2.06 2.06-.94-2.06-.94L8.5 2.5l-.94 2.06-2.06.94zm10 10l.94 2.06.94-2.06 2.06-.94-2.06-.94-.94-2.06-.94 2.06-2.06.94z\"/><path d=\"M17.41 7.96l-1.37-1.37c-.4-.4-.92-.59-1.43-.59-.52 0-1.04.2-1.43.59L10.3 9.45l-7.72 7.72c-.78.78-.78 2.05 0 2.83L4 21.41c.39.39.9.59 1.41.59.51 0 1.02-.2 1.41-.59l7.78-7.78 2.81-2.81c.8-.78.8-2.07 0-2.86zM5.41 20L4 18.59l7.72-7.72 1.47 1.35L5.41 20z\"/>\n",
              "  </svg>\n",
              "      </button>\n",
              "\n",
              "\n",
              "\n",
              "    <div id=\"df-213720b9-555f-4553-8f31-0502d7edf1fc\">\n",
              "      <button class=\"colab-df-quickchart\" onclick=\"quickchart('df-213720b9-555f-4553-8f31-0502d7edf1fc')\"\n",
              "              title=\"Suggest charts.\"\n",
              "              style=\"display:none;\">\n",
              "\n",
              "<svg xmlns=\"http://www.w3.org/2000/svg\" height=\"24px\"viewBox=\"0 0 24 24\"\n",
              "     width=\"24px\">\n",
              "    <g>\n",
              "        <path d=\"M19 3H5c-1.1 0-2 .9-2 2v14c0 1.1.9 2 2 2h14c1.1 0 2-.9 2-2V5c0-1.1-.9-2-2-2zM9 17H7v-7h2v7zm4 0h-2V7h2v10zm4 0h-2v-4h2v4z\"/>\n",
              "    </g>\n",
              "</svg>\n",
              "      </button>\n",
              "    </div>\n",
              "\n",
              "<style>\n",
              "  .colab-df-quickchart {\n",
              "    background-color: #E8F0FE;\n",
              "    border: none;\n",
              "    border-radius: 50%;\n",
              "    cursor: pointer;\n",
              "    display: none;\n",
              "    fill: #1967D2;\n",
              "    height: 32px;\n",
              "    padding: 0 0 0 0;\n",
              "    width: 32px;\n",
              "  }\n",
              "\n",
              "  .colab-df-quickchart:hover {\n",
              "    background-color: #E2EBFA;\n",
              "    box-shadow: 0px 1px 2px rgba(60, 64, 67, 0.3), 0px 1px 3px 1px rgba(60, 64, 67, 0.15);\n",
              "    fill: #174EA6;\n",
              "  }\n",
              "\n",
              "  [theme=dark] .colab-df-quickchart {\n",
              "    background-color: #3B4455;\n",
              "    fill: #D2E3FC;\n",
              "  }\n",
              "\n",
              "  [theme=dark] .colab-df-quickchart:hover {\n",
              "    background-color: #434B5C;\n",
              "    box-shadow: 0px 1px 3px 1px rgba(0, 0, 0, 0.15);\n",
              "    filter: drop-shadow(0px 1px 2px rgba(0, 0, 0, 0.3));\n",
              "    fill: #FFFFFF;\n",
              "  }\n",
              "</style>\n",
              "\n",
              "    <script>\n",
              "      async function quickchart(key) {\n",
              "        const containerElement = document.querySelector('#' + key);\n",
              "        const charts = await google.colab.kernel.invokeFunction(\n",
              "            'suggestCharts', [key], {});\n",
              "      }\n",
              "    </script>\n",
              "\n",
              "      <script>\n",
              "\n",
              "function displayQuickchartButton(domScope) {\n",
              "  let quickchartButtonEl =\n",
              "    domScope.querySelector('#df-213720b9-555f-4553-8f31-0502d7edf1fc button.colab-df-quickchart');\n",
              "  quickchartButtonEl.style.display =\n",
              "    google.colab.kernel.accessAllowed ? 'block' : 'none';\n",
              "}\n",
              "\n",
              "        displayQuickchartButton(document);\n",
              "      </script>\n",
              "      <style>\n",
              "    .colab-df-container {\n",
              "      display:flex;\n",
              "      flex-wrap:wrap;\n",
              "      gap: 12px;\n",
              "    }\n",
              "\n",
              "    .colab-df-convert {\n",
              "      background-color: #E8F0FE;\n",
              "      border: none;\n",
              "      border-radius: 50%;\n",
              "      cursor: pointer;\n",
              "      display: none;\n",
              "      fill: #1967D2;\n",
              "      height: 32px;\n",
              "      padding: 0 0 0 0;\n",
              "      width: 32px;\n",
              "    }\n",
              "\n",
              "    .colab-df-convert:hover {\n",
              "      background-color: #E2EBFA;\n",
              "      box-shadow: 0px 1px 2px rgba(60, 64, 67, 0.3), 0px 1px 3px 1px rgba(60, 64, 67, 0.15);\n",
              "      fill: #174EA6;\n",
              "    }\n",
              "\n",
              "    [theme=dark] .colab-df-convert {\n",
              "      background-color: #3B4455;\n",
              "      fill: #D2E3FC;\n",
              "    }\n",
              "\n",
              "    [theme=dark] .colab-df-convert:hover {\n",
              "      background-color: #434B5C;\n",
              "      box-shadow: 0px 1px 3px 1px rgba(0, 0, 0, 0.15);\n",
              "      filter: drop-shadow(0px 1px 2px rgba(0, 0, 0, 0.3));\n",
              "      fill: #FFFFFF;\n",
              "    }\n",
              "  </style>\n",
              "\n",
              "      <script>\n",
              "        const buttonEl =\n",
              "          document.querySelector('#df-ad3fc4e9-d816-42ff-a409-fcec922f4356 button.colab-df-convert');\n",
              "        buttonEl.style.display =\n",
              "          google.colab.kernel.accessAllowed ? 'block' : 'none';\n",
              "\n",
              "        async function convertToInteractive(key) {\n",
              "          const element = document.querySelector('#df-ad3fc4e9-d816-42ff-a409-fcec922f4356');\n",
              "          const dataTable =\n",
              "            await google.colab.kernel.invokeFunction('convertToInteractive',\n",
              "                                                     [key], {});\n",
              "          if (!dataTable) return;\n",
              "\n",
              "          const docLinkHtml = 'Like what you see? Visit the ' +\n",
              "            '<a target=\"_blank\" href=https://colab.research.google.com/notebooks/data_table.ipynb>data table notebook</a>'\n",
              "            + ' to learn more about interactive tables.';\n",
              "          element.innerHTML = '';\n",
              "          dataTable['output_type'] = 'display_data';\n",
              "          await google.colab.output.renderOutput(dataTable, element);\n",
              "          const docLink = document.createElement('div');\n",
              "          docLink.innerHTML = docLinkHtml;\n",
              "          element.appendChild(docLink);\n",
              "        }\n",
              "      </script>\n",
              "    </div>\n",
              "  </div>\n"
            ]
          },
          "metadata": {},
          "execution_count": 20
        }
      ]
    },
    {
      "cell_type": "code",
      "source": [
        "df['EventTemplate'][0]"
      ],
      "metadata": {
        "colab": {
          "base_uri": "https://localhost:8080/",
          "height": 35
        },
        "id": "i9U8Y5LVN-mI",
        "outputId": "76255538-6bab-4549-d20e-4263b44c9c33"
      },
      "execution_count": 21,
      "outputs": [
        {
          "output_type": "execute_result",
          "data": {
            "text/plain": [
              "'<*>Adding an already existing block<*>'"
            ],
            "application/vnd.google.colaboratory.intrinsic+json": {
              "type": "string"
            }
          },
          "metadata": {},
          "execution_count": 21
        }
      ]
    },
    {
      "cell_type": "code",
      "source": [
        "len(df['EventTemplate'])"
      ],
      "metadata": {
        "colab": {
          "base_uri": "https://localhost:8080/"
        },
        "id": "S921K_OpOnK9",
        "outputId": "6c2aa4de-8aa2-4d36-9100-87f134e46c07"
      },
      "execution_count": 22,
      "outputs": [
        {
          "output_type": "execute_result",
          "data": {
            "text/plain": [
              "30"
            ]
          },
          "metadata": {},
          "execution_count": 22
        }
      ]
    },
    {
      "cell_type": "code",
      "source": [
        "list(df['EventTemplate'][1:])"
      ],
      "metadata": {
        "colab": {
          "base_uri": "https://localhost:8080/"
        },
        "id": "WJG4ulWUOHnh",
        "outputId": "61f9415c-12dd-44d4-bcb2-513336da6400"
      },
      "execution_count": 23,
      "outputs": [
        {
          "output_type": "execute_result",
          "data": {
            "text/plain": [
              "['<*>Verification succeeded for<*>',\n",
              " '<*>Served block<*>to<*>',\n",
              " '<*>Got exception while serving<*>to<*>',\n",
              " '<*>Receiving block<*>src:<*>dest:<*>',\n",
              " '<*>Received block<*>src:<*>dest:<*>of size<*>',\n",
              " '<*>writeBlock<*>received exception<*>',\n",
              " '<*>PacketResponder<*>for block<*>Interrupted<*>',\n",
              " '<*>Received block<*>of size<*>from<*>',\n",
              " '<*>PacketResponder<*>Exception<*>',\n",
              " '<*>PacketResponder <*> for block <*> terminating<*>',\n",
              " '<*>:Exception writing block<*>to mirror<*>',\n",
              " '<*>Receiving empty packet for block<*>',\n",
              " '<*>Exception in receiveBlock for block<*>',\n",
              " '<*>Changing block file offset of block<*>from<*>to<*>meta file offset to<*>',\n",
              " '<*>:Transmitted block<*>to<*>',\n",
              " '<*>:Failed to transfer<*>to<*>got<*>',\n",
              " '<*>Starting thread to transfer block<*>to<*>',\n",
              " '<*>Reopen Block<*>',\n",
              " '<*>Unexpected error trying to delete block<*>BlockInfo not found in volumeMap<*>',\n",
              " '<*>Deleting block<*>file<*>',\n",
              " '<*>BLOCK* NameSystem<*>allocateBlock:<*>',\n",
              " '<*>BLOCK* NameSystem<*>delete:<*>is added to invalidSet of<*>',\n",
              " '<*>BLOCK* Removing block<*>from neededReplications as it does not belong to any file<*>',\n",
              " '<*>BLOCK* ask<*>to replicate<*>to<*>',\n",
              " '<*>BLOCK* NameSystem<*>addStoredBlock: blockMap updated:<*>is added to<*>size<*>',\n",
              " '<*>BLOCK* NameSystem<*>addStoredBlock: Redundant addStoredBlock request received for<*>on<*>size<*>',\n",
              " '<*>BLOCK* NameSystem<*>addStoredBlock: addStoredBlock request received for<*>on<*>size<*>But it does not belong to any file.',\n",
              " '<*>PendingReplicationMonitor timed out block<*>',\n",
              " '<*>BLOCK* ask <*> to delete <*>']"
            ]
          },
          "metadata": {},
          "execution_count": 23
        }
      ]
    },
    {
      "cell_type": "code",
      "source": [
        "query_embedding = model.encode(df['EventTemplate'][0])\n",
        "passage_embedding = model.encode(list(df['EventTemplate']))\n",
        "similarity = util.dot_score(query_embedding, passage_embedding)\n",
        "print(\"Similarity:\", similarity)"
      ],
      "metadata": {
        "colab": {
          "base_uri": "https://localhost:8080/"
        },
        "id": "23_mpLqKN4VE",
        "outputId": "e4a6285e-e0a9-4254-9596-fb82d6abe603"
      },
      "execution_count": 26,
      "outputs": [
        {
          "output_type": "stream",
          "name": "stdout",
          "text": [
            "Similarity: tensor([[1.0000, 0.3306, 0.5373, 0.2941, 0.4918, 0.4210, 0.4895, 0.3000, 0.3977,\n",
            "         0.0989, 0.2919, 0.4331, 0.4358, 0.4876, 0.5128, 0.4233, 0.1819, 0.5224,\n",
            "         0.5560, 0.4074, 0.5925, 0.5645, 0.5608, 0.6515, 0.5734, 0.4526, 0.4146,\n",
            "         0.3894, 0.4101, 0.5846]])\n"
          ]
        }
      ]
    },
    {
      "cell_type": "code",
      "source": [
        "import torch\n",
        "torch.topk(similarity,5)[]"
      ],
      "metadata": {
        "colab": {
          "base_uri": "https://localhost:8080/"
        },
        "id": "QnC6FamVPHlc",
        "outputId": "5d32b281-a90b-4384-b0a6-b7460bef852e"
      },
      "execution_count": 34,
      "outputs": [
        {
          "output_type": "execute_result",
          "data": {
            "text/plain": [
              "torch.return_types.topk(\n",
              "values=tensor([[1.0000, 0.6515, 0.5925, 0.5846, 0.5734]]),\n",
              "indices=tensor([[ 0, 23, 20, 29, 24]]))"
            ]
          },
          "metadata": {},
          "execution_count": 34
        }
      ]
    },
    {
      "cell_type": "code",
      "source": [
        "torch. squeeze(similarity)"
      ],
      "metadata": {
        "colab": {
          "base_uri": "https://localhost:8080/"
        },
        "id": "Rk5aXHEeR_m8",
        "outputId": "7a73939d-8c0f-4656-dcf5-41159c3c64ce"
      },
      "execution_count": 43,
      "outputs": [
        {
          "output_type": "execute_result",
          "data": {
            "text/plain": [
              "tensor([1.0000, 0.3306, 0.5373, 0.2941, 0.4918, 0.4210, 0.4895, 0.3000, 0.3977,\n",
              "        0.0989, 0.2919, 0.4331, 0.4358, 0.4876, 0.5128, 0.4233, 0.1819, 0.5224,\n",
              "        0.5560, 0.4074, 0.5925, 0.5645, 0.5608, 0.6515, 0.5734, 0.4526, 0.4146,\n",
              "        0.3894, 0.4101, 0.5846])"
            ]
          },
          "metadata": {},
          "execution_count": 43
        }
      ]
    },
    {
      "cell_type": "code",
      "source": [
        "size = len(df['EventTemplate'])\n",
        "tensor = torch.zeros([size, size], dtype=torch.float64)\n",
        "for index,template in enumerate(df['EventTemplate']):\n",
        "  query_embedding = model.encode(template)\n",
        "  passage_embedding = model.encode(list(df['EventTemplate']))\n",
        "  similarity = util.dot_score(query_embedding, passage_embedding)\n",
        "  tensor[index] = torch. squeeze(similarity)\n"
      ],
      "metadata": {
        "id": "Ri3gK6xBST1i"
      },
      "execution_count": 46,
      "outputs": []
    },
    {
      "cell_type": "code",
      "source": [
        "torch.min(tensor)"
      ],
      "metadata": {
        "colab": {
          "base_uri": "https://localhost:8080/"
        },
        "id": "JdqvzFemT1U4",
        "outputId": "11d096ad-efd4-4d29-f5db-e99ae04eacdd"
      },
      "execution_count": 53,
      "outputs": [
        {
          "output_type": "execute_result",
          "data": {
            "text/plain": [
              "tensor(0.0989, dtype=torch.float64)"
            ]
          },
          "metadata": {},
          "execution_count": 53
        }
      ]
    },
    {
      "cell_type": "code",
      "source": [
        "torch.min(tensor, dim=0, keepdim=False)"
      ],
      "metadata": {
        "colab": {
          "base_uri": "https://localhost:8080/"
        },
        "id": "l40mVU6SUKOo",
        "outputId": "eafa026d-d818-47ba-866c-5b94f7760adb"
      },
      "execution_count": 57,
      "outputs": [
        {
          "output_type": "execute_result",
          "data": {
            "text/plain": [
              "torch.return_types.min(\n",
              "values=tensor([0.0989, 0.2040, 0.2546, 0.2282, 0.3197, 0.2950, 0.3909, 0.2170, 0.2776,\n",
              "        0.0989, 0.2354, 0.2904, 0.2895, 0.3736, 0.1052, 0.2870, 0.1669, 0.3284,\n",
              "        0.2562, 0.1815, 0.1612, 0.1541, 0.2273, 0.1681, 0.2124, 0.1884, 0.2186,\n",
              "        0.2093, 0.1990, 0.1708], dtype=torch.float64),\n",
              "indices=tensor([ 9, 25, 16, 14, 26,  3, 14, 19,  3,  0, 16, 19, 14, 14,  9, 27, 14,  9,\n",
              "         9,  9,  9,  9,  9,  9,  9,  9,  9,  9, 14,  9]))"
            ]
          },
          "metadata": {},
          "execution_count": 57
        }
      ]
    },
    {
      "cell_type": "code",
      "source": [
        "tensor[0][9]"
      ],
      "metadata": {
        "colab": {
          "base_uri": "https://localhost:8080/"
        },
        "id": "i-wWpmZjVLEc",
        "outputId": "40a06ca0-ba70-404a-eb48-3e842d840267"
      },
      "execution_count": 58,
      "outputs": [
        {
          "output_type": "execute_result",
          "data": {
            "text/plain": [
              "tensor(0.0989, dtype=torch.float64)"
            ]
          },
          "metadata": {},
          "execution_count": 58
        }
      ]
    },
    {
      "cell_type": "code",
      "source": [
        "df['EventTemplate'][9]"
      ],
      "metadata": {
        "colab": {
          "base_uri": "https://localhost:8080/",
          "height": 35
        },
        "id": "3yg323zfVQ04",
        "outputId": "140772e0-5d0c-4c98-bb76-5fe4a94c5701"
      },
      "execution_count": 59,
      "outputs": [
        {
          "output_type": "execute_result",
          "data": {
            "text/plain": [
              "'<*>PacketResponder<*>Exception<*>'"
            ],
            "application/vnd.google.colaboratory.intrinsic+json": {
              "type": "string"
            }
          },
          "metadata": {},
          "execution_count": 59
        }
      ]
    },
    {
      "cell_type": "code",
      "source": [
        "torch.topk(tensor,30)"
      ],
      "metadata": {
        "colab": {
          "base_uri": "https://localhost:8080/"
        },
        "id": "Mlrr2bx1Vki7",
        "outputId": "43434b38-6af8-46d0-ce68-cd51089845bf"
      },
      "execution_count": 68,
      "outputs": [
        {
          "output_type": "execute_result",
          "data": {
            "text/plain": [
              "torch.return_types.topk(\n",
              "values=tensor([[1.0000, 0.6515, 0.5925, 0.5846, 0.5734, 0.5645, 0.5608, 0.5560, 0.5373,\n",
              "         0.5224, 0.5128, 0.4918, 0.4895, 0.4876, 0.4526, 0.4358, 0.4331, 0.4233,\n",
              "         0.4210, 0.4146, 0.4101, 0.4074, 0.3977, 0.3894, 0.3306, 0.3000, 0.2941,\n",
              "         0.2919, 0.1819, 0.0989],\n",
              "        [1.0000, 0.5633, 0.5120, 0.5081, 0.4705, 0.4682, 0.4678, 0.4672, 0.4391,\n",
              "         0.4223, 0.3998, 0.3846, 0.3844, 0.3825, 0.3724, 0.3658, 0.3558, 0.3443,\n",
              "         0.3306, 0.3290, 0.2820, 0.2799, 0.2719, 0.2688, 0.2541, 0.2505, 0.2457,\n",
              "         0.2126, 0.2073, 0.2040],\n",
              "        [1.0000, 0.6575, 0.6438, 0.6413, 0.6354, 0.6027, 0.5911, 0.5753, 0.5744,\n",
              "         0.5580, 0.5576, 0.5407, 0.5373, 0.5321, 0.5308, 0.5186, 0.5168, 0.5103,\n",
              "         0.5065, 0.4979, 0.4915, 0.4595, 0.4141, 0.4084, 0.3827, 0.3825, 0.3783,\n",
              "         0.3632, 0.2968, 0.2546],\n",
              "        [1.0000, 0.6384, 0.6354, 0.5885, 0.5797, 0.5417, 0.5081, 0.4861, 0.4682,\n",
              "         0.4498, 0.4495, 0.4429, 0.4414, 0.4183, 0.3956, 0.3797, 0.3767, 0.3482,\n",
              "         0.3441, 0.3437, 0.3394, 0.3270, 0.3210, 0.3199, 0.2950, 0.2941, 0.2776,\n",
              "         0.2712, 0.2597, 0.2282],\n",
              "        [1.0000, 0.8686, 0.6714, 0.6684, 0.6575, 0.6341, 0.6260, 0.6229, 0.6002,\n",
              "         0.5911, 0.5806, 0.5565, 0.5206, 0.5201, 0.5157, 0.5150, 0.5130, 0.5057,\n",
              "         0.5053, 0.4945, 0.4918, 0.4495, 0.4223, 0.3735, 0.3652, 0.3645, 0.3567,\n",
              "         0.3483, 0.3391, 0.3197],\n",
              "        [1.0000, 0.8686, 0.8222, 0.5580, 0.5531, 0.5284, 0.5259, 0.5190, 0.5176,\n",
              "         0.5010, 0.4862, 0.4749, 0.4730, 0.4601, 0.4511, 0.4494, 0.4441, 0.4215,\n",
              "         0.4210, 0.4145, 0.3910, 0.3725, 0.3570, 0.3550, 0.3522, 0.3403, 0.3394,\n",
              "         0.3290, 0.3099, 0.2950],\n",
              "        [1.0000, 0.7745, 0.6863, 0.6384, 0.5938, 0.5866, 0.5379, 0.5308, 0.5244,\n",
              "         0.5215, 0.5061, 0.5057, 0.5013, 0.4895, 0.4889, 0.4839, 0.4775, 0.4754,\n",
              "         0.4730, 0.4714, 0.4705, 0.4689, 0.4626, 0.4445, 0.4380, 0.4217, 0.4196,\n",
              "         0.4145, 0.4024, 0.3909],\n",
              "        [1.0000, 0.8804, 0.7886, 0.6546, 0.5972, 0.5254, 0.5226, 0.5142, 0.5130,\n",
              "         0.4979, 0.4824, 0.4494, 0.4372, 0.4347, 0.4217, 0.3792, 0.3379, 0.3334,\n",
              "         0.3270, 0.3200, 0.3185, 0.3166, 0.3066, 0.3000, 0.2877, 0.2865, 0.2732,\n",
              "         0.2616, 0.2505, 0.2170],\n",
              "        [1.0000, 0.8222, 0.6714, 0.6466, 0.6405, 0.6224, 0.5744, 0.5226, 0.5226,\n",
              "         0.5167, 0.4836, 0.4808, 0.4775, 0.4572, 0.4416, 0.4383, 0.4072, 0.3977,\n",
              "         0.3930, 0.3923, 0.3922, 0.3885, 0.3848, 0.3595, 0.3558, 0.3463, 0.3462,\n",
              "         0.3320, 0.2820, 0.2776],\n",
              "        [1.0000, 0.7886, 0.7620, 0.6213, 0.5193, 0.4682, 0.4626, 0.4344, 0.4306,\n",
              "         0.3923, 0.3880, 0.3707, 0.3483, 0.3284, 0.3099, 0.2968, 0.2719, 0.2562,\n",
              "         0.2273, 0.2186, 0.2124, 0.2093, 0.1884, 0.1815, 0.1708, 0.1681, 0.1612,\n",
              "         0.1541, 0.1052, 0.0989],\n",
              "        [1.0000, 0.8804, 0.7620, 0.7190, 0.5771, 0.5462, 0.5201, 0.5167, 0.4928,\n",
              "         0.4915, 0.4441, 0.4196, 0.4089, 0.3957, 0.3689, 0.3669, 0.3624, 0.3547,\n",
              "         0.3480, 0.3441, 0.3358, 0.3153, 0.3037, 0.2919, 0.2859, 0.2758, 0.2688,\n",
              "         0.2661, 0.2572, 0.2354],\n",
              "        [1.0000, 0.6863, 0.6174, 0.6071, 0.5797, 0.5709, 0.5120, 0.5103, 0.5053,\n",
              "         0.4911, 0.4905, 0.4540, 0.4491, 0.4372, 0.4344, 0.4331, 0.4156, 0.4089,\n",
              "         0.4041, 0.4034, 0.3979, 0.3878, 0.3725, 0.3725, 0.3706, 0.3616, 0.3558,\n",
              "         0.3446, 0.3307, 0.2904],\n",
              "        [1.0000, 0.7190, 0.6992, 0.6650, 0.6546, 0.6229, 0.6224, 0.6213, 0.5321,\n",
              "         0.5284, 0.5215, 0.5013, 0.4469, 0.4358, 0.4342, 0.4270, 0.4223, 0.4207,\n",
              "         0.4183, 0.4156, 0.4034, 0.3788, 0.3658, 0.3522, 0.3522, 0.3384, 0.3269,\n",
              "         0.3226, 0.3209, 0.2895],\n",
              "        [1.0000, 0.7745, 0.6992, 0.6466, 0.6341, 0.6237, 0.6174, 0.5885, 0.5756,\n",
              "         0.5753, 0.5487, 0.5462, 0.5193, 0.5176, 0.5142, 0.5085, 0.5064, 0.5026,\n",
              "         0.4894, 0.4876, 0.4826, 0.4608, 0.4440, 0.4391, 0.4389, 0.4332, 0.4258,\n",
              "         0.4228, 0.4122, 0.3736],\n",
              "        [1.0000, 0.5687, 0.5625, 0.5157, 0.5128, 0.4857, 0.4720, 0.4601, 0.4595,\n",
              "         0.4370, 0.4202, 0.4157, 0.4113, 0.3930, 0.3909, 0.3806, 0.3736, 0.3725,\n",
              "         0.3552, 0.3467, 0.3204, 0.3037, 0.2895, 0.2865, 0.2621, 0.2282, 0.2073,\n",
              "         0.1990, 0.1669, 0.1052],\n",
              "        [1.0000, 0.6684, 0.6650, 0.6405, 0.6237, 0.6053, 0.6027, 0.5972, 0.5924,\n",
              "         0.5771, 0.5531, 0.4792, 0.4689, 0.4540, 0.4399, 0.4341, 0.4306, 0.4233,\n",
              "         0.4212, 0.4086, 0.3998, 0.3795, 0.3709, 0.3423, 0.3291, 0.3204, 0.3199,\n",
              "         0.3105, 0.2912, 0.2870],\n",
              "        [1.0000, 0.4932, 0.4861, 0.4714, 0.4682, 0.4122, 0.3956, 0.3878, 0.3709,\n",
              "         0.3707, 0.3652, 0.3462, 0.3403, 0.3384, 0.3340, 0.3257, 0.3209, 0.3183,\n",
              "         0.3057, 0.2877, 0.2830, 0.2797, 0.2546, 0.2437, 0.2411, 0.2354, 0.2315,\n",
              "         0.1905, 0.1819, 0.1669],\n",
              "        [1.0000, 0.6356, 0.6260, 0.6071, 0.5938, 0.5924, 0.5911, 0.5756, 0.5543,\n",
              "         0.5254, 0.5224, 0.5215, 0.5141, 0.5061, 0.4932, 0.4928, 0.4902, 0.4857,\n",
              "         0.4836, 0.4730, 0.4716, 0.4694, 0.4429, 0.3844, 0.3708, 0.3682, 0.3501,\n",
              "         0.3491, 0.3378, 0.3284],\n",
              "        [1.0000, 0.6300, 0.6281, 0.5710, 0.5560, 0.5407, 0.5290, 0.5244, 0.4945,\n",
              "         0.4894, 0.4716, 0.4670, 0.4511, 0.4493, 0.4414, 0.4383, 0.4373, 0.4342,\n",
              "         0.4249, 0.4157, 0.4041, 0.4035, 0.3795, 0.3792, 0.3724, 0.3549, 0.3487,\n",
              "         0.3480, 0.3257, 0.2562],\n",
              "        [1.0000, 0.6373, 0.6367, 0.5587, 0.5518, 0.4836, 0.4754, 0.4389, 0.4281,\n",
              "         0.4249, 0.4245, 0.4074, 0.3827, 0.3767, 0.3732, 0.3645, 0.3570, 0.3552,\n",
              "         0.3522, 0.3491, 0.3320, 0.3209, 0.3172, 0.2912, 0.2904, 0.2799, 0.2758,\n",
              "         0.2710, 0.2170, 0.1815],\n",
              "        [1.0000, 0.8302, 0.7760, 0.6971, 0.6373, 0.6300, 0.5925, 0.5911, 0.5625,\n",
              "         0.5576, 0.5379, 0.5379, 0.5259, 0.5141, 0.4881, 0.4608, 0.4572, 0.4491,\n",
              "         0.4270, 0.4251, 0.4212, 0.4034, 0.3956, 0.3669, 0.3654, 0.3558, 0.3428,\n",
              "         0.3200, 0.2830, 0.1612],\n",
              "        [1.0000, 0.6939, 0.6841, 0.6072, 0.5738, 0.5645, 0.5379, 0.5312, 0.5168,\n",
              "         0.5150, 0.4916, 0.4902, 0.4862, 0.4730, 0.4720, 0.4670, 0.4657, 0.4416,\n",
              "         0.4341, 0.4281, 0.4258, 0.3788, 0.3706, 0.3547, 0.3334, 0.2859, 0.2597,\n",
              "         0.2541, 0.1905, 0.1541],\n",
              "        [1.0000, 0.7085, 0.6971, 0.6841, 0.6367, 0.6233, 0.5866, 0.5710, 0.5645,\n",
              "         0.5633, 0.5608, 0.5487, 0.5417, 0.5411, 0.5206, 0.5186, 0.5050, 0.4905,\n",
              "         0.4694, 0.4399, 0.4341, 0.4223, 0.4215, 0.4113, 0.3956, 0.3871, 0.3463,\n",
              "         0.3153, 0.2616, 0.2273],\n",
              "        [1.0000, 0.7760, 0.6609, 0.6515, 0.6233, 0.5687, 0.5565, 0.5324, 0.5312,\n",
              "         0.5290, 0.5085, 0.5065, 0.5061, 0.5061, 0.4911, 0.4836, 0.4799, 0.4749,\n",
              "         0.4551, 0.4086, 0.4072, 0.4034, 0.3932, 0.3915, 0.3846, 0.3482, 0.3358,\n",
              "         0.3166, 0.2315, 0.1681],\n",
              "        [1.0000, 0.6542, 0.6413, 0.6356, 0.6053, 0.6002, 0.5734, 0.5709, 0.5324,\n",
              "         0.5226, 0.5190, 0.4881, 0.4839, 0.4826, 0.4678, 0.4657, 0.4493, 0.4370,\n",
              "         0.4347, 0.4341, 0.4207, 0.4143, 0.3957, 0.3474, 0.3405, 0.3394, 0.3183,\n",
              "         0.2741, 0.2710, 0.2124],\n",
              "        [1.0000, 0.8605, 0.8410, 0.6939, 0.5645, 0.5587, 0.4526, 0.4380, 0.4251,\n",
              "         0.4228, 0.4084, 0.4035, 0.3932, 0.3922, 0.3910, 0.3837, 0.3806, 0.3759,\n",
              "         0.3682, 0.3567, 0.3423, 0.3405, 0.3307, 0.3226, 0.3066, 0.2712, 0.2661,\n",
              "         0.2437, 0.2040, 0.1884],\n",
              "        [1.0000, 0.8900, 0.8605, 0.6072, 0.5411, 0.4440, 0.4406, 0.4146, 0.4141,\n",
              "         0.4024, 0.3925, 0.3915, 0.3848, 0.3732, 0.3616, 0.3501, 0.3487, 0.3474,\n",
              "         0.3428, 0.3394, 0.3291, 0.3269, 0.3210, 0.3197, 0.3185, 0.2859, 0.2621,\n",
              "         0.2457, 0.2411, 0.2186],\n",
              "        [1.0000, 0.8900, 0.8410, 0.5738, 0.5050, 0.4551, 0.4491, 0.4445, 0.4332,\n",
              "         0.4245, 0.3894, 0.3678, 0.3648, 0.3632, 0.3595, 0.3549, 0.3522, 0.3467,\n",
              "         0.3446, 0.3437, 0.3391, 0.3378, 0.3209, 0.2870, 0.2797, 0.2741, 0.2732,\n",
              "         0.2572, 0.2126, 0.2093],\n",
              "        [1.0000, 0.5064, 0.4889, 0.4824, 0.4799, 0.4406, 0.4373, 0.4143, 0.4101,\n",
              "         0.3979, 0.3942, 0.3885, 0.3880, 0.3871, 0.3797, 0.3783, 0.3759, 0.3735,\n",
              "         0.3708, 0.3654, 0.3648, 0.3624, 0.3550, 0.3522, 0.3443, 0.3340, 0.3172,\n",
              "         0.3105, 0.2859, 0.1990],\n",
              "        [1.0000, 0.8302, 0.7085, 0.6609, 0.6542, 0.6438, 0.6281, 0.5846, 0.5806,\n",
              "         0.5543, 0.5518, 0.5215, 0.5026, 0.5010, 0.4916, 0.4808, 0.4792, 0.4672,\n",
              "         0.4498, 0.4491, 0.4469, 0.4202, 0.3942, 0.3925, 0.3837, 0.3689, 0.3678,\n",
              "         0.3379, 0.3057, 0.1708]], dtype=torch.float64),\n",
              "indices=tensor([[ 0, 23, 20, 29, 24, 21, 22, 18,  2, 17, 14,  4,  6, 13, 25, 12, 11, 15,\n",
              "          5, 26, 28, 19,  8, 27,  1,  7,  3, 10, 16,  9],\n",
              "        [ 1, 22, 11,  3,  6, 16, 24, 29, 13,  4, 15, 23, 17,  2, 18, 12, 20, 28,\n",
              "          0,  5,  8, 19,  9, 10, 21,  7, 26, 27, 14, 25],\n",
              "        [ 2,  4, 29, 24,  3, 15, 17, 13,  8,  5, 20, 18,  0, 12,  6, 22, 21, 11,\n",
              "         23,  7, 10, 14, 26, 25, 19,  1, 28, 27,  9, 16],\n",
              "        [ 3,  6,  2, 13, 11, 22,  1, 16,  9, 29,  4, 17, 18, 12, 20, 28, 19, 23,\n",
              "         10, 27, 24,  7, 26, 15,  5,  0,  8, 25, 21, 14],\n",
              "        [ 4,  5,  8, 15,  2, 13, 17, 12, 24, 20, 29, 23, 22, 10, 14, 21,  7,  6,\n",
              "         11, 18,  0,  3,  1, 28, 16, 19, 25,  9, 27, 26],\n",
              "        [ 5,  4,  8,  2, 15, 12, 20, 24, 13, 29, 21, 23, 17, 14, 18,  7, 10, 22,\n",
              "          0,  6, 25, 11, 19, 28, 27, 16, 26,  1,  9,  3],\n",
              "        [ 6, 13, 11,  3, 17, 22, 20,  2, 18, 29, 23,  4, 12,  0, 28, 24,  8, 19,\n",
              "         21, 16,  1, 15,  9, 27, 25,  7, 10,  5, 26, 14],\n",
              "        [ 7, 10,  9, 12, 15, 17,  8, 13,  4,  2, 28,  5, 11, 24,  6, 18, 29, 21,\n",
              "          3, 20, 26, 23, 25,  0, 16, 14, 27, 22,  1, 19],\n",
              "        [ 8,  5,  4, 13, 15, 12,  2,  7, 24, 10, 17, 29,  6, 20, 21, 18, 23,  0,\n",
              "         14,  9, 25, 28, 26, 27, 11, 22, 16, 19,  1,  3],\n",
              "        [ 9,  7, 10, 12, 13,  3,  6, 11, 15,  8, 28, 16,  4, 17,  5,  2,  1, 18,\n",
              "         22, 26, 24, 27, 25, 19, 29, 23, 20, 21, 14,  0],\n",
              "        [10,  7,  9, 12, 15, 13,  4,  8, 17,  2,  5,  6, 11, 24, 29, 20, 28, 21,\n",
              "         18,  3, 23, 22, 14,  0, 26, 19,  1, 25, 27, 16],\n",
              "        [11,  6, 13, 17,  3, 24,  1,  2,  4, 23, 22, 15, 29,  7,  9,  0, 12, 10,\n",
              "         18, 20, 28, 16, 14,  5, 21, 26,  8, 27, 25, 19],\n",
              "        [12, 10, 13, 15,  7,  4,  8,  9,  2,  5, 17,  6, 29,  0, 18, 20, 22, 24,\n",
              "          3, 11, 23, 21,  1, 28, 19, 16, 26, 25, 27, 14],\n",
              "        [13,  6, 12,  8,  4, 15, 11,  3, 17,  2, 22, 10,  9,  5,  7, 23, 28, 29,\n",
              "         18,  0, 24, 20, 26,  1, 19, 27, 21, 25, 16, 14],\n",
              "        [14, 23, 20,  4,  0, 17, 21,  5,  2, 24, 29, 18, 22,  8,  6, 25, 13, 11,\n",
              "         19, 27, 15, 10, 12,  7, 26,  3,  1, 28, 16,  9],\n",
              "        [15,  4, 12,  8, 13, 24,  2,  7, 17, 10,  5, 29,  6, 11, 22, 21,  9,  0,\n",
              "         20, 23,  1, 18, 16, 25, 26, 14,  3, 28, 19, 27],\n",
              "        [16, 17,  3,  6,  1, 13, 22, 11, 15,  9,  4,  8,  5, 12, 28, 18, 19, 24,\n",
              "         29,  7, 20, 27,  2, 25, 26, 10, 23, 21,  0, 14],\n",
              "        [17, 24,  4, 11,  6, 15,  2, 13, 29,  7,  0, 12, 20, 23, 16, 10, 21, 14,\n",
              "          8,  5, 18, 22,  3,  1, 28, 25, 26, 19, 27,  9],\n",
              "        [18, 20, 29, 22,  0,  2, 23,  6,  4, 13, 17, 21,  5, 24,  3,  8, 28, 12,\n",
              "         19, 14, 11, 25, 15,  7,  1, 27, 26, 10, 16,  9],\n",
              "        [19, 20, 22, 25, 29, 23,  6, 13, 21, 18, 27,  0,  2,  3, 26,  4,  5, 14,\n",
              "         12, 17,  8, 16, 28, 15, 11,  1, 10, 24,  7,  9],\n",
              "        [20, 29, 23, 22, 19, 18,  0,  4, 14,  2,  6, 21,  5, 17, 24, 13,  8, 27,\n",
              "         12, 25, 15, 11,  3, 10, 28,  1, 26,  7, 16,  9],\n",
              "        [21, 25, 22, 26, 27,  0, 20, 23,  2,  4, 29, 17,  5,  6, 14, 18, 24,  8,\n",
              "         15, 19, 13, 12, 11, 10,  7, 28,  3,  1, 16,  9],\n",
              "        [22, 29, 20, 21, 19, 23,  6, 18, 25,  1,  0, 13,  3, 26,  4,  2, 27, 11,\n",
              "         17, 15, 24, 12,  5, 14, 16, 28,  8, 10,  7,  9],\n",
              "        [23, 20, 29,  0, 22, 14,  4, 24, 21, 18, 13,  2,  6, 17, 11, 19, 28,  5,\n",
              "         27, 15,  8, 12, 25, 26,  1,  3, 10,  7, 16,  9],\n",
              "        [24, 29,  2, 17, 15,  4,  0, 11, 23,  8,  5, 20,  6, 13,  1, 21, 18, 14,\n",
              "          7, 22, 12, 28, 10, 26, 25,  3, 16, 27, 19,  9],\n",
              "        [25, 26, 27, 21, 22, 19,  0,  6, 20, 13,  2, 18, 23,  8,  5, 29, 14, 28,\n",
              "         17,  4, 15, 24, 11, 12,  7,  3, 10, 16,  1,  9],\n",
              "        [26, 27, 25, 21, 22, 13, 28,  0,  2,  6, 29, 23,  8, 19, 11, 17, 18, 24,\n",
              "         20,  5, 15, 12,  3,  4,  7, 10, 14,  1, 16,  9],\n",
              "        [27, 26, 25, 21, 22, 23, 20,  6, 13, 19,  0, 29, 28,  2,  8, 18,  5, 14,\n",
              "         11,  3,  4, 17, 12, 15, 16, 24,  7, 10,  1,  9],\n",
              "        [28, 13,  6,  7, 23, 26, 18, 24,  0, 11, 29,  8,  9, 22,  3,  2, 25,  4,\n",
              "         17, 20, 27, 10,  5, 12,  1, 16, 19, 15, 21, 14],\n",
              "        [29, 20, 22, 23, 24,  2, 18,  0,  4, 17, 19,  6, 13,  5, 21,  8, 15,  1,\n",
              "          3, 11, 12, 14, 28, 26, 25, 10, 27,  7, 16,  9]]))"
            ]
          },
          "metadata": {},
          "execution_count": 68
        }
      ]
    },
    {
      "cell_type": "code",
      "source": [
        "torch.sum(tensor, dim=0)"
      ],
      "metadata": {
        "colab": {
          "base_uri": "https://localhost:8080/"
        },
        "id": "9ejVVsFjWrn8",
        "outputId": "a4a40e37-3670-4a8f-cb20-558e43793c44"
      },
      "execution_count": 71,
      "outputs": [
        {
          "output_type": "execute_result",
          "data": {
            "text/plain": [
              "tensor([13.8069, 11.4445, 15.5598, 12.7691, 15.9980, 14.3309, 15.6007, 13.2351,\n",
              "        14.3737, 10.5456, 13.1550, 13.9947, 14.5591, 16.2084, 11.7023, 14.4359,\n",
              "        10.4469, 15.1565, 13.9656, 12.1547, 15.1126, 13.8813, 15.3937, 14.6299,\n",
              "        14.3318, 12.9265, 12.5149, 12.3938, 12.0844, 15.3285],\n",
              "       dtype=torch.float64)"
            ]
          },
          "metadata": {},
          "execution_count": 71
        }
      ]
    },
    {
      "cell_type": "code",
      "source": [
        "# least and max similarity templates with others\n",
        "print(df['EventTemplate'][16])\n",
        "print(df['EventTemplate'][13])\n"
      ],
      "metadata": {
        "colab": {
          "base_uri": "https://localhost:8080/"
        },
        "id": "Z-zSWRFsW34R",
        "outputId": "7519bba0-a564-4d70-c79c-3c88ecf29a5c"
      },
      "execution_count": 73,
      "outputs": [
        {
          "output_type": "stream",
          "name": "stdout",
          "text": [
            "<*>:Failed to transfer<*>to<*>got<*>\n",
            "<*>Exception in receiveBlock for block<*>\n"
          ]
        }
      ]
    },
    {
      "cell_type": "code",
      "source": [
        "# max similarity\n",
        "print(df['EventTemplate'][5])\n",
        "print(df['EventTemplate'][4])"
      ],
      "metadata": {
        "colab": {
          "base_uri": "https://localhost:8080/"
        },
        "id": "i7t0LHiAVyHO",
        "outputId": "d416917a-fb4b-42d2-ced6-c10581022ca8"
      },
      "execution_count": 70,
      "outputs": [
        {
          "output_type": "stream",
          "name": "stdout",
          "text": [
            "<*>Received block<*>src:<*>dest:<*>of size<*>\n",
            "<*>Receiving block<*>src:<*>dest:<*>\n"
          ]
        }
      ]
    },
    {
      "cell_type": "code",
      "source": [
        "\n",
        "print(df['EventTemplate'][28])\n",
        "print(df['EventTemplate'][13])"
      ],
      "metadata": {
        "colab": {
          "base_uri": "https://localhost:8080/"
        },
        "id": "fNwIigJ3WOtK",
        "outputId": "7fdb8af5-561a-4a82-8b47-b3f57de9ac2d"
      },
      "execution_count": 67,
      "outputs": [
        {
          "output_type": "stream",
          "name": "stdout",
          "text": [
            "<*>PendingReplicationMonitor timed out block<*>\n",
            "<*>Exception in receiveBlock for block<*>\n"
          ]
        }
      ]
    }
  ],
  "metadata": {
    "colab": {
      "provenance": [],
      "authorship_tag": "ABX9TyMBXNFillbcbXwIa0ciifFM",
      "include_colab_link": true
    },
    "kernelspec": {
      "display_name": "Python 3",
      "name": "python3"
    },
    "language_info": {
      "name": "python"
    }
  },
  "nbformat": 4,
  "nbformat_minor": 0
}