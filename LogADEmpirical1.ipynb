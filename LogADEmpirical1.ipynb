{
  "nbformat": 4,
  "nbformat_minor": 0,
  "metadata": {
    "colab": {
      "provenance": [],
      "authorship_tag": "ABX9TyNKEFVmJg/ipDlT8SALE5mq",
      "include_colab_link": true
    },
    "kernelspec": {
      "name": "python3",
      "display_name": "Python 3"
    },
    "language_info": {
      "name": "python"
    }
  },
  "cells": [
    {
      "cell_type": "markdown",
      "metadata": {
        "id": "view-in-github",
        "colab_type": "text"
      },
      "source": [
        "<a href=\"https://colab.research.google.com/github/mostafa-ja/Anomaly-detection/blob/main/LogADEmpirical1.ipynb\" target=\"_parent\"><img src=\"https://colab.research.google.com/assets/colab-badge.svg\" alt=\"Open In Colab\"/></a>"
      ]
    },
    {
      "cell_type": "markdown",
      "source": [
        "[link text](https://zenodo.org/record/8115559"
      ],
      "metadata": {
        "id": "qJ8vxej2xsQh"
      }
    },
    {
      "cell_type": "markdown",
      "source": [
        "python main_run.py --data_dir ./dataset/HDFS --output_dir ./output/ --model_name DeepLog --dataset_name HDFS --grouping session --window_size 20 --step_size 1 --train_size 0.01 --is_chronological --session_level entry --log_file HDFS.log --batch_size 2048 --lr 0.001 --accumulation_step 1 --optimizer adamw --sequential --history_size 10 --embeddings embeddings_average.json --hidden_size 128 --num_layers 2 --embedding_dim 300 --topk 10 --dropout 0.1 --max_epoch 10\n"
      ],
      "metadata": {
        "id": "WtE3bGOswJAX"
      }
    },
    {
      "cell_type": "markdown",
      "source": [
        "\n",
        "\n",
        "```\n",
        "'HDFS': {  \n",
        "  'log_format': '<Date> <Time> <Pid> <Level> <Component>: <Content>',\n",
        "  'regex': [ r'blk_-?\\d+', r'(\\d+\\.){ 3 }\\d+(:\\d+)?' ]\n",
        "}\n",
        "\n",
        "'HDFS': {\n",
        "  'st': 0.5,\n",
        "  'depth': 4\n",
        "}\n",
        "```\n",
        "\n"
      ],
      "metadata": {
        "id": "33ZA56BG04Gr"
      }
    },
    {
      "cell_type": "code",
      "execution_count": 1,
      "metadata": {
        "colab": {
          "base_uri": "https://localhost:8080/"
        },
        "id": "_bEcdYG1qloS",
        "outputId": "391f00e5-9681-4a72-a8be-6b64e36a8dca"
      },
      "outputs": [
        {
          "output_type": "stream",
          "name": "stdout",
          "text": [
            "--2023-07-21 14:24:26--  https://zenodo.org/record/8115559/files/preprocessed.zip?download=1\n",
            "Resolving zenodo.org (zenodo.org)... 188.185.124.72\n",
            "Connecting to zenodo.org (zenodo.org)|188.185.124.72|:443... connected.\n",
            "HTTP request sent, awaiting response... 200 OK\n",
            "Length: 671284710 (640M) [application/octet-stream]\n",
            "Saving to: ‘preprocessed.zip?download=1’\n",
            "\n",
            "preprocessed.zip?do 100%[===================>] 640.19M   647KB/s    in 17m 32s \n",
            "\n",
            "2023-07-21 14:42:00 (623 KB/s) - ‘preprocessed.zip?download=1’ saved [671284710/671284710]\n",
            "\n"
          ]
        }
      ],
      "source": [
        "!wget 'https://zenodo.org/record/8115559/files/preprocessed.zip?download=1'"
      ]
    },
    {
      "cell_type": "code",
      "source": [
        "!unzip \"/content/preprocessed.zip?download=1\" -d \"/content/\""
      ],
      "metadata": {
        "colab": {
          "base_uri": "https://localhost:8080/"
        },
        "id": "OvtzPgdO2FGV",
        "outputId": "f188793b-3252-4682-8983-97042158c130"
      },
      "execution_count": 2,
      "outputs": [
        {
          "output_type": "stream",
          "name": "stdout",
          "text": [
            "Archive:  /content/preprocessed.zip?download=1\n",
            "   creating: /content/BGL/\n",
            "  inflating: /content/__MACOSX/._BGL  \n",
            "  inflating: /content/BGL/BGL.log_structured.csv  \n",
            "  inflating: /content/__MACOSX/BGL/._BGL.log_structured.csv  \n",
            "  inflating: /content/BGL/BGL_embeddings.h5  \n",
            "  inflating: /content/BGL/embeddings.json  \n",
            "  inflating: /content/__MACOSX/BGL/._embeddings.json  \n",
            "  inflating: /content/BGL/embeddings_tfidf.json  \n",
            "  inflating: /content/BGL/BGL.log_templates.csv  \n",
            "  inflating: /content/BGL/embeddings_average.json  \n",
            "   creating: /content/HDFS/\n",
            "  inflating: /content/__MACOSX/._HDFS  \n",
            "  inflating: /content/HDFS/embeddings.json  \n",
            "  inflating: /content/__MACOSX/HDFS/._embeddings.json  \n",
            "  inflating: /content/HDFS/embeddings_tfidf.json  \n",
            "  inflating: /content/HDFS/HDFS.log_templates.csv  \n",
            "  inflating: /content/HDFS/anomaly_label.csv  \n",
            "  inflating: /content/__MACOSX/HDFS/._anomaly_label.csv  \n",
            "  inflating: /content/HDFS/embeddings_average.json  \n",
            "  inflating: /content/HDFS/HDFS.log_structured.csv  \n",
            "  inflating: /content/__MACOSX/HDFS/._HDFS.log_structured.csv  \n",
            "   creating: /content/Spirit/\n",
            "  inflating: /content/__MACOSX/._Spirit  \n",
            "  inflating: /content/Spirit/embeddings.json  \n",
            "  inflating: /content/__MACOSX/Spirit/._embeddings.json  \n",
            "  inflating: /content/Spirit/Spirit.log_structured.csv  \n",
            "  inflating: /content/__MACOSX/Spirit/._Spirit.log_structured.csv  \n",
            "  inflating: /content/Spirit/embeddings_tfidf.json  \n",
            "  inflating: /content/Spirit/.DS_Store  \n",
            "  inflating: /content/__MACOSX/Spirit/._.DS_Store  \n",
            "  inflating: /content/Spirit/Spirit.log_templates.csv  \n",
            "  inflating: /content/__MACOSX/Spirit/._Spirit.log_templates.csv  \n",
            "  inflating: /content/Spirit/embeddings_average.json  \n",
            "   creating: /content/Thunderbird/\n",
            "  inflating: /content/__MACOSX/._Thunderbird  \n",
            "  inflating: /content/Thunderbird/Thunderbird.log_structured.csv  \n",
            "  inflating: /content/__MACOSX/Thunderbird/._Thunderbird.log_structured.csv  \n",
            "  inflating: /content/Thunderbird/embeddings.json  \n",
            "  inflating: /content/__MACOSX/Thunderbird/._embeddings.json  \n",
            "  inflating: /content/Thunderbird/Thunderbird.log_templates.csv  \n",
            "  inflating: /content/Thunderbird/Thunderbird.log_embeddings_tfidf.json  \n",
            "  inflating: /content/Thunderbird/Thunderbird.log_embeddings_average.json  \n"
          ]
        }
      ]
    },
    {
      "cell_type": "code",
      "source": [
        "!wget 'https://zenodo.org/record/8115559/files/raw.zip?download=1'"
      ],
      "metadata": {
        "colab": {
          "base_uri": "https://localhost:8080/"
        },
        "id": "hLLXBjA17WYZ",
        "outputId": "f4675220-4a9d-41dd-c4c9-1826e62fb7d8"
      },
      "execution_count": 4,
      "outputs": [
        {
          "output_type": "stream",
          "name": "stdout",
          "text": [
            "--2023-07-21 14:50:07--  https://zenodo.org/record/8115559/files/raw.zip?download=1\n",
            "Resolving zenodo.org (zenodo.org)... 188.185.124.72\n",
            "Connecting to zenodo.org (zenodo.org)|188.185.124.72|:443... connected.\n",
            "HTTP request sent, awaiting response... 200 OK\n",
            "Length: 348931642 (333M) [application/octet-stream]\n",
            "Saving to: ‘raw.zip?download=1’\n",
            "\n",
            "raw.zip?download=1  100%[===================>] 332.77M   522KB/s    in 10m 53s \n",
            "\n",
            "2023-07-21 15:01:02 (522 KB/s) - ‘raw.zip?download=1’ saved [348931642/348931642]\n",
            "\n"
          ]
        }
      ]
    },
    {
      "cell_type": "code",
      "source": [
        "# Mount Google Drive\n",
        "from google.colab import drive\n",
        "drive.mount('/content/drive')"
      ],
      "metadata": {
        "colab": {
          "base_uri": "https://localhost:8080/"
        },
        "id": "T0DfNouZ65w1",
        "outputId": "3c937796-b89b-4f02-c3bf-9bf6cc7bef21"
      },
      "execution_count": 3,
      "outputs": [
        {
          "output_type": "stream",
          "name": "stdout",
          "text": [
            "Mounted at /content/drive\n"
          ]
        }
      ]
    },
    {
      "cell_type": "code",
      "source": [
        "!unzip \"/content/raw.zip?download=1\" -d \"/content/\""
      ],
      "metadata": {
        "colab": {
          "base_uri": "https://localhost:8080/"
        },
        "id": "OD6SNms67-Vn",
        "outputId": "be393e82-0856-4f2a-9b39-5702fccf7ef1"
      },
      "execution_count": 5,
      "outputs": [
        {
          "output_type": "stream",
          "name": "stdout",
          "text": [
            "Archive:  /content/raw.zip?download=1\n",
            "  inflating: /content/Thunderbird.log  \n",
            "   creating: /content/HDFS/\n",
            "  inflating: /content/HDFS/anomaly_label.csv  \n",
            "  inflating: /content/HDFS/HDFS.log  \n",
            "  inflating: /content/BGL.log        \n",
            "  inflating: /content/Spirit.log     \n"
          ]
        }
      ]
    },
    {
      "cell_type": "markdown",
      "source": [
        "# Parsing"
      ],
      "metadata": {
        "id": "2c7DhTZVDOij"
      }
    },
    {
      "cell_type": "code",
      "source": [
        "\n",
        "import sys\n",
        "sys.path.append('/content/') #to be able for importing libarary(drain)from this address\n",
        "import Drain\n",
        "import pandas as pd\n",
        "import numpy as np\n"
      ],
      "metadata": {
        "id": "8PvIUIIr-9zc"
      },
      "execution_count": 1,
      "outputs": []
    },
    {
      "cell_type": "code",
      "source": [
        "#copy HDFS.log from google drive to current directory\n",
        "\n",
        "!cp '/content/drive/MyDrive/HDFS/RAW_HDFS/HDFS.log' '/content/'\n"
      ],
      "metadata": {
        "id": "EMoh3iSMEUYd"
      },
      "execution_count": 10,
      "outputs": []
    },
    {
      "cell_type": "code",
      "source": [
        "#Take a quick look at the first lines of the raw log:\n",
        "\n",
        "with open('/content/HDFS.log', \"r\") as file:\n",
        "  n = 0\n",
        "  for line in file:\n",
        "    print(line)\n",
        "    n += 1\n",
        "    if n == 5:\n",
        "      break"
      ],
      "metadata": {
        "colab": {
          "base_uri": "https://localhost:8080/"
        },
        "id": "Dbpi4pfSIcIJ",
        "outputId": "20a9c365-e1b4-40fb-a8a6-634f78808ecf"
      },
      "execution_count": 14,
      "outputs": [
        {
          "output_type": "stream",
          "name": "stdout",
          "text": [
            "081109 203518 143 INFO dfs.DataNode$DataXceiver: Receiving block blk_-1608999687919862906 src: /10.250.19.102:54106 dest: /10.250.19.102:50010\n",
            "\n",
            "081109 203518 35 INFO dfs.FSNamesystem: BLOCK* NameSystem.allocateBlock: /mnt/hadoop/mapred/system/job_200811092030_0001/job.jar. blk_-1608999687919862906\n",
            "\n",
            "081109 203519 143 INFO dfs.DataNode$DataXceiver: Receiving block blk_-1608999687919862906 src: /10.250.10.6:40524 dest: /10.250.10.6:50010\n",
            "\n",
            "081109 203519 145 INFO dfs.DataNode$DataXceiver: Receiving block blk_-1608999687919862906 src: /10.250.14.224:42420 dest: /10.250.14.224:50010\n",
            "\n",
            "081109 203519 145 INFO dfs.DataNode$PacketResponder: PacketResponder 1 for block blk_-1608999687919862906 terminating\n",
            "\n"
          ]
        }
      ]
    },
    {
      "cell_type": "markdown",
      "source": [
        "regex list: This list contains regular expressions used for optional preprocessing of log messages before parsing. Each regular expression in the list is applied to log messages to replace specific patterns with placeholders, simplifying the parsing process.\n",
        "\n",
        "r'blk_-?\\d+': This regular expression matches patterns like \"blk_12345\" or \"blk_-6789\" where \"blk_\" is followed by an optional \"-\" and then a sequence of digits. These patterns are often block IDs in HDFS logs, and they are replaced with a placeholder.\n",
        "\n",
        "r'(\\d+.){3}\\d+(:\\d+)?': This regular expression matches IP addresses with optional port numbers. For example, it matches patterns like \"192.168.1.1:8080\" or \"10.0.0.1\". IP addresses are common in log messages and are replaced with a placeholder as well."
      ],
      "metadata": {
        "id": "LPQJuaXkOj-D"
      }
    },
    {
      "cell_type": "code",
      "source": [
        "\n",
        "input_dir  = '/content/'  # The input directory of log file\n",
        "output_dir = 'Drain_result/'  # The output directory of parsing results\n",
        "log_file   = 'HDFS.log'  # The input log file name\n",
        "log_format = \"<Date> <Time> <Pid> <Level> <Component>: <Content>\"  # HDFS log format\n",
        "# Regular expression list for optional preprocessing (default: [])\n",
        "\n",
        "regex      = [\n",
        "    r'blk_(|-)[0-9]+' , # block id\n",
        "    r'(/|)([0-9]+\\.){3}[0-9]+(:[0-9]+|)(:|)', # IP\n",
        "    r'(?<=[^A-Za-z0-9])(\\-?\\+?\\d+)(?=[^A-Za-z0-9])|[0-9]+$', # Numbers\n",
        "]\n",
        "st         = 0.5  # Similarity threshold\n",
        "depth      = 4  # Depth of all leaf nodes\n",
        "\n",
        "#keep_para=True >> we will also have ParameterList column contains parameters which are removed\n",
        "parser = Drain.LogParser(log_format, indir=input_dir, outdir=output_dir,  depth=depth, st=st, rex=regex, keep_para=True)\n",
        "parser.parse(log_file)\n",
        ""
      ],
      "metadata": {
        "colab": {
          "base_uri": "https://localhost:8080/"
        },
        "id": "tk0p-jacDHxd",
        "outputId": "7d736501-9b3c-4c68-bdb6-8a5f6668d09b"
      },
      "execution_count": 20,
      "outputs": [
        {
          "output_type": "stream",
          "name": "stdout",
          "text": [
            "Parsing file: /content/HDFS.log\n",
            "Total size after encoding is 11175629 11175629\n",
            "Parsing done. [Time taken: 0:32:31.827373]\n"
          ]
        }
      ]
    },
    {
      "cell_type": "code",
      "source": [
        "df_parsedlog = pd.read_csv('/content/Drain_result/HDFS.log_structured.csv')\n",
        "df_parsedlog.head()"
      ],
      "metadata": {
        "colab": {
          "base_uri": "https://localhost:8080/",
          "height": 406
        },
        "id": "WMLerslsEAKo",
        "outputId": "7629d7a0-c37b-4250-c5f9-74dabe7daff9"
      },
      "execution_count": 21,
      "outputs": [
        {
          "output_type": "execute_result",
          "data": {
            "text/plain": [
              "   LineId   Date    Time  Pid Level                     Component  \\\n",
              "0       1  81109  203518  143  INFO      dfs.DataNode$DataXceiver   \n",
              "1       2  81109  203518   35  INFO              dfs.FSNamesystem   \n",
              "2       3  81109  203519  143  INFO      dfs.DataNode$DataXceiver   \n",
              "3       4  81109  203519  145  INFO      dfs.DataNode$DataXceiver   \n",
              "4       5  81109  203519  145  INFO  dfs.DataNode$PacketResponder   \n",
              "\n",
              "                                             Content   EventId  \\\n",
              "0  Receiving block blk_-1608999687919862906 src: ...  09a53393   \n",
              "1  BLOCK* NameSystem.allocateBlock: /mnt/hadoop/m...  3d91fa85   \n",
              "2  Receiving block blk_-1608999687919862906 src: ...  09a53393   \n",
              "3  Receiving block blk_-1608999687919862906 src: ...  09a53393   \n",
              "4  PacketResponder 1 for block blk_-1608999687919...  d38aa58d   \n",
              "\n",
              "                              EventTemplate ParameterList  \n",
              "0    Receiving block <*> src: <*> dest: <*>            []  \n",
              "1  BLOCK* NameSystem.allocateBlock: <*> <*>            []  \n",
              "2    Receiving block <*> src: <*> dest: <*>            []  \n",
              "3    Receiving block <*> src: <*> dest: <*>            []  \n",
              "4     PacketResponder <*> for block <*> <*>            []  "
            ],
            "text/html": [
              "\n",
              "\n",
              "  <div id=\"df-1a977254-5e4f-4c3d-84c4-1d487be22cdd\">\n",
              "    <div class=\"colab-df-container\">\n",
              "      <div>\n",
              "<style scoped>\n",
              "    .dataframe tbody tr th:only-of-type {\n",
              "        vertical-align: middle;\n",
              "    }\n",
              "\n",
              "    .dataframe tbody tr th {\n",
              "        vertical-align: top;\n",
              "    }\n",
              "\n",
              "    .dataframe thead th {\n",
              "        text-align: right;\n",
              "    }\n",
              "</style>\n",
              "<table border=\"1\" class=\"dataframe\">\n",
              "  <thead>\n",
              "    <tr style=\"text-align: right;\">\n",
              "      <th></th>\n",
              "      <th>LineId</th>\n",
              "      <th>Date</th>\n",
              "      <th>Time</th>\n",
              "      <th>Pid</th>\n",
              "      <th>Level</th>\n",
              "      <th>Component</th>\n",
              "      <th>Content</th>\n",
              "      <th>EventId</th>\n",
              "      <th>EventTemplate</th>\n",
              "      <th>ParameterList</th>\n",
              "    </tr>\n",
              "  </thead>\n",
              "  <tbody>\n",
              "    <tr>\n",
              "      <th>0</th>\n",
              "      <td>1</td>\n",
              "      <td>81109</td>\n",
              "      <td>203518</td>\n",
              "      <td>143</td>\n",
              "      <td>INFO</td>\n",
              "      <td>dfs.DataNode$DataXceiver</td>\n",
              "      <td>Receiving block blk_-1608999687919862906 src: ...</td>\n",
              "      <td>09a53393</td>\n",
              "      <td>Receiving block &lt;*&gt; src: &lt;*&gt; dest: &lt;*&gt;</td>\n",
              "      <td>[]</td>\n",
              "    </tr>\n",
              "    <tr>\n",
              "      <th>1</th>\n",
              "      <td>2</td>\n",
              "      <td>81109</td>\n",
              "      <td>203518</td>\n",
              "      <td>35</td>\n",
              "      <td>INFO</td>\n",
              "      <td>dfs.FSNamesystem</td>\n",
              "      <td>BLOCK* NameSystem.allocateBlock: /mnt/hadoop/m...</td>\n",
              "      <td>3d91fa85</td>\n",
              "      <td>BLOCK* NameSystem.allocateBlock: &lt;*&gt; &lt;*&gt;</td>\n",
              "      <td>[]</td>\n",
              "    </tr>\n",
              "    <tr>\n",
              "      <th>2</th>\n",
              "      <td>3</td>\n",
              "      <td>81109</td>\n",
              "      <td>203519</td>\n",
              "      <td>143</td>\n",
              "      <td>INFO</td>\n",
              "      <td>dfs.DataNode$DataXceiver</td>\n",
              "      <td>Receiving block blk_-1608999687919862906 src: ...</td>\n",
              "      <td>09a53393</td>\n",
              "      <td>Receiving block &lt;*&gt; src: &lt;*&gt; dest: &lt;*&gt;</td>\n",
              "      <td>[]</td>\n",
              "    </tr>\n",
              "    <tr>\n",
              "      <th>3</th>\n",
              "      <td>4</td>\n",
              "      <td>81109</td>\n",
              "      <td>203519</td>\n",
              "      <td>145</td>\n",
              "      <td>INFO</td>\n",
              "      <td>dfs.DataNode$DataXceiver</td>\n",
              "      <td>Receiving block blk_-1608999687919862906 src: ...</td>\n",
              "      <td>09a53393</td>\n",
              "      <td>Receiving block &lt;*&gt; src: &lt;*&gt; dest: &lt;*&gt;</td>\n",
              "      <td>[]</td>\n",
              "    </tr>\n",
              "    <tr>\n",
              "      <th>4</th>\n",
              "      <td>5</td>\n",
              "      <td>81109</td>\n",
              "      <td>203519</td>\n",
              "      <td>145</td>\n",
              "      <td>INFO</td>\n",
              "      <td>dfs.DataNode$PacketResponder</td>\n",
              "      <td>PacketResponder 1 for block blk_-1608999687919...</td>\n",
              "      <td>d38aa58d</td>\n",
              "      <td>PacketResponder &lt;*&gt; for block &lt;*&gt; &lt;*&gt;</td>\n",
              "      <td>[]</td>\n",
              "    </tr>\n",
              "  </tbody>\n",
              "</table>\n",
              "</div>\n",
              "      <button class=\"colab-df-convert\" onclick=\"convertToInteractive('df-1a977254-5e4f-4c3d-84c4-1d487be22cdd')\"\n",
              "              title=\"Convert this dataframe to an interactive table.\"\n",
              "              style=\"display:none;\">\n",
              "\n",
              "  <svg xmlns=\"http://www.w3.org/2000/svg\" height=\"24px\"viewBox=\"0 0 24 24\"\n",
              "       width=\"24px\">\n",
              "    <path d=\"M0 0h24v24H0V0z\" fill=\"none\"/>\n",
              "    <path d=\"M18.56 5.44l.94 2.06.94-2.06 2.06-.94-2.06-.94-.94-2.06-.94 2.06-2.06.94zm-11 1L8.5 8.5l.94-2.06 2.06-.94-2.06-.94L8.5 2.5l-.94 2.06-2.06.94zm10 10l.94 2.06.94-2.06 2.06-.94-2.06-.94-.94-2.06-.94 2.06-2.06.94z\"/><path d=\"M17.41 7.96l-1.37-1.37c-.4-.4-.92-.59-1.43-.59-.52 0-1.04.2-1.43.59L10.3 9.45l-7.72 7.72c-.78.78-.78 2.05 0 2.83L4 21.41c.39.39.9.59 1.41.59.51 0 1.02-.2 1.41-.59l7.78-7.78 2.81-2.81c.8-.78.8-2.07 0-2.86zM5.41 20L4 18.59l7.72-7.72 1.47 1.35L5.41 20z\"/>\n",
              "  </svg>\n",
              "      </button>\n",
              "\n",
              "\n",
              "\n",
              "    <div id=\"df-dd709e57-08e9-4a6d-a1e0-adb5e01c7178\">\n",
              "      <button class=\"colab-df-quickchart\" onclick=\"quickchart('df-dd709e57-08e9-4a6d-a1e0-adb5e01c7178')\"\n",
              "              title=\"Suggest charts.\"\n",
              "              style=\"display:none;\">\n",
              "\n",
              "<svg xmlns=\"http://www.w3.org/2000/svg\" height=\"24px\"viewBox=\"0 0 24 24\"\n",
              "     width=\"24px\">\n",
              "    <g>\n",
              "        <path d=\"M19 3H5c-1.1 0-2 .9-2 2v14c0 1.1.9 2 2 2h14c1.1 0 2-.9 2-2V5c0-1.1-.9-2-2-2zM9 17H7v-7h2v7zm4 0h-2V7h2v10zm4 0h-2v-4h2v4z\"/>\n",
              "    </g>\n",
              "</svg>\n",
              "      </button>\n",
              "    </div>\n",
              "\n",
              "<style>\n",
              "  .colab-df-quickchart {\n",
              "    background-color: #E8F0FE;\n",
              "    border: none;\n",
              "    border-radius: 50%;\n",
              "    cursor: pointer;\n",
              "    display: none;\n",
              "    fill: #1967D2;\n",
              "    height: 32px;\n",
              "    padding: 0 0 0 0;\n",
              "    width: 32px;\n",
              "  }\n",
              "\n",
              "  .colab-df-quickchart:hover {\n",
              "    background-color: #E2EBFA;\n",
              "    box-shadow: 0px 1px 2px rgba(60, 64, 67, 0.3), 0px 1px 3px 1px rgba(60, 64, 67, 0.15);\n",
              "    fill: #174EA6;\n",
              "  }\n",
              "\n",
              "  [theme=dark] .colab-df-quickchart {\n",
              "    background-color: #3B4455;\n",
              "    fill: #D2E3FC;\n",
              "  }\n",
              "\n",
              "  [theme=dark] .colab-df-quickchart:hover {\n",
              "    background-color: #434B5C;\n",
              "    box-shadow: 0px 1px 3px 1px rgba(0, 0, 0, 0.15);\n",
              "    filter: drop-shadow(0px 1px 2px rgba(0, 0, 0, 0.3));\n",
              "    fill: #FFFFFF;\n",
              "  }\n",
              "</style>\n",
              "\n",
              "    <script>\n",
              "      async function quickchart(key) {\n",
              "        const containerElement = document.querySelector('#' + key);\n",
              "        const charts = await google.colab.kernel.invokeFunction(\n",
              "            'suggestCharts', [key], {});\n",
              "      }\n",
              "    </script>\n",
              "\n",
              "      <script>\n",
              "\n",
              "function displayQuickchartButton(domScope) {\n",
              "  let quickchartButtonEl =\n",
              "    domScope.querySelector('#df-dd709e57-08e9-4a6d-a1e0-adb5e01c7178 button.colab-df-quickchart');\n",
              "  quickchartButtonEl.style.display =\n",
              "    google.colab.kernel.accessAllowed ? 'block' : 'none';\n",
              "}\n",
              "\n",
              "        displayQuickchartButton(document);\n",
              "      </script>\n",
              "      <style>\n",
              "    .colab-df-container {\n",
              "      display:flex;\n",
              "      flex-wrap:wrap;\n",
              "      gap: 12px;\n",
              "    }\n",
              "\n",
              "    .colab-df-convert {\n",
              "      background-color: #E8F0FE;\n",
              "      border: none;\n",
              "      border-radius: 50%;\n",
              "      cursor: pointer;\n",
              "      display: none;\n",
              "      fill: #1967D2;\n",
              "      height: 32px;\n",
              "      padding: 0 0 0 0;\n",
              "      width: 32px;\n",
              "    }\n",
              "\n",
              "    .colab-df-convert:hover {\n",
              "      background-color: #E2EBFA;\n",
              "      box-shadow: 0px 1px 2px rgba(60, 64, 67, 0.3), 0px 1px 3px 1px rgba(60, 64, 67, 0.15);\n",
              "      fill: #174EA6;\n",
              "    }\n",
              "\n",
              "    [theme=dark] .colab-df-convert {\n",
              "      background-color: #3B4455;\n",
              "      fill: #D2E3FC;\n",
              "    }\n",
              "\n",
              "    [theme=dark] .colab-df-convert:hover {\n",
              "      background-color: #434B5C;\n",
              "      box-shadow: 0px 1px 3px 1px rgba(0, 0, 0, 0.15);\n",
              "      filter: drop-shadow(0px 1px 2px rgba(0, 0, 0, 0.3));\n",
              "      fill: #FFFFFF;\n",
              "    }\n",
              "  </style>\n",
              "\n",
              "      <script>\n",
              "        const buttonEl =\n",
              "          document.querySelector('#df-1a977254-5e4f-4c3d-84c4-1d487be22cdd button.colab-df-convert');\n",
              "        buttonEl.style.display =\n",
              "          google.colab.kernel.accessAllowed ? 'block' : 'none';\n",
              "\n",
              "        async function convertToInteractive(key) {\n",
              "          const element = document.querySelector('#df-1a977254-5e4f-4c3d-84c4-1d487be22cdd');\n",
              "          const dataTable =\n",
              "            await google.colab.kernel.invokeFunction('convertToInteractive',\n",
              "                                                     [key], {});\n",
              "          if (!dataTable) return;\n",
              "\n",
              "          const docLinkHtml = 'Like what you see? Visit the ' +\n",
              "            '<a target=\"_blank\" href=https://colab.research.google.com/notebooks/data_table.ipynb>data table notebook</a>'\n",
              "            + ' to learn more about interactive tables.';\n",
              "          element.innerHTML = '';\n",
              "          dataTable['output_type'] = 'display_data';\n",
              "          await google.colab.output.renderOutput(dataTable, element);\n",
              "          const docLink = document.createElement('div');\n",
              "          docLink.innerHTML = docLinkHtml;\n",
              "          element.appendChild(docLink);\n",
              "        }\n",
              "      </script>\n",
              "    </div>\n",
              "  </div>\n"
            ]
          },
          "metadata": {},
          "execution_count": 21
        }
      ]
    },
    {
      "cell_type": "code",
      "source": [
        "df_parsedlog2 = pd.read_csv('/content/drive/MyDrive/HDFS/HDFS.log_structured.csv')\n",
        "df_parsedlog2.head()"
      ],
      "metadata": {
        "colab": {
          "base_uri": "https://localhost:8080/",
          "height": 444
        },
        "id": "HLofP6bEL-GO",
        "outputId": "7d2a1f4a-33ea-4881-ad38-3449ecac694d"
      },
      "execution_count": 2,
      "outputs": [
        {
          "output_type": "execute_result",
          "data": {
            "text/plain": [
              "   LineId   Date    Time  Pid Level                     Component  \\\n",
              "0       1  81109  203518  143  INFO      dfs.DataNode$DataXceiver   \n",
              "1       2  81109  203518   35  INFO              dfs.FSNamesystem   \n",
              "2       3  81109  203519  143  INFO      dfs.DataNode$DataXceiver   \n",
              "3       4  81109  203519  145  INFO      dfs.DataNode$DataXceiver   \n",
              "4       5  81109  203519  145  INFO  dfs.DataNode$PacketResponder   \n",
              "\n",
              "                                             Content   EventId  \\\n",
              "0  Receiving block blk_-1608999687919862906 src: ...  bbb51b95   \n",
              "1  BLOCK* NameSystem.allocateBlock: /mnt/hadoop/m...  3d91fa85   \n",
              "2  Receiving block blk_-1608999687919862906 src: ...  bbb51b95   \n",
              "3  Receiving block blk_-1608999687919862906 src: ...  bbb51b95   \n",
              "4  PacketResponder 1 for block blk_-1608999687919...  d38aa58d   \n",
              "\n",
              "                              EventTemplate  \\\n",
              "0  Receiving block <*> src: /<*> dest: /<*>   \n",
              "1  BLOCK* NameSystem.allocateBlock: <*> <*>   \n",
              "2  Receiving block <*> src: /<*> dest: /<*>   \n",
              "3  Receiving block <*> src: /<*> dest: /<*>   \n",
              "4     PacketResponder <*> for block <*> <*>   \n",
              "\n",
              "                                       ParameterList  \n",
              "0  ['blk_-1608999687919862906', '10.250.19.102:54...  \n",
              "1  ['/mnt/hadoop/mapred/system/job_200811092030_0...  \n",
              "2  ['blk_-1608999687919862906', '10.250.10.6:4052...  \n",
              "3  ['blk_-1608999687919862906', '10.250.14.224:42...  \n",
              "4      ['1', 'blk_-1608999687919862906 terminating']  "
            ],
            "text/html": [
              "\n",
              "\n",
              "  <div id=\"df-293fe703-a921-4993-9c5b-c8a0553e8370\">\n",
              "    <div class=\"colab-df-container\">\n",
              "      <div>\n",
              "<style scoped>\n",
              "    .dataframe tbody tr th:only-of-type {\n",
              "        vertical-align: middle;\n",
              "    }\n",
              "\n",
              "    .dataframe tbody tr th {\n",
              "        vertical-align: top;\n",
              "    }\n",
              "\n",
              "    .dataframe thead th {\n",
              "        text-align: right;\n",
              "    }\n",
              "</style>\n",
              "<table border=\"1\" class=\"dataframe\">\n",
              "  <thead>\n",
              "    <tr style=\"text-align: right;\">\n",
              "      <th></th>\n",
              "      <th>LineId</th>\n",
              "      <th>Date</th>\n",
              "      <th>Time</th>\n",
              "      <th>Pid</th>\n",
              "      <th>Level</th>\n",
              "      <th>Component</th>\n",
              "      <th>Content</th>\n",
              "      <th>EventId</th>\n",
              "      <th>EventTemplate</th>\n",
              "      <th>ParameterList</th>\n",
              "    </tr>\n",
              "  </thead>\n",
              "  <tbody>\n",
              "    <tr>\n",
              "      <th>0</th>\n",
              "      <td>1</td>\n",
              "      <td>81109</td>\n",
              "      <td>203518</td>\n",
              "      <td>143</td>\n",
              "      <td>INFO</td>\n",
              "      <td>dfs.DataNode$DataXceiver</td>\n",
              "      <td>Receiving block blk_-1608999687919862906 src: ...</td>\n",
              "      <td>bbb51b95</td>\n",
              "      <td>Receiving block &lt;*&gt; src: /&lt;*&gt; dest: /&lt;*&gt;</td>\n",
              "      <td>['blk_-1608999687919862906', '10.250.19.102:54...</td>\n",
              "    </tr>\n",
              "    <tr>\n",
              "      <th>1</th>\n",
              "      <td>2</td>\n",
              "      <td>81109</td>\n",
              "      <td>203518</td>\n",
              "      <td>35</td>\n",
              "      <td>INFO</td>\n",
              "      <td>dfs.FSNamesystem</td>\n",
              "      <td>BLOCK* NameSystem.allocateBlock: /mnt/hadoop/m...</td>\n",
              "      <td>3d91fa85</td>\n",
              "      <td>BLOCK* NameSystem.allocateBlock: &lt;*&gt; &lt;*&gt;</td>\n",
              "      <td>['/mnt/hadoop/mapred/system/job_200811092030_0...</td>\n",
              "    </tr>\n",
              "    <tr>\n",
              "      <th>2</th>\n",
              "      <td>3</td>\n",
              "      <td>81109</td>\n",
              "      <td>203519</td>\n",
              "      <td>143</td>\n",
              "      <td>INFO</td>\n",
              "      <td>dfs.DataNode$DataXceiver</td>\n",
              "      <td>Receiving block blk_-1608999687919862906 src: ...</td>\n",
              "      <td>bbb51b95</td>\n",
              "      <td>Receiving block &lt;*&gt; src: /&lt;*&gt; dest: /&lt;*&gt;</td>\n",
              "      <td>['blk_-1608999687919862906', '10.250.10.6:4052...</td>\n",
              "    </tr>\n",
              "    <tr>\n",
              "      <th>3</th>\n",
              "      <td>4</td>\n",
              "      <td>81109</td>\n",
              "      <td>203519</td>\n",
              "      <td>145</td>\n",
              "      <td>INFO</td>\n",
              "      <td>dfs.DataNode$DataXceiver</td>\n",
              "      <td>Receiving block blk_-1608999687919862906 src: ...</td>\n",
              "      <td>bbb51b95</td>\n",
              "      <td>Receiving block &lt;*&gt; src: /&lt;*&gt; dest: /&lt;*&gt;</td>\n",
              "      <td>['blk_-1608999687919862906', '10.250.14.224:42...</td>\n",
              "    </tr>\n",
              "    <tr>\n",
              "      <th>4</th>\n",
              "      <td>5</td>\n",
              "      <td>81109</td>\n",
              "      <td>203519</td>\n",
              "      <td>145</td>\n",
              "      <td>INFO</td>\n",
              "      <td>dfs.DataNode$PacketResponder</td>\n",
              "      <td>PacketResponder 1 for block blk_-1608999687919...</td>\n",
              "      <td>d38aa58d</td>\n",
              "      <td>PacketResponder &lt;*&gt; for block &lt;*&gt; &lt;*&gt;</td>\n",
              "      <td>['1', 'blk_-1608999687919862906 terminating']</td>\n",
              "    </tr>\n",
              "  </tbody>\n",
              "</table>\n",
              "</div>\n",
              "      <button class=\"colab-df-convert\" onclick=\"convertToInteractive('df-293fe703-a921-4993-9c5b-c8a0553e8370')\"\n",
              "              title=\"Convert this dataframe to an interactive table.\"\n",
              "              style=\"display:none;\">\n",
              "\n",
              "  <svg xmlns=\"http://www.w3.org/2000/svg\" height=\"24px\"viewBox=\"0 0 24 24\"\n",
              "       width=\"24px\">\n",
              "    <path d=\"M0 0h24v24H0V0z\" fill=\"none\"/>\n",
              "    <path d=\"M18.56 5.44l.94 2.06.94-2.06 2.06-.94-2.06-.94-.94-2.06-.94 2.06-2.06.94zm-11 1L8.5 8.5l.94-2.06 2.06-.94-2.06-.94L8.5 2.5l-.94 2.06-2.06.94zm10 10l.94 2.06.94-2.06 2.06-.94-2.06-.94-.94-2.06-.94 2.06-2.06.94z\"/><path d=\"M17.41 7.96l-1.37-1.37c-.4-.4-.92-.59-1.43-.59-.52 0-1.04.2-1.43.59L10.3 9.45l-7.72 7.72c-.78.78-.78 2.05 0 2.83L4 21.41c.39.39.9.59 1.41.59.51 0 1.02-.2 1.41-.59l7.78-7.78 2.81-2.81c.8-.78.8-2.07 0-2.86zM5.41 20L4 18.59l7.72-7.72 1.47 1.35L5.41 20z\"/>\n",
              "  </svg>\n",
              "      </button>\n",
              "\n",
              "\n",
              "\n",
              "    <div id=\"df-b0e2ef36-013c-4502-ab9d-f83f1173b044\">\n",
              "      <button class=\"colab-df-quickchart\" onclick=\"quickchart('df-b0e2ef36-013c-4502-ab9d-f83f1173b044')\"\n",
              "              title=\"Suggest charts.\"\n",
              "              style=\"display:none;\">\n",
              "\n",
              "<svg xmlns=\"http://www.w3.org/2000/svg\" height=\"24px\"viewBox=\"0 0 24 24\"\n",
              "     width=\"24px\">\n",
              "    <g>\n",
              "        <path d=\"M19 3H5c-1.1 0-2 .9-2 2v14c0 1.1.9 2 2 2h14c1.1 0 2-.9 2-2V5c0-1.1-.9-2-2-2zM9 17H7v-7h2v7zm4 0h-2V7h2v10zm4 0h-2v-4h2v4z\"/>\n",
              "    </g>\n",
              "</svg>\n",
              "      </button>\n",
              "    </div>\n",
              "\n",
              "<style>\n",
              "  .colab-df-quickchart {\n",
              "    background-color: #E8F0FE;\n",
              "    border: none;\n",
              "    border-radius: 50%;\n",
              "    cursor: pointer;\n",
              "    display: none;\n",
              "    fill: #1967D2;\n",
              "    height: 32px;\n",
              "    padding: 0 0 0 0;\n",
              "    width: 32px;\n",
              "  }\n",
              "\n",
              "  .colab-df-quickchart:hover {\n",
              "    background-color: #E2EBFA;\n",
              "    box-shadow: 0px 1px 2px rgba(60, 64, 67, 0.3), 0px 1px 3px 1px rgba(60, 64, 67, 0.15);\n",
              "    fill: #174EA6;\n",
              "  }\n",
              "\n",
              "  [theme=dark] .colab-df-quickchart {\n",
              "    background-color: #3B4455;\n",
              "    fill: #D2E3FC;\n",
              "  }\n",
              "\n",
              "  [theme=dark] .colab-df-quickchart:hover {\n",
              "    background-color: #434B5C;\n",
              "    box-shadow: 0px 1px 3px 1px rgba(0, 0, 0, 0.15);\n",
              "    filter: drop-shadow(0px 1px 2px rgba(0, 0, 0, 0.3));\n",
              "    fill: #FFFFFF;\n",
              "  }\n",
              "</style>\n",
              "\n",
              "    <script>\n",
              "      async function quickchart(key) {\n",
              "        const containerElement = document.querySelector('#' + key);\n",
              "        const charts = await google.colab.kernel.invokeFunction(\n",
              "            'suggestCharts', [key], {});\n",
              "      }\n",
              "    </script>\n",
              "\n",
              "      <script>\n",
              "\n",
              "function displayQuickchartButton(domScope) {\n",
              "  let quickchartButtonEl =\n",
              "    domScope.querySelector('#df-b0e2ef36-013c-4502-ab9d-f83f1173b044 button.colab-df-quickchart');\n",
              "  quickchartButtonEl.style.display =\n",
              "    google.colab.kernel.accessAllowed ? 'block' : 'none';\n",
              "}\n",
              "\n",
              "        displayQuickchartButton(document);\n",
              "      </script>\n",
              "      <style>\n",
              "    .colab-df-container {\n",
              "      display:flex;\n",
              "      flex-wrap:wrap;\n",
              "      gap: 12px;\n",
              "    }\n",
              "\n",
              "    .colab-df-convert {\n",
              "      background-color: #E8F0FE;\n",
              "      border: none;\n",
              "      border-radius: 50%;\n",
              "      cursor: pointer;\n",
              "      display: none;\n",
              "      fill: #1967D2;\n",
              "      height: 32px;\n",
              "      padding: 0 0 0 0;\n",
              "      width: 32px;\n",
              "    }\n",
              "\n",
              "    .colab-df-convert:hover {\n",
              "      background-color: #E2EBFA;\n",
              "      box-shadow: 0px 1px 2px rgba(60, 64, 67, 0.3), 0px 1px 3px 1px rgba(60, 64, 67, 0.15);\n",
              "      fill: #174EA6;\n",
              "    }\n",
              "\n",
              "    [theme=dark] .colab-df-convert {\n",
              "      background-color: #3B4455;\n",
              "      fill: #D2E3FC;\n",
              "    }\n",
              "\n",
              "    [theme=dark] .colab-df-convert:hover {\n",
              "      background-color: #434B5C;\n",
              "      box-shadow: 0px 1px 3px 1px rgba(0, 0, 0, 0.15);\n",
              "      filter: drop-shadow(0px 1px 2px rgba(0, 0, 0, 0.3));\n",
              "      fill: #FFFFFF;\n",
              "    }\n",
              "  </style>\n",
              "\n",
              "      <script>\n",
              "        const buttonEl =\n",
              "          document.querySelector('#df-293fe703-a921-4993-9c5b-c8a0553e8370 button.colab-df-convert');\n",
              "        buttonEl.style.display =\n",
              "          google.colab.kernel.accessAllowed ? 'block' : 'none';\n",
              "\n",
              "        async function convertToInteractive(key) {\n",
              "          const element = document.querySelector('#df-293fe703-a921-4993-9c5b-c8a0553e8370');\n",
              "          const dataTable =\n",
              "            await google.colab.kernel.invokeFunction('convertToInteractive',\n",
              "                                                     [key], {});\n",
              "          if (!dataTable) return;\n",
              "\n",
              "          const docLinkHtml = 'Like what you see? Visit the ' +\n",
              "            '<a target=\"_blank\" href=https://colab.research.google.com/notebooks/data_table.ipynb>data table notebook</a>'\n",
              "            + ' to learn more about interactive tables.';\n",
              "          element.innerHTML = '';\n",
              "          dataTable['output_type'] = 'display_data';\n",
              "          await google.colab.output.renderOutput(dataTable, element);\n",
              "          const docLink = document.createElement('div');\n",
              "          docLink.innerHTML = docLinkHtml;\n",
              "          element.appendChild(docLink);\n",
              "        }\n",
              "      </script>\n",
              "    </div>\n",
              "  </div>\n"
            ]
          },
          "metadata": {},
          "execution_count": 2
        }
      ]
    },
    {
      "cell_type": "markdown",
      "source": [
        "# Generate_embeddings"
      ],
      "metadata": {
        "id": "KsXyyAnYXAPq"
      }
    },
    {
      "cell_type": "code",
      "source": [
        "!wget 'https://dl.fbaipublicfiles.com/fasttext/vectors-english/crawl-300d-2M.vec.zip & unzip crawl-300d-2M.vec.zip'\n"
      ],
      "metadata": {
        "id": "yvhQJR1bWqb0"
      },
      "execution_count": null,
      "outputs": []
    },
    {
      "cell_type": "code",
      "source": [
        "import sys\n",
        "\n",
        "import pandas as pd\n",
        "import numpy as np\n",
        "import re\n",
        "from nltk.corpus import stopwords\n",
        "from nltk.tokenize import RegexpTokenizer\n",
        "from sklearn.feature_extraction.text import TfidfTransformer\n",
        "from sklearn.feature_extraction.text import CountVectorizer\n",
        "import gensim\n",
        "from typing import List\n",
        "from time import time\n",
        "import json"
      ],
      "metadata": {
        "id": "CjYovyDRXMg2"
      },
      "execution_count": null,
      "outputs": []
    },
    {
      "cell_type": "markdown",
      "source": [
        "The r'\\w+' regular expression matches sequences of alphanumeric characters and underscores. This means that any word containing only letters, digits, or underscores will be treated as a token, and all other characters (e.g., punctuation) will be ignored."
      ],
      "metadata": {
        "id": "px0LozxZZPxU"
      }
    },
    {
      "cell_type": "code",
      "source": [
        "# EXAMPLE\n",
        "import re\n",
        "\n",
        "text = \"The quick:brown_fox_jumps dog@19 #x!sd877 \"\n",
        "matches = re.findall(r'\\w+', text)\n",
        "print(matches)"
      ],
      "metadata": {
        "id": "18lrEzMDY9EQ"
      },
      "execution_count": null,
      "outputs": []
    },
    {
      "cell_type": "code",
      "source": [
        "print(\"Loading word2vec model...\")\n",
        "st = time()\n",
        "word2vec_model = gensim.models.KeyedVectors.load_word2vec_format('./crawl-300d-2M.vec', binary=False)\n",
        "stop_words = set(stopwords.words('english'))\n",
        "tokenizer = RegexpTokenizer(r'\\w+')\n",
        "print(\"Loaded word2vec model in {:.2f} seconds\".format(time() - st))"
      ],
      "metadata": {
        "id": "RrRP1PGQXNW9"
      },
      "execution_count": null,
      "outputs": []
    },
    {
      "cell_type": "code",
      "source": [
        "# remove stop word and  punctuation, split by camel case\n",
        "def clean_template(template: str, remove_stop_words: bool = True):\n",
        "    template = \" \".join([word.lower() if word.isupper() else word for word in template.strip().split()])\n",
        "    template = re.sub('[A-Z]', lambda x: \" \" + x.group(0), template)  # camel case\n",
        "    word_tokens = tokenizer.tokenize(template)  # tokenize\n",
        "    word_tokens = [w for w in word_tokens if not w.isdigit()]  # remove digital\n",
        "    if remove_stop_words:  # remove stop words, we can close this function\n",
        "        filtered_sentence = [w.lower() for w in word_tokens if w not in stop_words]\n",
        "    else:\n",
        "        filtered_sentence = [w.lower() for w in word_tokens]\n",
        "\n",
        "    template_clean = \" \".join(filtered_sentence)\n",
        "    return template_clean  # return string\n"
      ],
      "metadata": {
        "id": "a1XSJ7eJZfWl"
      },
      "execution_count": null,
      "outputs": []
    }
  ]
}