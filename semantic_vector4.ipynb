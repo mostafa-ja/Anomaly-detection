{
  "nbformat": 4,
  "nbformat_minor": 0,
  "metadata": {
    "colab": {
      "provenance": [],
      "authorship_tag": "ABX9TyPxUsqBcSDEF8dG1mN+YT70",
      "include_colab_link": true
    },
    "kernelspec": {
      "name": "python3",
      "display_name": "Python 3"
    },
    "language_info": {
      "name": "python"
    }
  },
  "cells": [
    {
      "cell_type": "markdown",
      "metadata": {
        "id": "view-in-github",
        "colab_type": "text"
      },
      "source": [
        "<a href=\"https://colab.research.google.com/github/mostafa-ja/Anomaly-detection/blob/main/semantic_vector4.ipynb\" target=\"_parent\"><img src=\"https://colab.research.google.com/assets/colab-badge.svg\" alt=\"Open In Colab\"/></a>"
      ]
    },
    {
      "cell_type": "markdown",
      "source": [
        "[Pretrained sentence-transformers models](https://www.sbert.net/docs/pretrained_models.html)\n",
        "\n",
        "[Our chosen light model in hugging face](https://huggingface.co/sentence-transformers/all-MiniLM-L6-v2)\n",
        "\n",
        "[ Convert a collection of raw documents to a matrix of TF-IDF features ](https://scikit-learn.org/stable/modules/generated/sklearn.feature_extraction.text.TfidfVectorizer.html\n",
        ")"
      ],
      "metadata": {
        "id": "hVl38Zow856S"
      }
    },
    {
      "cell_type": "code",
      "source": [
        "!pip install -U sentence-transformers\n"
      ],
      "metadata": {
        "colab": {
          "base_uri": "https://localhost:8080/"
        },
        "id": "Sboow_Yr6mP-",
        "outputId": "9e33b39c-8c05-4d46-c95d-da0ffd9d22a5"
      },
      "execution_count": 7,
      "outputs": [
        {
          "output_type": "stream",
          "name": "stdout",
          "text": [
            "Requirement already satisfied: sentence-transformers in /usr/local/lib/python3.10/dist-packages (2.2.2)\n",
            "Requirement already satisfied: transformers<5.0.0,>=4.6.0 in /usr/local/lib/python3.10/dist-packages (from sentence-transformers) (4.30.2)\n",
            "Requirement already satisfied: tqdm in /usr/local/lib/python3.10/dist-packages (from sentence-transformers) (4.65.0)\n",
            "Requirement already satisfied: torch>=1.6.0 in /usr/local/lib/python3.10/dist-packages (from sentence-transformers) (2.0.1+cu118)\n",
            "Requirement already satisfied: torchvision in /usr/local/lib/python3.10/dist-packages (from sentence-transformers) (0.15.2+cu118)\n",
            "Requirement already satisfied: numpy in /usr/local/lib/python3.10/dist-packages (from sentence-transformers) (1.22.4)\n",
            "Requirement already satisfied: scikit-learn in /usr/local/lib/python3.10/dist-packages (from sentence-transformers) (1.2.2)\n",
            "Requirement already satisfied: scipy in /usr/local/lib/python3.10/dist-packages (from sentence-transformers) (1.10.1)\n",
            "Requirement already satisfied: nltk in /usr/local/lib/python3.10/dist-packages (from sentence-transformers) (3.8.1)\n",
            "Requirement already satisfied: sentencepiece in /usr/local/lib/python3.10/dist-packages (from sentence-transformers) (0.1.99)\n",
            "Requirement already satisfied: huggingface-hub>=0.4.0 in /usr/local/lib/python3.10/dist-packages (from sentence-transformers) (0.16.4)\n",
            "Requirement already satisfied: filelock in /usr/local/lib/python3.10/dist-packages (from huggingface-hub>=0.4.0->sentence-transformers) (3.12.2)\n",
            "Requirement already satisfied: fsspec in /usr/local/lib/python3.10/dist-packages (from huggingface-hub>=0.4.0->sentence-transformers) (2023.6.0)\n",
            "Requirement already satisfied: requests in /usr/local/lib/python3.10/dist-packages (from huggingface-hub>=0.4.0->sentence-transformers) (2.27.1)\n",
            "Requirement already satisfied: pyyaml>=5.1 in /usr/local/lib/python3.10/dist-packages (from huggingface-hub>=0.4.0->sentence-transformers) (6.0)\n",
            "Requirement already satisfied: typing-extensions>=3.7.4.3 in /usr/local/lib/python3.10/dist-packages (from huggingface-hub>=0.4.0->sentence-transformers) (4.7.1)\n",
            "Requirement already satisfied: packaging>=20.9 in /usr/local/lib/python3.10/dist-packages (from huggingface-hub>=0.4.0->sentence-transformers) (23.1)\n",
            "Requirement already satisfied: sympy in /usr/local/lib/python3.10/dist-packages (from torch>=1.6.0->sentence-transformers) (1.11.1)\n",
            "Requirement already satisfied: networkx in /usr/local/lib/python3.10/dist-packages (from torch>=1.6.0->sentence-transformers) (3.1)\n",
            "Requirement already satisfied: jinja2 in /usr/local/lib/python3.10/dist-packages (from torch>=1.6.0->sentence-transformers) (3.1.2)\n",
            "Requirement already satisfied: triton==2.0.0 in /usr/local/lib/python3.10/dist-packages (from torch>=1.6.0->sentence-transformers) (2.0.0)\n",
            "Requirement already satisfied: cmake in /usr/local/lib/python3.10/dist-packages (from triton==2.0.0->torch>=1.6.0->sentence-transformers) (3.25.2)\n",
            "Requirement already satisfied: lit in /usr/local/lib/python3.10/dist-packages (from triton==2.0.0->torch>=1.6.0->sentence-transformers) (16.0.6)\n",
            "Requirement already satisfied: regex!=2019.12.17 in /usr/local/lib/python3.10/dist-packages (from transformers<5.0.0,>=4.6.0->sentence-transformers) (2022.10.31)\n",
            "Requirement already satisfied: tokenizers!=0.11.3,<0.14,>=0.11.1 in /usr/local/lib/python3.10/dist-packages (from transformers<5.0.0,>=4.6.0->sentence-transformers) (0.13.3)\n",
            "Requirement already satisfied: safetensors>=0.3.1 in /usr/local/lib/python3.10/dist-packages (from transformers<5.0.0,>=4.6.0->sentence-transformers) (0.3.1)\n",
            "Requirement already satisfied: click in /usr/local/lib/python3.10/dist-packages (from nltk->sentence-transformers) (8.1.4)\n",
            "Requirement already satisfied: joblib in /usr/local/lib/python3.10/dist-packages (from nltk->sentence-transformers) (1.3.1)\n",
            "Requirement already satisfied: threadpoolctl>=2.0.0 in /usr/local/lib/python3.10/dist-packages (from scikit-learn->sentence-transformers) (3.1.0)\n",
            "Requirement already satisfied: pillow!=8.3.*,>=5.3.0 in /usr/local/lib/python3.10/dist-packages (from torchvision->sentence-transformers) (8.4.0)\n",
            "Requirement already satisfied: MarkupSafe>=2.0 in /usr/local/lib/python3.10/dist-packages (from jinja2->torch>=1.6.0->sentence-transformers) (2.1.3)\n",
            "Requirement already satisfied: urllib3<1.27,>=1.21.1 in /usr/local/lib/python3.10/dist-packages (from requests->huggingface-hub>=0.4.0->sentence-transformers) (1.26.16)\n",
            "Requirement already satisfied: certifi>=2017.4.17 in /usr/local/lib/python3.10/dist-packages (from requests->huggingface-hub>=0.4.0->sentence-transformers) (2023.5.7)\n",
            "Requirement already satisfied: charset-normalizer~=2.0.0 in /usr/local/lib/python3.10/dist-packages (from requests->huggingface-hub>=0.4.0->sentence-transformers) (2.0.12)\n",
            "Requirement already satisfied: idna<4,>=2.5 in /usr/local/lib/python3.10/dist-packages (from requests->huggingface-hub>=0.4.0->sentence-transformers) (3.4)\n",
            "Requirement already satisfied: mpmath>=0.19 in /usr/local/lib/python3.10/dist-packages (from sympy->torch>=1.6.0->sentence-transformers) (1.3.0)\n"
          ]
        }
      ]
    },
    {
      "cell_type": "code",
      "execution_count": 16,
      "metadata": {
        "colab": {
          "base_uri": "https://localhost:8080/"
        },
        "id": "V6W7INZP6Vr0",
        "outputId": "6e56ced1-7bde-4029-9d8a-bf37765bbc5b"
      },
      "outputs": [
        {
          "output_type": "stream",
          "name": "stderr",
          "text": [
            "[nltk_data] Downloading package wordnet to /root/nltk_data...\n",
            "[nltk_data]   Package wordnet is already up-to-date!\n",
            "[nltk_data] Downloading package punkt to /root/nltk_data...\n",
            "[nltk_data]   Package punkt is already up-to-date!\n",
            "[nltk_data] Downloading package stopwords to /root/nltk_data...\n",
            "[nltk_data]   Unzipping corpora/stopwords.zip.\n"
          ]
        },
        {
          "output_type": "execute_result",
          "data": {
            "text/plain": [
              "True"
            ]
          },
          "metadata": {},
          "execution_count": 16
        }
      ],
      "source": [
        "from sklearn.feature_extraction.text import TfidfVectorizer\n",
        "from sentence_transformers import SentenceTransformer, util  #util for importing cosine similarity\n",
        "import numpy as np\n",
        "import re\n",
        "import pandas as pd\n",
        "\n",
        "import nltk\n",
        "from nltk.corpus import stopwords\n",
        "from nltk.tokenize import word_tokenize\n",
        "from nltk.stem import WordNetLemmatizer\n",
        "nltk.download(\"wordnet\")\n",
        "nltk.download('punkt')\n",
        "nltk.download('stopwords')"
      ]
    },
    {
      "cell_type": "code",
      "source": [
        "# Read log templates file into a DataFrame\n",
        "df = pd.read_csv('/content/HDFS_templates.csv')\n",
        "df.head(3)"
      ],
      "metadata": {
        "colab": {
          "base_uri": "https://localhost:8080/",
          "height": 143
        },
        "id": "k2PeSUbxNaYv",
        "outputId": "3b0738d7-35bb-4a86-f4bc-43c61fb5cc8b"
      },
      "execution_count": 9,
      "outputs": [
        {
          "output_type": "execute_result",
          "data": {
            "text/plain": [
              "  EventId                           EventTemplate\n",
              "0      E1  <*>Adding an already existing block<*>\n",
              "1      E2        <*>Verification succeeded for<*>\n",
              "2      E3                 <*>Served block<*>to<*>"
            ],
            "text/html": [
              "\n",
              "\n",
              "  <div id=\"df-fce398ca-8dda-4487-ad7a-9a58e26d28d9\">\n",
              "    <div class=\"colab-df-container\">\n",
              "      <div>\n",
              "<style scoped>\n",
              "    .dataframe tbody tr th:only-of-type {\n",
              "        vertical-align: middle;\n",
              "    }\n",
              "\n",
              "    .dataframe tbody tr th {\n",
              "        vertical-align: top;\n",
              "    }\n",
              "\n",
              "    .dataframe thead th {\n",
              "        text-align: right;\n",
              "    }\n",
              "</style>\n",
              "<table border=\"1\" class=\"dataframe\">\n",
              "  <thead>\n",
              "    <tr style=\"text-align: right;\">\n",
              "      <th></th>\n",
              "      <th>EventId</th>\n",
              "      <th>EventTemplate</th>\n",
              "    </tr>\n",
              "  </thead>\n",
              "  <tbody>\n",
              "    <tr>\n",
              "      <th>0</th>\n",
              "      <td>E1</td>\n",
              "      <td>&lt;*&gt;Adding an already existing block&lt;*&gt;</td>\n",
              "    </tr>\n",
              "    <tr>\n",
              "      <th>1</th>\n",
              "      <td>E2</td>\n",
              "      <td>&lt;*&gt;Verification succeeded for&lt;*&gt;</td>\n",
              "    </tr>\n",
              "    <tr>\n",
              "      <th>2</th>\n",
              "      <td>E3</td>\n",
              "      <td>&lt;*&gt;Served block&lt;*&gt;to&lt;*&gt;</td>\n",
              "    </tr>\n",
              "  </tbody>\n",
              "</table>\n",
              "</div>\n",
              "      <button class=\"colab-df-convert\" onclick=\"convertToInteractive('df-fce398ca-8dda-4487-ad7a-9a58e26d28d9')\"\n",
              "              title=\"Convert this dataframe to an interactive table.\"\n",
              "              style=\"display:none;\">\n",
              "\n",
              "  <svg xmlns=\"http://www.w3.org/2000/svg\" height=\"24px\"viewBox=\"0 0 24 24\"\n",
              "       width=\"24px\">\n",
              "    <path d=\"M0 0h24v24H0V0z\" fill=\"none\"/>\n",
              "    <path d=\"M18.56 5.44l.94 2.06.94-2.06 2.06-.94-2.06-.94-.94-2.06-.94 2.06-2.06.94zm-11 1L8.5 8.5l.94-2.06 2.06-.94-2.06-.94L8.5 2.5l-.94 2.06-2.06.94zm10 10l.94 2.06.94-2.06 2.06-.94-2.06-.94-.94-2.06-.94 2.06-2.06.94z\"/><path d=\"M17.41 7.96l-1.37-1.37c-.4-.4-.92-.59-1.43-.59-.52 0-1.04.2-1.43.59L10.3 9.45l-7.72 7.72c-.78.78-.78 2.05 0 2.83L4 21.41c.39.39.9.59 1.41.59.51 0 1.02-.2 1.41-.59l7.78-7.78 2.81-2.81c.8-.78.8-2.07 0-2.86zM5.41 20L4 18.59l7.72-7.72 1.47 1.35L5.41 20z\"/>\n",
              "  </svg>\n",
              "      </button>\n",
              "\n",
              "\n",
              "\n",
              "    <div id=\"df-af53018c-81cb-4b1f-a811-48c0a48508ac\">\n",
              "      <button class=\"colab-df-quickchart\" onclick=\"quickchart('df-af53018c-81cb-4b1f-a811-48c0a48508ac')\"\n",
              "              title=\"Suggest charts.\"\n",
              "              style=\"display:none;\">\n",
              "\n",
              "<svg xmlns=\"http://www.w3.org/2000/svg\" height=\"24px\"viewBox=\"0 0 24 24\"\n",
              "     width=\"24px\">\n",
              "    <g>\n",
              "        <path d=\"M19 3H5c-1.1 0-2 .9-2 2v14c0 1.1.9 2 2 2h14c1.1 0 2-.9 2-2V5c0-1.1-.9-2-2-2zM9 17H7v-7h2v7zm4 0h-2V7h2v10zm4 0h-2v-4h2v4z\"/>\n",
              "    </g>\n",
              "</svg>\n",
              "      </button>\n",
              "    </div>\n",
              "\n",
              "<style>\n",
              "  .colab-df-quickchart {\n",
              "    background-color: #E8F0FE;\n",
              "    border: none;\n",
              "    border-radius: 50%;\n",
              "    cursor: pointer;\n",
              "    display: none;\n",
              "    fill: #1967D2;\n",
              "    height: 32px;\n",
              "    padding: 0 0 0 0;\n",
              "    width: 32px;\n",
              "  }\n",
              "\n",
              "  .colab-df-quickchart:hover {\n",
              "    background-color: #E2EBFA;\n",
              "    box-shadow: 0px 1px 2px rgba(60, 64, 67, 0.3), 0px 1px 3px 1px rgba(60, 64, 67, 0.15);\n",
              "    fill: #174EA6;\n",
              "  }\n",
              "\n",
              "  [theme=dark] .colab-df-quickchart {\n",
              "    background-color: #3B4455;\n",
              "    fill: #D2E3FC;\n",
              "  }\n",
              "\n",
              "  [theme=dark] .colab-df-quickchart:hover {\n",
              "    background-color: #434B5C;\n",
              "    box-shadow: 0px 1px 3px 1px rgba(0, 0, 0, 0.15);\n",
              "    filter: drop-shadow(0px 1px 2px rgba(0, 0, 0, 0.3));\n",
              "    fill: #FFFFFF;\n",
              "  }\n",
              "</style>\n",
              "\n",
              "    <script>\n",
              "      async function quickchart(key) {\n",
              "        const containerElement = document.querySelector('#' + key);\n",
              "        const charts = await google.colab.kernel.invokeFunction(\n",
              "            'suggestCharts', [key], {});\n",
              "      }\n",
              "    </script>\n",
              "\n",
              "      <script>\n",
              "\n",
              "function displayQuickchartButton(domScope) {\n",
              "  let quickchartButtonEl =\n",
              "    domScope.querySelector('#df-af53018c-81cb-4b1f-a811-48c0a48508ac button.colab-df-quickchart');\n",
              "  quickchartButtonEl.style.display =\n",
              "    google.colab.kernel.accessAllowed ? 'block' : 'none';\n",
              "}\n",
              "\n",
              "        displayQuickchartButton(document);\n",
              "      </script>\n",
              "      <style>\n",
              "    .colab-df-container {\n",
              "      display:flex;\n",
              "      flex-wrap:wrap;\n",
              "      gap: 12px;\n",
              "    }\n",
              "\n",
              "    .colab-df-convert {\n",
              "      background-color: #E8F0FE;\n",
              "      border: none;\n",
              "      border-radius: 50%;\n",
              "      cursor: pointer;\n",
              "      display: none;\n",
              "      fill: #1967D2;\n",
              "      height: 32px;\n",
              "      padding: 0 0 0 0;\n",
              "      width: 32px;\n",
              "    }\n",
              "\n",
              "    .colab-df-convert:hover {\n",
              "      background-color: #E2EBFA;\n",
              "      box-shadow: 0px 1px 2px rgba(60, 64, 67, 0.3), 0px 1px 3px 1px rgba(60, 64, 67, 0.15);\n",
              "      fill: #174EA6;\n",
              "    }\n",
              "\n",
              "    [theme=dark] .colab-df-convert {\n",
              "      background-color: #3B4455;\n",
              "      fill: #D2E3FC;\n",
              "    }\n",
              "\n",
              "    [theme=dark] .colab-df-convert:hover {\n",
              "      background-color: #434B5C;\n",
              "      box-shadow: 0px 1px 3px 1px rgba(0, 0, 0, 0.15);\n",
              "      filter: drop-shadow(0px 1px 2px rgba(0, 0, 0, 0.3));\n",
              "      fill: #FFFFFF;\n",
              "    }\n",
              "  </style>\n",
              "\n",
              "      <script>\n",
              "        const buttonEl =\n",
              "          document.querySelector('#df-fce398ca-8dda-4487-ad7a-9a58e26d28d9 button.colab-df-convert');\n",
              "        buttonEl.style.display =\n",
              "          google.colab.kernel.accessAllowed ? 'block' : 'none';\n",
              "\n",
              "        async function convertToInteractive(key) {\n",
              "          const element = document.querySelector('#df-fce398ca-8dda-4487-ad7a-9a58e26d28d9');\n",
              "          const dataTable =\n",
              "            await google.colab.kernel.invokeFunction('convertToInteractive',\n",
              "                                                     [key], {});\n",
              "          if (!dataTable) return;\n",
              "\n",
              "          const docLinkHtml = 'Like what you see? Visit the ' +\n",
              "            '<a target=\"_blank\" href=https://colab.research.google.com/notebooks/data_table.ipynb>data table notebook</a>'\n",
              "            + ' to learn more about interactive tables.';\n",
              "          element.innerHTML = '';\n",
              "          dataTable['output_type'] = 'display_data';\n",
              "          await google.colab.output.renderOutput(dataTable, element);\n",
              "          const docLink = document.createElement('div');\n",
              "          docLink.innerHTML = docLinkHtml;\n",
              "          element.appendChild(docLink);\n",
              "        }\n",
              "      </script>\n",
              "    </div>\n",
              "  </div>\n"
            ]
          },
          "metadata": {},
          "execution_count": 9
        }
      ]
    },
    {
      "cell_type": "code",
      "source": [
        "stop_words = set(stopwords.words('english'))\n",
        "\n",
        "def normalize_template(text):\n",
        "  \"\"\"\n",
        "  Normalize text to extract most salient tokens\n",
        "  \"\"\"\n",
        "  # replace special characters with space and remove digits\n",
        "  text = re.sub(r'\\W+', ' ', text) # replaces one or more non-alphanumeric characters (\\W+) with a single space in the text\n",
        "  text = re.sub('\\d', '', text)    #  replaces any digit (\\d) with an empty string in the text\n",
        "\n",
        "\n",
        "  word_tokens = word_tokenize(text)\n",
        "\n",
        "  # converts the words in word_tokens to lower case and then checks whether\n",
        "  #they are present in stop_words or not\n",
        "  lemmatizer = WordNetLemmatizer()\n",
        "  normalized_tokens = [lemmatizer.lemmatize(w.lower(), pos='v') for w in word_tokens if w not in stop_words]\n",
        "\n",
        "  # Reconstruct the sentence\n",
        "  filtered_sentence = ' '.join(normalized_tokens) # our output will be sentences not a list of words\n",
        "  return filtered_sentence"
      ],
      "metadata": {
        "id": "iPnZBeeLNxFr"
      },
      "execution_count": 17,
      "outputs": []
    },
    {
      "cell_type": "code",
      "source": [
        "example_sent = '<*>BLOCK* NameSystem<*>addStoredBlock: addStoredBlock request received for<*>on<*>size<*>But it does not belong to any file remove  removing removed. '\n",
        "normalize_template(example_sent)"
      ],
      "metadata": {
        "colab": {
          "base_uri": "https://localhost:8080/",
          "height": 36
        },
        "id": "pJxK8sTSN20M",
        "outputId": "6c3f1203-efb1-401a-f680-2e081fc782b9"
      },
      "execution_count": 18,
      "outputs": [
        {
          "output_type": "execute_result",
          "data": {
            "text/plain": [
              "'block namesystem addstoredblock addstoredblock request receive size but belong file remove remove remove'"
            ],
            "application/vnd.google.colaboratory.intrinsic+json": {
              "type": "string"
            }
          },
          "metadata": {},
          "execution_count": 18
        }
      ]
    },
    {
      "cell_type": "code",
      "source": [
        "normalized_templates = [normalize_template(sentence) for sentence in df['EventTemplate'] ]\n",
        "print(normalized_templates)"
      ],
      "metadata": {
        "colab": {
          "base_uri": "https://localhost:8080/"
        },
        "id": "M5R6g26UON5A",
        "outputId": "d52676e0-5638-446b-ed96-090f1d9b5d2f"
      },
      "execution_count": 21,
      "outputs": [
        {
          "output_type": "stream",
          "name": "stdout",
          "text": [
            "['add already exist block', 'verification succeed', 'serve block', 'get exception serve', 'receive block src dest', 'receive block src dest size', 'writeblock receive exception', 'packetresponder block interrupt', 'receive block size', 'packetresponder exception', 'packetresponder block terminate', 'exception write block mirror', 'receive empty packet block', 'exception receiveblock block', 'change block file offset block meta file offset', 'transmit block', 'fail transfer get', 'start thread transfer block', 'reopen block', 'unexpected error try delete block blockinfo find volumemap', 'delete block file', 'block namesystem allocateblock', 'block namesystem delete add invalidset', 'block remove block neededreplications belong file', 'block ask replicate', 'block namesystem addstoredblock blockmap update add size', 'block namesystem addstoredblock redundant addstoredblock request receive size', 'block namesystem addstoredblock addstoredblock request receive size but belong file', 'pendingreplicationmonitor time block', 'block ask delete']\n"
          ]
        }
      ]
    },
    {
      "cell_type": "code",
      "source": [
        "# Create TF-IDF vectorizer\n",
        "tfidf_vectorizer = TfidfVectorizer()\n",
        "\n",
        "# Compute TF-IDF features\n",
        "tfidf_features = tfidf_vectorizer.fit_transform(normalized_templates)\n",
        "\n",
        "# Access the TF-IDF feature matrix\n",
        "print(tfidf_features.toarray().shape)"
      ],
      "metadata": {
        "colab": {
          "base_uri": "https://localhost:8080/"
        },
        "id": "XtpbumNLOdrK",
        "outputId": "54ed892e-3987-448a-a296-6fcaa0956ed0"
      },
      "execution_count": 22,
      "outputs": [
        {
          "output_type": "stream",
          "name": "stdout",
          "text": [
            "(30, 55)\n"
          ]
        }
      ]
    },
    {
      "cell_type": "code",
      "source": [
        "tfidf_vectorizer.vocabulary_"
      ],
      "metadata": {
        "colab": {
          "base_uri": "https://localhost:8080/"
        },
        "id": "iMEgUUTbOemw",
        "outputId": "3a7e22e7-7c1d-483f-afb0-df87321adc69"
      },
      "execution_count": 23,
      "outputs": [
        {
          "output_type": "execute_result",
          "data": {
            "text/plain": [
              "{'add': 0,\n",
              " 'already': 3,\n",
              " 'exist': 16,\n",
              " 'block': 6,\n",
              " 'verification': 51,\n",
              " 'succeed': 42,\n",
              " 'serve': 38,\n",
              " 'get': 20,\n",
              " 'exception': 15,\n",
              " 'receive': 31,\n",
              " 'src': 40,\n",
              " 'dest': 12,\n",
              " 'size': 39,\n",
              " 'writeblock': 54,\n",
              " 'packetresponder': 29,\n",
              " 'interrupt': 21,\n",
              " 'terminate': 43,\n",
              " 'write': 53,\n",
              " 'mirror': 24,\n",
              " 'empty': 13,\n",
              " 'packet': 28,\n",
              " 'receiveblock': 32,\n",
              " 'change': 10,\n",
              " 'file': 18,\n",
              " 'offset': 27,\n",
              " 'meta': 23,\n",
              " 'transmit': 47,\n",
              " 'fail': 17,\n",
              " 'transfer': 46,\n",
              " 'start': 41,\n",
              " 'thread': 44,\n",
              " 'reopen': 35,\n",
              " 'unexpected': 49,\n",
              " 'error': 14,\n",
              " 'try': 48,\n",
              " 'delete': 11,\n",
              " 'blockinfo': 7,\n",
              " 'find': 19,\n",
              " 'volumemap': 52,\n",
              " 'namesystem': 25,\n",
              " 'allocateblock': 2,\n",
              " 'invalidset': 22,\n",
              " 'remove': 34,\n",
              " 'neededreplications': 26,\n",
              " 'belong': 5,\n",
              " 'ask': 4,\n",
              " 'replicate': 36,\n",
              " 'addstoredblock': 1,\n",
              " 'blockmap': 8,\n",
              " 'update': 50,\n",
              " 'redundant': 33,\n",
              " 'request': 37,\n",
              " 'but': 9,\n",
              " 'pendingreplicationmonitor': 30,\n",
              " 'time': 45}"
            ]
          },
          "metadata": {},
          "execution_count": 23
        }
      ]
    },
    {
      "cell_type": "code",
      "source": [
        "normalized_templates[0]"
      ],
      "metadata": {
        "colab": {
          "base_uri": "https://localhost:8080/",
          "height": 36
        },
        "id": "KZacE99IOzdm",
        "outputId": "d48b09be-2be2-48b9-ff3d-0f0e7c07b448"
      },
      "execution_count": 25,
      "outputs": [
        {
          "output_type": "execute_result",
          "data": {
            "text/plain": [
              "'add already exist block'"
            ],
            "application/vnd.google.colaboratory.intrinsic+json": {
              "type": "string"
            }
          },
          "metadata": {},
          "execution_count": 25
        }
      ]
    },
    {
      "cell_type": "code",
      "source": [
        "model = SentenceTransformer('sentence-transformers/all-MiniLM-L6-v2')"
      ],
      "metadata": {
        "id": "XGrN9cvjR8su"
      },
      "execution_count": 32,
      "outputs": []
    },
    {
      "cell_type": "code",
      "source": [
        "dic = tfidf_vectorizer.vocabulary_\n",
        "matrix_weight = tfidf_features.toarray()\n",
        "\n",
        "dic_templates = {}\n",
        "\n",
        "for i, sentence in enumerate(normalized_templates):\n",
        "  vector = np.zeros(384) # same shape of embedding word : model.encode(word).shape\n",
        "  for word in sentence.split():\n",
        "    j = dic[word]\n",
        "    vector += matrix_weight[i,j] * model.encode(word)\n",
        "  dic_templates[i] = vector"
      ],
      "metadata": {
        "id": "cEioEwlrRxLz"
      },
      "execution_count": 31,
      "outputs": []
    },
    {
      "cell_type": "code",
      "source": [
        "normalized_templates[0]"
      ],
      "metadata": {
        "colab": {
          "base_uri": "https://localhost:8080/",
          "height": 36
        },
        "id": "k6xClCw-SD-r",
        "outputId": "8d7e2e12-c18c-4cc4-9d99-c45fb6801c35"
      },
      "execution_count": 33,
      "outputs": [
        {
          "output_type": "execute_result",
          "data": {
            "text/plain": [
              "'add already exist block'"
            ],
            "application/vnd.google.colaboratory.intrinsic+json": {
              "type": "string"
            }
          },
          "metadata": {},
          "execution_count": 33
        }
      ]
    },
    {
      "cell_type": "code",
      "source": [
        "matrix_weight[0]"
      ],
      "metadata": {
        "colab": {
          "base_uri": "https://localhost:8080/"
        },
        "id": "P7YpUnhyOz9y",
        "outputId": "42a5f818-10e9-47ce-bf0c-d66475354cc4"
      },
      "execution_count": 34,
      "outputs": [
        {
          "output_type": "execute_result",
          "data": {
            "text/plain": [
              "array([0.49016957, 0.        , 0.        , 0.6016505 , 0.        ,\n",
              "       0.        , 0.18912202, 0.        , 0.        , 0.        ,\n",
              "       0.        , 0.        , 0.        , 0.        , 0.        ,\n",
              "       0.        , 0.6016505 , 0.        , 0.        , 0.        ,\n",
              "       0.        , 0.        , 0.        , 0.        , 0.        ,\n",
              "       0.        , 0.        , 0.        , 0.        , 0.        ,\n",
              "       0.        , 0.        , 0.        , 0.        , 0.        ,\n",
              "       0.        , 0.        , 0.        , 0.        , 0.        ,\n",
              "       0.        , 0.        , 0.        , 0.        , 0.        ,\n",
              "       0.        , 0.        , 0.        , 0.        , 0.        ,\n",
              "       0.        , 0.        , 0.        , 0.        , 0.        ])"
            ]
          },
          "metadata": {},
          "execution_count": 34
        }
      ]
    },
    {
      "cell_type": "code",
      "source": [
        "dic_templates[0].shape"
      ],
      "metadata": {
        "colab": {
          "base_uri": "https://localhost:8080/"
        },
        "id": "A2CyYA52SH1l",
        "outputId": "15487549-c792-4994-f455-99906170af08"
      },
      "execution_count": 36,
      "outputs": [
        {
          "output_type": "execute_result",
          "data": {
            "text/plain": [
              "(384,)"
            ]
          },
          "metadata": {},
          "execution_count": 36
        }
      ]
    },
    {
      "cell_type": "code",
      "source": [
        "for i in range(30):\n",
        "  print(\"Similarity:\", util.cos_sim(dic_templates[0], dic_templates[i]))\n",
        "  print(normalized_templates[0])\n",
        "  print(normalized_templates[i])\n",
        "  print('------------------------------------')"
      ],
      "metadata": {
        "colab": {
          "base_uri": "https://localhost:8080/"
        },
        "id": "kzNx611USQ5H",
        "outputId": "c9fafa50-8d81-45db-8cb1-d7a4e728ad4d"
      },
      "execution_count": 37,
      "outputs": [
        {
          "output_type": "stream",
          "name": "stdout",
          "text": [
            "Similarity: tensor([[1.0000]], dtype=torch.float64)\n",
            "add already exist block\n",
            "add already exist block\n",
            "------------------------------------\n",
            "Similarity: tensor([[0.4779]], dtype=torch.float64)\n",
            "add already exist block\n",
            "verification succeed\n",
            "------------------------------------\n",
            "Similarity: tensor([[0.4161]], dtype=torch.float64)\n",
            "add already exist block\n",
            "serve block\n",
            "------------------------------------\n",
            "Similarity: tensor([[0.5236]], dtype=torch.float64)\n",
            "add already exist block\n",
            "get exception serve\n",
            "------------------------------------\n",
            "Similarity: tensor([[0.5459]], dtype=torch.float64)\n",
            "add already exist block\n",
            "receive block src dest\n",
            "------------------------------------\n",
            "Similarity: tensor([[0.5706]], dtype=torch.float64)\n",
            "add already exist block\n",
            "receive block src dest size\n",
            "------------------------------------\n",
            "Similarity: tensor([[0.5051]], dtype=torch.float64)\n",
            "add already exist block\n",
            "writeblock receive exception\n",
            "------------------------------------\n",
            "Similarity: tensor([[0.3108]], dtype=torch.float64)\n",
            "add already exist block\n",
            "packetresponder block interrupt\n",
            "------------------------------------\n",
            "Similarity: tensor([[0.5653]], dtype=torch.float64)\n",
            "add already exist block\n",
            "receive block size\n",
            "------------------------------------\n",
            "Similarity: tensor([[0.2851]], dtype=torch.float64)\n",
            "add already exist block\n",
            "packetresponder exception\n",
            "------------------------------------\n",
            "Similarity: tensor([[0.3634]], dtype=torch.float64)\n",
            "add already exist block\n",
            "packetresponder block terminate\n",
            "------------------------------------\n",
            "Similarity: tensor([[0.5358]], dtype=torch.float64)\n",
            "add already exist block\n",
            "exception write block mirror\n",
            "------------------------------------\n",
            "Similarity: tensor([[0.5481]], dtype=torch.float64)\n",
            "add already exist block\n",
            "receive empty packet block\n",
            "------------------------------------\n",
            "Similarity: tensor([[0.4566]], dtype=torch.float64)\n",
            "add already exist block\n",
            "exception receiveblock block\n",
            "------------------------------------\n",
            "Similarity: tensor([[0.4904]], dtype=torch.float64)\n",
            "add already exist block\n",
            "change block file offset block meta file offset\n",
            "------------------------------------\n",
            "Similarity: tensor([[0.3214]], dtype=torch.float64)\n",
            "add already exist block\n",
            "transmit block\n",
            "------------------------------------\n",
            "Similarity: tensor([[0.5524]], dtype=torch.float64)\n",
            "add already exist block\n",
            "fail transfer get\n",
            "------------------------------------\n",
            "Similarity: tensor([[0.6023]], dtype=torch.float64)\n",
            "add already exist block\n",
            "start thread transfer block\n",
            "------------------------------------\n",
            "Similarity: tensor([[0.4632]], dtype=torch.float64)\n",
            "add already exist block\n",
            "reopen block\n",
            "------------------------------------\n",
            "Similarity: tensor([[0.6644]], dtype=torch.float64)\n",
            "add already exist block\n",
            "unexpected error try delete block blockinfo find volumemap\n",
            "------------------------------------\n",
            "Similarity: tensor([[0.5682]], dtype=torch.float64)\n",
            "add already exist block\n",
            "delete block file\n",
            "------------------------------------\n",
            "Similarity: tensor([[0.3994]], dtype=torch.float64)\n",
            "add already exist block\n",
            "block namesystem allocateblock\n",
            "------------------------------------\n",
            "Similarity: tensor([[0.7069]], dtype=torch.float64)\n",
            "add already exist block\n",
            "block namesystem delete add invalidset\n",
            "------------------------------------\n",
            "Similarity: tensor([[0.6923]], dtype=torch.float64)\n",
            "add already exist block\n",
            "block remove block neededreplications belong file\n",
            "------------------------------------\n",
            "Similarity: tensor([[0.6170]], dtype=torch.float64)\n",
            "add already exist block\n",
            "block ask replicate\n",
            "------------------------------------\n",
            "Similarity: tensor([[0.6877]], dtype=torch.float64)\n",
            "add already exist block\n",
            "block namesystem addstoredblock blockmap update add size\n",
            "------------------------------------\n",
            "Similarity: tensor([[0.5173]], dtype=torch.float64)\n",
            "add already exist block\n",
            "block namesystem addstoredblock redundant addstoredblock request receive size\n",
            "------------------------------------\n",
            "Similarity: tensor([[0.6045]], dtype=torch.float64)\n",
            "add already exist block\n",
            "block namesystem addstoredblock addstoredblock request receive size but belong file\n",
            "------------------------------------\n",
            "Similarity: tensor([[0.5495]], dtype=torch.float64)\n",
            "add already exist block\n",
            "pendingreplicationmonitor time block\n",
            "------------------------------------\n",
            "Similarity: tensor([[0.6215]], dtype=torch.float64)\n",
            "add already exist block\n",
            "block ask delete\n",
            "------------------------------------\n"
          ]
        }
      ]
    },
    {
      "cell_type": "code",
      "source": [
        "len(normalized_templates)"
      ],
      "metadata": {
        "colab": {
          "base_uri": "https://localhost:8080/"
        },
        "id": "lsgnNww3TEt5",
        "outputId": "292e5779-7341-444c-ee53-be23496064ef"
      },
      "execution_count": 39,
      "outputs": [
        {
          "output_type": "execute_result",
          "data": {
            "text/plain": [
              "30"
            ]
          },
          "metadata": {},
          "execution_count": 39
        }
      ]
    },
    {
      "cell_type": "code",
      "source": [
        "max_similarity = 0\n",
        "\n",
        "for i in range(len(normalized_templates)):\n",
        "  for j in range(len(normalized_templates)):\n",
        "    if i != j :\n",
        "      similarity = util.cos_sim(dic_templates[i], dic_templates[j])\n",
        "      if similarity > max_similarity :\n",
        "        max_similarity = similarity\n",
        "        index = (i,j)\n",
        "\n",
        "print(normalized_templates[index[0]])\n",
        "print(normalized_templates[index[1]])\n",
        "print(\"Similarity:\", util.cos_sim(dic_templates[index[0]], dic_templates[index[1]]))"
      ],
      "metadata": {
        "colab": {
          "base_uri": "https://localhost:8080/"
        },
        "id": "pyEHPxbAS4u1",
        "outputId": "b160460f-5e73-4ecb-ec15-ca6d6a76f402"
      },
      "execution_count": 47,
      "outputs": [
        {
          "output_type": "stream",
          "name": "stdout",
          "text": [
            "receive block src dest\n",
            "receive block src dest size\n",
            "Similarity: tensor([[0.9561]], dtype=torch.float64)\n"
          ]
        }
      ]
    },
    {
      "cell_type": "code",
      "source": [],
      "metadata": {
        "id": "BNuccQYZUNXU"
      },
      "execution_count": null,
      "outputs": []
    }
  ]
}