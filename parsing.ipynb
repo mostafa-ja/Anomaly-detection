{
  "nbformat": 4,
  "nbformat_minor": 0,
  "metadata": {
    "colab": {
      "provenance": [],
      "authorship_tag": "ABX9TyOrmAx8GlbOPjz6CQ4JfK4U",
      "include_colab_link": true
    },
    "kernelspec": {
      "name": "python3",
      "display_name": "Python 3"
    },
    "language_info": {
      "name": "python"
    }
  },
  "cells": [
    {
      "cell_type": "markdown",
      "metadata": {
        "id": "view-in-github",
        "colab_type": "text"
      },
      "source": [
        "<a href=\"https://colab.research.google.com/github/mostafa-ja/Anomaly-detection/blob/main/parsing.ipynb\" target=\"_parent\"><img src=\"https://colab.research.google.com/assets/colab-badge.svg\" alt=\"Open In Colab\"/></a>"
      ]
    },
    {
      "cell_type": "code",
      "execution_count": 1,
      "metadata": {
        "id": "7FF9I3b-l7CW"
      },
      "outputs": [],
      "source": [
        "import sys\n",
        "sys.path.append('/content/')\n",
        "import Drain\n",
        "import pandas as pd\n"
      ]
    },
    {
      "cell_type": "code",
      "source": [
        "input_dir  = '/content/'  # The input directory of log file\n",
        "output_dir = 'Drain_result/'  # The output directory of parsing results\n",
        "log_file   = 'HDFS_2k.log'  # The input log file name\n",
        "log_format = '<Date> <Time> <Pid> <Level> <Component>: <Content>'  # HDFS log format\n",
        "# Regular expression list for optional preprocessing (default: [])\n",
        "regex      = [\n",
        "    r'blk_(|-)[0-9]+' , # block id\n",
        "    r'(/|)([0-9]+\\.){3}[0-9]+(:[0-9]+|)(:|)', # IP\n",
        "    r'(?<=[^A-Za-z0-9])(\\-?\\+?\\d+)(?=[^A-Za-z0-9])|[0-9]+$', # Numbers\n",
        "]\n",
        "st         = 0.5  # Similarity threshold\n",
        "depth      = 4  # Depth of all leaf nodes\n",
        "\n",
        "parser = Drain.LogParser(log_format, indir=input_dir, outdir=output_dir,  depth=depth, st=st, rex=regex)\n",
        "parser.parse(log_file)"
      ],
      "metadata": {
        "colab": {
          "base_uri": "https://localhost:8080/"
        },
        "id": "JK1njXsInpNm",
        "outputId": "d884e089-ef2d-489d-bbd9-e471a56a3666"
      },
      "execution_count": 2,
      "outputs": [
        {
          "output_type": "stream",
          "name": "stdout",
          "text": [
            "Parsing file: /content/HDFS_2k.log\n",
            "Total size after encoding is 2000 2000\n",
            "Parsing done. [Time taken: 0:00:00.352760]\n"
          ]
        }
      ]
    },
    {
      "cell_type": "code",
      "source": [
        "df_parsedlog = pd.read_csv('/content/Drain_result/HDFS_2k.log_structured.csv')"
      ],
      "metadata": {
        "id": "TMAot5xDn5c-"
      },
      "execution_count": 3,
      "outputs": []
    },
    {
      "cell_type": "code",
      "source": [
        "df_parsedlog.head()"
      ],
      "metadata": {
        "colab": {
          "base_uri": "https://localhost:8080/",
          "height": 374
        },
        "id": "J4jRm6ruoByU",
        "outputId": "d17c6801-bdff-4319-aca0-7ed60669bee8"
      },
      "execution_count": 4,
      "outputs": [
        {
          "output_type": "execute_result",
          "data": {
            "text/plain": [
              "   LineId   Date    Time  Pid Level                     Component  \\\n",
              "0       1  81109  203615  148  INFO  dfs.DataNode$PacketResponder   \n",
              "1       2  81109  203807  222  INFO  dfs.DataNode$PacketResponder   \n",
              "2       3  81109  204005   35  INFO              dfs.FSNamesystem   \n",
              "3       4  81109  204015  308  INFO  dfs.DataNode$PacketResponder   \n",
              "4       5  81109  204106  329  INFO  dfs.DataNode$PacketResponder   \n",
              "\n",
              "                                             Content   EventId  \\\n",
              "0  PacketResponder 1 for block blk_38865049064139...  dc2c74b7   \n",
              "1  PacketResponder 0 for block blk_-6952295868487...  dc2c74b7   \n",
              "2  BLOCK* NameSystem.addStoredBlock: blockMap upd...  5d5de21c   \n",
              "3  PacketResponder 2 for block blk_82291938032499...  dc2c74b7   \n",
              "4  PacketResponder 2 for block blk_-6670958622368...  dc2c74b7   \n",
              "\n",
              "                                       EventTemplate ParameterList  \n",
              "0      PacketResponder <*> for block <*> terminating            []  \n",
              "1      PacketResponder <*> for block <*> terminating            []  \n",
              "2  BLOCK* NameSystem.addStoredBlock: blockMap upd...            []  \n",
              "3      PacketResponder <*> for block <*> terminating            []  \n",
              "4      PacketResponder <*> for block <*> terminating            []  "
            ],
            "text/html": [
              "\n",
              "  <div id=\"df-84b121e2-988c-4f00-bdd0-a74d9a5d4eaa\">\n",
              "    <div class=\"colab-df-container\">\n",
              "      <div>\n",
              "<style scoped>\n",
              "    .dataframe tbody tr th:only-of-type {\n",
              "        vertical-align: middle;\n",
              "    }\n",
              "\n",
              "    .dataframe tbody tr th {\n",
              "        vertical-align: top;\n",
              "    }\n",
              "\n",
              "    .dataframe thead th {\n",
              "        text-align: right;\n",
              "    }\n",
              "</style>\n",
              "<table border=\"1\" class=\"dataframe\">\n",
              "  <thead>\n",
              "    <tr style=\"text-align: right;\">\n",
              "      <th></th>\n",
              "      <th>LineId</th>\n",
              "      <th>Date</th>\n",
              "      <th>Time</th>\n",
              "      <th>Pid</th>\n",
              "      <th>Level</th>\n",
              "      <th>Component</th>\n",
              "      <th>Content</th>\n",
              "      <th>EventId</th>\n",
              "      <th>EventTemplate</th>\n",
              "      <th>ParameterList</th>\n",
              "    </tr>\n",
              "  </thead>\n",
              "  <tbody>\n",
              "    <tr>\n",
              "      <th>0</th>\n",
              "      <td>1</td>\n",
              "      <td>81109</td>\n",
              "      <td>203615</td>\n",
              "      <td>148</td>\n",
              "      <td>INFO</td>\n",
              "      <td>dfs.DataNode$PacketResponder</td>\n",
              "      <td>PacketResponder 1 for block blk_38865049064139...</td>\n",
              "      <td>dc2c74b7</td>\n",
              "      <td>PacketResponder &lt;*&gt; for block &lt;*&gt; terminating</td>\n",
              "      <td>[]</td>\n",
              "    </tr>\n",
              "    <tr>\n",
              "      <th>1</th>\n",
              "      <td>2</td>\n",
              "      <td>81109</td>\n",
              "      <td>203807</td>\n",
              "      <td>222</td>\n",
              "      <td>INFO</td>\n",
              "      <td>dfs.DataNode$PacketResponder</td>\n",
              "      <td>PacketResponder 0 for block blk_-6952295868487...</td>\n",
              "      <td>dc2c74b7</td>\n",
              "      <td>PacketResponder &lt;*&gt; for block &lt;*&gt; terminating</td>\n",
              "      <td>[]</td>\n",
              "    </tr>\n",
              "    <tr>\n",
              "      <th>2</th>\n",
              "      <td>3</td>\n",
              "      <td>81109</td>\n",
              "      <td>204005</td>\n",
              "      <td>35</td>\n",
              "      <td>INFO</td>\n",
              "      <td>dfs.FSNamesystem</td>\n",
              "      <td>BLOCK* NameSystem.addStoredBlock: blockMap upd...</td>\n",
              "      <td>5d5de21c</td>\n",
              "      <td>BLOCK* NameSystem.addStoredBlock: blockMap upd...</td>\n",
              "      <td>[]</td>\n",
              "    </tr>\n",
              "    <tr>\n",
              "      <th>3</th>\n",
              "      <td>4</td>\n",
              "      <td>81109</td>\n",
              "      <td>204015</td>\n",
              "      <td>308</td>\n",
              "      <td>INFO</td>\n",
              "      <td>dfs.DataNode$PacketResponder</td>\n",
              "      <td>PacketResponder 2 for block blk_82291938032499...</td>\n",
              "      <td>dc2c74b7</td>\n",
              "      <td>PacketResponder &lt;*&gt; for block &lt;*&gt; terminating</td>\n",
              "      <td>[]</td>\n",
              "    </tr>\n",
              "    <tr>\n",
              "      <th>4</th>\n",
              "      <td>5</td>\n",
              "      <td>81109</td>\n",
              "      <td>204106</td>\n",
              "      <td>329</td>\n",
              "      <td>INFO</td>\n",
              "      <td>dfs.DataNode$PacketResponder</td>\n",
              "      <td>PacketResponder 2 for block blk_-6670958622368...</td>\n",
              "      <td>dc2c74b7</td>\n",
              "      <td>PacketResponder &lt;*&gt; for block &lt;*&gt; terminating</td>\n",
              "      <td>[]</td>\n",
              "    </tr>\n",
              "  </tbody>\n",
              "</table>\n",
              "</div>\n",
              "      <button class=\"colab-df-convert\" onclick=\"convertToInteractive('df-84b121e2-988c-4f00-bdd0-a74d9a5d4eaa')\"\n",
              "              title=\"Convert this dataframe to an interactive table.\"\n",
              "              style=\"display:none;\">\n",
              "        \n",
              "  <svg xmlns=\"http://www.w3.org/2000/svg\" height=\"24px\"viewBox=\"0 0 24 24\"\n",
              "       width=\"24px\">\n",
              "    <path d=\"M0 0h24v24H0V0z\" fill=\"none\"/>\n",
              "    <path d=\"M18.56 5.44l.94 2.06.94-2.06 2.06-.94-2.06-.94-.94-2.06-.94 2.06-2.06.94zm-11 1L8.5 8.5l.94-2.06 2.06-.94-2.06-.94L8.5 2.5l-.94 2.06-2.06.94zm10 10l.94 2.06.94-2.06 2.06-.94-2.06-.94-.94-2.06-.94 2.06-2.06.94z\"/><path d=\"M17.41 7.96l-1.37-1.37c-.4-.4-.92-.59-1.43-.59-.52 0-1.04.2-1.43.59L10.3 9.45l-7.72 7.72c-.78.78-.78 2.05 0 2.83L4 21.41c.39.39.9.59 1.41.59.51 0 1.02-.2 1.41-.59l7.78-7.78 2.81-2.81c.8-.78.8-2.07 0-2.86zM5.41 20L4 18.59l7.72-7.72 1.47 1.35L5.41 20z\"/>\n",
              "  </svg>\n",
              "      </button>\n",
              "      \n",
              "  <style>\n",
              "    .colab-df-container {\n",
              "      display:flex;\n",
              "      flex-wrap:wrap;\n",
              "      gap: 12px;\n",
              "    }\n",
              "\n",
              "    .colab-df-convert {\n",
              "      background-color: #E8F0FE;\n",
              "      border: none;\n",
              "      border-radius: 50%;\n",
              "      cursor: pointer;\n",
              "      display: none;\n",
              "      fill: #1967D2;\n",
              "      height: 32px;\n",
              "      padding: 0 0 0 0;\n",
              "      width: 32px;\n",
              "    }\n",
              "\n",
              "    .colab-df-convert:hover {\n",
              "      background-color: #E2EBFA;\n",
              "      box-shadow: 0px 1px 2px rgba(60, 64, 67, 0.3), 0px 1px 3px 1px rgba(60, 64, 67, 0.15);\n",
              "      fill: #174EA6;\n",
              "    }\n",
              "\n",
              "    [theme=dark] .colab-df-convert {\n",
              "      background-color: #3B4455;\n",
              "      fill: #D2E3FC;\n",
              "    }\n",
              "\n",
              "    [theme=dark] .colab-df-convert:hover {\n",
              "      background-color: #434B5C;\n",
              "      box-shadow: 0px 1px 3px 1px rgba(0, 0, 0, 0.15);\n",
              "      filter: drop-shadow(0px 1px 2px rgba(0, 0, 0, 0.3));\n",
              "      fill: #FFFFFF;\n",
              "    }\n",
              "  </style>\n",
              "\n",
              "      <script>\n",
              "        const buttonEl =\n",
              "          document.querySelector('#df-84b121e2-988c-4f00-bdd0-a74d9a5d4eaa button.colab-df-convert');\n",
              "        buttonEl.style.display =\n",
              "          google.colab.kernel.accessAllowed ? 'block' : 'none';\n",
              "\n",
              "        async function convertToInteractive(key) {\n",
              "          const element = document.querySelector('#df-84b121e2-988c-4f00-bdd0-a74d9a5d4eaa');\n",
              "          const dataTable =\n",
              "            await google.colab.kernel.invokeFunction('convertToInteractive',\n",
              "                                                     [key], {});\n",
              "          if (!dataTable) return;\n",
              "\n",
              "          const docLinkHtml = 'Like what you see? Visit the ' +\n",
              "            '<a target=\"_blank\" href=https://colab.research.google.com/notebooks/data_table.ipynb>data table notebook</a>'\n",
              "            + ' to learn more about interactive tables.';\n",
              "          element.innerHTML = '';\n",
              "          dataTable['output_type'] = 'display_data';\n",
              "          await google.colab.output.renderOutput(dataTable, element);\n",
              "          const docLink = document.createElement('div');\n",
              "          docLink.innerHTML = docLinkHtml;\n",
              "          element.appendChild(docLink);\n",
              "        }\n",
              "      </script>\n",
              "    </div>\n",
              "  </div>\n",
              "  "
            ]
          },
          "metadata": {},
          "execution_count": 4
        }
      ]
    },
    {
      "cell_type": "code",
      "source": [
        "# Get the unique items of the 'EventId' column\n",
        "unique_EventId = df_parsedlog['EventId'].unique()\n",
        "\n",
        "print(unique_EventId)"
      ],
      "metadata": {
        "colab": {
          "base_uri": "https://localhost:8080/"
        },
        "id": "7QQL4c-6oUJd",
        "outputId": "e204a775-4f52-4844-9ac1-089f87121cff"
      },
      "execution_count": 5,
      "outputs": [
        {
          "output_type": "stream",
          "name": "stdout",
          "text": [
            "['dc2c74b7' '5d5de21c' 'e3df2680' '09a53393' '3d91fa85' '32777b38'\n",
            " 'dba996ef' '626085d5' '81cee340' 'd63ef163' '40651754' '04137b95'\n",
            " 'd6b7b743' '98012f03' '728076ac' '415a1760']\n"
          ]
        }
      ]
    },
    {
      "cell_type": "code",
      "source": [],
      "metadata": {
        "id": "ZmbV-_h0og8u"
      },
      "execution_count": null,
      "outputs": []
    }
  ]
}