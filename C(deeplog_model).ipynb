{
  "nbformat": 4,
  "nbformat_minor": 0,
  "metadata": {
    "colab": {
      "provenance": [],
      "gpuType": "T4",
      "authorship_tag": "ABX9TyOVq6FMGcXlW72NQ8Nb/R44",
      "include_colab_link": true
    },
    "kernelspec": {
      "name": "python3",
      "display_name": "Python 3"
    },
    "language_info": {
      "name": "python"
    },
    "accelerator": "GPU"
  },
  "cells": [
    {
      "cell_type": "markdown",
      "metadata": {
        "id": "view-in-github",
        "colab_type": "text"
      },
      "source": [
        "<a href=\"https://colab.research.google.com/github/mostafa-ja/Anomaly-detection/blob/main/C(deeplog_model).ipynb\" target=\"_parent\"><img src=\"https://colab.research.google.com/assets/colab-badge.svg\" alt=\"Open In Colab\"/></a>"
      ]
    },
    {
      "cell_type": "code",
      "source": [
        "\n",
        "import time\n",
        "import torch\n",
        "import torch.nn as nn\n",
        "import torch.optim as optim\n",
        "from torch.utils.data import TensorDataset, DataLoader\n",
        "import os\n",
        "import numpy as np\n",
        "import pandas as pd\n",
        "\n",
        "# Device configuration\n",
        "device = torch.device(\"cuda\" if torch.cuda.is_available() else \"cpu\")\n",
        ""
      ],
      "metadata": {
        "id": "-cgjPvYjFbKo"
      },
      "execution_count": 6,
      "outputs": []
    },
    {
      "cell_type": "code",
      "execution_count": 2,
      "metadata": {
        "colab": {
          "base_uri": "https://localhost:8080/"
        },
        "id": "VTdKXioxBmcc",
        "outputId": "53947927-3bb6-4a39-f14c-faca73454ba0"
      },
      "outputs": [
        {
          "output_type": "stream",
          "name": "stdout",
          "text": [
            "Mounted at /content/drive\n"
          ]
        }
      ],
      "source": [
        "# Mount Google Drive to upload datasets (csv files)\n",
        "from google.colab import drive\n",
        "drive.mount('/content/drive')"
      ]
    },
    {
      "cell_type": "code",
      "source": [
        "# import train and datasets based on ratio\n",
        "\n",
        "def split_log_file(input_file, train_ratio=0.7):\n",
        "    # Read the log file and split it into lines\n",
        "    with open(input_file, 'r') as log_file:\n",
        "        log_lines = log_file.readlines()\n",
        "\n",
        "    # Calculate the number of lines for the train and test sets\n",
        "    num_lines = len(log_lines)\n",
        "    num_train_lines = int(num_lines * train_ratio)\n",
        "    num_test_lines = num_lines - num_train_lines\n",
        "\n",
        "    # Write the lines corresponding to the train set to a new train log file\n",
        "    with open('hdfs_train', 'w') as train_file:\n",
        "        train_file.writelines(log_lines[:num_train_lines])\n",
        "\n",
        "    # Write the remaining lines (test set) to a new test log file\n",
        "    with open('hdfs_test_normal', 'w') as test_file:\n",
        "        test_file.writelines(log_lines[num_train_lines:])\n",
        "\n",
        "# split normal log file\n",
        "split_log_file('/content/drive/MyDrive/HDFS/structured_hdfs/hdfs_sequence_normal', train_ratio=0.1)\n",
        "\n",
        "#copy test abnormal file to current directory\n",
        "!cp '/content/drive/MyDrive/HDFS/structured_hdfs/hdfs_test_sequence_abnormal' '/content/'"
      ],
      "metadata": {
        "id": "p2LHttoEwKMp"
      },
      "execution_count": 35,
      "outputs": []
    },
    {
      "cell_type": "markdown",
      "source": [
        "alternative files :\n",
        "\n",
        "\n",
        "```\n",
        "\n",
        "# download datasets\n",
        "!wget 'https://raw.githubusercontent.com/donglee-afar/logdeep/master/data/hdfs/hdfs_train'\n",
        "!wget 'https://raw.githubusercontent.com/donglee-afar/logdeep/master/data/hdfs/hdfs_test_normal'\n",
        "!wget 'https://raw.githubusercontent.com/donglee-afar/logdeep/master/data/hdfs/hdfs_test_abnormal'\n",
        "     \n",
        "```\n",
        "be careful these files are logs , not csv\n"
      ],
      "metadata": {
        "id": "Oa9CLMUMGGyO"
      }
    },
    {
      "cell_type": "code",
      "source": [
        "# download datasets\n",
        "!wget 'https://raw.githubusercontent.com/donglee-afar/logdeep/master/data/hdfs/hdfs_train'\n",
        "!wget 'https://raw.githubusercontent.com/donglee-afar/logdeep/master/data/hdfs/hdfs_test_normal'\n",
        "!wget 'https://raw.githubusercontent.com/donglee-afar/logdeep/master/data/hdfs/hdfs_test_abnormal'"
      ],
      "metadata": {
        "colab": {
          "base_uri": "https://localhost:8080/"
        },
        "id": "qZYNqcwLIPLF",
        "outputId": "0846cdab-36a9-47de-89c1-076ff90aba13"
      },
      "execution_count": 1,
      "outputs": [
        {
          "output_type": "stream",
          "name": "stdout",
          "text": [
            "--2023-07-24 13:40:17--  https://raw.githubusercontent.com/donglee-afar/logdeep/master/data/hdfs/hdfs_train\n",
            "Resolving raw.githubusercontent.com (raw.githubusercontent.com)... 185.199.108.133, 185.199.109.133, 185.199.110.133, ...\n",
            "Connecting to raw.githubusercontent.com (raw.githubusercontent.com)|185.199.108.133|:443... connected.\n",
            "HTTP request sent, awaiting response... 200 OK\n",
            "Length: 257875 (252K) [text/plain]\n",
            "Saving to: ‘hdfs_train’\n",
            "\n",
            "hdfs_train          100%[===================>] 251.83K  --.-KB/s    in 0.003s  \n",
            "\n",
            "2023-07-24 13:40:18 (81.4 MB/s) - ‘hdfs_train’ saved [257875/257875]\n",
            "\n",
            "--2023-07-24 13:40:18--  https://raw.githubusercontent.com/donglee-afar/logdeep/master/data/hdfs/hdfs_test_normal\n",
            "Resolving raw.githubusercontent.com (raw.githubusercontent.com)... 185.199.108.133, 185.199.109.133, 185.199.110.133, ...\n",
            "Connecting to raw.githubusercontent.com (raw.githubusercontent.com)|185.199.108.133|:443... connected.\n",
            "HTTP request sent, awaiting response... 200 OK\n",
            "Length: 29284282 (28M) [text/plain]\n",
            "Saving to: ‘hdfs_test_normal’\n",
            "\n",
            "hdfs_test_normal    100%[===================>]  27.93M  --.-KB/s    in 0.1s    \n",
            "\n",
            "2023-07-24 13:40:20 (286 MB/s) - ‘hdfs_test_normal’ saved [29284282/29284282]\n",
            "\n",
            "--2023-07-24 13:40:20--  https://raw.githubusercontent.com/donglee-afar/logdeep/master/data/hdfs/hdfs_test_abnormal\n",
            "Resolving raw.githubusercontent.com (raw.githubusercontent.com)... 185.199.110.133, 185.199.109.133, 185.199.108.133, ...\n",
            "Connecting to raw.githubusercontent.com (raw.githubusercontent.com)|185.199.110.133|:443... connected.\n",
            "HTTP request sent, awaiting response... 200 OK\n",
            "Length: 782479 (764K) [text/plain]\n",
            "Saving to: ‘hdfs_test_abnormal’\n",
            "\n",
            "hdfs_test_abnormal  100%[===================>] 764.14K  --.-KB/s    in 0.005s  \n",
            "\n",
            "2023-07-24 13:40:20 (141 MB/s) - ‘hdfs_test_abnormal’ saved [782479/782479]\n",
            "\n"
          ]
        }
      ]
    },
    {
      "cell_type": "code",
      "source": [
        "i=0\n",
        "with open('/content/hdfs_train', 'r') as f:\n",
        "  for row in f:\n",
        "    i += 1\n",
        "print(i)"
      ],
      "metadata": {
        "colab": {
          "base_uri": "https://localhost:8080/"
        },
        "id": "6zVY3N0U9g8z",
        "outputId": "2fe28374-0d56-4036-8f5d-540545cfb047"
      },
      "execution_count": 2,
      "outputs": [
        {
          "output_type": "stream",
          "name": "stdout",
          "text": [
            "4855\n"
          ]
        }
      ]
    },
    {
      "cell_type": "code",
      "source": [
        "i=0\n",
        "with open('/content/hdfs_test_normal', 'r') as f:\n",
        "  for row in f:\n",
        "    i += 1\n",
        "print(i)"
      ],
      "metadata": {
        "colab": {
          "base_uri": "https://localhost:8080/"
        },
        "id": "3wExciFV9Smd",
        "outputId": "d630421c-4674-4885-8230-e1a43764e330"
      },
      "execution_count": 3,
      "outputs": [
        {
          "output_type": "stream",
          "name": "stdout",
          "text": [
            "553366\n"
          ]
        }
      ]
    },
    {
      "cell_type": "code",
      "source": [
        "names = ['hdfs_train','hdfs_test_normal','hdfs_test_abnormal']\n",
        "templates = set()\n",
        "\n",
        "for name in names:\n",
        "  with open('/content/' + name, 'r') as f:\n",
        "          for row in f:\n",
        "            for temp in row.split():\n",
        "              templates.add(temp)\n",
        "\n",
        "print(sorted(templates))\n",
        "print('nember of templates : ',len(templates))"
      ],
      "metadata": {
        "colab": {
          "base_uri": "https://localhost:8080/"
        },
        "id": "pNDAhBmpwKSs",
        "outputId": "68258d6d-1909-46f4-8bfb-2a1bf22abe62"
      },
      "execution_count": 9,
      "outputs": [
        {
          "output_type": "stream",
          "name": "stdout",
          "text": [
            "['1', '10', '11', '12', '13', '14', '15', '16', '17', '18', '19', '2', '20', '21', '22', '23', '24', '25', '26', '27', '28', '3', '4', '5', '6', '7', '8', '9']\n",
            "nember of templates :  28\n"
          ]
        }
      ]
    },
    {
      "cell_type": "markdown",
      "source": [
        "test:\n",
        "\n",
        "\n",
        "```\n",
        "name = 'hdfs_train_sequence'\n",
        "window_size = 10\n",
        "num_sessions = 0\n",
        "inputs = []\n",
        "outputs = []\n",
        "\n",
        "with open('/content/' + name, 'r') as f:\n",
        "        for row in f:\n",
        "            num_sessions += 1\n",
        "            line = [ int(i) for i in row.strip().split()]\n",
        "            print(line)\n",
        "            for i in range(len(line) - window_size):\n",
        "                print(line[i:i + window_size])\n",
        "                print(line[i + window_size])\n",
        "                break\n",
        "            break\n",
        "\n",
        "ans:\n",
        "[0, 1, 0, 0, 2, 2, 3, 3, 2, 3, 4, 4, 4, 5,...]\n",
        "[0, 1, 0, 0, 2, 2, 3, 3, 2, 3]\n",
        "4\n",
        "```\n",
        "\n"
      ],
      "metadata": {
        "id": "IXB3Npq912Um"
      }
    },
    {
      "cell_type": "code",
      "source": [
        "name = 'hdfs_train'\n",
        "window_size = 10\n",
        "num_sessions = 0\n",
        "inputs = []\n",
        "outputs = []\n",
        "\n",
        "with open('/content/' + name, 'r') as f:\n",
        "        for row in f:\n",
        "            num_sessions += 1\n",
        "            line = [ int(i) for i in row.strip().split()]\n",
        "            for i in range(len(line) - window_size):\n",
        "                inputs.append(line[i:i + window_size])\n",
        "                outputs.append(line[i + window_size])\n",
        "\n",
        "print('Number of sessions({}): {}'.format(name, num_sessions))\n",
        "print('Number of seqs({}): {}'.format(name, len(inputs)))\n",
        "dataset = TensorDataset(torch.tensor(inputs, dtype=torch.float), torch.tensor(outputs))\n",
        ""
      ],
      "metadata": {
        "colab": {
          "base_uri": "https://localhost:8080/"
        },
        "id": "w1P4keFzwKDn",
        "outputId": "f94e8c11-ec25-41c1-9402-9105de740b01"
      },
      "execution_count": 10,
      "outputs": [
        {
          "output_type": "stream",
          "name": "stdout",
          "text": [
            "Number of sessions(hdfs_train): 4855\n",
            "Number of seqs(hdfs_train): 46575\n"
          ]
        }
      ]
    },
    {
      "cell_type": "code",
      "source": [
        "class Model(nn.Module):\n",
        "    def __init__(self, input_size, hidden_size, num_layers, num_classes):\n",
        "        super(Model, self).__init__()\n",
        "        self.hidden_size = hidden_size\n",
        "        self.num_layers = num_layers\n",
        "        self.lstm = nn.LSTM(input_size, hidden_size, num_layers, batch_first=True)\n",
        "        self.fc = nn.Linear(hidden_size, num_classes)\n",
        "\n",
        "    def forward(self, x):\n",
        "        h0 = torch.zeros(self.num_layers, x.size(0), self.hidden_size).to(device)\n",
        "        c0 = torch.zeros(self.num_layers, x.size(0), self.hidden_size).to(device)\n",
        "        out, _ = self.lstm(x, (h0, c0))  # out.shape : [batch_size, sequence_length, hidden_size]\n",
        "        out = self.fc(out[:, -1, :]) #The : before , -1, : indicates that we want to include all elements along the first dimension (batch dimension). -1 represents the index of the last element along the second dimension (sequence length). : after , -1 indicates that we want to include all elements along the third dimension (hidden size)\n",
        "        return out\n",
        ""
      ],
      "metadata": {
        "id": "vVS_BE9S2J2p"
      },
      "execution_count": 11,
      "outputs": []
    },
    {
      "cell_type": "code",
      "source": [
        "input_size = 1\n",
        "num_layers = 2\n",
        "hidden_size = 64\n",
        "num_classes = 29  # templates + 1 abnormal output\n",
        "batch_size = 2048\n",
        "num_epochs = 150"
      ],
      "metadata": {
        "id": "R0ht4IKd2QFf"
      },
      "execution_count": 14,
      "outputs": []
    },
    {
      "cell_type": "code",
      "source": [
        "model = Model(input_size, hidden_size, num_layers, num_classes).to(device)\n",
        "dataloader = DataLoader(dataset, batch_size=batch_size, shuffle=True, pin_memory=True)\n",
        "\n",
        "# Loss and optimizer\n",
        "criterion = nn.CrossEntropyLoss()\n",
        "optimizer = optim.Adam(model.parameters())"
      ],
      "metadata": {
        "id": "Ve9GNCW-2zDL"
      },
      "execution_count": 15,
      "outputs": []
    },
    {
      "cell_type": "code",
      "source": [
        "\n",
        "# Train the model\n",
        "start_time = time.time()\n",
        "total_step = len(dataloader)\n",
        "for epoch in range(num_epochs):  # Loop over the dataset multiple times\n",
        "    train_loss = 0\n",
        "    for step, (seq, label) in enumerate(dataloader):\n",
        "        # Forward pass\n",
        "        seq = seq.clone().detach().view(-1, window_size, input_size).to(device)\n",
        "        output = model(seq)\n",
        "        loss = criterion(output, label.to(device))\n",
        "\n",
        "        # Backward and optimize\n",
        "        optimizer.zero_grad()\n",
        "        loss.backward()\n",
        "        train_loss += loss.item()\n",
        "        optimizer.step()\n",
        "    print('Epoch [{}/{}], train_loss: {:.4f}'.format(epoch + 1, num_epochs, train_loss / total_step))\n",
        "elapsed_time = time.time() - start_time\n",
        "print('elapsed_time: {:.3f}s'.format(elapsed_time))\n",
        "print('Finished Training')"
      ],
      "metadata": {
        "colab": {
          "base_uri": "https://localhost:8080/"
        },
        "id": "MRDa44Rt23Lb",
        "outputId": "8d45b923-ede2-4dbb-91da-560bd98eac1d"
      },
      "execution_count": 16,
      "outputs": [
        {
          "output_type": "stream",
          "name": "stdout",
          "text": [
            "Epoch [1/150], train_loss: 2.7156\n",
            "Epoch [2/150], train_loss: 1.8647\n",
            "Epoch [3/150], train_loss: 1.7747\n",
            "Epoch [4/150], train_loss: 1.6626\n",
            "Epoch [5/150], train_loss: 1.4562\n",
            "Epoch [6/150], train_loss: 1.2042\n",
            "Epoch [7/150], train_loss: 1.0089\n",
            "Epoch [8/150], train_loss: 0.8887\n",
            "Epoch [9/150], train_loss: 0.8066\n",
            "Epoch [10/150], train_loss: 0.7431\n",
            "Epoch [11/150], train_loss: 0.6902\n",
            "Epoch [12/150], train_loss: 0.6487\n",
            "Epoch [13/150], train_loss: 0.6097\n",
            "Epoch [14/150], train_loss: 0.5733\n",
            "Epoch [15/150], train_loss: 0.5473\n",
            "Epoch [16/150], train_loss: 0.5267\n",
            "Epoch [17/150], train_loss: 0.5078\n",
            "Epoch [18/150], train_loss: 0.4961\n",
            "Epoch [19/150], train_loss: 0.4806\n",
            "Epoch [20/150], train_loss: 0.4657\n",
            "Epoch [21/150], train_loss: 0.4544\n",
            "Epoch [22/150], train_loss: 0.4385\n",
            "Epoch [23/150], train_loss: 0.4247\n",
            "Epoch [24/150], train_loss: 0.4141\n",
            "Epoch [25/150], train_loss: 0.4057\n",
            "Epoch [26/150], train_loss: 0.4075\n",
            "Epoch [27/150], train_loss: 0.3966\n",
            "Epoch [28/150], train_loss: 0.3856\n",
            "Epoch [29/150], train_loss: 0.3809\n",
            "Epoch [30/150], train_loss: 0.3755\n",
            "Epoch [31/150], train_loss: 0.3748\n",
            "Epoch [32/150], train_loss: 0.3686\n",
            "Epoch [33/150], train_loss: 0.3640\n",
            "Epoch [34/150], train_loss: 0.3623\n",
            "Epoch [35/150], train_loss: 0.3606\n",
            "Epoch [36/150], train_loss: 0.3580\n",
            "Epoch [37/150], train_loss: 0.3551\n",
            "Epoch [38/150], train_loss: 0.3529\n",
            "Epoch [39/150], train_loss: 0.3487\n",
            "Epoch [40/150], train_loss: 0.3455\n",
            "Epoch [41/150], train_loss: 0.3460\n",
            "Epoch [42/150], train_loss: 0.3419\n",
            "Epoch [43/150], train_loss: 0.3394\n",
            "Epoch [44/150], train_loss: 0.3391\n",
            "Epoch [45/150], train_loss: 0.3358\n",
            "Epoch [46/150], train_loss: 0.3339\n",
            "Epoch [47/150], train_loss: 0.3334\n",
            "Epoch [48/150], train_loss: 0.3308\n",
            "Epoch [49/150], train_loss: 0.3298\n",
            "Epoch [50/150], train_loss: 0.3282\n",
            "Epoch [51/150], train_loss: 0.3265\n",
            "Epoch [52/150], train_loss: 0.3242\n",
            "Epoch [53/150], train_loss: 0.3241\n",
            "Epoch [54/150], train_loss: 0.3239\n",
            "Epoch [55/150], train_loss: 0.3199\n",
            "Epoch [56/150], train_loss: 0.3185\n",
            "Epoch [57/150], train_loss: 0.3183\n",
            "Epoch [58/150], train_loss: 0.3170\n",
            "Epoch [59/150], train_loss: 0.3150\n",
            "Epoch [60/150], train_loss: 0.3155\n",
            "Epoch [61/150], train_loss: 0.3153\n",
            "Epoch [62/150], train_loss: 0.3124\n",
            "Epoch [63/150], train_loss: 0.3088\n",
            "Epoch [64/150], train_loss: 0.3079\n",
            "Epoch [65/150], train_loss: 0.3059\n",
            "Epoch [66/150], train_loss: 0.3044\n",
            "Epoch [67/150], train_loss: 0.3028\n",
            "Epoch [68/150], train_loss: 0.3016\n",
            "Epoch [69/150], train_loss: 0.3013\n",
            "Epoch [70/150], train_loss: 0.2985\n",
            "Epoch [71/150], train_loss: 0.2977\n",
            "Epoch [72/150], train_loss: 0.2955\n",
            "Epoch [73/150], train_loss: 0.2944\n",
            "Epoch [74/150], train_loss: 0.2993\n",
            "Epoch [75/150], train_loss: 0.3045\n",
            "Epoch [76/150], train_loss: 0.2921\n",
            "Epoch [77/150], train_loss: 0.2895\n",
            "Epoch [78/150], train_loss: 0.2880\n",
            "Epoch [79/150], train_loss: 0.2879\n",
            "Epoch [80/150], train_loss: 0.2866\n",
            "Epoch [81/150], train_loss: 0.2847\n",
            "Epoch [82/150], train_loss: 0.2835\n",
            "Epoch [83/150], train_loss: 0.2825\n",
            "Epoch [84/150], train_loss: 0.2810\n",
            "Epoch [85/150], train_loss: 0.2833\n",
            "Epoch [86/150], train_loss: 0.2800\n",
            "Epoch [87/150], train_loss: 0.2788\n",
            "Epoch [88/150], train_loss: 0.2777\n",
            "Epoch [89/150], train_loss: 0.2788\n",
            "Epoch [90/150], train_loss: 0.2754\n",
            "Epoch [91/150], train_loss: 0.2758\n",
            "Epoch [92/150], train_loss: 0.2744\n",
            "Epoch [93/150], train_loss: 0.2731\n",
            "Epoch [94/150], train_loss: 0.2727\n",
            "Epoch [95/150], train_loss: 0.2712\n",
            "Epoch [96/150], train_loss: 0.2708\n",
            "Epoch [97/150], train_loss: 0.2722\n",
            "Epoch [98/150], train_loss: 0.2720\n",
            "Epoch [99/150], train_loss: 0.2686\n",
            "Epoch [100/150], train_loss: 0.2659\n",
            "Epoch [101/150], train_loss: 0.2658\n",
            "Epoch [102/150], train_loss: 0.2658\n",
            "Epoch [103/150], train_loss: 0.2657\n",
            "Epoch [104/150], train_loss: 0.2648\n",
            "Epoch [105/150], train_loss: 0.2631\n",
            "Epoch [106/150], train_loss: 0.2626\n",
            "Epoch [107/150], train_loss: 0.2620\n",
            "Epoch [108/150], train_loss: 0.2613\n",
            "Epoch [109/150], train_loss: 0.2637\n",
            "Epoch [110/150], train_loss: 0.2622\n",
            "Epoch [111/150], train_loss: 0.2612\n",
            "Epoch [112/150], train_loss: 0.2596\n",
            "Epoch [113/150], train_loss: 0.2581\n",
            "Epoch [114/150], train_loss: 0.2572\n",
            "Epoch [115/150], train_loss: 0.2564\n",
            "Epoch [116/150], train_loss: 0.2553\n",
            "Epoch [117/150], train_loss: 0.2538\n",
            "Epoch [118/150], train_loss: 0.2541\n",
            "Epoch [119/150], train_loss: 0.2566\n",
            "Epoch [120/150], train_loss: 0.2605\n",
            "Epoch [121/150], train_loss: 0.2539\n",
            "Epoch [122/150], train_loss: 0.2518\n",
            "Epoch [123/150], train_loss: 0.2508\n",
            "Epoch [124/150], train_loss: 0.2507\n",
            "Epoch [125/150], train_loss: 0.2495\n",
            "Epoch [126/150], train_loss: 0.2497\n",
            "Epoch [127/150], train_loss: 0.2493\n",
            "Epoch [128/150], train_loss: 0.2482\n",
            "Epoch [129/150], train_loss: 0.2484\n",
            "Epoch [130/150], train_loss: 0.2487\n",
            "Epoch [131/150], train_loss: 0.2476\n",
            "Epoch [132/150], train_loss: 0.2462\n",
            "Epoch [133/150], train_loss: 0.2453\n",
            "Epoch [134/150], train_loss: 0.2445\n",
            "Epoch [135/150], train_loss: 0.2444\n",
            "Epoch [136/150], train_loss: 0.2429\n",
            "Epoch [137/150], train_loss: 0.2430\n",
            "Epoch [138/150], train_loss: 0.2434\n",
            "Epoch [139/150], train_loss: 0.2441\n",
            "Epoch [140/150], train_loss: 0.2436\n",
            "Epoch [141/150], train_loss: 0.2414\n",
            "Epoch [142/150], train_loss: 0.2424\n",
            "Epoch [143/150], train_loss: 0.2399\n",
            "Epoch [144/150], train_loss: 0.2393\n",
            "Epoch [145/150], train_loss: 0.2392\n",
            "Epoch [146/150], train_loss: 0.2389\n",
            "Epoch [147/150], train_loss: 0.2388\n",
            "Epoch [148/150], train_loss: 0.2373\n",
            "Epoch [149/150], train_loss: 0.2359\n",
            "Epoch [150/150], train_loss: 0.2345\n",
            "elapsed_time: 106.505s\n",
            "Finished Training\n"
          ]
        }
      ]
    },
    {
      "cell_type": "code",
      "source": [
        "def generate(name):\n",
        "    # If you what to replicate the DeepLog paper results(Actually, I have a better result than DeepLog paper results),\n",
        "    # you should use the 'list' not 'set' to obtain the full dataset, I use 'set' just for test and acceleration.\n",
        "    hdfs = set()\n",
        "    # hdfs = []\n",
        "    with open('/content/' + name, 'r') as f:\n",
        "        for row in f:\n",
        "            line = [int(i) for i in row.strip().split()]\n",
        "            line = line + [0] * (window_size + 1 - len(line)) #if the length of the line is less than windows size, it covers by -1\n",
        "            hdfs.add(tuple(line))\n",
        "            # hdfs.append(tuple(line))\n",
        "    print('Number of sessions({}): {}'.format(name, len(hdfs)))\n",
        "    return hdfs\n",
        ""
      ],
      "metadata": {
        "id": "g90HG-zc7V-Y"
      },
      "execution_count": 19,
      "outputs": []
    },
    {
      "cell_type": "code",
      "source": [
        "\n",
        "test_normal_loader = generate('hdfs_test_normal')\n",
        "test_abnormal_loader = generate('hdfs_test_abnormal')"
      ],
      "metadata": {
        "colab": {
          "base_uri": "https://localhost:8080/"
        },
        "id": "6NnZp1dT75jI",
        "outputId": "112ad08d-f4f8-411e-d4a9-1122bb756c4d"
      },
      "execution_count": 21,
      "outputs": [
        {
          "output_type": "stream",
          "name": "stdout",
          "text": [
            "Number of sessions(hdfs_test_normal): 14177\n",
            "Number of sessions(hdfs_test_abnormal): 4123\n"
          ]
        }
      ]
    },
    {
      "cell_type": "code",
      "source": [
        "num_candidates = 9 # on paper is g , top-g(here top 9) probabilities to appear next are considered normal"
      ],
      "metadata": {
        "id": "dSDO2VmH8dRF"
      },
      "execution_count": 22,
      "outputs": []
    },
    {
      "cell_type": "code",
      "source": [
        "# Test the model\n",
        "TP = 0\n",
        "FP = 0\n",
        "\n",
        "start_time = time.time()\n",
        "with torch.no_grad():\n",
        "    for line in test_normal_loader:\n",
        "        for i in range(len(line) - window_size):\n",
        "            session = line[i:i + window_size]\n",
        "            seq = [temp for temp in session]\n",
        "            label = line[i + window_size]\n",
        "            seq = torch.tensor(seq, dtype=torch.float).view(-1, window_size, input_size).to(device)\n",
        "            label = torch.tensor(label).view(-1).to(device)\n",
        "            output = model(seq)\n",
        "            predicted = torch.argsort(output, 1)[0][-num_candidates:]\n",
        "            if torch.argmax(label) not in predicted:\n",
        "                FP += 1\n",
        "                break   #with just one wrong prediction in a line , we assume , abnormal\n",
        "with torch.no_grad():\n",
        "    for line in test_abnormal_loader:\n",
        "        for i in range(len(line) - window_size):\n",
        "            session = line[i:i + window_size]\n",
        "            seq = [temp for temp in session]\n",
        "            label = line[i + window_size]\n",
        "            seq = torch.tensor(seq, dtype=torch.float).view(-1, window_size, input_size).to(device)\n",
        "            label = torch.tensor(label).view(-1).to(device)\n",
        "            output = model(seq)\n",
        "            predicted = torch.argsort(output, 1)[0][-num_candidates:]\n",
        "            if torch.argmax(label) not in predicted:\n",
        "                TP += 1\n",
        "                break\n",
        "elapsed_time = time.time() - start_time\n",
        "print('elapsed_time: {:.3f}s'.format(elapsed_time))\n",
        "# Compute precision, recall and F1-measure\n",
        "FN = len(test_abnormal_loader) - TP\n",
        "P = 100 * TP / (TP + FP)\n",
        "R = 100 * TP / (TP + FN)\n",
        "F1 = 2 * P * R / (P + R)\n",
        "print('false positive (FP): {}, false negative (FN): {}, Precision: {:.3f}%, Recall: {:.3f}%, F1-measure: {:.3f}%'.format(FP, FN, P, R, F1))\n",
        "print('Finished Predicting')"
      ],
      "metadata": {
        "colab": {
          "base_uri": "https://localhost:8080/"
        },
        "id": "ZIDRTh2-8ASi",
        "outputId": "dda7e400-8647-44b8-dcbe-262bcbe8e4c2"
      },
      "execution_count": null,
      "outputs": [
        {
          "output_type": "stream",
          "name": "stdout",
          "text": [
            "elapsed_time: 10.610s\n",
            "false positive (FP): 14177, false negative (FN): 0, Precision: 22.530%, Recall: 100.000%, F1-measure: 36.775%\n",
            "Finished Predicting\n"
          ]
        }
      ]
    }
  ]
}