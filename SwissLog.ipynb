{
  "nbformat": 4,
  "nbformat_minor": 0,
  "metadata": {
    "colab": {
      "provenance": [],
      "authorship_tag": "ABX9TyOXQmJ6A9hb3tGLjp/DeAWS",
      "include_colab_link": true
    },
    "kernelspec": {
      "name": "python3",
      "display_name": "Python 3"
    },
    "language_info": {
      "name": "python"
    }
  },
  "cells": [
    {
      "cell_type": "markdown",
      "metadata": {
        "id": "view-in-github",
        "colab_type": "text"
      },
      "source": [
        "<a href=\"https://colab.research.google.com/github/mostafa-ja/Anomaly-detection/blob/main/SwissLog.ipynb\" target=\"_parent\"><img src=\"https://colab.research.google.com/assets/colab-badge.svg\" alt=\"Open In Colab\"/></a>"
      ]
    },
    {
      "cell_type": "code",
      "source": [
        "!wget 'https://raw.githubusercontent.com/IntelligentDDS/SwissLog/main/log_parser/EngCorpus.pkl'\n",
        "!wget 'https://raw.githubusercontent.com/IntelligentDDS/SwissLog/main/log_parser/offline_logparser/layers/tokenize_group_layer.py'\n",
        "!wget 'https://raw.githubusercontent.com/IntelligentDDS/SwissLog/main/log_parser/offline_logparser/layers/mask_layer.py'\n",
        "!wget 'https://raw.githubusercontent.com/IntelligentDDS/SwissLog/main/log_parser/offline_logparser/layers/knowledge_layer.py'\n",
        "!wget 'https://raw.githubusercontent.com/IntelligentDDS/SwissLog/main/log_parser/offline_logparser/layers/file_output_layer.py'\n",
        "!wget 'https://raw.githubusercontent.com/IntelligentDDS/SwissLog/main/log_parser/offline_logparser/layers/dict_group_layer.py'\n",
        "!wget 'https://raw.githubusercontent.com/IntelligentDDS/SwissLog/main/log_parser/offline_logparser/evaluator/evaluator.py'\n"
      ],
      "metadata": {
        "colab": {
          "base_uri": "https://localhost:8080/"
        },
        "id": "2S6Ps4ORioit",
        "outputId": "0ea82df6-395f-4469-bfae-5949a5133646"
      },
      "execution_count": 1,
      "outputs": [
        {
          "output_type": "stream",
          "name": "stdout",
          "text": [
            "--2023-08-03 06:19:21--  https://raw.githubusercontent.com/IntelligentDDS/SwissLog/main/log_parser/EngCorpus.pkl\n",
            "Resolving raw.githubusercontent.com (raw.githubusercontent.com)... 185.199.108.133, 185.199.109.133, 185.199.110.133, ...\n",
            "Connecting to raw.githubusercontent.com (raw.githubusercontent.com)|185.199.108.133|:443... connected.\n",
            "HTTP request sent, awaiting response... 200 OK\n",
            "Length: 412351 (403K) [text/plain]\n",
            "Saving to: ‘EngCorpus.pkl’\n",
            "\n",
            "EngCorpus.pkl       100%[===================>] 402.69K  --.-KB/s    in 0.04s   \n",
            "\n",
            "2023-08-03 06:19:21 (11.1 MB/s) - ‘EngCorpus.pkl’ saved [412351/412351]\n",
            "\n",
            "--2023-08-03 06:19:21--  https://raw.githubusercontent.com/IntelligentDDS/SwissLog/main/log_parser/offline_logparser/layers/tokenize_group_layer.py\n",
            "Resolving raw.githubusercontent.com (raw.githubusercontent.com)... 185.199.108.133, 185.199.109.133, 185.199.110.133, ...\n",
            "Connecting to raw.githubusercontent.com (raw.githubusercontent.com)|185.199.108.133|:443... connected.\n",
            "HTTP request sent, awaiting response... 200 OK\n",
            "Length: 1559 (1.5K) [text/plain]\n",
            "Saving to: ‘tokenize_group_layer.py’\n",
            "\n",
            "tokenize_group_laye 100%[===================>]   1.52K  --.-KB/s    in 0s      \n",
            "\n",
            "2023-08-03 06:19:21 (24.1 MB/s) - ‘tokenize_group_layer.py’ saved [1559/1559]\n",
            "\n",
            "--2023-08-03 06:19:21--  https://raw.githubusercontent.com/IntelligentDDS/SwissLog/main/log_parser/offline_logparser/layers/mask_layer.py\n",
            "Resolving raw.githubusercontent.com (raw.githubusercontent.com)... 185.199.110.133, 185.199.109.133, 185.199.108.133, ...\n",
            "Connecting to raw.githubusercontent.com (raw.githubusercontent.com)|185.199.110.133|:443... connected.\n",
            "HTTP request sent, awaiting response... 200 OK\n",
            "Length: 5279 (5.2K) [text/plain]\n",
            "Saving to: ‘mask_layer.py’\n",
            "\n",
            "mask_layer.py       100%[===================>]   5.16K  --.-KB/s    in 0s      \n",
            "\n",
            "2023-08-03 06:19:21 (60.2 MB/s) - ‘mask_layer.py’ saved [5279/5279]\n",
            "\n",
            "--2023-08-03 06:19:21--  https://raw.githubusercontent.com/IntelligentDDS/SwissLog/main/log_parser/offline_logparser/layers/knowledge_layer.py\n",
            "Resolving raw.githubusercontent.com (raw.githubusercontent.com)... 185.199.108.133, 185.199.109.133, 185.199.110.133, ...\n",
            "Connecting to raw.githubusercontent.com (raw.githubusercontent.com)|185.199.108.133|:443... connected.\n",
            "HTTP request sent, awaiting response... 200 OK\n",
            "Length: 1234 (1.2K) [text/plain]\n",
            "Saving to: ‘knowledge_layer.py’\n",
            "\n",
            "knowledge_layer.py  100%[===================>]   1.21K  --.-KB/s    in 0s      \n",
            "\n",
            "2023-08-03 06:19:22 (25.2 MB/s) - ‘knowledge_layer.py’ saved [1234/1234]\n",
            "\n",
            "--2023-08-03 06:19:22--  https://raw.githubusercontent.com/IntelligentDDS/SwissLog/main/log_parser/offline_logparser/layers/file_output_layer.py\n",
            "Resolving raw.githubusercontent.com (raw.githubusercontent.com)... 185.199.108.133, 185.199.109.133, 185.199.110.133, ...\n",
            "Connecting to raw.githubusercontent.com (raw.githubusercontent.com)|185.199.108.133|:443... connected.\n",
            "HTTP request sent, awaiting response... 200 OK\n",
            "Length: 1734 (1.7K) [text/plain]\n",
            "Saving to: ‘file_output_layer.py’\n",
            "\n",
            "file_output_layer.p 100%[===================>]   1.69K  --.-KB/s    in 0s      \n",
            "\n",
            "2023-08-03 06:19:22 (28.9 MB/s) - ‘file_output_layer.py’ saved [1734/1734]\n",
            "\n",
            "--2023-08-03 06:19:22--  https://raw.githubusercontent.com/IntelligentDDS/SwissLog/main/log_parser/offline_logparser/layers/dict_group_layer.py\n",
            "Resolving raw.githubusercontent.com (raw.githubusercontent.com)... 185.199.108.133, 185.199.109.133, 185.199.110.133, ...\n",
            "Connecting to raw.githubusercontent.com (raw.githubusercontent.com)|185.199.108.133|:443... connected.\n",
            "HTTP request sent, awaiting response... 200 OK\n",
            "Length: 2190 (2.1K) [text/plain]\n",
            "Saving to: ‘dict_group_layer.py’\n",
            "\n",
            "dict_group_layer.py 100%[===================>]   2.14K  --.-KB/s    in 0s      \n",
            "\n",
            "2023-08-03 06:19:22 (31.3 MB/s) - ‘dict_group_layer.py’ saved [2190/2190]\n",
            "\n",
            "--2023-08-03 06:19:22--  https://raw.githubusercontent.com/IntelligentDDS/SwissLog/main/log_parser/offline_logparser/evaluator/evaluator.py\n",
            "Resolving raw.githubusercontent.com (raw.githubusercontent.com)... 185.199.108.133, 185.199.109.133, 185.199.110.133, ...\n",
            "Connecting to raw.githubusercontent.com (raw.githubusercontent.com)|185.199.108.133|:443... connected.\n",
            "HTTP request sent, awaiting response... 200 OK\n",
            "Length: 3660 (3.6K) [text/plain]\n",
            "Saving to: ‘evaluator.py’\n",
            "\n",
            "evaluator.py        100%[===================>]   3.57K  --.-KB/s    in 0s      \n",
            "\n",
            "2023-08-03 06:19:23 (56.7 MB/s) - ‘evaluator.py’ saved [3660/3660]\n",
            "\n"
          ]
        }
      ]
    },
    {
      "cell_type": "code",
      "source": [
        "# upload logs\n",
        "!wget 'https://raw.githubusercontent.com/logpai/loghub/master/HDFS/HDFS_2k.log'"
      ],
      "metadata": {
        "colab": {
          "base_uri": "https://localhost:8080/"
        },
        "id": "OLnPTQHcmc2i",
        "outputId": "7a5c7479-2fea-4d15-9508-4ab1852b4b9a"
      },
      "execution_count": 2,
      "outputs": [
        {
          "output_type": "stream",
          "name": "stdout",
          "text": [
            "--2023-08-03 06:19:23--  https://raw.githubusercontent.com/logpai/loghub/master/HDFS/HDFS_2k.log\n",
            "Resolving raw.githubusercontent.com (raw.githubusercontent.com)... 185.199.108.133, 185.199.109.133, 185.199.110.133, ...\n",
            "Connecting to raw.githubusercontent.com (raw.githubusercontent.com)|185.199.108.133|:443... connected.\n",
            "HTTP request sent, awaiting response... 200 OK\n",
            "Length: 285848 (279K) [text/plain]\n",
            "Saving to: ‘HDFS_2k.log’\n",
            "\n",
            "HDFS_2k.log         100%[===================>] 279.15K  --.-KB/s    in 0.03s   \n",
            "\n",
            "2023-08-03 06:19:23 (8.61 MB/s) - ‘HDFS_2k.log’ saved [285848/285848]\n",
            "\n"
          ]
        }
      ]
    },
    {
      "cell_type": "code",
      "source": [
        "import sys\n",
        "sys.path.append('/content/') #to be able for importing libarary from this address"
      ],
      "metadata": {
        "id": "5Nefj_fskx7G"
      },
      "execution_count": 3,
      "outputs": []
    },
    {
      "cell_type": "code",
      "source": [
        "!pip install wordninja"
      ],
      "metadata": {
        "colab": {
          "base_uri": "https://localhost:8080/"
        },
        "id": "4tgpcBZHlxFG",
        "outputId": "882a3070-2e82-40e8-9e42-86f039ba5928"
      },
      "execution_count": 4,
      "outputs": [
        {
          "output_type": "stream",
          "name": "stdout",
          "text": [
            "Collecting wordninja\n",
            "  Downloading wordninja-2.0.0.tar.gz (541 kB)\n",
            "\u001b[2K     \u001b[90m━━━━━━━━━━━━━━━━━━━━━━━━━━━━━━━━━━━━━━━\u001b[0m \u001b[32m541.6/541.6 kB\u001b[0m \u001b[31m4.7 MB/s\u001b[0m eta \u001b[36m0:00:00\u001b[0m\n",
            "\u001b[?25h  Preparing metadata (setup.py) ... \u001b[?25l\u001b[?25hdone\n",
            "Building wheels for collected packages: wordninja\n",
            "  Building wheel for wordninja (setup.py) ... \u001b[?25l\u001b[?25hdone\n",
            "  Created wheel for wordninja: filename=wordninja-2.0.0-py3-none-any.whl size=541529 sha256=7ba6962f9712d498560020f17be69bc041727a10bdf58965313de6ec7ba968ab\n",
            "  Stored in directory: /root/.cache/pip/wheels/aa/44/3a/f2a5c1859b8b541ded969b4cd12d0a58897f12408f4f51e084\n",
            "Successfully built wordninja\n",
            "Installing collected packages: wordninja\n",
            "Successfully installed wordninja-2.0.0\n"
          ]
        }
      ]
    },
    {
      "cell_type": "code",
      "source": [
        "from file_output_layer import FileOutputLayer\n",
        "from knowledge_layer import KnowledgeGroupLayer\n",
        "from mask_layer import MaskLayer\n",
        "from tokenize_group_layer import TokenizeGroupLayer\n",
        "from dict_group_layer import DictGroupLayer\n",
        "import evaluator\n",
        "\n",
        "import os\n",
        "import re\n",
        "import string\n",
        "import hashlib\n",
        "from datetime import datetime\n",
        "from tqdm import tqdm\n",
        "import pandas as pd"
      ],
      "metadata": {
        "id": "0CaF5ko3iS7m"
      },
      "execution_count": 5,
      "outputs": []
    },
    {
      "cell_type": "code",
      "source": [
        "input_dir = '/content/' # The input directory of log file\n",
        "output_dir = 'LogParserResult/' # The output directory of parsing results"
      ],
      "metadata": {
        "id": "Hx8zCbd-8O9o"
      },
      "execution_count": 6,
      "outputs": []
    },
    {
      "cell_type": "code",
      "source": [
        "log_file = 'HDFS_2k.log'\n",
        "log_format =  '<Date> <Time> <Pid> <Level> <Component>: <Content>'\n",
        "regex = [r'blk_-?\\d+', r'(\\d+\\.){3}\\d+(:\\d+)?']\n"
      ],
      "metadata": {
        "id": "kpuUiCSgNNVA"
      },
      "execution_count": 7,
      "outputs": []
    },
    {
      "cell_type": "code",
      "source": [
        "setting = {\n",
        "        'log_file': 'HDFS_2k.log',\n",
        "        'log_format': '<Date> <Time> <Pid> <Level> <Component>: <Content>',\n",
        "        'regex': [r'blk_-?\\d+', r'(\\d+\\.){3}\\d+(:\\d+)?']\n",
        "        }"
      ],
      "metadata": {
        "id": "HlgeHty19gm_"
      },
      "execution_count": 8,
      "outputs": []
    },
    {
      "cell_type": "code",
      "source": [
        "def generate_logformat_regex(logformat):\n",
        "    \"\"\" Function to generate regular expression to split log messages\n",
        "    \"\"\"\n",
        "    headers = []\n",
        "    splitters = re.split(r'(<[^<>]+>)', logformat)\n",
        "    regex = ''\n",
        "    for k in range(len(splitters)):\n",
        "        if k % 2 == 0:\n",
        "            splitter = re.sub(' +', '\\\\\\s+', splitters[k])\n",
        "            regex += splitter\n",
        "        else:\n",
        "            header = splitters[k].strip('<').strip('>')\n",
        "            regex += '(?P<%s>.*?)' % header\n",
        "            headers.append(header)\n",
        "    regex = re.compile('^' + regex + '$')\n",
        "    return headers, regex\n",
        "\n"
      ],
      "metadata": {
        "id": "aeEMmQpHihDL"
      },
      "execution_count": 9,
      "outputs": []
    },
    {
      "cell_type": "code",
      "source": [
        "def load_logs(log_file, regex, headers):\n",
        "    \"\"\" Function to transform log file to dataframe\n",
        "    \"\"\"\n",
        "    log_messages = dict()\n",
        "    linecount = 0\n",
        "    with open(log_file, 'r') as fin:\n",
        "        for line in tqdm(fin.readlines(), desc='load data'):\n",
        "\n",
        "            try:\n",
        "                linecount += 1\n",
        "                match = regex.search(line.strip())\n",
        "                message = dict()\n",
        "                for header in headers:\n",
        "                    message[header] = match.group(header)\n",
        "                message['LineId'] = linecount\n",
        "                log_messages[linecount] = message\n",
        "            except Exception as e:\n",
        "                pass\n",
        "    return log_messages"
      ],
      "metadata": {
        "id": "_liVNau4ic6i"
      },
      "execution_count": 10,
      "outputs": []
    },
    {
      "cell_type": "code",
      "source": [
        "headers, regex = generate_logformat_regex(setting['log_format'])\n",
        "log_messages = load_logs('/content/HDFS_2k.log', regex, headers)\n",
        "# preprocess layer\n",
        "log_messages = KnowledgeGroupLayer(log_messages).run()\n",
        "# tokenize layer\n",
        "log_messages = TokenizeGroupLayer(log_messages, rex=setting['regex']).run()\n",
        "# dictionarize layer and cluster by wordset\n",
        "dict_group_result = DictGroupLayer(log_messages, '/content/EngCorpus.pkl').run()\n",
        "# apply LCS and prefix tree\n",
        "results, templates = MaskLayer(dict_group_result).run()"
      ],
      "metadata": {
        "colab": {
          "base_uri": "https://localhost:8080/"
        },
        "id": "o78U-FSo9I73",
        "outputId": "ff5a5a02-2806-40b9-a600-87493077b151"
      },
      "execution_count": 11,
      "outputs": [
        {
          "output_type": "stream",
          "name": "stderr",
          "text": [
            "load data: 100%|██████████| 2000/2000 [00:00<00:00, 77074.97it/s]\n",
            "priori knowledge preprocess: 100%|██████████| 2000/2000 [00:00<00:00, 21620.12it/s]\n"
          ]
        },
        {
          "output_type": "stream",
          "name": "stdout",
          "text": [
            "Knowledge group layer finished.\n"
          ]
        },
        {
          "output_type": "stream",
          "name": "stderr",
          "text": [
            "tokenization: 100%|██████████| 2000/2000 [00:00<00:00, 22337.22it/s]\n"
          ]
        },
        {
          "output_type": "stream",
          "name": "stdout",
          "text": [
            "Tokenization layer finished.\n"
          ]
        },
        {
          "output_type": "stream",
          "name": "stderr",
          "text": [
            "dictionaried: 100%|██████████| 2000/2000 [00:00<00:00, 6228.91it/s]\n",
            "group by wordset: 100%|██████████| 2000/2000 [00:00<00:00, 447655.05it/s]\n"
          ]
        },
        {
          "output_type": "stream",
          "name": "stdout",
          "text": [
            "After Dictionary Group, total: 14 bin(s)\n"
          ]
        },
        {
          "output_type": "stream",
          "name": "stderr",
          "text": [
            "apply LCS in one cluster: 100%|██████████| 14/14 [00:00<00:00, 128.61it/s]\n",
            "merge using prefix tree: 100%|██████████| 14/14 [00:00<00:00, 50231.19it/s]\n",
            "generate output: 100%|██████████| 14/14 [00:00<00:00, 3094.12it/s]"
          ]
        },
        {
          "output_type": "stream",
          "name": "stdout",
          "text": [
            "After mask layer finish, tot, total: 14 bin(s)\n"
          ]
        },
        {
          "output_type": "stream",
          "name": "stderr",
          "text": [
            "\n"
          ]
        }
      ]
    },
    {
      "cell_type": "code",
      "source": [
        "FileOutputLayer(log_messages, '/content/results/HDFS', templates, ['LineId'] + headers).run()"
      ],
      "metadata": {
        "id": "WhSyIZv_96Sa"
      },
      "execution_count": 12,
      "outputs": []
    }
  ]
}