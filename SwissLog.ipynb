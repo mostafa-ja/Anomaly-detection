{
  "nbformat": 4,
  "nbformat_minor": 0,
  "metadata": {
    "colab": {
      "provenance": [],
      "authorship_tag": "ABX9TyNkPh6CqEivTFUdMehQ5SL9",
      "include_colab_link": true
    },
    "kernelspec": {
      "name": "python3",
      "display_name": "Python 3"
    },
    "language_info": {
      "name": "python"
    }
  },
  "cells": [
    {
      "cell_type": "markdown",
      "metadata": {
        "id": "view-in-github",
        "colab_type": "text"
      },
      "source": [
        "<a href=\"https://colab.research.google.com/github/mostafa-ja/Anomaly-detection/blob/main/SwissLog.ipynb\" target=\"_parent\"><img src=\"https://colab.research.google.com/assets/colab-badge.svg\" alt=\"Open In Colab\"/></a>"
      ]
    },
    {
      "cell_type": "code",
      "source": [
        "!wget 'https://raw.githubusercontent.com/IntelligentDDS/SwissLog/main/log_parser/EngCorpus.pkl'\n",
        "!wget 'https://raw.githubusercontent.com/IntelligentDDS/SwissLog/main/log_parser/offline_logparser/layers/tokenize_group_layer.py'\n",
        "!wget 'https://raw.githubusercontent.com/IntelligentDDS/SwissLog/main/log_parser/offline_logparser/layers/mask_layer.py'\n",
        "!wget 'https://raw.githubusercontent.com/IntelligentDDS/SwissLog/main/log_parser/offline_logparser/layers/knowledge_layer.py'\n",
        "!wget 'https://raw.githubusercontent.com/IntelligentDDS/SwissLog/main/log_parser/offline_logparser/layers/file_output_layer.py'\n",
        "!wget 'https://raw.githubusercontent.com/IntelligentDDS/SwissLog/main/log_parser/offline_logparser/layers/dict_group_layer.py'\n",
        "!wget 'https://raw.githubusercontent.com/IntelligentDDS/SwissLog/main/log_parser/offline_logparser/evaluator/evaluator.py'\n"
      ],
      "metadata": {
        "id": "2S6Ps4ORioit"
      },
      "execution_count": null,
      "outputs": []
    },
    {
      "cell_type": "code",
      "source": [
        "import sys\n",
        "sys.path.append('/content/') #to be able for importing libarary from this address"
      ],
      "metadata": {
        "id": "5Nefj_fskx7G"
      },
      "execution_count": 3,
      "outputs": []
    },
    {
      "cell_type": "code",
      "source": [
        "!pip install wordninja"
      ],
      "metadata": {
        "colab": {
          "base_uri": "https://localhost:8080/"
        },
        "id": "4tgpcBZHlxFG",
        "outputId": "78684ac6-014b-43a2-df77-b778253ba863"
      },
      "execution_count": 9,
      "outputs": [
        {
          "output_type": "stream",
          "name": "stdout",
          "text": [
            "Collecting wordninja\n",
            "  Downloading wordninja-2.0.0.tar.gz (541 kB)\n",
            "\u001b[?25l     \u001b[90m━━━━━━━━━━━━━━━━━━━━━━━━━━━━━━━━━━━━━━━━\u001b[0m \u001b[32m0.0/541.6 kB\u001b[0m \u001b[31m?\u001b[0m eta \u001b[36m-:--:--\u001b[0m\r\u001b[2K     \u001b[91m━━━━━\u001b[0m\u001b[90m╺\u001b[0m\u001b[90m━━━━━━━━━━━━━━━━━━━━━━━━━━━━━━━━━━\u001b[0m \u001b[32m71.7/541.6 kB\u001b[0m \u001b[31m2.0 MB/s\u001b[0m eta \u001b[36m0:00:01\u001b[0m\r\u001b[2K     \u001b[91m━━━━━━━━━━━━━━━━━━━━━━━━━━\u001b[0m\u001b[91m╸\u001b[0m\u001b[90m━━━━━━━━━━━━\u001b[0m \u001b[32m368.6/541.6 kB\u001b[0m \u001b[31m5.3 MB/s\u001b[0m eta \u001b[36m0:00:01\u001b[0m\r\u001b[2K     \u001b[90m━━━━━━━━━━━━━━━━━━━━━━━━━━━━━━━━━━━━━━━\u001b[0m \u001b[32m541.6/541.6 kB\u001b[0m \u001b[31m5.3 MB/s\u001b[0m eta \u001b[36m0:00:00\u001b[0m\n",
            "\u001b[?25h  Preparing metadata (setup.py) ... \u001b[?25l\u001b[?25hdone\n",
            "Building wheels for collected packages: wordninja\n",
            "  Building wheel for wordninja (setup.py) ... \u001b[?25l\u001b[?25hdone\n",
            "  Created wheel for wordninja: filename=wordninja-2.0.0-py3-none-any.whl size=541529 sha256=074ce7d50e52e50f17187b24b16bfea33eae7d46147c219dfc27b5238c233f5c\n",
            "  Stored in directory: /root/.cache/pip/wheels/aa/44/3a/f2a5c1859b8b541ded969b4cd12d0a58897f12408f4f51e084\n",
            "Successfully built wordninja\n",
            "Installing collected packages: wordninja\n",
            "Successfully installed wordninja-2.0.0\n"
          ]
        }
      ]
    },
    {
      "cell_type": "code",
      "source": [
        "from file_output_layer import FileOutputLayer\n",
        "from knowledge_layer import KnowledgeGroupLayer\n",
        "from mask_layer import MaskLayer\n",
        "from tokenize_group_layer import TokenizeGroupLayer\n",
        "from dict_group_layer import DictGroupLayer\n",
        "import evaluator\n",
        "\n",
        "import os\n",
        "import re\n",
        "import string\n",
        "import hashlib\n",
        "from datetime import datetime\n",
        "from tqdm import tqdm\n",
        "import pandas as pd"
      ],
      "metadata": {
        "id": "0CaF5ko3iS7m"
      },
      "execution_count": 11,
      "outputs": []
    },
    {
      "cell_type": "code",
      "source": [
        "input_dir = '../logs/' # The input directory of log file\n",
        "output_dir = 'LogParserResult/' # The output directory of parsing results\n",
        "\n",
        "\n",
        "def load_logs(log_file, regex, headers):\n",
        "    \"\"\" Function to transform log file to dataframe\n",
        "    \"\"\"\n",
        "    log_messages = dict()\n",
        "    linecount = 0\n",
        "    with open(log_file, 'r') as fin:\n",
        "        for line in tqdm(fin.readlines(), desc='load data'):\n",
        "            try:\n",
        "                linecount += 1\n",
        "                match = regex.search(line.strip())\n",
        "                message = dict()\n",
        "                for header in headers:\n",
        "                    message[header] = match.group(header)\n",
        "                message['LineId'] = linecount\n",
        "                log_messages[linecount] = message\n",
        "            except Exception as e:\n",
        "                pass\n",
        "    return log_messages"
      ],
      "metadata": {
        "id": "_liVNau4ic6i"
      },
      "execution_count": null,
      "outputs": []
    },
    {
      "cell_type": "code",
      "source": [
        "def generate_logformat_regex(logformat):\n",
        "    \"\"\" Function to generate regular expression to split log messages\n",
        "    \"\"\"\n",
        "    headers = []\n",
        "    splitters = re.split(r'(<[^<>]+>)', logformat)\n",
        "    regex = ''\n",
        "    for k in range(len(splitters)):\n",
        "        if k % 2 == 0:\n",
        "            splitter = re.sub(' +', '\\\\\\s+', splitters[k])\n",
        "            regex += splitter\n",
        "        else:\n",
        "            header = splitters[k].strip('<').strip('>')\n",
        "            regex += '(?P<%s>.*?)' % header\n",
        "            headers.append(header)\n",
        "    regex = re.compile('^' + regex + '$')\n",
        "    return headers, regex\n",
        "\n",
        "benchmark_settings = {\n",
        "    'HDFS': {\n",
        "        'log_file': 'HDFS/HDFS_2k.log',\n",
        "        'log_format': '<Date> <Time> <Pid> <Level> <Component>: <Content>',\n",
        "        'regex': [r'blk_-?\\d+', r'(\\d+\\.){3}\\d+(:\\d+)?']\n",
        "        }\n",
        "}"
      ],
      "metadata": {
        "id": "aeEMmQpHihDL"
      },
      "execution_count": null,
      "outputs": []
    },
    {
      "cell_type": "code",
      "execution_count": null,
      "metadata": {
        "id": "05eUICg0iHeq"
      },
      "outputs": [],
      "source": [
        "\n",
        "\n",
        "\n",
        "\n",
        "if __name__ == '__main__':\n",
        "\n",
        "    parser = argparse.ArgumentParser()\n",
        "    parser.add_argument('--dictionary', default='../EngCorpus.pkl', type=str)\n",
        "    args = parser.parse_args()\n",
        "    corpus = args.dictionary\n",
        "\n",
        "    benchmark_result = []\n",
        "    for dataset, setting in benchmark_settings.items():\n",
        "        print('\\n=== Evaluation on %s ==='%dataset)\n",
        "        indir = os.path.join(input_dir, os.path.dirname(setting['log_file']))\n",
        "        outdir = os.path.join(output_dir, os.path.dirname(setting['log_file']))\n",
        "        log_file = os.path.basename(setting['log_file'])\n",
        "\n",
        "        filepath = os.path.join(indir, log_file)\n",
        "        print('Parsing file: ' + filepath)\n",
        "        starttime = datetime.now()\n",
        "        headers, regex = generate_logformat_regex(setting['log_format'])\n",
        "        log_messages = load_logs(filepath, regex, headers)\n",
        "        # preprocess layer\n",
        "        log_messages = KnowledgeGroupLayer(log_messages).run()\n",
        "        # tokenize layer\n",
        "        log_messages = TokenizeGroupLayer(log_messages, rex=setting['regex']).run()\n",
        "        # dictionarize layer and cluster by wordset\n",
        "        dict_group_result = DictGroupLayer(log_messages, corpus).run()\n",
        "        # apply LCS and prefix tree\n",
        "        results, templates = MaskLayer(dict_group_result).run()\n",
        "        output_file = os.path.join(outdir, log_file)\n",
        "        # output parsing results\n",
        "        FileOutputLayer(log_messages, output_file, templates, ['LineId'] + headers).run()\n",
        "        print('Parsing done. [Time taken: {!s}]'.format(datetime.now() - starttime))\n",
        "        F1_measure, accuracy = evaluator.evaluate(\n",
        "                            groundtruth=os.path.join(indir, log_file + '_structured.csv'),\n",
        "                            parsedresult=os.path.join(outdir, log_file + '_structured.csv')\n",
        "                            )\n",
        "        benchmark_result.append([dataset, F1_measure, accuracy])\n",
        "\n",
        "    print('\\n=== Overall evaluation results ===')\n",
        "    avg_accr = 0\n",
        "    for i in range(len(benchmark_result)):\n",
        "        avg_accr += benchmark_result[i][2]\n",
        "    avg_accr /= len(benchmark_result)\n",
        "    pd_result = pd.DataFrame(benchmark_result, columns={'dataset', 'F1_measure', 'Accuracy'})\n",
        "    print(pd_result)\n",
        "    print('avarage accuracy is {}'.format(avg_accr))\n",
        "    pd_result.to_csv('benchmark_result.csv', index=False)\n"
      ]
    }
  ]
}