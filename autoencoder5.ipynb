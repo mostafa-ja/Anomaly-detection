{
  "nbformat": 4,
  "nbformat_minor": 0,
  "metadata": {
    "colab": {
      "provenance": [],
      "authorship_tag": "ABX9TyPIU/SA3p2gqi8bNzFyFg6j",
      "include_colab_link": true
    },
    "kernelspec": {
      "name": "python3",
      "display_name": "Python 3"
    },
    "language_info": {
      "name": "python"
    }
  },
  "cells": [
    {
      "cell_type": "markdown",
      "metadata": {
        "id": "view-in-github",
        "colab_type": "text"
      },
      "source": [
        "<a href=\"https://colab.research.google.com/github/mostafa-ja/Anomaly-detection/blob/main/autoencoder5.ipynb\" target=\"_parent\"><img src=\"https://colab.research.google.com/assets/colab-badge.svg\" alt=\"Open In Colab\"/></a>"
      ]
    },
    {
      "cell_type": "code",
      "execution_count": 2,
      "metadata": {
        "colab": {
          "base_uri": "https://localhost:8080/"
        },
        "id": "gIppU8PXpm-J",
        "outputId": "61cac38a-b3de-43b2-eb40-5f90db8f06ea"
      },
      "outputs": [
        {
          "output_type": "stream",
          "name": "stdout",
          "text": [
            "Mounted at /content/drive\n"
          ]
        }
      ],
      "source": [
        "# we upload, in case that we cant parse logs(a lot of time and ram consumption)\n",
        "\n",
        "# Mount Google Drive to save datasets\n",
        "from google.colab import drive\n",
        "drive.mount('/content/drive')"
      ]
    },
    {
      "cell_type": "code",
      "source": [
        "#copy log file\n",
        "!cp '/content/drive/MyDrive/zHDFS2/logs_train' '/content/'\n",
        "!cp '/content/drive/MyDrive/zHDFS2/logs_ntest' '/content/'\n",
        "!cp '/content/drive/MyDrive/zHDFS2/logs_atest' '/content/'\n",
        "!cp '/content/drive/MyDrive/zHDFS2/log2index' '/content/'\n",
        "!cp '/content/drive/MyDrive/zHDFS2/reduced_embeddings' '/content/'\n"
      ],
      "metadata": {
        "id": "jIINrPiNqE_a"
      },
      "execution_count": 3,
      "outputs": []
    },
    {
      "cell_type": "code",
      "source": [
        "import pandas as pd\n",
        "import json\n",
        "\n",
        "import time\n",
        "import torch\n",
        "import torch.nn as nn\n",
        "import torch.optim as optim\n",
        "from torch.utils.data import TensorDataset, DataLoader\n",
        "import os\n",
        "import numpy as np\n",
        "\n",
        "\n",
        "# Device configuration\n",
        "device = torch.device(\"cuda\" if torch.cuda.is_available() else \"cpu\")"
      ],
      "metadata": {
        "id": "jd9WP1rSrLSh"
      },
      "execution_count": 4,
      "outputs": []
    },
    {
      "cell_type": "code",
      "source": [
        "with open('/content/reduced_embeddings', 'r') as json_file:\n",
        "    embeddings = json.load(json_file)"
      ],
      "metadata": {
        "id": "gG19wcyUyWyv"
      },
      "execution_count": 5,
      "outputs": []
    },
    {
      "cell_type": "code",
      "source": [
        "len(embeddings[0])\n"
      ],
      "metadata": {
        "colab": {
          "base_uri": "https://localhost:8080/"
        },
        "id": "ySn0vNy33IL_",
        "outputId": "258b5565-ce9a-4c0b-ee6b-ea8bbc77d7db"
      },
      "execution_count": 19,
      "outputs": [
        {
          "output_type": "execute_result",
          "data": {
            "text/plain": [
              "10"
            ]
          },
          "metadata": {},
          "execution_count": 19
        }
      ]
    },
    {
      "cell_type": "code",
      "source": [
        "# all unique templates in our train datasets\n",
        "\n",
        "dataset = 'logs_train'\n",
        "templates = set()\n",
        "\n",
        "with open('/content/' + dataset, 'r') as f:\n",
        "        for row in f:\n",
        "          for temp in row.split():\n",
        "            templates.add(temp)\n",
        "\n",
        "print(sorted(templates))\n",
        "print('nember of templates : ',len(templates))"
      ],
      "metadata": {
        "colab": {
          "base_uri": "https://localhost:8080/"
        },
        "id": "qxhTbLkMzdpG",
        "outputId": "cfbe1699-2f4c-4999-f50f-73e1698a1b41"
      },
      "execution_count": 6,
      "outputs": [
        {
          "output_type": "stream",
          "name": "stdout",
          "text": [
            "['0', '1', '10', '11', '12', '13', '14', '15', '16', '2', '3', '4', '5', '6', '7', '8', '9']\n",
            "nember of templates :  17\n"
          ]
        }
      ]
    },
    {
      "cell_type": "code",
      "source": [
        "# all unique templates in our test datasets\n",
        "\n",
        "datasets = ['logs_ntest','logs_atest']\n",
        "templates = set()\n",
        "\n",
        "for dataset in datasets:\n",
        "  with open('/content/' + dataset, 'r') as f:\n",
        "          for row in f:\n",
        "            for temp in row.split():\n",
        "              templates.add(temp)\n",
        "\n",
        "print(sorted(templates))\n",
        "print('nember of templates : ',len(templates))"
      ],
      "metadata": {
        "colab": {
          "base_uri": "https://localhost:8080/"
        },
        "id": "CTykxgPp0Q3i",
        "outputId": "67853d65-0bf3-4ba3-c6a8-c39b17da300f"
      },
      "execution_count": 7,
      "outputs": [
        {
          "output_type": "stream",
          "name": "stdout",
          "text": [
            "['0', '1', '10', '11', '12', '13', '14', '15', '16', '17', '18', '19', '2', '20', '21', '22', '23', '24', '25', '26', '27', '28', '29', '3', '30', '31', '32', '33', '34', '35', '36', '37', '38', '39', '4', '40', '41', '42', '43', '44', '45', '46', '47', '48', '49', '5', '50', '51', '6', '7', '8', '9']\n",
            "nember of templates :  52\n"
          ]
        }
      ]
    },
    {
      "cell_type": "code",
      "source": [
        "\n",
        "name = 'logs_train'\n",
        "window_size = 10\n",
        "num_sessions = 0\n",
        "inputs = []\n",
        "#outputs = []\n",
        "\n",
        "with open('/content/' + name, 'r') as f:\n",
        "        for row in f:\n",
        "            num_sessions += 1\n",
        "            line = [ embeddings[int(i)] for i in row.strip().split()]\n",
        "            for i in range(len(line) - window_size):\n",
        "                inputs.append(line[i:i + window_size])\n",
        "                #outputs.append(line[i + window_size])\n",
        "\n",
        "print('Number of sessions({}): {}'.format(name, num_sessions))\n",
        "print('Number of seqs({}): {}'.format(name, len(inputs)))\n",
        "#dataset = TensorDataset(torch.tensor(inputs, dtype=torch.float), torch.tensor(outputs))\n",
        "dataset = TensorDataset(torch.tensor(inputs, dtype=torch.float))"
      ],
      "metadata": {
        "colab": {
          "base_uri": "https://localhost:8080/"
        },
        "id": "ZIwHnSfe0f3k",
        "outputId": "41991b60-11b1-485b-87e1-44003ecb304a"
      },
      "execution_count": 49,
      "outputs": [
        {
          "output_type": "stream",
          "name": "stdout",
          "text": [
            "Number of sessions(logs_train): 446578\n",
            "Number of seqs(logs_train): 4704000\n"
          ]
        }
      ]
    },
    {
      "cell_type": "code",
      "source": [
        "print(inputs[0])"
      ],
      "metadata": {
        "colab": {
          "base_uri": "https://localhost:8080/"
        },
        "id": "tnJelwhq5M9E",
        "outputId": "660870e0-c978-4f72-a1f5-8ab086d80a65"
      },
      "execution_count": 52,
      "outputs": [
        {
          "output_type": "stream",
          "name": "stdout",
          "text": [
            "[[-0.3891972303390503, 0.12810246646404266, -0.07853731513023376, -0.10766388475894928, 0.23173417150974274, -0.08228960633277893, 0.017653826624155045, -0.030952107161283493, 0.040218982845544815, 0.030139772221446037], [0.38630372285842896, -0.12673094868659973, -0.11596252024173737, -0.18444840610027313, 0.08815333247184753, -0.02099493145942688, 0.10797911882400513, -0.09289209544658661, -0.05879585072398186, 0.03421926125884056], [-0.3891972303390503, 0.12810246646404266, -0.07853731513023376, -0.10766388475894928, 0.23173417150974274, -0.08228960633277893, 0.017653826624155045, -0.030952107161283493, 0.040218982845544815, 0.030139772221446037], [-0.3891972303390503, 0.12810246646404266, -0.07853731513023376, -0.10766388475894928, 0.23173417150974274, -0.08228960633277893, 0.017653826624155045, -0.030952107161283493, 0.040218982845544815, 0.030139772221446037], [-0.21878856420516968, -0.2136467546224594, 0.04706411808729172, 0.20318950712680817, -0.24529194831848145, 0.021229250356554985, 0.27597615122795105, -0.07408243417739868, 0.07361564040184021, 0.026193594560027122], [-0.21878856420516968, -0.2136467546224594, 0.04706411808729172, 0.20318950712680817, -0.24529194831848145, 0.021229250356554985, 0.27597615122795105, -0.07408243417739868, 0.07361564040184021, 0.026193594560027122], [-0.22215509414672852, -0.19491028785705566, -0.1123443990945816, 0.38605520129203796, 0.0065366122871637344, 0.06525123864412308, 0.11776842176914215, 0.06551230698823929, -0.07805070281028748, -0.0737701952457428], [-0.22215509414672852, -0.19491028785705566, -0.1123443990945816, 0.38605520129203796, 0.0065366122871637344, 0.06525123864412308, 0.11776842176914215, 0.06551230698823929, -0.07805070281028748, -0.0737701952457428], [-0.21878856420516968, -0.2136467546224594, 0.04706411808729172, 0.20318950712680817, -0.24529194831848145, 0.021229250356554985, 0.27597615122795105, -0.07408243417739868, 0.07361564040184021, 0.026193594560027122], [-0.22215509414672852, -0.19491028785705566, -0.1123443990945816, 0.38605520129203796, 0.0065366122871637344, 0.06525123864412308, 0.11776842176914215, 0.06551230698823929, -0.07805070281028748, -0.0737701952457428]]\n"
          ]
        }
      ]
    },
    {
      "cell_type": "code",
      "source": [],
      "metadata": {
        "id": "i0YPVmq8besu"
      },
      "execution_count": 9,
      "outputs": []
    },
    {
      "cell_type": "code",
      "source": [
        "class Encoder(nn.Module):\n",
        "    def __init__(self, input_dim, hid_dim, n_layers): #embedding dimensions\n",
        "        super().__init__()\n",
        "\n",
        "        self.hid_dim = hid_dim\n",
        "        self.n_layers = n_layers\n",
        "\n",
        "        self.rnn = nn.LSTM(input_dim, hid_dim, n_layers, bidirectional=True,batch_first=True)\n",
        "\n",
        "\n",
        "    def forward(self, src):\n",
        "\n",
        "        #src = [src len, batch size]\n",
        "\n",
        "\n",
        "        outputs, (hidden, cell) = self.rnn(src)\n",
        "\n",
        "        #outputs = [batch size,src len, hid dim * n directions]\n",
        "        #hidden = [batch size,n layers * n directions,  hid dim]\n",
        "        #cell = [batch size, n layers * n directions, hid dim]\n",
        "\n",
        "        #outputs are always from the top hidden layer\n",
        "\n",
        "        return outputs[:,-1:,:]  #outputs[:,-1:,:]=output of the end of blocks which is concatenated of two directions(we use -1: for keeping the dimensions)\n",
        "\n",
        "class Decoder(nn.Module):\n",
        "    def __init__(self, input_dim, hid_dim, n_layers):       #input _dim depends on encoder's output\n",
        "        super().__init__()\n",
        "\n",
        "        self.hid_dim = hid_dim\n",
        "        self.n_layers = n_layers\n",
        "\n",
        "        self.rnn = nn.LSTM(input_dim, hid_dim, n_layers, bidirectional=False,batch_first=True)\n",
        "\n",
        "    def forward(self, src):\n",
        "\n",
        "        #src = [src len, batch size]\n",
        "        src = torch.tile(src, (1, 10, 1)) # give the output of encoder to each cell of decoder\n",
        "\n",
        "        outputs, (hidden, cell) = self.rnn(src)\n",
        "\n",
        "        #outputs = [batch size,src len, hid dim * n directions]\n",
        "        #hidden = [batch size,n layers * n directions,  hid dim]\n",
        "        #cell = [batch size, n layers * n directions, hid dim]\n",
        "\n",
        "        #outputs are always from the top hidden layer\n",
        "\n",
        "        return outputs\n",
        "\n",
        "class Autoencoder(nn.Module):\n",
        "    def __init__(self, encoder, decoder):\n",
        "        super().__init__()\n",
        "\n",
        "        self.encoder = encoder\n",
        "        self.decoder = decoder\n",
        "\n",
        "    def forward(self, src):\n",
        "        encoded = self.encoder(src)\n",
        "        decoded = self.decoder(encoded)\n",
        "        return decoded"
      ],
      "metadata": {
        "id": "0dSvcyAmbfOF"
      },
      "execution_count": 12,
      "outputs": []
    },
    {
      "cell_type": "code",
      "source": [
        "encoder = Encoder(10,32,1)\n",
        "decoder = Decoder(64,10,1)\n",
        "model = Autoencoder(encoder, decoder)\n",
        "model"
      ],
      "metadata": {
        "colab": {
          "base_uri": "https://localhost:8080/"
        },
        "id": "mj2LqqcP2wRs",
        "outputId": "493ae7b3-d02f-45ed-9646-d2c5879fd6b5"
      },
      "execution_count": 20,
      "outputs": [
        {
          "output_type": "execute_result",
          "data": {
            "text/plain": [
              "Autoencoder(\n",
              "  (encoder): Encoder(\n",
              "    (rnn): LSTM(10, 32, batch_first=True, bidirectional=True)\n",
              "  )\n",
              "  (decoder): Decoder(\n",
              "    (rnn): LSTM(64, 10, batch_first=True)\n",
              "  )\n",
              ")"
            ]
          },
          "metadata": {},
          "execution_count": 20
        }
      ]
    },
    {
      "cell_type": "code",
      "source": [
        "input_data = torch.rand(1, 10, 10) #(batch,sequence_length,embedding)\n",
        "output= model(input_data)\n",
        "print(output.shape)"
      ],
      "metadata": {
        "colab": {
          "base_uri": "https://localhost:8080/"
        },
        "id": "fggcANCy2y0e",
        "outputId": "f3314227-ecb8-473c-9d75-7129cd0b3502"
      },
      "execution_count": 21,
      "outputs": [
        {
          "output_type": "stream",
          "name": "stdout",
          "text": [
            "torch.Size([1, 10, 10])\n"
          ]
        }
      ]
    },
    {
      "cell_type": "code",
      "source": [
        "# Calculate the number of parameters\n",
        "num_params = sum(p.numel() for p in model.parameters())\n",
        "print(f\"Number of Parameters: {num_params}\")"
      ],
      "metadata": {
        "colab": {
          "base_uri": "https://localhost:8080/"
        },
        "id": "mIEBmDYf29xi",
        "outputId": "bbb99799-651b-4433-bedd-73e8f9be9ce7"
      },
      "execution_count": 23,
      "outputs": [
        {
          "output_type": "stream",
          "name": "stdout",
          "text": [
            "Number of Parameters: 14304\n"
          ]
        }
      ]
    },
    {
      "cell_type": "code",
      "source": [
        "dataloader = DataLoader(dataset, batch_size=128)\n",
        "\n",
        "# Loss and optimizer\n",
        "criterion = nn.MSELoss()\n",
        "optimizer = optim.Adam(model.parameters())"
      ],
      "metadata": {
        "id": "SyLp6yyx4PGb"
      },
      "execution_count": 53,
      "outputs": []
    },
    {
      "cell_type": "code",
      "source": [
        "len(dataloader) # regard to batch size"
      ],
      "metadata": {
        "colab": {
          "base_uri": "https://localhost:8080/"
        },
        "id": "P7LwOnm84llY",
        "outputId": "734f986d-0850-4921-da75-c6818fb4b1fa"
      },
      "execution_count": 54,
      "outputs": [
        {
          "output_type": "execute_result",
          "data": {
            "text/plain": [
              "36750"
            ]
          },
          "metadata": {},
          "execution_count": 54
        }
      ]
    },
    {
      "cell_type": "code",
      "source": [
        "for step, (seq) in enumerate(dataloader):\n",
        "  print(seq[0].shape)\n",
        "  break"
      ],
      "metadata": {
        "colab": {
          "base_uri": "https://localhost:8080/"
        },
        "id": "JOy2RaCB6AWx",
        "outputId": "1b65d208-a1ec-4894-9d4f-1a8055b0177c"
      },
      "execution_count": 57,
      "outputs": [
        {
          "output_type": "stream",
          "name": "stdout",
          "text": [
            "torch.Size([128, 10, 10])\n"
          ]
        }
      ]
    },
    {
      "cell_type": "code",
      "source": [
        "\n",
        "num_epochs = 100\n",
        "input_size = 10 # embedding size\n",
        "\n",
        "# Train the model\n",
        "start_time = time.time()\n",
        "total_step = len(dataloader)\n",
        "for epoch in range(num_epochs):  # Loop over the dataset multiple times\n",
        "    train_loss = 0\n",
        "    for step, (seq) in enumerate(dataloader):\n",
        "        # Forward pass\n",
        "        seq = seq[0].clone().detach().view(-1, window_size, input_size).to(device)\n",
        "        output = model(seq)\n",
        "        loss = criterion(output, seq.to(device))\n",
        "\n",
        "        # Backward and optimize\n",
        "        optimizer.zero_grad()\n",
        "        loss.backward()\n",
        "        train_loss += loss.item()\n",
        "        optimizer.step()\n",
        "    print('Epoch [{}/{}], train_loss: {:.4f}'.format(epoch + 1, num_epochs, train_loss / total_step))\n",
        "elapsed_time = time.time() - start_time\n",
        "print('elapsed_time: {:.3f}s'.format(elapsed_time))\n",
        "print('Finished Training')\n",
        ""
      ],
      "metadata": {
        "id": "vQ_t5bz35SYq"
      },
      "execution_count": null,
      "outputs": []
    }
  ]
}