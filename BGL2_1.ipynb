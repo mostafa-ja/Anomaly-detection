{
  "nbformat": 4,
  "nbformat_minor": 0,
  "metadata": {
    "colab": {
      "provenance": [],
      "include_colab_link": true
    },
    "kernelspec": {
      "name": "python3",
      "display_name": "Python 3"
    },
    "language_info": {
      "name": "python"
    }
  },
  "cells": [
    {
      "cell_type": "markdown",
      "metadata": {
        "id": "view-in-github",
        "colab_type": "text"
      },
      "source": [
        "<a href=\"https://colab.research.google.com/github/mostafa-ja/Anomaly-detection/blob/main/BGL2_1.ipynb\" target=\"_parent\"><img src=\"https://colab.research.google.com/assets/colab-badge.svg\" alt=\"Open In Colab\"/></a>"
      ]
    },
    {
      "cell_type": "code",
      "source": [
        "#upload log files\n",
        "!wget 'https://raw.githubusercontent.com/mostafa-ja/Anomaly-detection/main/datasets/BGL/X_train_index'\n",
        "!wget 'https://raw.githubusercontent.com/mostafa-ja/Anomaly-detection/main/datasets/BGL/Xabnorm_test_index'\n",
        "!wget 'https://raw.githubusercontent.com/mostafa-ja/Anomaly-detection/main/datasets/BGL/Xnorm_test_index'\n",
        "!wget 'https://raw.githubusercontent.com/mostafa-ja/Anomaly-detection/main/datasets/BGL/log2index'\n",
        "!wget 'https://raw.githubusercontent.com/mostafa-ja/Anomaly-detection/main/datasets/BGL/reduced_index2embed'"
      ],
      "metadata": {
        "colab": {
          "base_uri": "https://localhost:8080/"
        },
        "id": "1i2YpVSwj8dl",
        "outputId": "c129e0ce-5524-4404-88e2-1adffd00d924"
      },
      "execution_count": 1,
      "outputs": [
        {
          "output_type": "stream",
          "name": "stdout",
          "text": [
            "--2023-09-05 13:32:36--  https://raw.githubusercontent.com/mostafa-ja/Anomaly-detection/main/datasets/BGL/X_train_index\n",
            "Resolving raw.githubusercontent.com (raw.githubusercontent.com)... 185.199.111.133, 185.199.110.133, 185.199.109.133, ...\n",
            "Connecting to raw.githubusercontent.com (raw.githubusercontent.com)|185.199.111.133|:443... connected.\n",
            "HTTP request sent, awaiting response... 200 OK\n",
            "Length: 9341136 (8.9M) [text/plain]\n",
            "Saving to: ‘X_train_index’\n",
            "\n",
            "X_train_index       100%[===================>]   8.91M  --.-KB/s    in 0.05s   \n",
            "\n",
            "2023-09-05 13:32:37 (174 MB/s) - ‘X_train_index’ saved [9341136/9341136]\n",
            "\n",
            "--2023-09-05 13:32:37--  https://raw.githubusercontent.com/mostafa-ja/Anomaly-detection/main/datasets/BGL/Xabnorm_test_index\n",
            "Resolving raw.githubusercontent.com (raw.githubusercontent.com)... 185.199.110.133, 185.199.111.133, 185.199.108.133, ...\n",
            "Connecting to raw.githubusercontent.com (raw.githubusercontent.com)|185.199.110.133|:443... connected.\n",
            "HTTP request sent, awaiting response... 200 OK\n",
            "Length: 1568608 (1.5M) [text/plain]\n",
            "Saving to: ‘Xabnorm_test_index’\n",
            "\n",
            "Xabnorm_test_index  100%[===================>]   1.50M  --.-KB/s    in 0.04s   \n",
            "\n",
            "2023-09-05 13:32:37 (39.4 MB/s) - ‘Xabnorm_test_index’ saved [1568608/1568608]\n",
            "\n",
            "--2023-09-05 13:32:37--  https://raw.githubusercontent.com/mostafa-ja/Anomaly-detection/main/datasets/BGL/Xnorm_test_index\n",
            "Resolving raw.githubusercontent.com (raw.githubusercontent.com)... 185.199.108.133, 185.199.109.133, 185.199.110.133, ...\n",
            "Connecting to raw.githubusercontent.com (raw.githubusercontent.com)|185.199.108.133|:443... connected.\n",
            "HTTP request sent, awaiting response... 200 OK\n",
            "Length: 3267859 (3.1M) [text/plain]\n",
            "Saving to: ‘Xnorm_test_index’\n",
            "\n",
            "Xnorm_test_index    100%[===================>]   3.12M  --.-KB/s    in 0.05s   \n",
            "\n",
            "2023-09-05 13:32:38 (68.6 MB/s) - ‘Xnorm_test_index’ saved [3267859/3267859]\n",
            "\n",
            "--2023-09-05 13:32:38--  https://raw.githubusercontent.com/mostafa-ja/Anomaly-detection/main/datasets/BGL/log2index\n",
            "Resolving raw.githubusercontent.com (raw.githubusercontent.com)... 185.199.111.133, 185.199.109.133, 185.199.108.133, ...\n",
            "Connecting to raw.githubusercontent.com (raw.githubusercontent.com)|185.199.111.133|:443... connected.\n",
            "HTTP request sent, awaiting response... 200 OK\n",
            "Length: 73231 (72K) [application/octet-stream]\n",
            "Saving to: ‘log2index’\n",
            "\n",
            "log2index           100%[===================>]  71.51K  --.-KB/s    in 0.008s  \n",
            "\n",
            "2023-09-05 13:32:38 (8.29 MB/s) - ‘log2index’ saved [73231/73231]\n",
            "\n",
            "--2023-09-05 13:32:38--  https://raw.githubusercontent.com/mostafa-ja/Anomaly-detection/main/datasets/BGL/reduced_index2embed\n",
            "Resolving raw.githubusercontent.com (raw.githubusercontent.com)... 185.199.108.133, 185.199.111.133, 185.199.110.133, ...\n",
            "Connecting to raw.githubusercontent.com (raw.githubusercontent.com)|185.199.108.133|:443... connected.\n",
            "HTTP request sent, awaiting response... 200 OK\n",
            "Length: 966454 (944K) [text/plain]\n",
            "Saving to: ‘reduced_index2embed’\n",
            "\n",
            "reduced_index2embed 100%[===================>] 943.80K  --.-KB/s    in 0.03s   \n",
            "\n",
            "2023-09-05 13:32:39 (29.4 MB/s) - ‘reduced_index2embed’ saved [966454/966454]\n",
            "\n"
          ]
        }
      ]
    },
    {
      "cell_type": "code",
      "source": [
        "import pandas as pd\n",
        "import json\n",
        "from sklearn.metrics.pairwise import cosine_similarity\n",
        "import time\n",
        "import torch\n",
        "import torch.nn as nn\n",
        "import torch.optim as optim\n",
        "from torch.utils.data import TensorDataset, DataLoader\n",
        "import os\n",
        "import numpy as np\n",
        "from tqdm import tqdm\n",
        "\n",
        "# Device configuration\n",
        "device = torch.device(\"cuda\" if torch.cuda.is_available() else \"cpu\")\n",
        "print(device)"
      ],
      "metadata": {
        "id": "jd9WP1rSrLSh",
        "colab": {
          "base_uri": "https://localhost:8080/"
        },
        "outputId": "54636f57-c4fb-4051-ae0a-d4573d14cbb9"
      },
      "execution_count": 2,
      "outputs": [
        {
          "output_type": "stream",
          "name": "stdout",
          "text": [
            "cpu\n"
          ]
        }
      ]
    },
    {
      "cell_type": "code",
      "source": [],
      "metadata": {
        "id": "zwX3TMYF1zli"
      },
      "execution_count": null,
      "outputs": []
    },
    {
      "cell_type": "code",
      "source": [
        "\n",
        "with open('/content/log2index') as f:\n",
        "    templates = [line.strip() for line in f.readlines()]"
      ],
      "metadata": {
        "id": "cmL0eCjj1zU6"
      },
      "execution_count": 25,
      "outputs": []
    },
    {
      "cell_type": "code",
      "source": [
        "templates[:5]"
      ],
      "metadata": {
        "colab": {
          "base_uri": "https://localhost:8080/"
        },
        "id": "pvxFiVkO2Czc",
        "outputId": "34d9c511-44b8-4e20-d640-f5535e6a5c40"
      },
      "execution_count": 27,
      "outputs": [
        {
          "output_type": "execute_result",
          "data": {
            "text/plain": [
              "['ras kernel info instruction cache parity error corrected',\n",
              " 'ras linkcard info midplaneswitchcontroller performing bit sparing on bit',\n",
              " 'ras kernel info generating',\n",
              " 'ras kernel info ddr errors s detected and corrected on rank symbol bit',\n",
              " 'ras kernel info edram error s dcr detected and corrected']"
            ]
          },
          "metadata": {},
          "execution_count": 27
        }
      ]
    },
    {
      "cell_type": "code",
      "source": [
        "#Json file name\n",
        "with open('/content/reduced_index2embed') as f:\n",
        "    embeddings = [json.loads(line) for line in f.readlines()]\n",
        "\n",
        "len(embeddings[0])"
      ],
      "metadata": {
        "colab": {
          "base_uri": "https://localhost:8080/"
        },
        "id": "hFtNRiAhl4Cd",
        "outputId": "e0ffee55-f83b-4f21-f3e1-05b0569ba012"
      },
      "execution_count": 3,
      "outputs": [
        {
          "output_type": "execute_result",
          "data": {
            "text/plain": [
              "60"
            ]
          },
          "metadata": {},
          "execution_count": 3
        }
      ]
    },
    {
      "cell_type": "code",
      "source": [
        "from sklearn.metrics.pairwise import cosine_similarity\n",
        "embed = np.array(embeddings)\n",
        "matrix = np.zeros((len(templates),len(templates)))\n",
        "max_similarity = 0\n",
        "\n",
        "for i in range(len(templates)):\n",
        "  for j in range(i+1,len(templates)) :\n",
        "\n",
        "      similarity = cosine_similarity(embed[i].reshape(1, -1),embed[j].reshape(1, -1))\n",
        "      matrix[i,j] = similarity\n",
        "\n",
        "      if (similarity > 0.85) & (similarity < 0.90) :\n",
        "        print('similarity = ',similarity)\n",
        "        print(templates[i])\n",
        "        print(templates[j])\n",
        "        print('-----------------------------------')"
      ],
      "metadata": {
        "colab": {
          "base_uri": "https://localhost:8080/",
          "height": 1000
        },
        "id": "IWql7Gmr1iRO",
        "outputId": "c0fa1876-099f-4f3c-eade-3620edb98167"
      },
      "execution_count": 33,
      "outputs": [
        {
          "output_type": "stream",
          "name": "stdout",
          "text": [
            "similarity =  [[0.86446773]]\n",
            "ras kernel info instruction cache parity error corrected\n",
            "ras kernel info data cache flush parity error detected attempting to correct\n",
            "-----------------------------------\n",
            "similarity =  [[0.89088115]]\n",
            "ras kernel info ddr activating redundant bit steering rank symbol\n",
            "ras kernel info ddr unable to steer rank symbol rank is already steering symbol due to multiple symbols being over the correctable\n",
            "-----------------------------------\n",
            "similarity =  [[0.87308842]]\n",
            "ras kernel info ddr activating redundant bit steering rank symbol\n",
            "ras kernel info ddr unable to steer rank symbol rank is already steering symbol due to multiple symbols being over the correctable e\n",
            "-----------------------------------\n",
            "similarity =  [[0.89107637]]\n",
            "ras kernel info ddr activating redundant bit steering rank symbol\n",
            "ras kernel info ddr unable to steer rank symbol rank is already steering symbol due to multiple symbols being over the correctabl\n",
            "-----------------------------------\n",
            "similarity =  [[0.85654353]]\n",
            "ras app fatal ciod error loading invalid or missing program image no such file or directory\n",
            "ras app fatal ciod error loading userfuncround invalid or missing program image no such file or directory\n",
            "-----------------------------------\n",
            "similarity =  [[0.88525245]]\n",
            "ras app fatal ciod error loading invalid or missing program image no such file or directory\n",
            "ras app fatal ciod error loading userfunctopologies invalid or missing program image no such file or directory\n",
            "-----------------------------------\n",
            "similarity =  [[0.89465302]]\n",
            "ras app fatal ciod error loading invalid or missing program image no such file or directory\n",
            "ras app fatal ciod error loading runtimeverify invalid or missing program image no such file or directory\n",
            "-----------------------------------\n",
            "similarity =  [[0.86080382]]\n",
            "ras app fatal ciod error loading invalid or missing program image no such file or directory\n",
            "ras app fatal ciod error loading runtimewatchdog invalid or missing program image no such file or directory\n",
            "-----------------------------------\n",
            "similarity =  [[0.85918773]]\n",
            "ras app fatal ciod error loading invalid or missing program image no such file or directory\n",
            "ras app fatal ciod error loading memtest invalid or missing program image no such file or directory\n",
            "-----------------------------------\n",
            "similarity =  [[0.8563842]]\n",
            "ras app fatal ciod error loading invalid or missing program image no such file or directory\n",
            "ras app fatal ciod error loading invalid or missing program image permission denied\n",
            "-----------------------------------\n",
            "similarity =  [[0.87578145]]\n",
            "ras app fatal ciod error loading invalid or missing program image no such file or directory\n",
            "ras app fatal ciod error loading homecabotmiranovabglbinlukeimirandanewhack invalid or missing program image no such file or directory\n",
            "-----------------------------------\n",
            "similarity =  [[0.88014218]]\n",
            "ras app fatal ciod error loading invalid or missing program image no such file or directory\n",
            "ras app fatal ciod error loading binhostname invalid or missing program image exec format error\n",
            "-----------------------------------\n",
            "similarity =  [[0.88039629]]\n",
            "ras kernel fatal imprecise machine\n",
            "ras kernel fatal correctable\n",
            "-----------------------------------\n",
            "similarity =  [[0.89367331]]\n",
            "ras kernel fatal machine state register\n",
            "ras kernel fatal gister machine state register machine state register machine state register machine state register machine state register\n",
            "-----------------------------------\n",
            "similarity =  [[0.89071253]]\n",
            "ras kernel fatal critical input interrupt\n",
            "ras kernel fatal external input interrupt\n",
            "-----------------------------------\n",
            "similarity =  [[0.85429211]]\n",
            "ras kernel fatal critical input interrupt\n",
            "ras kernel fatal program interrupt imprecise\n",
            "-----------------------------------\n",
            "similarity =  [[0.8726815]]\n",
            "ras kernel fatal critical input interrupt\n",
            "ras kernel fatal program interrupt\n",
            "-----------------------------------\n"
          ]
        },
        {
          "output_type": "error",
          "ename": "KeyboardInterrupt",
          "evalue": "ignored",
          "traceback": [
            "\u001b[0;31m---------------------------------------------------------------------------\u001b[0m",
            "\u001b[0;31mKeyboardInterrupt\u001b[0m                         Traceback (most recent call last)",
            "\u001b[0;32m<ipython-input-33-7eb33d7c4069>\u001b[0m in \u001b[0;36m<cell line: 6>\u001b[0;34m()\u001b[0m\n\u001b[1;32m      7\u001b[0m   \u001b[0;32mfor\u001b[0m \u001b[0mj\u001b[0m \u001b[0;32min\u001b[0m \u001b[0mrange\u001b[0m\u001b[0;34m(\u001b[0m\u001b[0mi\u001b[0m\u001b[0;34m+\u001b[0m\u001b[0;36m1\u001b[0m\u001b[0;34m,\u001b[0m\u001b[0mlen\u001b[0m\u001b[0;34m(\u001b[0m\u001b[0mtemplates\u001b[0m\u001b[0;34m)\u001b[0m\u001b[0;34m)\u001b[0m \u001b[0;34m:\u001b[0m\u001b[0;34m\u001b[0m\u001b[0;34m\u001b[0m\u001b[0m\n\u001b[1;32m      8\u001b[0m \u001b[0;34m\u001b[0m\u001b[0m\n\u001b[0;32m----> 9\u001b[0;31m       \u001b[0msimilarity\u001b[0m \u001b[0;34m=\u001b[0m \u001b[0mcosine_similarity\u001b[0m\u001b[0;34m(\u001b[0m\u001b[0membed\u001b[0m\u001b[0;34m[\u001b[0m\u001b[0mi\u001b[0m\u001b[0;34m]\u001b[0m\u001b[0;34m.\u001b[0m\u001b[0mreshape\u001b[0m\u001b[0;34m(\u001b[0m\u001b[0;36m1\u001b[0m\u001b[0;34m,\u001b[0m \u001b[0;34m-\u001b[0m\u001b[0;36m1\u001b[0m\u001b[0;34m)\u001b[0m\u001b[0;34m,\u001b[0m\u001b[0membed\u001b[0m\u001b[0;34m[\u001b[0m\u001b[0mj\u001b[0m\u001b[0;34m]\u001b[0m\u001b[0;34m.\u001b[0m\u001b[0mreshape\u001b[0m\u001b[0;34m(\u001b[0m\u001b[0;36m1\u001b[0m\u001b[0;34m,\u001b[0m \u001b[0;34m-\u001b[0m\u001b[0;36m1\u001b[0m\u001b[0;34m)\u001b[0m\u001b[0;34m)\u001b[0m\u001b[0;34m\u001b[0m\u001b[0;34m\u001b[0m\u001b[0m\n\u001b[0m\u001b[1;32m     10\u001b[0m       \u001b[0mmatrix\u001b[0m\u001b[0;34m[\u001b[0m\u001b[0mi\u001b[0m\u001b[0;34m,\u001b[0m\u001b[0mj\u001b[0m\u001b[0;34m]\u001b[0m \u001b[0;34m=\u001b[0m \u001b[0msimilarity\u001b[0m\u001b[0;34m\u001b[0m\u001b[0;34m\u001b[0m\u001b[0m\n\u001b[1;32m     11\u001b[0m \u001b[0;34m\u001b[0m\u001b[0m\n",
            "\u001b[0;32m/usr/local/lib/python3.10/dist-packages/sklearn/metrics/pairwise.py\u001b[0m in \u001b[0;36mcosine_similarity\u001b[0;34m(X, Y, dense_output)\u001b[0m\n\u001b[1;32m   1393\u001b[0m     \u001b[0mX\u001b[0m\u001b[0;34m,\u001b[0m \u001b[0mY\u001b[0m \u001b[0;34m=\u001b[0m \u001b[0mcheck_pairwise_arrays\u001b[0m\u001b[0;34m(\u001b[0m\u001b[0mX\u001b[0m\u001b[0;34m,\u001b[0m \u001b[0mY\u001b[0m\u001b[0;34m)\u001b[0m\u001b[0;34m\u001b[0m\u001b[0;34m\u001b[0m\u001b[0m\n\u001b[1;32m   1394\u001b[0m \u001b[0;34m\u001b[0m\u001b[0m\n\u001b[0;32m-> 1395\u001b[0;31m     \u001b[0mX_normalized\u001b[0m \u001b[0;34m=\u001b[0m \u001b[0mnormalize\u001b[0m\u001b[0;34m(\u001b[0m\u001b[0mX\u001b[0m\u001b[0;34m,\u001b[0m \u001b[0mcopy\u001b[0m\u001b[0;34m=\u001b[0m\u001b[0;32mTrue\u001b[0m\u001b[0;34m)\u001b[0m\u001b[0;34m\u001b[0m\u001b[0;34m\u001b[0m\u001b[0m\n\u001b[0m\u001b[1;32m   1396\u001b[0m     \u001b[0;32mif\u001b[0m \u001b[0mX\u001b[0m \u001b[0;32mis\u001b[0m \u001b[0mY\u001b[0m\u001b[0;34m:\u001b[0m\u001b[0;34m\u001b[0m\u001b[0;34m\u001b[0m\u001b[0m\n\u001b[1;32m   1397\u001b[0m         \u001b[0mY_normalized\u001b[0m \u001b[0;34m=\u001b[0m \u001b[0mX_normalized\u001b[0m\u001b[0;34m\u001b[0m\u001b[0;34m\u001b[0m\u001b[0m\n",
            "\u001b[0;32m/usr/local/lib/python3.10/dist-packages/sklearn/preprocessing/_data.py\u001b[0m in \u001b[0;36mnormalize\u001b[0;34m(X, norm, axis, copy, return_norm)\u001b[0m\n\u001b[1;32m   1846\u001b[0m             \u001b[0mnorms\u001b[0m \u001b[0;34m=\u001b[0m \u001b[0mnp\u001b[0m\u001b[0;34m.\u001b[0m\u001b[0mabs\u001b[0m\u001b[0;34m(\u001b[0m\u001b[0mX\u001b[0m\u001b[0;34m)\u001b[0m\u001b[0;34m.\u001b[0m\u001b[0msum\u001b[0m\u001b[0;34m(\u001b[0m\u001b[0maxis\u001b[0m\u001b[0;34m=\u001b[0m\u001b[0;36m1\u001b[0m\u001b[0;34m)\u001b[0m\u001b[0;34m\u001b[0m\u001b[0;34m\u001b[0m\u001b[0m\n\u001b[1;32m   1847\u001b[0m         \u001b[0;32melif\u001b[0m \u001b[0mnorm\u001b[0m \u001b[0;34m==\u001b[0m \u001b[0;34m\"l2\"\u001b[0m\u001b[0;34m:\u001b[0m\u001b[0;34m\u001b[0m\u001b[0;34m\u001b[0m\u001b[0m\n\u001b[0;32m-> 1848\u001b[0;31m             \u001b[0mnorms\u001b[0m \u001b[0;34m=\u001b[0m \u001b[0mrow_norms\u001b[0m\u001b[0;34m(\u001b[0m\u001b[0mX\u001b[0m\u001b[0;34m)\u001b[0m\u001b[0;34m\u001b[0m\u001b[0;34m\u001b[0m\u001b[0m\n\u001b[0m\u001b[1;32m   1849\u001b[0m         \u001b[0;32melif\u001b[0m \u001b[0mnorm\u001b[0m \u001b[0;34m==\u001b[0m \u001b[0;34m\"max\"\u001b[0m\u001b[0;34m:\u001b[0m\u001b[0;34m\u001b[0m\u001b[0;34m\u001b[0m\u001b[0m\n\u001b[1;32m   1850\u001b[0m             \u001b[0mnorms\u001b[0m \u001b[0;34m=\u001b[0m \u001b[0mnp\u001b[0m\u001b[0;34m.\u001b[0m\u001b[0mmax\u001b[0m\u001b[0;34m(\u001b[0m\u001b[0mabs\u001b[0m\u001b[0;34m(\u001b[0m\u001b[0mX\u001b[0m\u001b[0;34m)\u001b[0m\u001b[0;34m,\u001b[0m \u001b[0maxis\u001b[0m\u001b[0;34m=\u001b[0m\u001b[0;36m1\u001b[0m\u001b[0;34m)\u001b[0m\u001b[0;34m\u001b[0m\u001b[0;34m\u001b[0m\u001b[0m\n",
            "\u001b[0;32m/usr/local/lib/python3.10/dist-packages/sklearn/utils/extmath.py\u001b[0m in \u001b[0;36mrow_norms\u001b[0;34m(X, squared)\u001b[0m\n\u001b[1;32m     75\u001b[0m         \u001b[0mnorms\u001b[0m \u001b[0;34m=\u001b[0m \u001b[0mcsr_row_norms\u001b[0m\u001b[0;34m(\u001b[0m\u001b[0mX\u001b[0m\u001b[0;34m)\u001b[0m\u001b[0;34m\u001b[0m\u001b[0;34m\u001b[0m\u001b[0m\n\u001b[1;32m     76\u001b[0m     \u001b[0;32melse\u001b[0m\u001b[0;34m:\u001b[0m\u001b[0;34m\u001b[0m\u001b[0;34m\u001b[0m\u001b[0m\n\u001b[0;32m---> 77\u001b[0;31m         \u001b[0mnorms\u001b[0m \u001b[0;34m=\u001b[0m \u001b[0mnp\u001b[0m\u001b[0;34m.\u001b[0m\u001b[0meinsum\u001b[0m\u001b[0;34m(\u001b[0m\u001b[0;34m\"ij,ij->i\"\u001b[0m\u001b[0;34m,\u001b[0m \u001b[0mX\u001b[0m\u001b[0;34m,\u001b[0m \u001b[0mX\u001b[0m\u001b[0;34m)\u001b[0m\u001b[0;34m\u001b[0m\u001b[0;34m\u001b[0m\u001b[0m\n\u001b[0m\u001b[1;32m     78\u001b[0m \u001b[0;34m\u001b[0m\u001b[0m\n\u001b[1;32m     79\u001b[0m     \u001b[0;32mif\u001b[0m \u001b[0;32mnot\u001b[0m \u001b[0msquared\u001b[0m\u001b[0;34m:\u001b[0m\u001b[0;34m\u001b[0m\u001b[0;34m\u001b[0m\u001b[0m\n",
            "\u001b[0;32m/usr/local/lib/python3.10/dist-packages/numpy/core/overrides.py\u001b[0m in \u001b[0;36meinsum\u001b[0;34m(*args, **kwargs)\u001b[0m\n",
            "\u001b[0;32m/usr/local/lib/python3.10/dist-packages/numpy/core/einsumfunc.py\u001b[0m in \u001b[0;36meinsum\u001b[0;34m(out, optimize, *operands, **kwargs)\u001b[0m\n\u001b[1;32m   1369\u001b[0m         \u001b[0;32mif\u001b[0m \u001b[0mspecified_out\u001b[0m\u001b[0;34m:\u001b[0m\u001b[0;34m\u001b[0m\u001b[0;34m\u001b[0m\u001b[0m\n\u001b[1;32m   1370\u001b[0m             \u001b[0mkwargs\u001b[0m\u001b[0;34m[\u001b[0m\u001b[0;34m'out'\u001b[0m\u001b[0;34m]\u001b[0m \u001b[0;34m=\u001b[0m \u001b[0mout\u001b[0m\u001b[0;34m\u001b[0m\u001b[0;34m\u001b[0m\u001b[0m\n\u001b[0;32m-> 1371\u001b[0;31m         \u001b[0;32mreturn\u001b[0m \u001b[0mc_einsum\u001b[0m\u001b[0;34m(\u001b[0m\u001b[0;34m*\u001b[0m\u001b[0moperands\u001b[0m\u001b[0;34m,\u001b[0m \u001b[0;34m**\u001b[0m\u001b[0mkwargs\u001b[0m\u001b[0;34m)\u001b[0m\u001b[0;34m\u001b[0m\u001b[0;34m\u001b[0m\u001b[0m\n\u001b[0m\u001b[1;32m   1372\u001b[0m \u001b[0;34m\u001b[0m\u001b[0m\n\u001b[1;32m   1373\u001b[0m     \u001b[0;31m# Check the kwargs to avoid a more cryptic error later, without having to\u001b[0m\u001b[0;34m\u001b[0m\u001b[0;34m\u001b[0m\u001b[0m\n",
            "\u001b[0;31mKeyboardInterrupt\u001b[0m: "
          ]
        }
      ]
    },
    {
      "cell_type": "code",
      "source": [],
      "metadata": {
        "id": "qxDE6zaF3uQ_"
      },
      "execution_count": null,
      "outputs": []
    },
    {
      "cell_type": "code",
      "source": [
        "# Define the LSTM Autoencoder model with dropout\n",
        "class LSTMAutoencoder(nn.Module):\n",
        "    def __init__(self, input_dim, hidden_dim, num_layers, sequence_length, dropout_prob): #input_dim= embeddings_dim\n",
        "        super(LSTMAutoencoder, self).__init__()\n",
        "        self.sequence_length = sequence_length\n",
        "        self.encoder = nn.LSTM(input_dim, hidden_dim, num_layers, batch_first=True, bidirectional=True, dropout=dropout_prob)\n",
        "        self.decoder = nn.LSTM(hidden_dim * 2, input_dim, num_layers, batch_first=True, dropout=dropout_prob)\n",
        "        #self.fc1 = nn.Linear(hidden_dim * 2, hidden_dim)\n",
        "\n",
        "    def forward(self, x):\n",
        "        encoded, _ = self.encoder(x)\n",
        "        #print(encoded.shape)\n",
        "        encoded = encoded[:,-1:,:] # output of last cell\n",
        "        #encoded = self.fc(encoded)\n",
        "        #print(encoded.shape)\n",
        "        input_decode = torch.tile(encoded, (1, self.sequence_length, 1))\n",
        "        decoded, _ = self.decoder(input_decode)\n",
        "        return decoded"
      ],
      "metadata": {
        "id": "BMnD_BY82ZVd"
      },
      "execution_count": 35,
      "outputs": []
    },
    {
      "cell_type": "code",
      "source": [
        "sequence_length = 5\n",
        "input_size = len(embeddings[0]) #embedding vector dimension\n",
        "hidden_dim = 64\n",
        "num_layers = 2\n",
        "dropout_prob = 0.2\n",
        "\n",
        "model = LSTMAutoencoder(input_size, hidden_dim, 2, sequence_length, dropout_prob).to(device)\n",
        "model"
      ],
      "metadata": {
        "colab": {
          "base_uri": "https://localhost:8080/"
        },
        "id": "PPQ1gUe22tIP",
        "outputId": "0122d95e-2b98-49ec-80dc-3f38da58a0e9"
      },
      "execution_count": 36,
      "outputs": [
        {
          "output_type": "execute_result",
          "data": {
            "text/plain": [
              "LSTMAutoencoder(\n",
              "  (encoder): LSTM(60, 64, num_layers=2, batch_first=True, dropout=0.2, bidirectional=True)\n",
              "  (decoder): LSTM(128, 60, num_layers=2, batch_first=True, dropout=0.2)\n",
              ")"
            ]
          },
          "metadata": {},
          "execution_count": 36
        }
      ]
    },
    {
      "cell_type": "code",
      "source": [
        "data = torch.randn(1,sequence_length, input_size) #batch_size=1\n",
        "model(data.to(device)).shape"
      ],
      "metadata": {
        "colab": {
          "base_uri": "https://localhost:8080/"
        },
        "id": "dloxW2iT3DWn",
        "outputId": "644d662c-38d0-4375-db28-f534e0faa696"
      },
      "execution_count": 37,
      "outputs": [
        {
          "output_type": "execute_result",
          "data": {
            "text/plain": [
              "torch.Size([1, 5, 60])"
            ]
          },
          "metadata": {},
          "execution_count": 37
        }
      ]
    },
    {
      "cell_type": "code",
      "source": [
        "# Calculate the number of parameters\n",
        "num_params = sum(p.numel() for p in model.parameters())\n",
        "print(f\"Number of Parameters: {num_params}\")"
      ],
      "metadata": {
        "colab": {
          "base_uri": "https://localhost:8080/"
        },
        "id": "mIEBmDYf29xi",
        "outputId": "a4e3b2fc-6a51-4961-f5ce-a435065a4c4c"
      },
      "execution_count": 38,
      "outputs": [
        {
          "output_type": "stream",
          "name": "stdout",
          "text": [
            "Number of Parameters: 238720\n"
          ]
        }
      ]
    },
    {
      "cell_type": "code",
      "source": [
        "window_size = sequence_length\n",
        "num_sessions = 0\n",
        "sequences = {}\n",
        "\n",
        "line = [i for i in range(20)]\n",
        "print(line)\n",
        "\n",
        "for i in range(len(line) - window_size):\n",
        "    seq = tuple(line[i:i + window_size])\n",
        "    if seq not in sequences:\n",
        "      sequences[seq] = [ embeddings[i] for i in seq]\n",
        "\n",
        "\n",
        "print(sequences.keys())"
      ],
      "metadata": {
        "colab": {
          "base_uri": "https://localhost:8080/"
        },
        "id": "S_xLmzER-wRa",
        "outputId": "ac90d3d4-6bfa-460c-c8cd-1fe2d25ea053"
      },
      "execution_count": 39,
      "outputs": [
        {
          "output_type": "stream",
          "name": "stdout",
          "text": [
            "[0, 1, 2, 3, 4, 5, 6, 7, 8, 9, 10, 11, 12, 13, 14, 15, 16, 17, 18, 19]\n",
            "dict_keys([(0, 1, 2, 3, 4), (1, 2, 3, 4, 5), (2, 3, 4, 5, 6), (3, 4, 5, 6, 7), (4, 5, 6, 7, 8), (5, 6, 7, 8, 9), (6, 7, 8, 9, 10), (7, 8, 9, 10, 11), (8, 9, 10, 11, 12), (9, 10, 11, 12, 13), (10, 11, 12, 13, 14), (11, 12, 13, 14, 15), (12, 13, 14, 15, 16), (13, 14, 15, 16, 17), (14, 15, 16, 17, 18)])\n"
          ]
        }
      ]
    },
    {
      "cell_type": "code",
      "source": [
        "name = 'X_train_index'\n",
        "window_size = sequence_length\n",
        "sequences = {}\n",
        "#outputs = []\n",
        "with open('/content/' + name, 'r') as f:\n",
        "        for row in f:\n",
        "            line = [ int(i) for i in row.strip().split()]\n",
        "\n",
        "            for i in range(len(line) - window_size):\n",
        "                seq = tuple(line[i:i + window_size])\n",
        "                if seq not in sequences:\n",
        "                  sequences[seq] = [ embeddings[i] for i in seq]\n",
        "\n",
        "print('the length of dictionary : ', len(sequences))\n",
        "\n",
        "dataset = TensorDataset(torch.tensor(list(sequences.values()), dtype=torch.float))"
      ],
      "metadata": {
        "colab": {
          "base_uri": "https://localhost:8080/"
        },
        "id": "WD7-Kb3y8L63",
        "outputId": "3d82f033-f6a8-468e-f6c0-ac604b5a3ee7"
      },
      "execution_count": 40,
      "outputs": [
        {
          "output_type": "stream",
          "name": "stdout",
          "text": [
            "the length of dictionary :  24079\n"
          ]
        }
      ]
    },
    {
      "cell_type": "code",
      "source": [
        "list(sequences.keys())"
      ],
      "metadata": {
        "colab": {
          "base_uri": "https://localhost:8080/"
        },
        "id": "pkAqa_vuADgT",
        "outputId": "fba600c0-0e67-4349-ac84-0db3485ad616"
      },
      "execution_count": 41,
      "outputs": [
        {
          "output_type": "execute_result",
          "data": {
            "text/plain": [
              "[(0, 0, 0, 0, 0),\n",
              " (0, 0, 0, 0, 1),\n",
              " (0, 0, 0, 1, 0),\n",
              " (0, 0, 1, 0, 0),\n",
              " (0, 0, 0, 0, 2),\n",
              " (0, 0, 0, 2, 2),\n",
              " (0, 0, 2, 2, 0),\n",
              " (0, 2, 2, 0, 2),\n",
              " (2, 2, 0, 2, 2),\n",
              " (0, 2, 2, 2, 0),\n",
              " (2, 2, 2, 0, 2),\n",
              " (2, 0, 2, 2, 2),\n",
              " (2, 2, 2, 0, 0),\n",
              " (2, 2, 0, 0, 2),\n",
              " (2, 0, 0, 2, 2),\n",
              " (0, 0, 2, 2, 2),\n",
              " (0, 2, 2, 2, 2),\n",
              " (2, 2, 2, 2, 0),\n",
              " (2, 2, 0, 2, 0),\n",
              " (2, 0, 2, 0, 0),\n",
              " (0, 2, 0, 0, 0),\n",
              " (0, 3, 4, 5, 6),\n",
              " (3, 4, 5, 6, 4),\n",
              " (4, 5, 6, 4, 4),\n",
              " (5, 6, 4, 4, 2),\n",
              " (6, 4, 4, 2, 2),\n",
              " (4, 4, 2, 2, 2),\n",
              " (4, 2, 2, 2, 2),\n",
              " (2, 2, 2, 2, 2),\n",
              " (2, 2, 2, 2, 1),\n",
              " (2, 2, 2, 1, 2),\n",
              " (2, 2, 1, 2, 2),\n",
              " (2, 1, 2, 2, 2),\n",
              " (2, 1, 7, 8, 4),\n",
              " (1, 7, 8, 4, 3),\n",
              " (7, 8, 4, 3, 3),\n",
              " (8, 4, 3, 3, 3),\n",
              " (4, 3, 3, 3, 5),\n",
              " (3, 3, 3, 5, 3),\n",
              " (3, 3, 5, 3, 5),\n",
              " (3, 5, 3, 5, 3),\n",
              " (5, 3, 5, 3, 5),\n",
              " (6, 5, 5, 5, 5),\n",
              " (5, 5, 5, 5, 5),\n",
              " (5, 5, 6, 2, 2),\n",
              " (5, 6, 2, 2, 2),\n",
              " (6, 2, 2, 2, 2),\n",
              " (2, 2, 2, 2, 9),\n",
              " (2, 2, 2, 9, 9),\n",
              " (2, 2, 9, 9, 9),\n",
              " (2, 9, 9, 9, 9),\n",
              " (9, 9, 9, 9, 9),\n",
              " (9, 9, 9, 9, 3),\n",
              " (9, 9, 9, 3, 3),\n",
              " (9, 9, 3, 3, 5),\n",
              " (9, 3, 3, 5, 5),\n",
              " (3, 3, 5, 5, 5),\n",
              " (3, 5, 5, 5, 5),\n",
              " (5, 5, 5, 5, 6),\n",
              " (5, 5, 5, 6, 5),\n",
              " (5, 5, 6, 5, 5),\n",
              " (5, 6, 5, 5, 5),\n",
              " (5, 5, 5, 6, 3),\n",
              " (5, 5, 6, 3, 4),\n",
              " (5, 6, 3, 4, 4),\n",
              " (6, 3, 4, 4, 5),\n",
              " (3, 4, 4, 5, 5),\n",
              " (4, 4, 5, 5, 5),\n",
              " (4, 5, 5, 5, 5),\n",
              " (5, 5, 6, 1, 10),\n",
              " (5, 6, 1, 10, 4),\n",
              " (6, 1, 10, 4, 2),\n",
              " (1, 10, 4, 2, 2),\n",
              " (10, 4, 2, 2, 3),\n",
              " (4, 2, 2, 3, 2),\n",
              " (2, 2, 3, 2, 2),\n",
              " (2, 3, 2, 2, 2),\n",
              " (3, 2, 2, 2, 2),\n",
              " (2, 2, 2, 2, 3),\n",
              " (2, 2, 2, 3, 5),\n",
              " (2, 2, 3, 5, 2),\n",
              " (2, 3, 5, 2, 2),\n",
              " (3, 5, 2, 2, 2),\n",
              " (5, 2, 2, 2, 2),\n",
              " (2, 2, 2, 3, 6),\n",
              " (2, 2, 3, 6, 3),\n",
              " (2, 3, 6, 3, 2),\n",
              " (3, 6, 3, 2, 3),\n",
              " (6, 3, 2, 3, 5),\n",
              " (3, 2, 3, 5, 3),\n",
              " (2, 3, 5, 3, 6),\n",
              " (3, 5, 3, 6, 5),\n",
              " (5, 3, 6, 5, 5),\n",
              " (3, 6, 5, 5, 5),\n",
              " (5, 5, 5, 6, 10),\n",
              " (5, 5, 6, 10, 10),\n",
              " (5, 6, 10, 10, 10),\n",
              " (6, 10, 10, 10, 10),\n",
              " (10, 10, 10, 10, 10),\n",
              " (10, 10, 3, 3, 3),\n",
              " (10, 3, 3, 3, 4),\n",
              " (3, 3, 3, 4, 4),\n",
              " (3, 3, 4, 4, 3),\n",
              " (3, 4, 4, 3, 3),\n",
              " (4, 4, 3, 3, 3),\n",
              " (4, 3, 3, 3, 3),\n",
              " (3, 3, 3, 3, 5),\n",
              " (3, 3, 3, 5, 5),\n",
              " (5, 6, 5, 6, 6),\n",
              " (6, 5, 6, 6, 5),\n",
              " (5, 6, 6, 5, 5),\n",
              " (6, 6, 5, 5, 5),\n",
              " (5, 5, 6, 3, 5),\n",
              " (5, 6, 3, 5, 5),\n",
              " (6, 3, 5, 5, 5),\n",
              " (2, 5, 6, 2, 2),\n",
              " (4, 5, 6, 8, 3),\n",
              " (5, 6, 8, 3, 4),\n",
              " (6, 8, 3, 4, 3),\n",
              " (8, 3, 4, 3, 3),\n",
              " (3, 4, 3, 3, 5),\n",
              " (4, 3, 3, 5, 3),\n",
              " (3, 3, 5, 3, 6),\n",
              " (3, 5, 3, 6, 3),\n",
              " (5, 3, 6, 3, 5),\n",
              " (3, 6, 3, 5, 5),\n",
              " (5, 6, 3, 4, 5),\n",
              " (6, 3, 4, 5, 6),\n",
              " (3, 4, 5, 6, 7),\n",
              " (4, 5, 6, 7, 3),\n",
              " (5, 6, 7, 3, 3),\n",
              " (6, 7, 3, 3, 3),\n",
              " (7, 3, 3, 3, 11),\n",
              " (3, 3, 3, 11, 3),\n",
              " (3, 3, 11, 3, 4),\n",
              " (5, 5, 5, 5, 3),\n",
              " (5, 5, 5, 3, 5),\n",
              " (5, 5, 3, 5, 6),\n",
              " (5, 3, 5, 6, 5),\n",
              " (3, 5, 6, 5, 6),\n",
              " (6, 5, 6, 6, 6),\n",
              " (5, 6, 6, 6, 5),\n",
              " (5, 5, 6, 3, 3),\n",
              " (5, 6, 3, 3, 3),\n",
              " (6, 3, 3, 3, 3),\n",
              " (3, 3, 3, 3, 3),\n",
              " (3, 3, 3, 3, 4),\n",
              " (3, 3, 3, 4, 3),\n",
              " (3, 3, 4, 3, 3),\n",
              " (4, 3, 3, 5, 5),\n",
              " (6, 5, 5, 5, 6),\n",
              " (5, 5, 6, 5, 6),\n",
              " (5, 6, 5, 6, 5),\n",
              " (6, 5, 6, 5, 5),\n",
              " (5, 6, 5, 5, 6),\n",
              " (6, 5, 5, 6, 5),\n",
              " (3, 5, 6, 3, 4),\n",
              " (6, 3, 4, 5, 11),\n",
              " (3, 4, 5, 11, 6),\n",
              " (4, 5, 11, 6, 2),\n",
              " (5, 11, 6, 2, 1),\n",
              " (11, 6, 2, 1, 1),\n",
              " (6, 2, 1, 1, 3),\n",
              " (2, 1, 1, 3, 5),\n",
              " (1, 1, 3, 5, 3),\n",
              " (1, 3, 5, 3, 3),\n",
              " (3, 5, 3, 3, 3),\n",
              " (5, 3, 3, 3, 3),\n",
              " (5, 3, 5, 5, 5),\n",
              " (5, 6, 5, 6, 0),\n",
              " (6, 5, 6, 0, 3),\n",
              " (5, 6, 0, 3, 3),\n",
              " (6, 0, 3, 3, 4),\n",
              " (0, 3, 3, 4, 3),\n",
              " (3, 3, 4, 3, 5),\n",
              " (3, 4, 3, 5, 5),\n",
              " (4, 3, 5, 5, 3),\n",
              " (3, 5, 5, 3, 3),\n",
              " (5, 5, 3, 3, 5),\n",
              " (5, 3, 3, 5, 6),\n",
              " (3, 3, 5, 6, 5),\n",
              " (3, 5, 6, 5, 5),\n",
              " (6, 6, 6, 1, 1),\n",
              " (6, 6, 1, 1, 4),\n",
              " (6, 1, 1, 4, 4),\n",
              " (1, 1, 4, 4, 4),\n",
              " (1, 4, 4, 4, 4),\n",
              " (4, 4, 4, 4, 4),\n",
              " (4, 4, 4, 4, 1),\n",
              " (4, 4, 4, 1, 3),\n",
              " (4, 4, 1, 3, 5),\n",
              " (4, 1, 3, 5, 6),\n",
              " (1, 3, 5, 6, 3),\n",
              " (3, 5, 6, 3, 5),\n",
              " (5, 6, 3, 5, 4),\n",
              " (6, 3, 5, 4, 6),\n",
              " (4, 5, 6, 3, 4),\n",
              " (3, 4, 5, 6, 3),\n",
              " (4, 5, 6, 3, 5),\n",
              " (3, 5, 4, 6, 1),\n",
              " (5, 4, 6, 1, 1),\n",
              " (4, 6, 1, 1, 3),\n",
              " (6, 1, 1, 3, 3),\n",
              " (1, 1, 3, 3, 4),\n",
              " (1, 3, 3, 4, 4),\n",
              " (3, 3, 4, 4, 5),\n",
              " (3, 4, 4, 5, 6),\n",
              " (4, 4, 5, 6, 8),\n",
              " (4, 5, 6, 8, 0),\n",
              " (5, 6, 8, 0, 0),\n",
              " (6, 8, 0, 0, 7),\n",
              " (8, 0, 0, 7, 7),\n",
              " (0, 0, 7, 7, 7),\n",
              " (0, 7, 7, 7, 3),\n",
              " (7, 7, 7, 3, 3),\n",
              " (7, 7, 3, 3, 3),\n",
              " (7, 3, 3, 3, 3),\n",
              " (5, 5, 5, 6, 6),\n",
              " (5, 5, 6, 6, 5),\n",
              " (5, 6, 6, 5, 6),\n",
              " (6, 6, 5, 6, 5),\n",
              " (5, 3, 5, 3, 6),\n",
              " (5, 3, 6, 5, 3),\n",
              " (3, 6, 5, 3, 5),\n",
              " (6, 5, 3, 5, 5),\n",
              " (5, 3, 5, 5, 3),\n",
              " (3, 5, 5, 3, 5),\n",
              " (5, 5, 3, 5, 5),\n",
              " (6, 5, 3, 6, 5),\n",
              " (5, 3, 6, 5, 6),\n",
              " (3, 6, 5, 6, 5),\n",
              " (3, 5, 5, 5, 6),\n",
              " (5, 5, 6, 5, 3),\n",
              " (5, 6, 5, 3, 5),\n",
              " (5, 5, 5, 6, 4),\n",
              " (5, 5, 6, 4, 5),\n",
              " (5, 6, 4, 5, 5),\n",
              " (6, 4, 5, 5, 5),\n",
              " (3, 3, 5, 3, 3),\n",
              " (3, 5, 3, 3, 4),\n",
              " (5, 3, 3, 4, 5),\n",
              " (3, 3, 4, 5, 5),\n",
              " (3, 4, 5, 5, 5),\n",
              " (4, 5, 5, 5, 6),\n",
              " (5, 5, 5, 5, 7),\n",
              " (5, 5, 5, 7, 7),\n",
              " (5, 5, 7, 7, 7),\n",
              " (3, 3, 5, 5, 3),\n",
              " (5, 3, 3, 5, 5),\n",
              " (3, 3, 5, 5, 4),\n",
              " (3, 5, 5, 4, 5),\n",
              " (5, 5, 4, 5, 5),\n",
              " (5, 3, 5, 5, 6),\n",
              " (3, 5, 5, 6, 6),\n",
              " (6, 6, 5, 5, 6),\n",
              " (6, 5, 5, 6, 6),\n",
              " (5, 5, 6, 6, 6),\n",
              " (5, 6, 6, 6, 6),\n",
              " (6, 6, 6, 6, 6),\n",
              " (6, 6, 6, 6, 5),\n",
              " (6, 6, 6, 5, 5),\n",
              " (5, 5, 5, 5, 1),\n",
              " (5, 5, 5, 1, 9),\n",
              " (5, 5, 1, 9, 9),\n",
              " (5, 1, 9, 9, 9),\n",
              " (1, 9, 9, 9, 9),\n",
              " (9, 9, 9, 3, 5),\n",
              " (3, 5, 6, 4, 3),\n",
              " (5, 6, 4, 3, 3),\n",
              " (6, 4, 3, 3, 5),\n",
              " (5, 6, 9, 9, 9),\n",
              " (6, 9, 9, 9, 9),\n",
              " (9, 9, 9, 9, 2),\n",
              " (9, 9, 9, 2, 2),\n",
              " (9, 9, 2, 2, 2),\n",
              " (9, 2, 2, 2, 2),\n",
              " (1, 2, 2, 2, 2),\n",
              " (2, 2, 2, 2, 12),\n",
              " (2, 2, 2, 12, 2),\n",
              " (2, 2, 12, 2, 2),\n",
              " (2, 12, 2, 2, 2),\n",
              " (12, 2, 2, 2, 2),\n",
              " (2, 2, 2, 1, 3),\n",
              " (4, 3, 5, 5, 5),\n",
              " (6, 6, 6, 5, 6),\n",
              " (5, 6, 3, 5, 6),\n",
              " (6, 3, 5, 6, 2),\n",
              " (3, 5, 6, 2, 2),\n",
              " (13, 14, 15, 16, 17),\n",
              " (14, 15, 16, 17, 18),\n",
              " (15, 16, 17, 18, 19),\n",
              " (16, 17, 18, 19, 20),\n",
              " (17, 18, 19, 20, 21),\n",
              " (18, 19, 20, 21, 22),\n",
              " (19, 20, 21, 22, 23),\n",
              " (20, 21, 22, 23, 24),\n",
              " (21, 22, 23, 24, 25),\n",
              " (22, 23, 24, 25, 23),\n",
              " (23, 24, 25, 23, 12),\n",
              " (24, 25, 23, 12, 26),\n",
              " (25, 23, 12, 26, 27),\n",
              " (23, 12, 26, 27, 28),\n",
              " (12, 26, 27, 28, 29),\n",
              " (3, 3, 5, 5, 31),\n",
              " (3, 5, 5, 31, 3),\n",
              " (5, 5, 31, 3, 3),\n",
              " (5, 31, 3, 3, 3),\n",
              " (31, 3, 3, 3, 3),\n",
              " (5, 3, 5, 3, 3),\n",
              " (5, 3, 3, 3, 5),\n",
              " (5, 5, 5, 5, 31),\n",
              " (5, 5, 5, 31, 5),\n",
              " (5, 5, 31, 5, 5),\n",
              " (5, 31, 5, 5, 3),\n",
              " (31, 5, 5, 3, 5),\n",
              " (3, 5, 5, 5, 3),\n",
              " (6, 5, 5, 5, 3),\n",
              " (5, 5, 3, 5, 3),\n",
              " (5, 5, 5, 33, 5),\n",
              " (5, 5, 33, 5, 5),\n",
              " (5, 33, 5, 5, 5),\n",
              " (33, 5, 5, 5, 5),\n",
              " (6, 6, 5, 6, 6),\n",
              " (3, 5, 5, 5, 11),\n",
              " (5, 5, 5, 11, 5),\n",
              " (5, 5, 11, 5, 6),\n",
              " (5, 11, 5, 6, 5),\n",
              " (11, 5, 6, 5, 5),\n",
              " (11, 6, 5, 6, 5),\n",
              " (5, 5, 5, 1, 2),\n",
              " (5, 5, 1, 2, 2),\n",
              " (5, 1, 2, 2, 2),\n",
              " (2, 2, 12, 12, 12),\n",
              " (2, 12, 12, 12, 12),\n",
              " (12, 12, 12, 12, 12),\n",
              " (12, 12, 12, 12, 26),\n",
              " (12, 12, 12, 26, 26),\n",
              " (12, 12, 26, 26, 26),\n",
              " (12, 26, 26, 26, 26),\n",
              " (26, 26, 26, 26, 26),\n",
              " (16, 16, 16, 16, 16),\n",
              " (16, 16, 16, 16, 17),\n",
              " (16, 16, 16, 17, 17),\n",
              " (16, 16, 17, 17, 17),\n",
              " (16, 17, 17, 17, 17),\n",
              " (17, 17, 17, 17, 17),\n",
              " (17, 17, 17, 17, 18),\n",
              " (18, 18, 18, 18, 18),\n",
              " (18, 18, 18, 18, 19),\n",
              " (18, 18, 18, 19, 19),\n",
              " (18, 18, 19, 19, 19),\n",
              " (18, 19, 19, 19, 19),\n",
              " (19, 19, 19, 19, 19),\n",
              " (19, 19, 19, 19, 20),\n",
              " (19, 19, 19, 20, 20),\n",
              " (19, 19, 20, 20, 20),\n",
              " (20, 20, 20, 20, 20),\n",
              " (20, 20, 20, 20, 21),\n",
              " (20, 20, 20, 21, 21),\n",
              " (20, 20, 21, 21, 21),\n",
              " (20, 21, 21, 21, 21),\n",
              " (21, 21, 21, 21, 21),\n",
              " (21, 21, 21, 21, 22),\n",
              " (21, 21, 21, 22, 22),\n",
              " (21, 21, 22, 22, 22),\n",
              " (21, 22, 22, 22, 22),\n",
              " (22, 22, 22, 22, 22),\n",
              " (22, 22, 22, 23, 23),\n",
              " (22, 22, 23, 23, 23),\n",
              " (22, 23, 23, 23, 23),\n",
              " (23, 23, 23, 23, 23),\n",
              " (23, 23, 23, 23, 24),\n",
              " (23, 23, 23, 24, 24),\n",
              " (23, 23, 24, 24, 24),\n",
              " (23, 24, 24, 24, 24),\n",
              " (24, 24, 24, 24, 24),\n",
              " (24, 25, 25, 25, 25),\n",
              " (25, 25, 25, 25, 25),\n",
              " (25, 25, 25, 25, 23),\n",
              " (25, 25, 25, 23, 23),\n",
              " (25, 25, 23, 23, 23),\n",
              " (25, 23, 23, 23, 23),\n",
              " (26, 26, 26, 26, 27),\n",
              " (26, 26, 26, 27, 27),\n",
              " (27, 27, 27, 27, 27),\n",
              " (27, 27, 27, 27, 28),\n",
              " (27, 27, 27, 28, 28),\n",
              " (27, 27, 28, 28, 28),\n",
              " (27, 28, 28, 28, 28),\n",
              " (28, 28, 28, 28, 28),\n",
              " (28, 28, 28, 28, 29),\n",
              " (28, 28, 28, 29, 29),\n",
              " (28, 28, 29, 29, 29),\n",
              " (28, 29, 29, 29, 29),\n",
              " (29, 29, 29, 29, 30),\n",
              " (29, 29, 29, 30, 30),\n",
              " (29, 29, 30, 30, 30),\n",
              " (29, 30, 30, 30, 30),\n",
              " (30, 30, 30, 30, 30),\n",
              " (30, 30, 30, 30, 34),\n",
              " (30, 30, 30, 34, 34),\n",
              " (30, 30, 34, 34, 34),\n",
              " (30, 34, 34, 34, 34),\n",
              " (34, 34, 34, 34, 34),\n",
              " (34, 34, 35, 35, 35),\n",
              " (34, 35, 35, 35, 35),\n",
              " (35, 35, 35, 35, 35),\n",
              " (35, 35, 35, 35, 36),\n",
              " (35, 35, 35, 36, 36),\n",
              " (35, 35, 36, 36, 36),\n",
              " (35, 36, 36, 36, 36),\n",
              " (36, 36, 36, 36, 36),\n",
              " (37, 37, 37, 37, 37),\n",
              " (37, 37, 37, 37, 38),\n",
              " (38, 38, 38, 38, 38),\n",
              " (38, 38, 38, 38, 39),\n",
              " (38, 38, 38, 39, 39),\n",
              " (38, 38, 39, 39, 39),\n",
              " (38, 39, 39, 39, 39),\n",
              " (39, 39, 39, 39, 39),\n",
              " (40, 40, 40, 40, 40),\n",
              " (40, 40, 40, 40, 39),\n",
              " (40, 40, 40, 39, 39),\n",
              " (40, 40, 39, 39, 39),\n",
              " (40, 39, 39, 39, 39),\n",
              " (39, 39, 39, 39, 41),\n",
              " (39, 39, 39, 41, 41),\n",
              " (42, 42, 42, 42, 42),\n",
              " (26, 26, 26, 26, 16),\n",
              " (26, 26, 26, 16, 16),\n",
              " (26, 26, 16, 16, 16),\n",
              " (26, 16, 16, 16, 16),\n",
              " (19, 20, 20, 20, 20),\n",
              " (22, 22, 22, 22, 23),\n",
              " (24, 24, 24, 24, 25),\n",
              " (24, 24, 24, 25, 25),\n",
              " (24, 24, 25, 25, 25),\n",
              " (23, 23, 23, 23, 12),\n",
              " (23, 23, 23, 12, 12),\n",
              " (23, 23, 12, 12, 12),\n",
              " (23, 12, 12, 12, 12),\n",
              " (26, 26, 27, 27, 27),\n",
              " (26, 27, 27, 27, 27),\n",
              " (36, 36, 36, 36, 37),\n",
              " (36, 36, 36, 37, 37),\n",
              " (36, 36, 37, 37, 37),\n",
              " (36, 37, 37, 37, 37),\n",
              " (39, 39, 39, 39, 40),\n",
              " (39, 39, 39, 40, 40),\n",
              " (39, 39, 40, 40, 40),\n",
              " (39, 40, 40, 40, 40),\n",
              " (2, 2, 4, 2, 2),\n",
              " (2, 4, 2, 2, 2),\n",
              " (2, 2, 2, 2, 8),\n",
              " (2, 2, 2, 8, 2),\n",
              " (2, 2, 8, 2, 2),\n",
              " (2, 2, 2, 2, 4),\n",
              " (2, 2, 2, 4, 2),\n",
              " (2, 2, 2, 2, 5),\n",
              " (2, 2, 2, 5, 5),\n",
              " (2, 2, 5, 5, 5),\n",
              " (2, 5, 5, 5, 5),\n",
              " (5, 5, 5, 6, 2),\n",
              " (2, 2, 2, 3, 2),\n",
              " (2, 2, 2, 3, 3),\n",
              " (2, 2, 3, 3, 4),\n",
              " (2, 3, 3, 4, 5),\n",
              " (3, 3, 4, 5, 2),\n",
              " (3, 4, 5, 2, 2),\n",
              " (4, 5, 2, 2, 2),\n",
              " (2, 2, 5, 5, 6),\n",
              " (2, 5, 5, 6, 6),\n",
              " (5, 6, 6, 6, 2),\n",
              " (6, 6, 6, 2, 2),\n",
              " (6, 6, 2, 2, 2),\n",
              " (2, 2, 2, 2, 6),\n",
              " (2, 2, 2, 6, 3),\n",
              " (2, 2, 6, 3, 3),\n",
              " (2, 6, 3, 3, 4),\n",
              " (6, 3, 3, 4, 5),\n",
              " (3, 4, 5, 5, 6),\n",
              " (4, 5, 5, 6, 6),\n",
              " (5, 5, 6, 6, 2),\n",
              " (5, 6, 6, 2, 2),\n",
              " (2, 2, 2, 12, 26),\n",
              " (2, 2, 12, 26, 16),\n",
              " (2, 12, 26, 16, 17),\n",
              " (26, 27, 28, 29, 30),\n",
              " (27, 28, 29, 30, 34),\n",
              " (28, 29, 30, 34, 35),\n",
              " (29, 30, 34, 35, 36),\n",
              " (30, 34, 35, 36, 37),\n",
              " (34, 35, 36, 37, 37),\n",
              " (2, 2, 2, 5, 2),\n",
              " (2, 2, 5, 2, 2),\n",
              " (2, 5, 2, 2, 2),\n",
              " (6, 6, 6, 6, 2),\n",
              " (2, 2, 2, 12, 12),\n",
              " (17, 17, 17, 18, 18),\n",
              " (17, 17, 18, 18, 18),\n",
              " (17, 18, 18, 18, 18),\n",
              " (29, 29, 29, 29, 29),\n",
              " (34, 34, 34, 34, 35),\n",
              " (34, 34, 34, 35, 35),\n",
              " (37, 37, 37, 38, 38),\n",
              " (37, 37, 38, 38, 38),\n",
              " (37, 38, 38, 38, 38),\n",
              " (2, 2, 3, 3, 2),\n",
              " (2, 3, 3, 2, 2),\n",
              " (3, 3, 2, 2, 2),\n",
              " (3, 2, 2, 2, 4),\n",
              " (2, 2, 3, 2, 3),\n",
              " (2, 3, 2, 3, 2),\n",
              " (2, 2, 2, 4, 1),\n",
              " (2, 2, 4, 1, 2),\n",
              " (2, 4, 1, 2, 2),\n",
              " (4, 1, 2, 2, 2),\n",
              " (39, 39, 41, 41, 41),\n",
              " (39, 41, 41, 41, 41),\n",
              " (41, 41, 41, 41, 41),\n",
              " (5, 5, 6, 6, 3),\n",
              " (5, 6, 6, 3, 3),\n",
              " (6, 6, 3, 3, 4),\n",
              " (6, 3, 3, 4, 3),\n",
              " (2, 2, 3, 3, 5),\n",
              " (2, 3, 3, 5, 5),\n",
              " (2, 2, 3, 5, 6),\n",
              " (2, 3, 5, 6, 2),\n",
              " (2, 2, 2, 5, 6),\n",
              " (2, 2, 5, 6, 2),\n",
              " (2, 2, 3, 5, 5),\n",
              " (2, 3, 5, 5, 6),\n",
              " (3, 5, 5, 6, 5),\n",
              " (4, 4, 5, 5, 6),\n",
              " (5, 5, 6, 6, 7),\n",
              " (5, 6, 6, 7, 3),\n",
              " (6, 6, 7, 3, 5),\n",
              " (6, 7, 3, 5, 6),\n",
              " (7, 3, 5, 6, 4),\n",
              " (3, 5, 6, 4, 4),\n",
              " (5, 6, 4, 4, 3),\n",
              " (6, 4, 4, 3, 3),\n",
              " (4, 4, 3, 3, 5),\n",
              " (5, 5, 5, 1, 3),\n",
              " (5, 5, 1, 3, 3),\n",
              " (5, 1, 3, 3, 4),\n",
              " (5, 5, 6, 6, 4),\n",
              " (5, 6, 6, 4, 4),\n",
              " (6, 6, 4, 4, 3),\n",
              " (4, 4, 3, 3, 4),\n",
              " (4, 3, 3, 4, 4),\n",
              " (5, 5, 5, 6, 7),\n",
              " (5, 5, 6, 7, 7),\n",
              " (5, 6, 7, 7, 7),\n",
              " (6, 7, 7, 7, 7),\n",
              " (7, 7, 7, 7, 7),\n",
              " (7, 8, 7, 7, 7),\n",
              " (8, 7, 7, 7, 0),\n",
              " (7, 7, 7, 0, 7),\n",
              " (7, 7, 0, 7, 7),\n",
              " (7, 0, 7, 7, 7),\n",
              " (7, 7, 7, 3, 5),\n",
              " (7, 7, 3, 5, 5),\n",
              " (7, 3, 5, 5, 3),\n",
              " (5, 5, 5, 3, 6),\n",
              " (5, 5, 3, 6, 3),\n",
              " (5, 5, 3, 3, 3),\n",
              " (3, 3, 5, 5, 6),\n",
              " (6, 5, 5, 5, 4),\n",
              " (5, 5, 5, 4, 4),\n",
              " (5, 5, 4, 4, 5),\n",
              " (5, 4, 4, 5, 5),\n",
              " (5, 5, 5, 7, 2),\n",
              " (5, 5, 7, 2, 2),\n",
              " (2, 2, 4, 2, 4),\n",
              " (2, 4, 2, 4, 2),\n",
              " (4, 2, 4, 2, 3),\n",
              " (2, 4, 2, 3, 2),\n",
              " (4, 2, 3, 2, 2),\n",
              " (2, 3, 2, 2, 3),\n",
              " (3, 2, 2, 3, 2),\n",
              " (2, 32, 2, 3, 2),\n",
              " (32, 2, 3, 2, 32),\n",
              " (2, 3, 2, 32, 2),\n",
              " (3, 2, 32, 2, 32),\n",
              " (2, 32, 2, 32, 2),\n",
              " (32, 2, 32, 2, 32),\n",
              " (32, 2, 32, 2, 2),\n",
              " (2, 32, 2, 2, 32),\n",
              " (32, 2, 2, 32, 2),\n",
              " (2, 2, 32, 2, 2),\n",
              " (2, 2, 32, 2, 32),\n",
              " (2, 32, 2, 32, 3),\n",
              " (32, 2, 32, 3, 2),\n",
              " (2, 32, 3, 2, 2),\n",
              " (32, 3, 2, 2, 32),\n",
              " (3, 2, 2, 32, 2),\n",
              " (32, 2, 32, 2, 33),\n",
              " (33, 2, 33, 2, 31),\n",
              " (2, 33, 2, 31, 31),\n",
              " (33, 2, 31, 31, 2),\n",
              " (2, 31, 31, 2, 32),\n",
              " (31, 31, 2, 32, 2),\n",
              " (31, 2, 32, 2, 31),\n",
              " (2, 32, 2, 31, 2),\n",
              " (32, 2, 31, 2, 33),\n",
              " (2, 31, 2, 33, 2),\n",
              " (31, 2, 33, 2, 32),\n",
              " (2, 33, 2, 32, 2),\n",
              " (33, 2, 32, 2, 32),\n",
              " (32, 2, 32, 2, 31),\n",
              " (2, 2, 33, 2, 32),\n",
              " (2, 33, 2, 32, 32),\n",
              " (33, 2, 32, 32, 2),\n",
              " (2, 32, 32, 2, 33),\n",
              " (32, 32, 2, 33, 32),\n",
              " (32, 2, 33, 32, 2),\n",
              " (2, 33, 32, 2, 2),\n",
              " (33, 32, 2, 2, 32),\n",
              " (32, 2, 2, 32, 33),\n",
              " (2, 2, 32, 33, 2),\n",
              " (2, 32, 33, 2, 2),\n",
              " (32, 33, 2, 2, 33),\n",
              " (33, 2, 2, 33, 2),\n",
              " (2, 2, 33, 2, 33),\n",
              " (2, 33, 2, 33, 2),\n",
              " (2, 32, 2, 33, 2),\n",
              " (32, 2, 33, 2, 2),\n",
              " (2, 33, 2, 2, 33),\n",
              " (33, 2, 33, 2, 33),\n",
              " (33, 2, 33, 2, 2),\n",
              " (33, 2, 2, 33, 4),\n",
              " (2, 2, 33, 4, 2),\n",
              " (2, 33, 4, 2, 4),\n",
              " (3, 2, 3, 2, 32),\n",
              " (3, 2, 32, 2, 33),\n",
              " (2, 33, 2, 2, 32),\n",
              " (33, 2, 2, 32, 2),\n",
              " (2, 2, 32, 2, 31),\n",
              " (32, 2, 31, 2, 2),\n",
              " (2, 31, 2, 2, 33),\n",
              " (31, 2, 2, 33, 2),\n",
              " (2, 33, 2, 32, 31),\n",
              " (33, 2, 32, 31, 2),\n",
              " (33, 2, 33, 2, 32),\n",
              " (33, 2, 32, 2, 33),\n",
              " (32, 2, 33, 2, 3),\n",
              " (2, 33, 2, 3, 2),\n",
              " (33, 2, 3, 2, 11),\n",
              " (2, 3, 2, 11, 3),\n",
              " (3, 2, 11, 3, 2),\n",
              " (2, 11, 3, 2, 2),\n",
              " (11, 3, 2, 2, 3),\n",
              " (2, 2, 2, 2, 33),\n",
              " (2, 2, 2, 33, 2),\n",
              " (2, 2, 33, 2, 2),\n",
              " (2, 33, 2, 2, 2),\n",
              " (33, 2, 2, 2, 33),\n",
              " (2, 32, 2, 32, 32),\n",
              " (32, 2, 2, 32, 32),\n",
              " (2, 2, 32, 32, 2),\n",
              " (2, 32, 32, 2, 32),\n",
              " (32, 32, 2, 32, 2),\n",
              " (32, 2, 32, 32, 2),\n",
              " (2, 32, 32, 2, 2),\n",
              " (32, 32, 2, 2, 32),\n",
              " (2, 32, 2, 2, 33),\n",
              " (32, 2, 2, 33, 2),\n",
              " (2, 33, 2, 33, 33),\n",
              " (33, 2, 33, 33, 2),\n",
              " (2, 33, 33, 2, 2),\n",
              " (33, 33, 2, 2, 33),\n",
              " (2, 2, 33, 2, 31),\n",
              " (32, 2, 33, 2, 32),\n",
              " (32, 2, 33, 2, 33),\n",
              " (33, 2, 32, 2, 11),\n",
              " (3, 2, 3, 2, 3),\n",
              " (3, 2, 3, 2, 31),\n",
              " (2, 3, 2, 31, 2),\n",
              " (3, 2, 3, 2, 43),\n",
              " (2, 3, 2, 43, 2),\n",
              " (3, 2, 43, 2, 43),\n",
              " (2, 43, 2, 43, 2),\n",
              " (43, 2, 43, 2, 3),\n",
              " (2, 43, 2, 3, 2),\n",
              " (43, 2, 3, 2, 3),\n",
              " (3, 3, 2, 2, 3),\n",
              " (3, 2, 3, 2, 2),\n",
              " (2, 2, 5, 2, 5),\n",
              " (2, 5, 2, 5, 5),\n",
              " (5, 2, 5, 5, 2),\n",
              " (2, 5, 5, 2, 32),\n",
              " (5, 5, 2, 32, 32),\n",
              " (5, 2, 32, 32, 2),\n",
              " (2, 32, 32, 2, 3),\n",
              " (32, 32, 2, 3, 2),\n",
              " (32, 2, 3, 2, 5),\n",
              " (2, 3, 2, 5, 2),\n",
              " (2, 5, 2, 5, 2),\n",
              " (5, 2, 5, 2, 5),\n",
              " (2, 5, 5, 2, 5),\n",
              " (5, 5, 2, 5, 2),\n",
              " (5, 2, 5, 2, 2),\n",
              " (2, 2, 5, 2, 6),\n",
              " (2, 5, 2, 6, 2),\n",
              " (5, 2, 6, 2, 2),\n",
              " (2, 6, 2, 2, 6),\n",
              " (6, 2, 2, 6, 2),\n",
              " (2, 33, 2, 5, 6),\n",
              " (33, 2, 5, 6, 2),\n",
              " (2, 5, 6, 2, 5),\n",
              " (5, 6, 2, 5, 2),\n",
              " (6, 2, 5, 2, 5),\n",
              " (5, 5, 2, 5, 5),\n",
              " (5, 2, 5, 2, 6),\n",
              " (2, 5, 2, 6, 5),\n",
              " (5, 2, 6, 5, 2),\n",
              " (2, 6, 2, 5, 2),\n",
              " (6, 2, 5, 2, 6),\n",
              " (5, 2, 6, 2, 5),\n",
              " (2, 5, 2, 5, 6),\n",
              " (5, 2, 5, 6, 2),\n",
              " (2, 2, 5, 2, 11),\n",
              " (2, 5, 5, 2, 2),\n",
              " (5, 5, 2, 2, 5),\n",
              " (5, 2, 2, 5, 5),\n",
              " (2, 2, 5, 5, 2),\n",
              " (2, 5, 2, 2, 11),\n",
              " (5, 2, 2, 11, 2),\n",
              " (2, 2, 11, 2, 11),\n",
              " (2, 11, 2, 11, 5),\n",
              " (11, 2, 11, 5, 2),\n",
              " (2, 11, 5, 2, 5),\n",
              " (11, 5, 2, 5, 5),\n",
              " (2, 5, 5, 2, 6),\n",
              " (5, 5, 2, 6, 5),\n",
              " (2, 6, 2, 5, 5),\n",
              " (6, 2, 5, 5, 2),\n",
              " (5, 5, 2, 6, 2),\n",
              " (5, 5, 2, 2, 2),\n",
              " (5, 2, 2, 2, 5),\n",
              " (2, 5, 2, 2, 5),\n",
              " (5, 2, 2, 5, 2),\n",
              " (2, 5, 5, 5, 2),\n",
              " (5, 5, 5, 2, 2),\n",
              " (2, 5, 2, 2, 32),\n",
              " (5, 2, 2, 32, 5),\n",
              " (2, 2, 32, 5, 32),\n",
              " (2, 32, 5, 32, 33),\n",
              " (32, 5, 32, 33, 5),\n",
              " (5, 32, 33, 5, 2),\n",
              " (32, 33, 5, 2, 32),\n",
              " (2, 5, 2, 32, 2),\n",
              " (5, 2, 32, 2, 5),\n",
              " (2, 32, 2, 5, 32),\n",
              " (32, 2, 5, 32, 32),\n",
              " (2, 5, 32, 32, 2),\n",
              " (5, 32, 32, 2, 5),\n",
              " (32, 32, 2, 5, 2),\n",
              " (32, 2, 5, 2, 2),\n",
              " (2, 2, 5, 2, 33),\n",
              " (2, 5, 2, 33, 33),\n",
              " (5, 2, 33, 33, 2),\n",
              " (2, 33, 33, 2, 5),\n",
              " (33, 33, 2, 5, 2),\n",
              " (2, 5, 2, 33, 2),\n",
              " (5, 2, 33, 2, 5),\n",
              " (2, 33, 2, 5, 2),\n",
              " (33, 2, 5, 2, 2),\n",
              " (2, 5, 2, 33, 32),\n",
              " (5, 2, 33, 32, 5),\n",
              " (2, 33, 32, 5, 32),\n",
              " (33, 32, 5, 32, 33),\n",
              " (32, 5, 32, 33, 32),\n",
              " (5, 32, 33, 32, 33),\n",
              " (32, 33, 32, 33, 5),\n",
              " (33, 32, 33, 5, 31),\n",
              " (32, 33, 5, 31, 32),\n",
              " (33, 5, 31, 32, 5),\n",
              " (5, 31, 32, 5, 32),\n",
              " (31, 5, 32, 32, 33),\n",
              " (5, 32, 32, 33, 5),\n",
              " (32, 32, 33, 5, 32),\n",
              " (32, 33, 5, 32, 33),\n",
              " (33, 5, 32, 33, 5),\n",
              " (5, 32, 33, 5, 33),\n",
              " (32, 33, 5, 33, 31),\n",
              " (33, 5, 33, 31, 5),\n",
              " (5, 33, 31, 5, 33),\n",
              " (33, 31, 5, 33, 31),\n",
              " (31, 5, 33, 31, 33),\n",
              " (5, 33, 31, 33, 5),\n",
              " (33, 31, 33, 5, 33),\n",
              " (31, 33, 5, 33, 31),\n",
              " (33, 5, 33, 31, 32),\n",
              " (33, 32, 32, 5, 33),\n",
              " (32, 32, 5, 33, 32),\n",
              " (32, 5, 33, 32, 5),\n",
              " (5, 33, 32, 5, 33),\n",
              " (33, 32, 5, 33, 11),\n",
              " (32, 5, 33, 11, 5),\n",
              " (5, 33, 11, 5, 2),\n",
              " (33, 11, 5, 2, 2),\n",
              " (11, 5, 2, 2, 2),\n",
              " (2, 5, 2, 33, 31),\n",
              " (5, 2, 33, 31, 5),\n",
              " (2, 33, 31, 5, 32),\n",
              " (33, 31, 5, 32, 33),\n",
              " (31, 5, 32, 33, 31),\n",
              " (5, 32, 33, 31, 33),\n",
              " (32, 33, 31, 33, 5),\n",
              " (33, 31, 33, 5, 31),\n",
              " (31, 33, 5, 31, 32),\n",
              " (5, 31, 32, 5, 33),\n",
              " (31, 32, 5, 33, 33),\n",
              " (32, 5, 33, 33, 32),\n",
              " (5, 33, 33, 32, 33),\n",
              " (33, 33, 5, 32, 31),\n",
              " (33, 5, 32, 31, 33),\n",
              " (5, 32, 31, 33, 32),\n",
              " (32, 31, 33, 32, 5),\n",
              " (31, 33, 32, 5, 11),\n",
              " (33, 32, 5, 11, 2),\n",
              " (32, 5, 11, 2, 5),\n",
              " (5, 11, 2, 5, 2),\n",
              " (11, 2, 5, 2, 2),\n",
              " (2, 2, 32, 5, 2),\n",
              " (2, 32, 5, 2, 2),\n",
              " (32, 5, 2, 2, 33),\n",
              " (5, 2, 2, 33, 2),\n",
              " (2, 2, 33, 2, 5),\n",
              " (2, 2, 2, 5, 32),\n",
              " (2, 2, 5, 32, 32),\n",
              " (32, 32, 2, 5, 32),\n",
              " (32, 2, 5, 32, 2),\n",
              " (2, 5, 32, 2, 32),\n",
              " (5, 32, 2, 32, 5),\n",
              " (32, 2, 32, 5, 2),\n",
              " (2, 32, 5, 2, 32),\n",
              " (32, 5, 2, 32, 2),\n",
              " (2, 32, 2, 5, 2),\n",
              " (32, 2, 5, 2, 11),\n",
              " (2, 2, 2, 2, 32),\n",
              " (2, 2, 2, 32, 32),\n",
              " (2, 2, 32, 32, 32),\n",
              " (2, 32, 32, 32, 33),\n",
              " (32, 32, 32, 33, 33),\n",
              " (32, 32, 33, 33, 33),\n",
              " (32, 33, 33, 33, 32),\n",
              " (33, 33, 33, 32, 33),\n",
              " (33, 31, 33, 31, 32),\n",
              " (31, 33, 31, 32, 32),\n",
              " (33, 31, 32, 32, 32),\n",
              " (31, 32, 32, 32, 33),\n",
              " (32, 33, 33, 33, 33),\n",
              " (33, 33, 33, 33, 33),\n",
              " (33, 33, 33, 33, 32),\n",
              " (33, 33, 33, 32, 32),\n",
              " (33, 33, 32, 32, 32),\n",
              " (33, 32, 32, 32, 33),\n",
              " (2, 2, 2, 33, 32),\n",
              " (2, 2, 33, 32, 2),\n",
              " (33, 32, 2, 2, 2),\n",
              " (32, 2, 2, 2, 32),\n",
              " (2, 2, 2, 32, 2),\n",
              " (2, 32, 2, 2, 2),\n",
              " (32, 2, 2, 2, 2),\n",
              " (33, 2, 2, 2, 2),\n",
              " (2, 2, 2, 33, 33),\n",
              " (2, 2, 33, 33, 33),\n",
              " (32, 32, 32, 32, 32),\n",
              " (32, 32, 32, 32, 33),\n",
              " (33, 33, 33, 33, 2),\n",
              " (33, 33, 33, 2, 2),\n",
              " (33, 33, 2, 2, 2),\n",
              " (32, 33, 33, 31, 33),\n",
              " (33, 33, 31, 33, 33),\n",
              " (33, 31, 33, 33, 33),\n",
              " (31, 33, 33, 33, 32),\n",
              " (33, 33, 32, 32, 33),\n",
              " (33, 32, 32, 33, 32),\n",
              " (32, 32, 33, 32, 33),\n",
              " (32, 33, 32, 33, 32),\n",
              " (33, 32, 33, 32, 31),\n",
              " (32, 33, 32, 31, 33),\n",
              " (33, 32, 31, 33, 31),\n",
              " (32, 31, 33, 31, 33),\n",
              " (31, 33, 31, 33, 33),\n",
              " (33, 31, 33, 33, 32),\n",
              " (31, 2, 32, 2, 2),\n",
              " (2, 2, 2, 2, 31),\n",
              " (31, 2, 2, 2, 2),\n",
              " (2, 33, 2, 31, 2),\n",
              " (33, 2, 31, 2, 33),\n",
              " (31, 2, 33, 2, 2),\n",
              " (2, 2, 2, 33, 5),\n",
              " (33, 32, 31, 5, 3),\n",
              " (32, 31, 5, 3, 5),\n",
              " (31, 5, 3, 5, 11),\n",
              " (5, 3, 5, 11, 11),\n",
              " (3, 5, 11, 11, 11),\n",
              " (5, 11, 11, 11, 11),\n",
              " (11, 11, 11, 11, 33),\n",
              " (11, 11, 11, 33, 11),\n",
              " (11, 11, 33, 11, 5),\n",
              " (11, 33, 11, 5, 32),\n",
              " (33, 11, 5, 32, 32),\n",
              " (11, 5, 32, 32, 33),\n",
              " (5, 32, 32, 33, 11),\n",
              " (32, 32, 33, 11, 11),\n",
              " (32, 33, 11, 11, 11),\n",
              " (11, 5, 5, 33, 11),\n",
              " (5, 5, 33, 11, 11),\n",
              " (5, 33, 11, 11, 11),\n",
              " (33, 11, 11, 11, 11),\n",
              " (11, 11, 11, 33, 32),\n",
              " (11, 11, 33, 32, 31),\n",
              " (11, 33, 32, 31, 33),\n",
              " (33, 32, 31, 33, 33),\n",
              " (32, 31, 33, 33, 32),\n",
              " (31, 33, 33, 32, 11),\n",
              " (33, 33, 32, 11, 31),\n",
              " (33, 32, 11, 31, 33),\n",
              " (32, 11, 31, 33, 32),\n",
              " (11, 31, 33, 32, 32),\n",
              " (32, 5, 3, 5, 11),\n",
              " (5, 3, 5, 11, 5),\n",
              " (3, 5, 11, 5, 32),\n",
              " (5, 11, 5, 32, 33),\n",
              " (11, 5, 32, 33, 33),\n",
              " (5, 32, 33, 33, 33),\n",
              " (32, 33, 33, 33, 5),\n",
              " (33, 33, 33, 5, 6),\n",
              " (33, 33, 5, 6, 5),\n",
              " (33, 5, 6, 5, 5),\n",
              " (6, 5, 5, 5, 11),\n",
              " (5, 5, 5, 11, 11),\n",
              " (5, 5, 11, 11, 5),\n",
              " (5, 11, 11, 5, 5),\n",
              " (11, 11, 11, 5, 6),\n",
              " (11, 11, 5, 6, 5),\n",
              " (5, 5, 5, 5, 11),\n",
              " (5, 5, 5, 11, 6),\n",
              " (5, 5, 11, 6, 5),\n",
              " (5, 11, 6, 5, 5),\n",
              " (11, 6, 5, 5, 5),\n",
              " (3, 3, 3, 3, 2),\n",
              " (3, 3, 3, 2, 2),\n",
              " (3, 5, 5, 4, 4),\n",
              " (4, 4, 5, 5, 4),\n",
              " (4, 5, 5, 4, 4),\n",
              " (5, 5, 4, 4, 3),\n",
              " (5, 4, 4, 3, 4),\n",
              " (4, 4, 3, 4, 4),\n",
              " (4, 3, 4, 4, 5),\n",
              " (3, 4, 4, 5, 3),\n",
              " (4, 4, 5, 3, 3),\n",
              " (4, 5, 3, 3, 3),\n",
              " (5, 5, 5, 6, 1),\n",
              " (5, 5, 6, 1, 3),\n",
              " (5, 6, 1, 3, 5),\n",
              " (6, 1, 3, 5, 5),\n",
              " (1, 3, 5, 5, 5),\n",
              " (5, 5, 5, 6, 44),\n",
              " (5, 5, 6, 44, 44),\n",
              " (5, 6, 44, 44, 45),\n",
              " (6, 44, 44, 45, 45),\n",
              " (5, 5, 6, 0, 1),\n",
              " (5, 6, 0, 1, 3),\n",
              " (6, 0, 1, 3, 3),\n",
              " (0, 1, 3, 3, 3),\n",
              " (1, 3, 3, 3, 3),\n",
              " (3, 6, 31, 4, 5),\n",
              " (6, 31, 4, 5, 33),\n",
              " (31, 4, 5, 33, 6),\n",
              " (4, 5, 33, 6, 11),\n",
              " (5, 33, 6, 11, 0),\n",
              " (33, 6, 11, 0, 0),\n",
              " (6, 11, 0, 0, 0),\n",
              " (11, 0, 0, 0, 0),\n",
              " (0, 0, 0, 0, 3),\n",
              " (0, 0, 0, 3, 3),\n",
              " (0, 0, 3, 3, 5),\n",
              " (0, 3, 3, 5, 3),\n",
              " (4, 4, 5, 3, 5),\n",
              " (4, 5, 3, 5, 6),\n",
              " (5, 3, 5, 6, 3),\n",
              " (3, 5, 6, 3, 6),\n",
              " (5, 6, 3, 6, 3),\n",
              " (6, 3, 6, 3, 5),\n",
              " (5, 5, 6, 4, 4),\n",
              " (5, 6, 4, 4, 7),\n",
              " (6, 4, 4, 7, 3),\n",
              " (4, 4, 7, 3, 3),\n",
              " (4, 7, 3, 3, 3),\n",
              " (7, 3, 3, 3, 31),\n",
              " (3, 3, 3, 31, 2),\n",
              " (3, 3, 31, 2, 5),\n",
              " (3, 31, 2, 5, 5),\n",
              " (31, 2, 5, 5, 5),\n",
              " ...]"
            ]
          },
          "metadata": {},
          "execution_count": 41
        }
      ]
    },
    {
      "cell_type": "code",
      "source": [
        "dataloader = DataLoader(dataset, batch_size=128, shuffle=True)\n",
        "print(len(dataloader)) # regarding to batch size\n",
        "\n",
        "\n",
        "for step, (seq) in enumerate(dataloader):\n",
        "  print(seq[0].shape)\n",
        "  break"
      ],
      "metadata": {
        "colab": {
          "base_uri": "https://localhost:8080/"
        },
        "id": "jyvu0ClgBRC3",
        "outputId": "5d44498b-ba51-403a-cf51-d3917864c914"
      },
      "execution_count": 42,
      "outputs": [
        {
          "output_type": "stream",
          "name": "stdout",
          "text": [
            "189\n",
            "torch.Size([128, 5, 60])\n"
          ]
        }
      ]
    },
    {
      "cell_type": "code",
      "source": [
        "def adjust_learning_rate(optimizer, epoch, lr_step=(10,20,30,60), lr_decay_ratio=0.5):\n",
        "    \"\"\"Adjust the learning rate based on the epoch number.\"\"\"\n",
        "    if epoch == 0:\n",
        "        optimizer.param_groups[0]['lr'] /= 8\n",
        "    elif epoch in [1, 2, 3]:  # in step five , we finish warm up ,and start normal learning rate\n",
        "        optimizer.param_groups[0]['lr'] *= 2\n",
        "    if epoch in lr_step: # in these steps , we are geting close to optimal point so we need to have shorter step\n",
        "        optimizer.param_groups[0]['lr'] *= lr_decay_ratio\n",
        "    return optimizer"
      ],
      "metadata": {
        "id": "HHyNWe1DfYPq"
      },
      "execution_count": 48,
      "outputs": []
    },
    {
      "cell_type": "code",
      "source": [
        "num_epochs = 60\n",
        "learning_rate = 0.001\n",
        "\n",
        "# Loss and optimizer\n",
        "optimizer = optim.Adam(model.parameters(), lr=learning_rate, betas=(0.9, 0.999))\n",
        "criterion = nn.MSELoss()"
      ],
      "metadata": {
        "id": "iHdDOptGaLCt"
      },
      "execution_count": 49,
      "outputs": []
    },
    {
      "cell_type": "code",
      "source": [
        "# Train the model\n",
        "model.train()\n",
        "start_time = time.time()\n",
        "total_step = len(dataloader)\n",
        "for epoch in tqdm(range(num_epochs), desc=\"Processing Rows\"):  # Loop over the dataset multiple times\n",
        "    optimizer = adjust_learning_rate(optimizer, epoch)\n",
        "    train_loss = 0\n",
        "    for step, (seq) in enumerate(dataloader):\n",
        "        # Forward pass\n",
        "        seq = seq[0].clone().detach().view(-1, window_size, input_size).to(device)\n",
        "        output = model(seq)\n",
        "        loss = criterion(output, seq.to(device))\n",
        "\n",
        "        # Backward and optimize\n",
        "        optimizer.zero_grad()\n",
        "        loss.backward()\n",
        "        train_loss += loss.item()\n",
        "        optimizer.step()\n",
        "    print('Epoch [{}/{}], train_loss: {:.4f}'.format(epoch + 1, num_epochs, (train_loss*100) / total_step))\n",
        "elapsed_time = time.time() - start_time\n",
        "print('elapsed_time: {:.3f}s'.format(elapsed_time))\n",
        "print('Finished Training')\n"
      ],
      "metadata": {
        "colab": {
          "base_uri": "https://localhost:8080/",
          "height": 1000
        },
        "id": "vQ_t5bz35SYq",
        "outputId": "415c6db3-861e-4f61-f810-b089a5deee57"
      },
      "execution_count": 50,
      "outputs": [
        {
          "output_type": "stream",
          "name": "stderr",
          "text": [
            "Processing Rows:   2%|▏         | 1/60 [00:06<06:43,  6.84s/it]"
          ]
        },
        {
          "output_type": "stream",
          "name": "stdout",
          "text": [
            "Epoch [1/60], train_loss: 0.1191\n"
          ]
        },
        {
          "output_type": "stream",
          "name": "stderr",
          "text": [
            "\rProcessing Rows:   3%|▎         | 2/60 [00:14<07:03,  7.29s/it]"
          ]
        },
        {
          "output_type": "stream",
          "name": "stdout",
          "text": [
            "Epoch [2/60], train_loss: 0.1193\n"
          ]
        },
        {
          "output_type": "stream",
          "name": "stderr",
          "text": [
            "\rProcessing Rows:   5%|▌         | 3/60 [00:22<07:05,  7.46s/it]"
          ]
        },
        {
          "output_type": "stream",
          "name": "stdout",
          "text": [
            "Epoch [3/60], train_loss: 0.1199\n"
          ]
        },
        {
          "output_type": "stream",
          "name": "stderr",
          "text": [
            "\rProcessing Rows:   7%|▋         | 4/60 [00:29<07:02,  7.55s/it]"
          ]
        },
        {
          "output_type": "stream",
          "name": "stdout",
          "text": [
            "Epoch [4/60], train_loss: 0.1205\n"
          ]
        },
        {
          "output_type": "stream",
          "name": "stderr",
          "text": [
            "\rProcessing Rows:   8%|▊         | 5/60 [00:37<06:55,  7.55s/it]"
          ]
        },
        {
          "output_type": "stream",
          "name": "stdout",
          "text": [
            "Epoch [5/60], train_loss: 0.1188\n"
          ]
        },
        {
          "output_type": "stream",
          "name": "stderr",
          "text": [
            "\rProcessing Rows:  10%|█         | 6/60 [00:44<06:33,  7.29s/it]"
          ]
        },
        {
          "output_type": "stream",
          "name": "stdout",
          "text": [
            "Epoch [6/60], train_loss: 0.1174\n"
          ]
        },
        {
          "output_type": "stream",
          "name": "stderr",
          "text": [
            "\rProcessing Rows:  12%|█▏        | 7/60 [00:51<06:31,  7.39s/it]"
          ]
        },
        {
          "output_type": "stream",
          "name": "stdout",
          "text": [
            "Epoch [7/60], train_loss: 0.1164\n"
          ]
        },
        {
          "output_type": "stream",
          "name": "stderr",
          "text": [
            "\rProcessing Rows:  13%|█▎        | 8/60 [00:58<06:14,  7.21s/it]"
          ]
        },
        {
          "output_type": "stream",
          "name": "stdout",
          "text": [
            "Epoch [8/60], train_loss: 0.1146\n"
          ]
        },
        {
          "output_type": "stream",
          "name": "stderr",
          "text": [
            "\rProcessing Rows:  15%|█▌        | 9/60 [01:06<06:11,  7.29s/it]"
          ]
        },
        {
          "output_type": "stream",
          "name": "stdout",
          "text": [
            "Epoch [9/60], train_loss: 0.1132\n"
          ]
        },
        {
          "output_type": "stream",
          "name": "stderr",
          "text": [
            "\rProcessing Rows:  17%|█▋        | 10/60 [01:13<06:10,  7.41s/it]"
          ]
        },
        {
          "output_type": "stream",
          "name": "stdout",
          "text": [
            "Epoch [10/60], train_loss: 0.1122\n"
          ]
        },
        {
          "output_type": "stream",
          "name": "stderr",
          "text": [
            "\rProcessing Rows:  18%|█▊        | 11/60 [01:20<05:53,  7.21s/it]"
          ]
        },
        {
          "output_type": "stream",
          "name": "stdout",
          "text": [
            "Epoch [11/60], train_loss: 0.1101\n"
          ]
        },
        {
          "output_type": "stream",
          "name": "stderr",
          "text": [
            "\rProcessing Rows:  20%|██        | 12/60 [01:28<05:51,  7.33s/it]"
          ]
        },
        {
          "output_type": "stream",
          "name": "stdout",
          "text": [
            "Epoch [12/60], train_loss: 0.1092\n"
          ]
        },
        {
          "output_type": "stream",
          "name": "stderr",
          "text": [
            "\rProcessing Rows:  22%|██▏       | 13/60 [01:34<05:35,  7.14s/it]"
          ]
        },
        {
          "output_type": "stream",
          "name": "stdout",
          "text": [
            "Epoch [13/60], train_loss: 0.1087\n"
          ]
        },
        {
          "output_type": "stream",
          "name": "stderr",
          "text": [
            "\rProcessing Rows:  23%|██▎       | 14/60 [01:42<05:35,  7.30s/it]"
          ]
        },
        {
          "output_type": "stream",
          "name": "stdout",
          "text": [
            "Epoch [14/60], train_loss: 0.1080\n"
          ]
        },
        {
          "output_type": "stream",
          "name": "stderr",
          "text": [
            "\rProcessing Rows:  25%|██▌       | 15/60 [01:49<05:24,  7.22s/it]"
          ]
        },
        {
          "output_type": "stream",
          "name": "stdout",
          "text": [
            "Epoch [15/60], train_loss: 0.1074\n"
          ]
        },
        {
          "output_type": "stream",
          "name": "stderr",
          "text": [
            "\rProcessing Rows:  27%|██▋       | 16/60 [01:56<05:18,  7.25s/it]"
          ]
        },
        {
          "output_type": "stream",
          "name": "stdout",
          "text": [
            "Epoch [16/60], train_loss: 0.1070\n"
          ]
        },
        {
          "output_type": "stream",
          "name": "stderr",
          "text": [
            "\rProcessing Rows:  28%|██▊       | 17/60 [02:04<05:16,  7.35s/it]"
          ]
        },
        {
          "output_type": "stream",
          "name": "stdout",
          "text": [
            "Epoch [17/60], train_loss: 0.1068\n"
          ]
        },
        {
          "output_type": "stream",
          "name": "stderr",
          "text": [
            "\rProcessing Rows:  30%|███       | 18/60 [02:11<05:00,  7.16s/it]"
          ]
        },
        {
          "output_type": "stream",
          "name": "stdout",
          "text": [
            "Epoch [18/60], train_loss: 0.1059\n"
          ]
        },
        {
          "output_type": "stream",
          "name": "stderr",
          "text": [
            "\rProcessing Rows:  32%|███▏      | 19/60 [02:18<04:58,  7.29s/it]"
          ]
        },
        {
          "output_type": "stream",
          "name": "stdout",
          "text": [
            "Epoch [19/60], train_loss: 0.1054\n"
          ]
        },
        {
          "output_type": "stream",
          "name": "stderr",
          "text": [
            "\rProcessing Rows:  33%|███▎      | 20/60 [02:25<04:47,  7.18s/it]"
          ]
        },
        {
          "output_type": "stream",
          "name": "stdout",
          "text": [
            "Epoch [20/60], train_loss: 0.1051\n"
          ]
        },
        {
          "output_type": "stream",
          "name": "stderr",
          "text": [
            "\rProcessing Rows:  35%|███▌      | 21/60 [02:33<04:45,  7.32s/it]"
          ]
        },
        {
          "output_type": "stream",
          "name": "stdout",
          "text": [
            "Epoch [21/60], train_loss: 0.1037\n"
          ]
        },
        {
          "output_type": "stream",
          "name": "stderr",
          "text": [
            "\rProcessing Rows:  37%|███▋      | 22/60 [02:40<04:38,  7.33s/it]"
          ]
        },
        {
          "output_type": "stream",
          "name": "stdout",
          "text": [
            "Epoch [22/60], train_loss: 0.1037\n"
          ]
        },
        {
          "output_type": "stream",
          "name": "stderr",
          "text": [
            "\rProcessing Rows:  38%|███▊      | 23/60 [02:47<04:27,  7.22s/it]"
          ]
        },
        {
          "output_type": "stream",
          "name": "stdout",
          "text": [
            "Epoch [23/60], train_loss: 0.1034\n"
          ]
        },
        {
          "output_type": "stream",
          "name": "stderr",
          "text": [
            "\rProcessing Rows:  40%|████      | 24/60 [02:55<04:24,  7.34s/it]"
          ]
        },
        {
          "output_type": "stream",
          "name": "stdout",
          "text": [
            "Epoch [24/60], train_loss: 0.1031\n"
          ]
        },
        {
          "output_type": "stream",
          "name": "stderr",
          "text": [
            "\rProcessing Rows:  42%|████▏     | 25/60 [03:01<04:10,  7.15s/it]"
          ]
        },
        {
          "output_type": "stream",
          "name": "stdout",
          "text": [
            "Epoch [25/60], train_loss: 0.1032\n"
          ]
        },
        {
          "output_type": "stream",
          "name": "stderr",
          "text": [
            "\rProcessing Rows:  43%|████▎     | 26/60 [03:09<04:07,  7.28s/it]"
          ]
        },
        {
          "output_type": "stream",
          "name": "stdout",
          "text": [
            "Epoch [26/60], train_loss: 0.1028\n"
          ]
        },
        {
          "output_type": "stream",
          "name": "stderr",
          "text": [
            "\rProcessing Rows:  45%|████▌     | 27/60 [03:16<03:55,  7.13s/it]"
          ]
        },
        {
          "output_type": "stream",
          "name": "stdout",
          "text": [
            "Epoch [27/60], train_loss: 0.1027\n"
          ]
        },
        {
          "output_type": "stream",
          "name": "stderr",
          "text": [
            "\rProcessing Rows:  47%|████▋     | 28/60 [03:23<03:52,  7.27s/it]"
          ]
        },
        {
          "output_type": "stream",
          "name": "stdout",
          "text": [
            "Epoch [28/60], train_loss: 0.1022\n"
          ]
        },
        {
          "output_type": "stream",
          "name": "stderr",
          "text": [
            "\rProcessing Rows:  48%|████▊     | 29/60 [03:31<03:48,  7.37s/it]"
          ]
        },
        {
          "output_type": "stream",
          "name": "stdout",
          "text": [
            "Epoch [29/60], train_loss: 0.1021\n"
          ]
        },
        {
          "output_type": "stream",
          "name": "stderr",
          "text": [
            "\rProcessing Rows:  50%|█████     | 30/60 [03:38<03:35,  7.18s/it]"
          ]
        },
        {
          "output_type": "stream",
          "name": "stdout",
          "text": [
            "Epoch [30/60], train_loss: 0.1019\n"
          ]
        },
        {
          "output_type": "stream",
          "name": "stderr",
          "text": [
            "\rProcessing Rows:  52%|█████▏    | 31/60 [03:45<03:32,  7.32s/it]"
          ]
        },
        {
          "output_type": "stream",
          "name": "stdout",
          "text": [
            "Epoch [31/60], train_loss: 0.1015\n"
          ]
        },
        {
          "output_type": "stream",
          "name": "stderr",
          "text": [
            "\rProcessing Rows:  53%|█████▎    | 32/60 [03:52<03:20,  7.15s/it]"
          ]
        },
        {
          "output_type": "stream",
          "name": "stdout",
          "text": [
            "Epoch [32/60], train_loss: 0.1013\n"
          ]
        },
        {
          "output_type": "stream",
          "name": "stderr",
          "text": [
            "\rProcessing Rows:  55%|█████▌    | 33/60 [04:00<03:16,  7.28s/it]"
          ]
        },
        {
          "output_type": "stream",
          "name": "stdout",
          "text": [
            "Epoch [33/60], train_loss: 0.1014\n"
          ]
        },
        {
          "output_type": "stream",
          "name": "stderr",
          "text": [
            "\rProcessing Rows:  57%|█████▋    | 34/60 [04:07<03:07,  7.20s/it]"
          ]
        },
        {
          "output_type": "stream",
          "name": "stdout",
          "text": [
            "Epoch [34/60], train_loss: 0.1009\n"
          ]
        },
        {
          "output_type": "stream",
          "name": "stderr",
          "text": [
            "\rProcessing Rows:  58%|█████▊    | 35/60 [04:14<03:01,  7.24s/it]"
          ]
        },
        {
          "output_type": "stream",
          "name": "stdout",
          "text": [
            "Epoch [35/60], train_loss: 0.1009\n"
          ]
        },
        {
          "output_type": "stream",
          "name": "stderr",
          "text": [
            "\rProcessing Rows:  60%|██████    | 36/60 [04:22<02:55,  7.33s/it]"
          ]
        },
        {
          "output_type": "stream",
          "name": "stdout",
          "text": [
            "Epoch [36/60], train_loss: 0.1010\n"
          ]
        },
        {
          "output_type": "stream",
          "name": "stderr",
          "text": [
            "\rProcessing Rows:  62%|██████▏   | 37/60 [04:28<02:44,  7.16s/it]"
          ]
        },
        {
          "output_type": "stream",
          "name": "stdout",
          "text": [
            "Epoch [37/60], train_loss: 0.1006\n"
          ]
        },
        {
          "output_type": "stream",
          "name": "stderr",
          "text": [
            "\rProcessing Rows:  63%|██████▎   | 38/60 [04:36<02:40,  7.28s/it]"
          ]
        },
        {
          "output_type": "stream",
          "name": "stdout",
          "text": [
            "Epoch [38/60], train_loss: 0.1008\n"
          ]
        },
        {
          "output_type": "stream",
          "name": "stderr",
          "text": [
            "\rProcessing Rows:  65%|██████▌   | 39/60 [04:43<02:29,  7.14s/it]"
          ]
        },
        {
          "output_type": "stream",
          "name": "stdout",
          "text": [
            "Epoch [39/60], train_loss: 0.1006\n"
          ]
        },
        {
          "output_type": "stream",
          "name": "stderr",
          "text": [
            "\rProcessing Rows:  67%|██████▋   | 40/60 [04:50<02:25,  7.28s/it]"
          ]
        },
        {
          "output_type": "stream",
          "name": "stdout",
          "text": [
            "Epoch [40/60], train_loss: 0.1005\n"
          ]
        },
        {
          "output_type": "stream",
          "name": "stderr",
          "text": [
            "\rProcessing Rows:  68%|██████▊   | 41/60 [04:58<02:18,  7.30s/it]"
          ]
        },
        {
          "output_type": "stream",
          "name": "stdout",
          "text": [
            "Epoch [41/60], train_loss: 0.1004\n"
          ]
        },
        {
          "output_type": "stream",
          "name": "stderr",
          "text": [
            "\rProcessing Rows:  70%|███████   | 42/60 [05:05<02:10,  7.24s/it]"
          ]
        },
        {
          "output_type": "stream",
          "name": "stdout",
          "text": [
            "Epoch [42/60], train_loss: 0.1000\n"
          ]
        },
        {
          "output_type": "stream",
          "name": "stderr",
          "text": [
            "\rProcessing Rows:  72%|███████▏  | 43/60 [05:12<02:04,  7.35s/it]"
          ]
        },
        {
          "output_type": "stream",
          "name": "stdout",
          "text": [
            "Epoch [43/60], train_loss: 0.1002\n"
          ]
        },
        {
          "output_type": "stream",
          "name": "stderr",
          "text": [
            "\rProcessing Rows:  73%|███████▎  | 44/60 [05:19<01:54,  7.18s/it]"
          ]
        },
        {
          "output_type": "stream",
          "name": "stdout",
          "text": [
            "Epoch [44/60], train_loss: 0.0998\n"
          ]
        },
        {
          "output_type": "stream",
          "name": "stderr",
          "text": [
            "\rProcessing Rows:  75%|███████▌  | 45/60 [05:27<01:49,  7.31s/it]"
          ]
        },
        {
          "output_type": "stream",
          "name": "stdout",
          "text": [
            "Epoch [45/60], train_loss: 0.1000\n"
          ]
        },
        {
          "output_type": "stream",
          "name": "stderr",
          "text": [
            "\rProcessing Rows:  77%|███████▋  | 46/60 [05:33<01:40,  7.14s/it]"
          ]
        },
        {
          "output_type": "stream",
          "name": "stdout",
          "text": [
            "Epoch [46/60], train_loss: 0.0996\n"
          ]
        },
        {
          "output_type": "stream",
          "name": "stderr",
          "text": [
            "\rProcessing Rows:  78%|███████▊  | 47/60 [05:41<01:34,  7.27s/it]"
          ]
        },
        {
          "output_type": "stream",
          "name": "stdout",
          "text": [
            "Epoch [47/60], train_loss: 0.1000\n"
          ]
        },
        {
          "output_type": "stream",
          "name": "stderr",
          "text": [
            "\rProcessing Rows:  80%|████████  | 48/60 [05:49<01:28,  7.37s/it]"
          ]
        },
        {
          "output_type": "stream",
          "name": "stdout",
          "text": [
            "Epoch [48/60], train_loss: 0.0995\n"
          ]
        },
        {
          "output_type": "stream",
          "name": "stderr",
          "text": [
            "\rProcessing Rows:  80%|████████  | 48/60 [05:51<01:27,  7.33s/it]\n"
          ]
        },
        {
          "output_type": "error",
          "ename": "KeyboardInterrupt",
          "evalue": "ignored",
          "traceback": [
            "\u001b[0;31m---------------------------------------------------------------------------\u001b[0m",
            "\u001b[0;31mKeyboardInterrupt\u001b[0m                         Traceback (most recent call last)",
            "\u001b[0;32m<ipython-input-50-f042ddd5364d>\u001b[0m in \u001b[0;36m<cell line: 5>\u001b[0;34m()\u001b[0m\n\u001b[1;32m     14\u001b[0m         \u001b[0;31m# Backward and optimize\u001b[0m\u001b[0;34m\u001b[0m\u001b[0;34m\u001b[0m\u001b[0m\n\u001b[1;32m     15\u001b[0m         \u001b[0moptimizer\u001b[0m\u001b[0;34m.\u001b[0m\u001b[0mzero_grad\u001b[0m\u001b[0;34m(\u001b[0m\u001b[0;34m)\u001b[0m\u001b[0;34m\u001b[0m\u001b[0;34m\u001b[0m\u001b[0m\n\u001b[0;32m---> 16\u001b[0;31m         \u001b[0mloss\u001b[0m\u001b[0;34m.\u001b[0m\u001b[0mbackward\u001b[0m\u001b[0;34m(\u001b[0m\u001b[0;34m)\u001b[0m\u001b[0;34m\u001b[0m\u001b[0;34m\u001b[0m\u001b[0m\n\u001b[0m\u001b[1;32m     17\u001b[0m         \u001b[0mtrain_loss\u001b[0m \u001b[0;34m+=\u001b[0m \u001b[0mloss\u001b[0m\u001b[0;34m.\u001b[0m\u001b[0mitem\u001b[0m\u001b[0;34m(\u001b[0m\u001b[0;34m)\u001b[0m\u001b[0;34m\u001b[0m\u001b[0;34m\u001b[0m\u001b[0m\n\u001b[1;32m     18\u001b[0m         \u001b[0moptimizer\u001b[0m\u001b[0;34m.\u001b[0m\u001b[0mstep\u001b[0m\u001b[0;34m(\u001b[0m\u001b[0;34m)\u001b[0m\u001b[0;34m\u001b[0m\u001b[0;34m\u001b[0m\u001b[0m\n",
            "\u001b[0;32m/usr/local/lib/python3.10/dist-packages/torch/_tensor.py\u001b[0m in \u001b[0;36mbackward\u001b[0;34m(self, gradient, retain_graph, create_graph, inputs)\u001b[0m\n\u001b[1;32m    485\u001b[0m                 \u001b[0minputs\u001b[0m\u001b[0;34m=\u001b[0m\u001b[0minputs\u001b[0m\u001b[0;34m,\u001b[0m\u001b[0;34m\u001b[0m\u001b[0;34m\u001b[0m\u001b[0m\n\u001b[1;32m    486\u001b[0m             )\n\u001b[0;32m--> 487\u001b[0;31m         torch.autograd.backward(\n\u001b[0m\u001b[1;32m    488\u001b[0m             \u001b[0mself\u001b[0m\u001b[0;34m,\u001b[0m \u001b[0mgradient\u001b[0m\u001b[0;34m,\u001b[0m \u001b[0mretain_graph\u001b[0m\u001b[0;34m,\u001b[0m \u001b[0mcreate_graph\u001b[0m\u001b[0;34m,\u001b[0m \u001b[0minputs\u001b[0m\u001b[0;34m=\u001b[0m\u001b[0minputs\u001b[0m\u001b[0;34m\u001b[0m\u001b[0;34m\u001b[0m\u001b[0m\n\u001b[1;32m    489\u001b[0m         )\n",
            "\u001b[0;32m/usr/local/lib/python3.10/dist-packages/torch/autograd/__init__.py\u001b[0m in \u001b[0;36mbackward\u001b[0;34m(tensors, grad_tensors, retain_graph, create_graph, grad_variables, inputs)\u001b[0m\n\u001b[1;32m    198\u001b[0m     \u001b[0;31m# some Python versions print out the first line of a multi-line function\u001b[0m\u001b[0;34m\u001b[0m\u001b[0;34m\u001b[0m\u001b[0m\n\u001b[1;32m    199\u001b[0m     \u001b[0;31m# calls in the traceback and some print out the last line\u001b[0m\u001b[0;34m\u001b[0m\u001b[0;34m\u001b[0m\u001b[0m\n\u001b[0;32m--> 200\u001b[0;31m     Variable._execution_engine.run_backward(  # Calls into the C++ engine to run the backward pass\n\u001b[0m\u001b[1;32m    201\u001b[0m         \u001b[0mtensors\u001b[0m\u001b[0;34m,\u001b[0m \u001b[0mgrad_tensors_\u001b[0m\u001b[0;34m,\u001b[0m \u001b[0mretain_graph\u001b[0m\u001b[0;34m,\u001b[0m \u001b[0mcreate_graph\u001b[0m\u001b[0;34m,\u001b[0m \u001b[0minputs\u001b[0m\u001b[0;34m,\u001b[0m\u001b[0;34m\u001b[0m\u001b[0;34m\u001b[0m\u001b[0m\n\u001b[1;32m    202\u001b[0m         allow_unreachable=True, accumulate_grad=True)  # Calls into the C++ engine to run the backward pass\n",
            "\u001b[0;31mKeyboardInterrupt\u001b[0m: "
          ]
        }
      ]
    },
    {
      "cell_type": "code",
      "source": [
        "# Mount Google Drive to save datasets\n",
        "from google.colab import drive\n",
        "drive.mount('/content/drive')"
      ],
      "metadata": {
        "id": "_7Qgbv7Qp7AW"
      },
      "execution_count": null,
      "outputs": []
    },
    {
      "cell_type": "code",
      "source": [
        "torch.save(model.state_dict(), '/content/drive/MyDrive/BGL1_parameters.pth')"
      ],
      "metadata": {
        "id": "G_xbylKoiwAW"
      },
      "execution_count": null,
      "outputs": []
    },
    {
      "cell_type": "markdown",
      "source": [
        "# **EVALUATION**"
      ],
      "metadata": {
        "id": "fTKswHBdbfBI"
      }
    },
    {
      "cell_type": "markdown",
      "source": [
        "\n",
        "in cpu\n",
        "```\n",
        "my_model = model.load_state_dict(torch.load('model_parameters.pth', map_location=torch.device(device)))\n",
        "\n",
        "# Put the model in evaluation mode if necessary\n",
        "model.eval()\n",
        "```\n",
        "\n",
        "in cuda\n",
        "\n",
        "\n",
        "```\n",
        "model.load_state_dict(torch.load('model_parameters.pth'))\n",
        "\n",
        "# Put the model in evaluation mode if necessary\n",
        "model.eval()\n",
        "```\n",
        "\n"
      ],
      "metadata": {
        "id": "ppqwoB9ITsac"
      }
    },
    {
      "cell_type": "code",
      "source": [
        "len(embeddings)"
      ],
      "metadata": {
        "id": "wm0bhoHL5yjo"
      },
      "execution_count": null,
      "outputs": []
    },
    {
      "cell_type": "code",
      "source": [
        "def generate(name):\n",
        "    window_size = sequence_length\n",
        "    hdfs = {} #store the unique sequences and their counts.\n",
        "    length = 0\n",
        "    with open('/content/' + name, 'r') as f:\n",
        "        for row in f:\n",
        "            line = [int(i) for i in row.strip().split()]\n",
        "            hdfs[tuple(line)] = hdfs.get(tuple(line), 0) + 1   #If the tuple is not present in the dictionary, hdfs.get(tuple(ln), 0) returns 0, and the code initializes the count to 1.\n",
        "            length += 1\n",
        "            # hdfs.append(tuple(line))\n",
        "    print('Number of sessions({}): {}'.format(name, len(hdfs)))\n",
        "    return hdfs, length"
      ],
      "metadata": {
        "id": "zeXyQLVK5zAO"
      },
      "execution_count": 19,
      "outputs": []
    },
    {
      "cell_type": "code",
      "source": [
        "test_normal_loader, test_normal_length = generate('Xnorm_test_index')\n",
        "test_abnormal_loader, test_abnormal_length = generate('Xabnorm_test_index')"
      ],
      "metadata": {
        "id": "pUyqMSfg7Ba-",
        "colab": {
          "base_uri": "https://localhost:8080/"
        },
        "outputId": "9dffa3f7-1327-4619-bfc6-d0c81acf17e1"
      },
      "execution_count": 20,
      "outputs": [
        {
          "output_type": "stream",
          "name": "stdout",
          "text": [
            "Number of sessions(Xnorm_test_index): 17191\n",
            "Number of sessions(Xabnorm_test_index): 3595\n"
          ]
        }
      ]
    },
    {
      "cell_type": "code",
      "source": [
        "def evaluation(threshold):\n",
        "  # Test the model\n",
        "  model.eval()\n",
        "\n",
        "  TP = 0\n",
        "  FP = 0\n",
        "\n",
        "  start_time = time.time()\n",
        "  with torch.no_grad():\n",
        "      for line in tqdm(test_normal_loader.keys(), desc=\"Processing Rows\"):\n",
        "          for i in range(len(line) - window_size):\n",
        "              session = line[i:i + window_size]\n",
        "              seq = [embeddings[temp] for temp in session]\n",
        "              seq = torch.tensor(seq, dtype=torch.float).view(-1, window_size, input_size).to(device)\n",
        "              output = model(seq)\n",
        "\n",
        "              loss = criterion(output, seq)\n",
        "\n",
        "              if (loss.cpu().detach().numpy()>threshold):\n",
        "                FP += test_normal_loader[line] # numbers of that set we have\n",
        "                break\n",
        "  with torch.no_grad():\n",
        "      for line in tqdm(test_abnormal_loader.keys(), desc=\"Processing Rows\"):\n",
        "          for i in range(len(line) - window_size):\n",
        "              session = line[i:i + window_size]\n",
        "              seq = [embeddings[temp] for temp in session]\n",
        "              seq = torch.tensor(seq, dtype=torch.float).view(-1, window_size, input_size).to(device)\n",
        "              output = model(seq)\n",
        "\n",
        "              loss = criterion(output, seq)\n",
        "\n",
        "              if (loss.cpu().detach().numpy()>threshold):\n",
        "                TP += test_abnormal_loader[line]\n",
        "                break\n",
        "  elapsed_time = time.time() - start_time\n",
        "  print('elapsed_time: {:.3f}s'.format(elapsed_time))\n",
        "  # Compute precision, recall and F1-measure\n",
        "  FN = test_abnormal_length - TP\n",
        "  P = 100 * TP / (TP + FP)\n",
        "  R = 100 * TP / (TP + FN)\n",
        "  F1 = 2 * P * R / (P + R)\n",
        "  print('false positive (FP): {}, false negative (FN): {}, Precision: {:.3f}%, Recall: {:.3f}%, F1-measure: {:.3f}%'.format(FP, FN, P, R, F1))\n",
        "  print('Finished Predicting')"
      ],
      "metadata": {
        "id": "xtAPzH7h9cZK"
      },
      "execution_count": 21,
      "outputs": []
    },
    {
      "cell_type": "code",
      "source": [
        "def evaluation(threshold):\n",
        "  # Test the model\n",
        "  model.eval()\n",
        "\n",
        "  TP = 0\n",
        "  FP = 0\n",
        "\n",
        "  start_time = time.time()\n",
        "  with torch.no_grad():\n",
        "      for line in tqdm(test_normal_loader.keys(), desc=\"Processing Rows\"):\n",
        "          for i in range(len(line) - window_size):\n",
        "              session = line[i:i + window_size]\n",
        "              seq = [embeddings[temp] for temp in session]\n",
        "              seq = torch.tensor(seq, dtype=torch.float).view(-1, window_size, input_size).to(device)\n",
        "              output = model(seq)\n",
        "\n",
        "              loss = criterion(output, seq)\n",
        "\n",
        "              if (loss.cpu().detach().numpy()>threshold):\n",
        "                FP += test_normal_loader[line] # numbers of that set we have\n",
        "                break\n",
        "  with torch.no_grad():\n",
        "      for line in tqdm(test_abnormal_loader.keys(), desc=\"Processing Rows\"):\n",
        "          losses = 0\n",
        "          for i in range(len(line) - window_size):\n",
        "              session = line[i:i + window_size]\n",
        "              seq = [embeddings[temp] for temp in session]\n",
        "              seq = torch.tensor(seq, dtype=torch.float).view(-1, window_size, input_size).to(device)\n",
        "              output = model(seq)\n",
        "\n",
        "              loss = criterion(output, seq)\n",
        "              losses += loss.cpu().detach().numpy()\n",
        "          if (losses>threshold):\n",
        "            TP += test_abnormal_loader[line]\n",
        "\n",
        "  elapsed_time = time.time() - start_time\n",
        "  print('elapsed_time: {:.3f}s'.format(elapsed_time))\n",
        "  # Compute precision, recall and F1-measure\n",
        "  FN = test_abnormal_length - TP\n",
        "  P = 100 * TP / (TP + FP)\n",
        "  R = 100 * TP / (TP + FN)\n",
        "  F1 = 2 * P * R / (P + R)\n",
        "  print('false positive (FP): {}, false negative (FN): {}, Precision: {:.3f}%, Recall: {:.3f}%, F1-measure: {:.3f}%'.format(FP, FN, P, R, F1))\n",
        "  print('Finished Predicting')"
      ],
      "metadata": {
        "id": "sA9YP9k-AuTY"
      },
      "execution_count": 53,
      "outputs": []
    },
    {
      "cell_type": "code",
      "source": [
        "threshold = [0.005,0.0055,0.006,0.0065]\n",
        "for i in threshold:\n",
        "  print('-------------------------------------------------------------------------')\n",
        "  print('threshold = ',i)\n",
        "  evaluation(i)"
      ],
      "metadata": {
        "id": "dCegQ5i4-ZKy",
        "colab": {
          "base_uri": "https://localhost:8080/"
        },
        "outputId": "c1c99aa9-1ea3-47fb-e18c-b264476b6893"
      },
      "execution_count": null,
      "outputs": [
        {
          "output_type": "stream",
          "name": "stdout",
          "text": [
            "-------------------------------------------------------------------------\n",
            "threshold =  0.005\n"
          ]
        },
        {
          "output_type": "stream",
          "name": "stderr",
          "text": [
            "Processing Rows: 100%|██████████| 17191/17191 [05:42<00:00, 50.13it/s]\n",
            "Processing Rows: 100%|██████████| 3595/3595 [01:12<00:00, 49.78it/s]\n"
          ]
        },
        {
          "output_type": "stream",
          "name": "stdout",
          "text": [
            "elapsed_time: 415.178s\n",
            "false positive (FP): 248, false negative (FN): 419, Precision: 98.766%, Recall: 97.932%, F1-measure: 98.347%\n",
            "Finished Predicting\n",
            "-------------------------------------------------------------------------\n",
            "threshold =  0.0055\n"
          ]
        },
        {
          "output_type": "stream",
          "name": "stderr",
          "text": [
            "Processing Rows: 100%|██████████| 17191/17191 [05:42<00:00, 50.23it/s]\n",
            "Processing Rows: 100%|██████████| 3595/3595 [01:12<00:00, 49.91it/s]\n"
          ]
        },
        {
          "output_type": "stream",
          "name": "stdout",
          "text": [
            "elapsed_time: 414.291s\n",
            "false positive (FP): 71, false negative (FN): 439, Precision: 99.643%, Recall: 97.833%, F1-measure: 98.730%\n",
            "Finished Predicting\n",
            "-------------------------------------------------------------------------\n",
            "threshold =  0.006\n"
          ]
        },
        {
          "output_type": "stream",
          "name": "stderr",
          "text": [
            "Processing Rows: 100%|██████████| 17191/17191 [05:42<00:00, 50.12it/s]\n",
            "Processing Rows: 100%|██████████| 3595/3595 [01:11<00:00, 50.19it/s]\n"
          ]
        },
        {
          "output_type": "stream",
          "name": "stdout",
          "text": [
            "elapsed_time: 414.628s\n",
            "false positive (FP): 44, false negative (FN): 448, Precision: 99.778%, Recall: 97.789%, F1-measure: 98.774%\n",
            "Finished Predicting\n",
            "-------------------------------------------------------------------------\n",
            "threshold =  0.0065\n"
          ]
        },
        {
          "output_type": "stream",
          "name": "stderr",
          "text": [
            "Processing Rows:  89%|████████▊ | 15241/17191 [05:10<00:35, 54.62it/s]"
          ]
        }
      ]
    },
    {
      "cell_type": "code",
      "source": [
        "threshold = [0.007,0.0075,0.008,0.00850]\n",
        "for i in threshold:\n",
        "  print('-------------------------------------------------------------------------')\n",
        "  print('threshold = ', i)\n",
        "  evaluation(i)"
      ],
      "metadata": {
        "id": "1_m-pTgN9pGf"
      },
      "execution_count": null,
      "outputs": []
    },
    {
      "cell_type": "code",
      "source": [],
      "metadata": {
        "id": "sXQ0F98wQo78"
      },
      "execution_count": null,
      "outputs": []
    }
  ]
}