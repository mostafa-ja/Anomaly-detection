{
  "nbformat": 4,
  "nbformat_minor": 0,
  "metadata": {
    "colab": {
      "provenance": [],
      "authorship_tag": "ABX9TyMYdj5LGlsSkbuJ3GQwEmWG",
      "include_colab_link": true
    },
    "kernelspec": {
      "name": "python3",
      "display_name": "Python 3"
    },
    "language_info": {
      "name": "python"
    }
  },
  "cells": [
    {
      "cell_type": "markdown",
      "metadata": {
        "id": "view-in-github",
        "colab_type": "text"
      },
      "source": [
        "<a href=\"https://colab.research.google.com/github/mostafa-ja/Anomaly-detection/blob/main/parsing2.ipynb\" target=\"_parent\"><img src=\"https://colab.research.google.com/assets/colab-badge.svg\" alt=\"Open In Colab\"/></a>"
      ]
    },
    {
      "cell_type": "markdown",
      "source": [
        "[Log-based Anomaly Detection with Deep Learning: How Far Are We?](https://colab.research.google.com/drive/13og-BnOONCyEJ2dup6fDstkYY-y23NmC#scrollTo=FlbDlUAoxCWX)"
      ],
      "metadata": {
        "id": "FlbDlUAoxCWX"
      }
    },
    {
      "cell_type": "code",
      "source": [
        "import sys\n",
        "sys.path.append('/content/')"
      ],
      "metadata": {
        "id": "rnIRkokivgoc"
      },
      "execution_count": 4,
      "outputs": []
    },
    {
      "cell_type": "code",
      "source": [
        "import Drain"
      ],
      "metadata": {
        "id": "qpdRAEySvm0S"
      },
      "execution_count": 5,
      "outputs": []
    },
    {
      "cell_type": "code",
      "source": [
        "input_dir  = '/content/'  # The input directory of log file\n",
        "output_dir = 'Drain_result/'  # The output directory of parsing results\n",
        "log_file   = 'HDFS_2k.log'  # The input log file name\n",
        "log_format = '<Date> <Time> <Pid> <Level> <Component>: <Content>'  # HDFS log format\n",
        "# Regular expression list for optional preprocessing (default: [])\n",
        "regex      = [\n",
        "    r'blk_(|-)[0-9]+' , # block id\n",
        "    r'(/|)([0-9]+\\.){3}[0-9]+(:[0-9]+|)(:|)', # IP\n",
        "    r'(?<=[^A-Za-z0-9])(\\-?\\+?\\d+)(?=[^A-Za-z0-9])|[0-9]+$', # Numbers\n",
        "]\n",
        "st         = 0.5  # Similarity threshold\n",
        "depth      = 4  # Depth of all leaf nodes\n",
        "\n",
        "parser = Drain.LogParser(log_format, indir=input_dir, outdir=output_dir,  depth=depth, st=st, rex=regex)\n",
        "parser.parse(log_file)\n"
      ],
      "metadata": {
        "colab": {
          "base_uri": "https://localhost:8080/"
        },
        "id": "HaZAwnq-v5l9",
        "outputId": "ae1728ca-7549-46d8-dea4-694aca94418e"
      },
      "execution_count": 19,
      "outputs": [
        {
          "output_type": "stream",
          "name": "stdout",
          "text": [
            "Parsing file: /content/HDFS_2k.log\n",
            "Total size after encoding is 2000 2000\n",
            "Processed 50.0% of log lines.\rProcessed 100.0% of log lines.\rParsing done. [Time taken: 0:00:00.315274]\n"
          ]
        }
      ]
    },
    {
      "cell_type": "code",
      "source": [
        "input_dir  = '/content/'  # The input directory of log file\n",
        "output_dir = 'Drain_result/'  # The output directory of parsing results\n",
        "log_file   = 'BGL_2k.log'  # The input log file name\n",
        "log_format = '<Label> <Timestamp> <Date> <Node> <Time> <NodeRepeat> <Type> <Component> <Level> <Content>'  # HDFS log format\n",
        "# Regular expression list for optional preprocessing (default: [])\n",
        "regex      = [\n",
        "    r'blk_(|-)[0-9]+' , # block id\n",
        "    r'(/|)([0-9]+\\.){3}[0-9]+(:[0-9]+|)(:|)', # IP\n",
        "    r'(?<=[^A-Za-z0-9])(\\-?\\+?\\d+)(?=[^A-Za-z0-9])|[0-9]+$', # Numbers\n",
        "]\n",
        "st         = 0.5  # Similarity threshold\n",
        "depth      = 4  # Depth of all leaf nodes\n",
        "\n",
        "parser = Drain.LogParser(log_format, indir=input_dir, outdir=output_dir,  depth=depth, st=st, rex=regex)\n",
        "parser.parse(log_file)"
      ],
      "metadata": {
        "colab": {
          "base_uri": "https://localhost:8080/"
        },
        "id": "6FMgRu438dfx",
        "outputId": "ab5b7031-f8cd-44c1-bdb4-3fc4e573cf26"
      },
      "execution_count": 23,
      "outputs": [
        {
          "output_type": "stream",
          "name": "stdout",
          "text": [
            "Parsing file: /content/BGL_2k.log\n",
            "Total size after encoding is 2000 2000\n",
            "Parsing done. [Time taken: 0:00:00.543120]\n"
          ]
        }
      ]
    },
    {
      "cell_type": "code",
      "source": [],
      "metadata": {
        "id": "6oYec-RfAer0"
      },
      "execution_count": null,
      "outputs": []
    },
    {
      "cell_type": "code",
      "source": [
        "import Spell\n",
        "\n",
        "input_dir  = '/content/'  # The input directory of log file\n",
        "output_dir = 'Spell_result/'  # The output directory of parsing results\n",
        "log_file   = 'HDFS_2k.log'  # The input log file name\n",
        "log_format = '<Date> <Time> <Pid> <Level> <Component>: <Content>'  # HDFS log format\n",
        "tau        = 0.5  # Message type threshold (default: 0.5)\n",
        "regex      = []  # Regular expression list for optional preprocessing (default: [])\n",
        "\n",
        "parser = Spell.LogParser(indir=input_dir, outdir=output_dir, log_format=log_format, tau=tau, rex=regex)\n",
        "parser.parse(log_file)"
      ],
      "metadata": {
        "colab": {
          "base_uri": "https://localhost:8080/"
        },
        "id": "AZVxXLe3Apk6",
        "outputId": "2034f010-0cad-4b75-cf6d-64f19ed173df"
      },
      "execution_count": 28,
      "outputs": [
        {
          "output_type": "stream",
          "name": "stdout",
          "text": [
            "Parsing file: /content/HDFS_2k.log\n",
            "extracted 1000 log lines from /content/HDFS_2k.log\n",
            "extracted 2000 log lines from /content/HDFS_2k.log\n",
            "output result Spell_result/\n"
          ]
        },
        {
          "output_type": "stream",
          "name": "stderr",
          "text": [
            "100%|██████████| 247/247 [00:00<00:00, 49138.79it/s]\n"
          ]
        },
        {
          "output_type": "stream",
          "name": "stdout",
          "text": [
            "Parsing done. [Time taken: 0:00:01.186307]\n"
          ]
        }
      ]
    },
    {
      "cell_type": "code",
      "source": [
        "import sys\n",
        "sys.path.append('/content/')\n",
        "import Drain, evaluator2\n",
        "import os\n",
        "import pandas as pd\n",
        "\n",
        "\n",
        "input_dir = '/content/' # The input directory of log file\n",
        "output_dir = 'Drain_result/' # The output directory of parsing results\n",
        "\n",
        "benchmark_settings = {\n",
        "    'HDFS': {\n",
        "        'log_file': 'HDFS_2k.log',\n",
        "        'log_format': '<Date> <Time> <Pid> <Level> <Component>: <Content>',\n",
        "        'regex': [r'blk_-?\\d+', r'(\\d+\\.){3}\\d+(:\\d+)?'],\n",
        "        'st': 0.5,\n",
        "        'depth': 4\n",
        "        },\n",
        "\n",
        "    'BGL': {\n",
        "        'log_file': 'BGL_2k.log',\n",
        "        'log_format': '<Label> <Timestamp> <Date> <Node> <Time> <NodeRepeat> <Type> <Component> <Level> <Content>',\n",
        "        'regex': [r'core\\.\\d+'],\n",
        "        'st': 0.5,\n",
        "        'depth': 4\n",
        "        },\n",
        "\n",
        "}\n",
        "\n",
        "bechmark_result = []\n",
        "for dataset, setting in benchmark_settings.items():\n",
        "    print('\\n=== Evaluation on %s ==='%dataset)\n",
        "    indir = os.path.join(input_dir, os.path.dirname(setting['log_file']))\n",
        "    log_file = os.path.basename(setting['log_file'])\n",
        "\n",
        "    parser = Drain.LogParser(log_format=setting['log_format'], indir=indir, outdir=output_dir, rex=setting['regex'], depth=setting['depth'], st=setting['st'])\n",
        "    parser.parse(log_file)\n",
        "\n",
        "    F1_measure, accuracy = evaluator2.evaluate(\n",
        "                           groundtruth=os.path.join(indir, log_file + '_structured.csv'),\n",
        "                           parsedresult=os.path.join(output_dir, log_file + '_structured.csv')\n",
        "                           )\n",
        "    bechmark_result.append([dataset, F1_measure, accuracy])\n",
        "\n",
        "\n",
        "print('\\n=== Overall evaluation results ===')\n",
        "df_result = pd.DataFrame(bechmark_result, columns=['Dataset', 'F1_measure', 'Accuracy'])\n",
        "df_result.set_index('Dataset', inplace=True)\n",
        "print(df_result)\n",
        "df_result.T.to_csv('Drain_bechmark_result.csv')"
      ],
      "metadata": {
        "colab": {
          "base_uri": "https://localhost:8080/"
        },
        "id": "5v5A4HHWtabB",
        "outputId": "3ee264a3-1b88-4621-fdec-d6cbc0d983d9"
      },
      "execution_count": 5,
      "outputs": [
        {
          "output_type": "stream",
          "name": "stdout",
          "text": [
            "\n",
            "=== Evaluation on HDFS ===\n",
            "Parsing file: /content/HDFS_2k.log\n",
            "Total size after encoding is 2000 2000\n",
            "Parsing done. [Time taken: 0:00:00.278615]\n",
            "Precision: 1.0000, Recall: 1.0000, F1_measure: 1.0000, Parsing_Accuracy: 0.9975\n",
            "\n",
            "=== Evaluation on BGL ===\n",
            "Parsing file: /content/BGL_2k.log\n",
            "Total size after encoding is 2000 2000\n",
            "Parsing done. [Time taken: 0:00:00.254135]\n",
            "Precision: 0.9992, Recall: 1.0000, F1_measure: 0.9996, Parsing_Accuracy: 0.9625\n",
            "\n",
            "=== Overall evaluation results ===\n",
            "         F1_measure  Accuracy\n",
            "Dataset                      \n",
            "HDFS       0.999984    0.9975\n",
            "BGL        0.999599    0.9625\n"
          ]
        }
      ]
    },
    {
      "cell_type": "code",
      "source": [
        "import sys\n",
        "import pandas as pd\n",
        "from collections import defaultdict\n",
        "from scipy.special import comb\n",
        "df_groundtruth = pd.read_csv('/content/HDFS_2k.log_structured.csv')\n",
        "df_parsedlog = pd.read_csv('/content/Drain_result/HDFS_2k.log_structured.csv')\n",
        "# Remove invalid groundtruth event Ids\n",
        "non_empty_log_ids = df_groundtruth[~df_groundtruth['EventId'].isnull()].index\n",
        "df_groundtruth = df_groundtruth.loc[non_empty_log_ids]\n",
        "df_parsedlog = df_parsedlog.loc[non_empty_log_ids]\n",
        "\n"
      ],
      "metadata": {
        "id": "xS_g4l6Dw1se"
      },
      "execution_count": 35,
      "outputs": []
    },
    {
      "cell_type": "code",
      "source": [
        "df_parsedlog['EventId']"
      ],
      "metadata": {
        "colab": {
          "base_uri": "https://localhost:8080/"
        },
        "id": "A45nozO4yPrP",
        "outputId": "5fe807f2-2b6b-4cc7-81a9-05d0c8a53bff"
      },
      "execution_count": 9,
      "outputs": [
        {
          "output_type": "execute_result",
          "data": {
            "text/plain": [
              "0       dc2c74b7\n",
              "1       dc2c74b7\n",
              "2       5d5de21c\n",
              "3       dc2c74b7\n",
              "4       dc2c74b7\n",
              "          ...   \n",
              "1995    bbb51b95\n",
              "1996    46003790\n",
              "1997    bbb51b95\n",
              "1998    dc2c74b7\n",
              "1999    bbb51b95\n",
              "Name: EventId, Length: 2000, dtype: object"
            ]
          },
          "metadata": {},
          "execution_count": 9
        }
      ]
    },
    {
      "cell_type": "code",
      "source": [
        "df_groundtruth.head(5)"
      ],
      "metadata": {
        "colab": {
          "base_uri": "https://localhost:8080/",
          "height": 239
        },
        "id": "ZmKwhnA02GDK",
        "outputId": "160294c9-d3c4-4593-d04c-9c3da55323c5"
      },
      "execution_count": 25,
      "outputs": [
        {
          "output_type": "execute_result",
          "data": {
            "text/plain": [
              "   LineId   Date    Time  Pid Level                     Component  \\\n",
              "0       1  81109  203615  148  INFO  dfs.DataNode$PacketResponder   \n",
              "1       2  81109  203807  222  INFO  dfs.DataNode$PacketResponder   \n",
              "2       3  81109  204005   35  INFO              dfs.FSNamesystem   \n",
              "\n",
              "                                             Content EventId  \\\n",
              "0  PacketResponder 1 for block blk_38865049064139...     E10   \n",
              "1  PacketResponder 0 for block blk_-6952295868487...     E10   \n",
              "2  BLOCK* NameSystem.addStoredBlock: blockMap upd...      E6   \n",
              "\n",
              "                                       EventTemplate  \n",
              "0  PacketResponder <*> for block blk_<*> terminating  \n",
              "1  PacketResponder <*> for block blk_<*> terminating  \n",
              "2  BLOCK* NameSystem.addStoredBlock: blockMap upd...  "
            ],
            "text/html": [
              "\n",
              "  <div id=\"df-49d063b8-3562-4c90-9bd1-e19a1555e124\">\n",
              "    <div class=\"colab-df-container\">\n",
              "      <div>\n",
              "<style scoped>\n",
              "    .dataframe tbody tr th:only-of-type {\n",
              "        vertical-align: middle;\n",
              "    }\n",
              "\n",
              "    .dataframe tbody tr th {\n",
              "        vertical-align: top;\n",
              "    }\n",
              "\n",
              "    .dataframe thead th {\n",
              "        text-align: right;\n",
              "    }\n",
              "</style>\n",
              "<table border=\"1\" class=\"dataframe\">\n",
              "  <thead>\n",
              "    <tr style=\"text-align: right;\">\n",
              "      <th></th>\n",
              "      <th>LineId</th>\n",
              "      <th>Date</th>\n",
              "      <th>Time</th>\n",
              "      <th>Pid</th>\n",
              "      <th>Level</th>\n",
              "      <th>Component</th>\n",
              "      <th>Content</th>\n",
              "      <th>EventId</th>\n",
              "      <th>EventTemplate</th>\n",
              "    </tr>\n",
              "  </thead>\n",
              "  <tbody>\n",
              "    <tr>\n",
              "      <th>0</th>\n",
              "      <td>1</td>\n",
              "      <td>81109</td>\n",
              "      <td>203615</td>\n",
              "      <td>148</td>\n",
              "      <td>INFO</td>\n",
              "      <td>dfs.DataNode$PacketResponder</td>\n",
              "      <td>PacketResponder 1 for block blk_38865049064139...</td>\n",
              "      <td>E10</td>\n",
              "      <td>PacketResponder &lt;*&gt; for block blk_&lt;*&gt; terminating</td>\n",
              "    </tr>\n",
              "    <tr>\n",
              "      <th>1</th>\n",
              "      <td>2</td>\n",
              "      <td>81109</td>\n",
              "      <td>203807</td>\n",
              "      <td>222</td>\n",
              "      <td>INFO</td>\n",
              "      <td>dfs.DataNode$PacketResponder</td>\n",
              "      <td>PacketResponder 0 for block blk_-6952295868487...</td>\n",
              "      <td>E10</td>\n",
              "      <td>PacketResponder &lt;*&gt; for block blk_&lt;*&gt; terminating</td>\n",
              "    </tr>\n",
              "    <tr>\n",
              "      <th>2</th>\n",
              "      <td>3</td>\n",
              "      <td>81109</td>\n",
              "      <td>204005</td>\n",
              "      <td>35</td>\n",
              "      <td>INFO</td>\n",
              "      <td>dfs.FSNamesystem</td>\n",
              "      <td>BLOCK* NameSystem.addStoredBlock: blockMap upd...</td>\n",
              "      <td>E6</td>\n",
              "      <td>BLOCK* NameSystem.addStoredBlock: blockMap upd...</td>\n",
              "    </tr>\n",
              "  </tbody>\n",
              "</table>\n",
              "</div>\n",
              "      <button class=\"colab-df-convert\" onclick=\"convertToInteractive('df-49d063b8-3562-4c90-9bd1-e19a1555e124')\"\n",
              "              title=\"Convert this dataframe to an interactive table.\"\n",
              "              style=\"display:none;\">\n",
              "        \n",
              "  <svg xmlns=\"http://www.w3.org/2000/svg\" height=\"24px\"viewBox=\"0 0 24 24\"\n",
              "       width=\"24px\">\n",
              "    <path d=\"M0 0h24v24H0V0z\" fill=\"none\"/>\n",
              "    <path d=\"M18.56 5.44l.94 2.06.94-2.06 2.06-.94-2.06-.94-.94-2.06-.94 2.06-2.06.94zm-11 1L8.5 8.5l.94-2.06 2.06-.94-2.06-.94L8.5 2.5l-.94 2.06-2.06.94zm10 10l.94 2.06.94-2.06 2.06-.94-2.06-.94-.94-2.06-.94 2.06-2.06.94z\"/><path d=\"M17.41 7.96l-1.37-1.37c-.4-.4-.92-.59-1.43-.59-.52 0-1.04.2-1.43.59L10.3 9.45l-7.72 7.72c-.78.78-.78 2.05 0 2.83L4 21.41c.39.39.9.59 1.41.59.51 0 1.02-.2 1.41-.59l7.78-7.78 2.81-2.81c.8-.78.8-2.07 0-2.86zM5.41 20L4 18.59l7.72-7.72 1.47 1.35L5.41 20z\"/>\n",
              "  </svg>\n",
              "      </button>\n",
              "      \n",
              "  <style>\n",
              "    .colab-df-container {\n",
              "      display:flex;\n",
              "      flex-wrap:wrap;\n",
              "      gap: 12px;\n",
              "    }\n",
              "\n",
              "    .colab-df-convert {\n",
              "      background-color: #E8F0FE;\n",
              "      border: none;\n",
              "      border-radius: 50%;\n",
              "      cursor: pointer;\n",
              "      display: none;\n",
              "      fill: #1967D2;\n",
              "      height: 32px;\n",
              "      padding: 0 0 0 0;\n",
              "      width: 32px;\n",
              "    }\n",
              "\n",
              "    .colab-df-convert:hover {\n",
              "      background-color: #E2EBFA;\n",
              "      box-shadow: 0px 1px 2px rgba(60, 64, 67, 0.3), 0px 1px 3px 1px rgba(60, 64, 67, 0.15);\n",
              "      fill: #174EA6;\n",
              "    }\n",
              "\n",
              "    [theme=dark] .colab-df-convert {\n",
              "      background-color: #3B4455;\n",
              "      fill: #D2E3FC;\n",
              "    }\n",
              "\n",
              "    [theme=dark] .colab-df-convert:hover {\n",
              "      background-color: #434B5C;\n",
              "      box-shadow: 0px 1px 3px 1px rgba(0, 0, 0, 0.15);\n",
              "      filter: drop-shadow(0px 1px 2px rgba(0, 0, 0, 0.3));\n",
              "      fill: #FFFFFF;\n",
              "    }\n",
              "  </style>\n",
              "\n",
              "      <script>\n",
              "        const buttonEl =\n",
              "          document.querySelector('#df-49d063b8-3562-4c90-9bd1-e19a1555e124 button.colab-df-convert');\n",
              "        buttonEl.style.display =\n",
              "          google.colab.kernel.accessAllowed ? 'block' : 'none';\n",
              "\n",
              "        async function convertToInteractive(key) {\n",
              "          const element = document.querySelector('#df-49d063b8-3562-4c90-9bd1-e19a1555e124');\n",
              "          const dataTable =\n",
              "            await google.colab.kernel.invokeFunction('convertToInteractive',\n",
              "                                                     [key], {});\n",
              "          if (!dataTable) return;\n",
              "\n",
              "          const docLinkHtml = 'Like what you see? Visit the ' +\n",
              "            '<a target=\"_blank\" href=https://colab.research.google.com/notebooks/data_table.ipynb>data table notebook</a>'\n",
              "            + ' to learn more about interactive tables.';\n",
              "          element.innerHTML = '';\n",
              "          dataTable['output_type'] = 'display_data';\n",
              "          await google.colab.output.renderOutput(dataTable, element);\n",
              "          const docLink = document.createElement('div');\n",
              "          docLink.innerHTML = docLinkHtml;\n",
              "          element.appendChild(docLink);\n",
              "        }\n",
              "      </script>\n",
              "    </div>\n",
              "  </div>\n",
              "  "
            ]
          },
          "metadata": {},
          "execution_count": 25
        }
      ]
    },
    {
      "cell_type": "code",
      "source": [
        "df_parsedlog.head(3)"
      ],
      "metadata": {
        "colab": {
          "base_uri": "https://localhost:8080/",
          "height": 257
        },
        "id": "ZbF3Qqnn2Ieb",
        "outputId": "515d2467-d52f-4168-9c25-705e469ba870"
      },
      "execution_count": 26,
      "outputs": [
        {
          "output_type": "execute_result",
          "data": {
            "text/plain": [
              "   LineId   Date    Time  Pid Level                     Component  \\\n",
              "0       1  81109  203615  148  INFO  dfs.DataNode$PacketResponder   \n",
              "1       2  81109  203807  222  INFO  dfs.DataNode$PacketResponder   \n",
              "2       3  81109  204005   35  INFO              dfs.FSNamesystem   \n",
              "\n",
              "                                             Content   EventId  \\\n",
              "0  PacketResponder 1 for block blk_38865049064139...  dc2c74b7   \n",
              "1  PacketResponder 0 for block blk_-6952295868487...  dc2c74b7   \n",
              "2  BLOCK* NameSystem.addStoredBlock: blockMap upd...  5d5de21c   \n",
              "\n",
              "                                       EventTemplate ParameterList  \n",
              "0      PacketResponder <*> for block <*> terminating            []  \n",
              "1      PacketResponder <*> for block <*> terminating            []  \n",
              "2  BLOCK* NameSystem.addStoredBlock: blockMap upd...            []  "
            ],
            "text/html": [
              "\n",
              "  <div id=\"df-f04486e3-85f9-4dea-a9ba-5d307c226005\">\n",
              "    <div class=\"colab-df-container\">\n",
              "      <div>\n",
              "<style scoped>\n",
              "    .dataframe tbody tr th:only-of-type {\n",
              "        vertical-align: middle;\n",
              "    }\n",
              "\n",
              "    .dataframe tbody tr th {\n",
              "        vertical-align: top;\n",
              "    }\n",
              "\n",
              "    .dataframe thead th {\n",
              "        text-align: right;\n",
              "    }\n",
              "</style>\n",
              "<table border=\"1\" class=\"dataframe\">\n",
              "  <thead>\n",
              "    <tr style=\"text-align: right;\">\n",
              "      <th></th>\n",
              "      <th>LineId</th>\n",
              "      <th>Date</th>\n",
              "      <th>Time</th>\n",
              "      <th>Pid</th>\n",
              "      <th>Level</th>\n",
              "      <th>Component</th>\n",
              "      <th>Content</th>\n",
              "      <th>EventId</th>\n",
              "      <th>EventTemplate</th>\n",
              "      <th>ParameterList</th>\n",
              "    </tr>\n",
              "  </thead>\n",
              "  <tbody>\n",
              "    <tr>\n",
              "      <th>0</th>\n",
              "      <td>1</td>\n",
              "      <td>81109</td>\n",
              "      <td>203615</td>\n",
              "      <td>148</td>\n",
              "      <td>INFO</td>\n",
              "      <td>dfs.DataNode$PacketResponder</td>\n",
              "      <td>PacketResponder 1 for block blk_38865049064139...</td>\n",
              "      <td>dc2c74b7</td>\n",
              "      <td>PacketResponder &lt;*&gt; for block &lt;*&gt; terminating</td>\n",
              "      <td>[]</td>\n",
              "    </tr>\n",
              "    <tr>\n",
              "      <th>1</th>\n",
              "      <td>2</td>\n",
              "      <td>81109</td>\n",
              "      <td>203807</td>\n",
              "      <td>222</td>\n",
              "      <td>INFO</td>\n",
              "      <td>dfs.DataNode$PacketResponder</td>\n",
              "      <td>PacketResponder 0 for block blk_-6952295868487...</td>\n",
              "      <td>dc2c74b7</td>\n",
              "      <td>PacketResponder &lt;*&gt; for block &lt;*&gt; terminating</td>\n",
              "      <td>[]</td>\n",
              "    </tr>\n",
              "    <tr>\n",
              "      <th>2</th>\n",
              "      <td>3</td>\n",
              "      <td>81109</td>\n",
              "      <td>204005</td>\n",
              "      <td>35</td>\n",
              "      <td>INFO</td>\n",
              "      <td>dfs.FSNamesystem</td>\n",
              "      <td>BLOCK* NameSystem.addStoredBlock: blockMap upd...</td>\n",
              "      <td>5d5de21c</td>\n",
              "      <td>BLOCK* NameSystem.addStoredBlock: blockMap upd...</td>\n",
              "      <td>[]</td>\n",
              "    </tr>\n",
              "  </tbody>\n",
              "</table>\n",
              "</div>\n",
              "      <button class=\"colab-df-convert\" onclick=\"convertToInteractive('df-f04486e3-85f9-4dea-a9ba-5d307c226005')\"\n",
              "              title=\"Convert this dataframe to an interactive table.\"\n",
              "              style=\"display:none;\">\n",
              "        \n",
              "  <svg xmlns=\"http://www.w3.org/2000/svg\" height=\"24px\"viewBox=\"0 0 24 24\"\n",
              "       width=\"24px\">\n",
              "    <path d=\"M0 0h24v24H0V0z\" fill=\"none\"/>\n",
              "    <path d=\"M18.56 5.44l.94 2.06.94-2.06 2.06-.94-2.06-.94-.94-2.06-.94 2.06-2.06.94zm-11 1L8.5 8.5l.94-2.06 2.06-.94-2.06-.94L8.5 2.5l-.94 2.06-2.06.94zm10 10l.94 2.06.94-2.06 2.06-.94-2.06-.94-.94-2.06-.94 2.06-2.06.94z\"/><path d=\"M17.41 7.96l-1.37-1.37c-.4-.4-.92-.59-1.43-.59-.52 0-1.04.2-1.43.59L10.3 9.45l-7.72 7.72c-.78.78-.78 2.05 0 2.83L4 21.41c.39.39.9.59 1.41.59.51 0 1.02-.2 1.41-.59l7.78-7.78 2.81-2.81c.8-.78.8-2.07 0-2.86zM5.41 20L4 18.59l7.72-7.72 1.47 1.35L5.41 20z\"/>\n",
              "  </svg>\n",
              "      </button>\n",
              "      \n",
              "  <style>\n",
              "    .colab-df-container {\n",
              "      display:flex;\n",
              "      flex-wrap:wrap;\n",
              "      gap: 12px;\n",
              "    }\n",
              "\n",
              "    .colab-df-convert {\n",
              "      background-color: #E8F0FE;\n",
              "      border: none;\n",
              "      border-radius: 50%;\n",
              "      cursor: pointer;\n",
              "      display: none;\n",
              "      fill: #1967D2;\n",
              "      height: 32px;\n",
              "      padding: 0 0 0 0;\n",
              "      width: 32px;\n",
              "    }\n",
              "\n",
              "    .colab-df-convert:hover {\n",
              "      background-color: #E2EBFA;\n",
              "      box-shadow: 0px 1px 2px rgba(60, 64, 67, 0.3), 0px 1px 3px 1px rgba(60, 64, 67, 0.15);\n",
              "      fill: #174EA6;\n",
              "    }\n",
              "\n",
              "    [theme=dark] .colab-df-convert {\n",
              "      background-color: #3B4455;\n",
              "      fill: #D2E3FC;\n",
              "    }\n",
              "\n",
              "    [theme=dark] .colab-df-convert:hover {\n",
              "      background-color: #434B5C;\n",
              "      box-shadow: 0px 1px 3px 1px rgba(0, 0, 0, 0.15);\n",
              "      filter: drop-shadow(0px 1px 2px rgba(0, 0, 0, 0.3));\n",
              "      fill: #FFFFFF;\n",
              "    }\n",
              "  </style>\n",
              "\n",
              "      <script>\n",
              "        const buttonEl =\n",
              "          document.querySelector('#df-f04486e3-85f9-4dea-a9ba-5d307c226005 button.colab-df-convert');\n",
              "        buttonEl.style.display =\n",
              "          google.colab.kernel.accessAllowed ? 'block' : 'none';\n",
              "\n",
              "        async function convertToInteractive(key) {\n",
              "          const element = document.querySelector('#df-f04486e3-85f9-4dea-a9ba-5d307c226005');\n",
              "          const dataTable =\n",
              "            await google.colab.kernel.invokeFunction('convertToInteractive',\n",
              "                                                     [key], {});\n",
              "          if (!dataTable) return;\n",
              "\n",
              "          const docLinkHtml = 'Like what you see? Visit the ' +\n",
              "            '<a target=\"_blank\" href=https://colab.research.google.com/notebooks/data_table.ipynb>data table notebook</a>'\n",
              "            + ' to learn more about interactive tables.';\n",
              "          element.innerHTML = '';\n",
              "          dataTable['output_type'] = 'display_data';\n",
              "          await google.colab.output.renderOutput(dataTable, element);\n",
              "          const docLink = document.createElement('div');\n",
              "          docLink.innerHTML = docLinkHtml;\n",
              "          element.appendChild(docLink);\n",
              "        }\n",
              "      </script>\n",
              "    </div>\n",
              "  </div>\n",
              "  "
            ]
          },
          "metadata": {},
          "execution_count": 26
        }
      ]
    },
    {
      "cell_type": "code",
      "source": [
        "event = []\n",
        "for i in df_parsedlog['EventId']:\n",
        "  if i not in event:\n",
        "    event.append(i)"
      ],
      "metadata": {
        "id": "vA7fLB-s5JRO"
      },
      "execution_count": 42,
      "outputs": []
    },
    {
      "cell_type": "code",
      "source": [
        "event2 = []\n",
        "for i in df_groundtruth['EventId']:\n",
        "  if i not in event2:\n",
        "    event2.append(i)"
      ],
      "metadata": {
        "id": "4qlPD8Pd5hmX"
      },
      "execution_count": 44,
      "outputs": []
    },
    {
      "cell_type": "code",
      "source": [
        "len(event2)"
      ],
      "metadata": {
        "colab": {
          "base_uri": "https://localhost:8080/"
        },
        "id": "LA7efiE05_6v",
        "outputId": "ebd84e5d-bed7-44f5-b338-c663c250a2b0"
      },
      "execution_count": 47,
      "outputs": [
        {
          "output_type": "execute_result",
          "data": {
            "text/plain": [
              "14"
            ]
          },
          "metadata": {},
          "execution_count": 47
        }
      ]
    },
    {
      "cell_type": "code",
      "source": [
        "for i in range(len(event)):\n",
        "  a = df_parsedlog['EventTemplate'][df_parsedlog['EventId']==event[i]]\n",
        "  for j in a:\n",
        "    print(j)\n",
        "    break\n"
      ],
      "metadata": {
        "colab": {
          "base_uri": "https://localhost:8080/"
        },
        "id": "fZt_rRYt5nc0",
        "outputId": "1316bc8e-ffff-4832-dbb7-f5050e73b348"
      },
      "execution_count": 61,
      "outputs": [
        {
          "output_type": "stream",
          "name": "stdout",
          "text": [
            "PacketResponder <*> for block <*> terminating\n",
            "BLOCK* NameSystem.addStoredBlock: blockMap updated: <*> is added to <*> size <*>\n",
            "Received block <*> of size <*> from /<*>\n",
            "Receiving block <*> src: /<*> dest: /<*>\n",
            "BLOCK* NameSystem.allocateBlock: <*> <*>\n",
            "Verification succeeded for <*>\n",
            "Deleting block <*> file <*>\n",
            "<*> Served block <*> to /<*>\n",
            "<*>:Got exception while serving <*> to /<*>:\n",
            "BLOCK* NameSystem.delete: <*> is added to invalidSet of <*>\n",
            "<*> Starting thread to transfer block <*> to <*>\n",
            "BLOCK* ask <*> to delete <*>\n",
            "Received block <*> src: /<*> dest: /<*> of size 67108864\n",
            "BLOCK* ask <*> to delete <*> <*> <*> <*> <*> <*> <*> <*> <*> <*> <*> <*> <*> <*> <*> <*> <*> <*> <*> <*> <*> <*> <*> <*> <*> <*> <*> <*> <*> <*> <*> <*> <*> <*> <*> <*> <*> <*> <*> <*> <*> <*> <*> <*> <*> <*> <*> <*> <*> <*> <*> <*> <*> <*> <*> <*> <*> <*> <*> <*> <*> <*> <*> <*> <*> <*> <*> <*> <*> <*> <*> <*> <*> <*> <*> <*> <*> <*> <*> <*> <*> <*> <*> <*> <*> <*> <*> <*> <*> <*> <*> <*> <*> <*> <*> <*> <*> <*> <*> <*>\n",
            "BLOCK* ask <*> to replicate <*> to datanode(s) <*>\n",
            "BLOCK* ask <*> to delete <*> <*> <*> <*> <*> <*> <*> <*> <*>\n"
          ]
        }
      ]
    },
    {
      "cell_type": "code",
      "source": [
        "for i in range(len(event2)):\n",
        "  a = df_groundtruth['EventTemplate'][df_groundtruth['EventId']==event2[i]]\n",
        "  for j in a:\n",
        "    print(j)\n",
        "    break"
      ],
      "metadata": {
        "colab": {
          "base_uri": "https://localhost:8080/"
        },
        "id": "cOhZQFn06Ox9",
        "outputId": "3ababb03-d8a3-4f75-a68d-24078d9c3bc8"
      },
      "execution_count": 62,
      "outputs": [
        {
          "output_type": "stream",
          "name": "stdout",
          "text": [
            "PacketResponder <*> for block blk_<*> terminating\n",
            "BLOCK* NameSystem.addStoredBlock: blockMap updated: <*>:<*> is added to blk_<*> size <*>\n",
            "Received block blk_<*> of size <*> from /<*>\n",
            "Receiving block blk_<*> src: /<*>:<*> dest: /<*>:<*>\n",
            "BLOCK* NameSystem.allocateBlock: /<*>/part-<*>. blk_<*>\n",
            "Verification succeeded for blk_<*>\n",
            "Deleting block blk_<*> file /<*>/blk_<*>\n",
            "<*>:<*> Served block blk_<*> to /<*>\n",
            "<*>:<*>:Got exception while serving blk_<*> to /<*>:\n",
            "BLOCK* NameSystem.delete: blk_<*> is added to invalidSet of <*>:<*>\n",
            "<*>:<*> Starting thread to transfer block blk_<*> to <*>:<*>\n",
            "BLOCK* ask <*>:<*> to delete  blk_<*>\n",
            "Received block blk_<*> src: /<*>:<*> dest: /<*>:<*> of size <*>\n",
            "BLOCK* ask <*>:<*> to replicate blk_<*> to datanode(s) <*>:<*>\n"
          ]
        }
      ]
    },
    {
      "cell_type": "code",
      "source": [
        "df_parsedlog[df_parsedlog['EventId']==event[15]]"
      ],
      "metadata": {
        "colab": {
          "base_uri": "https://localhost:8080/",
          "height": 242
        },
        "id": "5TXHaz1G7-1S",
        "outputId": "b7dc5b69-7727-4f0a-a7fc-2d55f33bcbca"
      },
      "execution_count": 64,
      "outputs": [
        {
          "output_type": "execute_result",
          "data": {
            "text/plain": [
              "      LineId   Date   Time  Pid Level         Component  \\\n",
              "1900    1901  81111  91733   19  INFO  dfs.FSNamesystem   \n",
              "\n",
              "                                                Content   EventId  \\\n",
              "1900  BLOCK* ask 10.251.126.5:50010 to delete  blk_-...  415a1760   \n",
              "\n",
              "                                          EventTemplate ParameterList  \n",
              "1900  BLOCK* ask <*> to delete <*> <*> <*> <*> <*> <...            []  "
            ],
            "text/html": [
              "\n",
              "  <div id=\"df-aa7dfbb7-7127-470c-88e2-4714f9f04e45\">\n",
              "    <div class=\"colab-df-container\">\n",
              "      <div>\n",
              "<style scoped>\n",
              "    .dataframe tbody tr th:only-of-type {\n",
              "        vertical-align: middle;\n",
              "    }\n",
              "\n",
              "    .dataframe tbody tr th {\n",
              "        vertical-align: top;\n",
              "    }\n",
              "\n",
              "    .dataframe thead th {\n",
              "        text-align: right;\n",
              "    }\n",
              "</style>\n",
              "<table border=\"1\" class=\"dataframe\">\n",
              "  <thead>\n",
              "    <tr style=\"text-align: right;\">\n",
              "      <th></th>\n",
              "      <th>LineId</th>\n",
              "      <th>Date</th>\n",
              "      <th>Time</th>\n",
              "      <th>Pid</th>\n",
              "      <th>Level</th>\n",
              "      <th>Component</th>\n",
              "      <th>Content</th>\n",
              "      <th>EventId</th>\n",
              "      <th>EventTemplate</th>\n",
              "      <th>ParameterList</th>\n",
              "    </tr>\n",
              "  </thead>\n",
              "  <tbody>\n",
              "    <tr>\n",
              "      <th>1900</th>\n",
              "      <td>1901</td>\n",
              "      <td>81111</td>\n",
              "      <td>91733</td>\n",
              "      <td>19</td>\n",
              "      <td>INFO</td>\n",
              "      <td>dfs.FSNamesystem</td>\n",
              "      <td>BLOCK* ask 10.251.126.5:50010 to delete  blk_-...</td>\n",
              "      <td>415a1760</td>\n",
              "      <td>BLOCK* ask &lt;*&gt; to delete &lt;*&gt; &lt;*&gt; &lt;*&gt; &lt;*&gt; &lt;*&gt; &lt;...</td>\n",
              "      <td>[]</td>\n",
              "    </tr>\n",
              "  </tbody>\n",
              "</table>\n",
              "</div>\n",
              "      <button class=\"colab-df-convert\" onclick=\"convertToInteractive('df-aa7dfbb7-7127-470c-88e2-4714f9f04e45')\"\n",
              "              title=\"Convert this dataframe to an interactive table.\"\n",
              "              style=\"display:none;\">\n",
              "        \n",
              "  <svg xmlns=\"http://www.w3.org/2000/svg\" height=\"24px\"viewBox=\"0 0 24 24\"\n",
              "       width=\"24px\">\n",
              "    <path d=\"M0 0h24v24H0V0z\" fill=\"none\"/>\n",
              "    <path d=\"M18.56 5.44l.94 2.06.94-2.06 2.06-.94-2.06-.94-.94-2.06-.94 2.06-2.06.94zm-11 1L8.5 8.5l.94-2.06 2.06-.94-2.06-.94L8.5 2.5l-.94 2.06-2.06.94zm10 10l.94 2.06.94-2.06 2.06-.94-2.06-.94-.94-2.06-.94 2.06-2.06.94z\"/><path d=\"M17.41 7.96l-1.37-1.37c-.4-.4-.92-.59-1.43-.59-.52 0-1.04.2-1.43.59L10.3 9.45l-7.72 7.72c-.78.78-.78 2.05 0 2.83L4 21.41c.39.39.9.59 1.41.59.51 0 1.02-.2 1.41-.59l7.78-7.78 2.81-2.81c.8-.78.8-2.07 0-2.86zM5.41 20L4 18.59l7.72-7.72 1.47 1.35L5.41 20z\"/>\n",
              "  </svg>\n",
              "      </button>\n",
              "      \n",
              "  <style>\n",
              "    .colab-df-container {\n",
              "      display:flex;\n",
              "      flex-wrap:wrap;\n",
              "      gap: 12px;\n",
              "    }\n",
              "\n",
              "    .colab-df-convert {\n",
              "      background-color: #E8F0FE;\n",
              "      border: none;\n",
              "      border-radius: 50%;\n",
              "      cursor: pointer;\n",
              "      display: none;\n",
              "      fill: #1967D2;\n",
              "      height: 32px;\n",
              "      padding: 0 0 0 0;\n",
              "      width: 32px;\n",
              "    }\n",
              "\n",
              "    .colab-df-convert:hover {\n",
              "      background-color: #E2EBFA;\n",
              "      box-shadow: 0px 1px 2px rgba(60, 64, 67, 0.3), 0px 1px 3px 1px rgba(60, 64, 67, 0.15);\n",
              "      fill: #174EA6;\n",
              "    }\n",
              "\n",
              "    [theme=dark] .colab-df-convert {\n",
              "      background-color: #3B4455;\n",
              "      fill: #D2E3FC;\n",
              "    }\n",
              "\n",
              "    [theme=dark] .colab-df-convert:hover {\n",
              "      background-color: #434B5C;\n",
              "      box-shadow: 0px 1px 3px 1px rgba(0, 0, 0, 0.15);\n",
              "      filter: drop-shadow(0px 1px 2px rgba(0, 0, 0, 0.3));\n",
              "      fill: #FFFFFF;\n",
              "    }\n",
              "  </style>\n",
              "\n",
              "      <script>\n",
              "        const buttonEl =\n",
              "          document.querySelector('#df-aa7dfbb7-7127-470c-88e2-4714f9f04e45 button.colab-df-convert');\n",
              "        buttonEl.style.display =\n",
              "          google.colab.kernel.accessAllowed ? 'block' : 'none';\n",
              "\n",
              "        async function convertToInteractive(key) {\n",
              "          const element = document.querySelector('#df-aa7dfbb7-7127-470c-88e2-4714f9f04e45');\n",
              "          const dataTable =\n",
              "            await google.colab.kernel.invokeFunction('convertToInteractive',\n",
              "                                                     [key], {});\n",
              "          if (!dataTable) return;\n",
              "\n",
              "          const docLinkHtml = 'Like what you see? Visit the ' +\n",
              "            '<a target=\"_blank\" href=https://colab.research.google.com/notebooks/data_table.ipynb>data table notebook</a>'\n",
              "            + ' to learn more about interactive tables.';\n",
              "          element.innerHTML = '';\n",
              "          dataTable['output_type'] = 'display_data';\n",
              "          await google.colab.output.renderOutput(dataTable, element);\n",
              "          const docLink = document.createElement('div');\n",
              "          docLink.innerHTML = docLinkHtml;\n",
              "          element.appendChild(docLink);\n",
              "        }\n",
              "      </script>\n",
              "    </div>\n",
              "  </div>\n",
              "  "
            ]
          },
          "metadata": {},
          "execution_count": 64
        }
      ]
    }
  ]
}