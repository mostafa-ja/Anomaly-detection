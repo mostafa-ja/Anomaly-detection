{
  "nbformat": 4,
  "nbformat_minor": 0,
  "metadata": {
    "colab": {
      "provenance": [],
      "gpuType": "T4",
      "authorship_tag": "ABX9TyPD6wzv6X2IVUlM6a7yVzVM",
      "include_colab_link": true
    },
    "kernelspec": {
      "name": "python3",
      "display_name": "Python 3"
    },
    "language_info": {
      "name": "python"
    },
    "accelerator": "GPU"
  },
  "cells": [
    {
      "cell_type": "markdown",
      "metadata": {
        "id": "view-in-github",
        "colab_type": "text"
      },
      "source": [
        "<a href=\"https://colab.research.google.com/github/mostafa-ja/Anomaly-detection/blob/main/C0(loganomaly_model).ipynb\" target=\"_parent\"><img src=\"https://colab.research.google.com/assets/colab-badge.svg\" alt=\"Open In Colab\"/></a>"
      ]
    },
    {
      "cell_type": "code",
      "source": [
        "\n",
        "import time\n",
        "import torch\n",
        "import torch.nn as nn\n",
        "import torch.optim as optim\n",
        "from torch.utils.data import TensorDataset, DataLoader\n",
        "import os\n",
        "import numpy as np\n",
        "import pandas as pd\n",
        "from tqdm import tqdm\n",
        "\n",
        "# Device configuration\n",
        "device = torch.device(\"cuda\" if torch.cuda.is_available() else \"cpu\")\n"
      ],
      "metadata": {
        "id": "-cgjPvYjFbKo"
      },
      "execution_count": 30,
      "outputs": []
    },
    {
      "cell_type": "code",
      "source": [
        "# download datasets\n",
        "!wget 'https://raw.githubusercontent.com/donglee-afar/logdeep/master/data/hdfs/hdfs_train'\n",
        "!wget 'https://raw.githubusercontent.com/donglee-afar/logdeep/master/data/hdfs/hdfs_test_normal'\n",
        "!wget 'https://raw.githubusercontent.com/donglee-afar/logdeep/master/data/hdfs/hdfs_test_abnormal'"
      ],
      "metadata": {
        "colab": {
          "base_uri": "https://localhost:8080/"
        },
        "id": "qZYNqcwLIPLF",
        "outputId": "2907e3b1-0826-44fc-cbc7-754bb7b26a01"
      },
      "execution_count": 2,
      "outputs": [
        {
          "output_type": "stream",
          "name": "stdout",
          "text": [
            "--2023-07-26 08:39:07--  https://raw.githubusercontent.com/donglee-afar/logdeep/master/data/hdfs/hdfs_train\n",
            "Resolving raw.githubusercontent.com (raw.githubusercontent.com)... 185.199.108.133, 185.199.109.133, 185.199.110.133, ...\n",
            "Connecting to raw.githubusercontent.com (raw.githubusercontent.com)|185.199.108.133|:443... connected.\n",
            "HTTP request sent, awaiting response... 200 OK\n",
            "Length: 257875 (252K) [text/plain]\n",
            "Saving to: ‘hdfs_train’\n",
            "\n",
            "\rhdfs_train            0%[                    ]       0  --.-KB/s               \rhdfs_train          100%[===================>] 251.83K  --.-KB/s    in 0.02s   \n",
            "\n",
            "2023-07-26 08:39:07 (12.1 MB/s) - ‘hdfs_train’ saved [257875/257875]\n",
            "\n",
            "--2023-07-26 08:39:08--  https://raw.githubusercontent.com/donglee-afar/logdeep/master/data/hdfs/hdfs_test_normal\n",
            "Resolving raw.githubusercontent.com (raw.githubusercontent.com)... 185.199.108.133, 185.199.109.133, 185.199.110.133, ...\n",
            "Connecting to raw.githubusercontent.com (raw.githubusercontent.com)|185.199.108.133|:443... connected.\n",
            "HTTP request sent, awaiting response... 200 OK\n",
            "Length: 29284282 (28M) [text/plain]\n",
            "Saving to: ‘hdfs_test_normal’\n",
            "\n",
            "hdfs_test_normal    100%[===================>]  27.93M  71.5MB/s    in 0.4s    \n",
            "\n",
            "2023-07-26 08:39:09 (71.5 MB/s) - ‘hdfs_test_normal’ saved [29284282/29284282]\n",
            "\n",
            "--2023-07-26 08:39:09--  https://raw.githubusercontent.com/donglee-afar/logdeep/master/data/hdfs/hdfs_test_abnormal\n",
            "Resolving raw.githubusercontent.com (raw.githubusercontent.com)... 185.199.108.133, 185.199.109.133, 185.199.110.133, ...\n",
            "Connecting to raw.githubusercontent.com (raw.githubusercontent.com)|185.199.108.133|:443... connected.\n",
            "HTTP request sent, awaiting response... 200 OK\n",
            "Length: 782479 (764K) [text/plain]\n",
            "Saving to: ‘hdfs_test_abnormal’\n",
            "\n",
            "hdfs_test_abnormal  100%[===================>] 764.14K  --.-KB/s    in 0.03s   \n",
            "\n",
            "2023-07-26 08:39:09 (27.3 MB/s) - ‘hdfs_test_abnormal’ saved [782479/782479]\n",
            "\n"
          ]
        }
      ]
    },
    {
      "cell_type": "code",
      "source": [
        "# count session for each dataset\n",
        "\n",
        "def count_sessions(dataset):\n",
        "    num_sessions = 0\n",
        "    with open('/content/'+ dataset, 'r') as f:\n",
        "        for row in f:\n",
        "            num_sessions += 1\n",
        "    print('Number of sessions({}): {}'.format(dataset, num_sessions))\n",
        "\n",
        "datasets = ['hdfs_train','hdfs_test_normal','hdfs_test_abnormal']\n",
        "\n",
        "for dataset in datasets:\n",
        "  count_sessions(dataset)"
      ],
      "metadata": {
        "colab": {
          "base_uri": "https://localhost:8080/"
        },
        "id": "BaCB9o7erHFe",
        "outputId": "98b791c1-7431-48c7-86fe-0ba1e6d41a52"
      },
      "execution_count": 3,
      "outputs": [
        {
          "output_type": "stream",
          "name": "stdout",
          "text": [
            "Number of sessions(hdfs_train): 4855\n",
            "Number of sessions(hdfs_test_normal): 553366\n",
            "Number of sessions(hdfs_test_abnormal): 16838\n"
          ]
        }
      ]
    },
    {
      "cell_type": "code",
      "source": [
        "# all templates in our datasets\n",
        "\n",
        "datasets = ['hdfs_train','hdfs_test_normal','hdfs_test_abnormal']\n",
        "templates = set()\n",
        "\n",
        "for dataset in datasets:\n",
        "  with open('/content/' + dataset, 'r') as f:\n",
        "          for row in f:\n",
        "            for temp in row.split():\n",
        "              templates.add(temp)\n",
        "\n",
        "print(sorted(templates))\n",
        "print('nember of templates : ',len(templates))"
      ],
      "metadata": {
        "colab": {
          "base_uri": "https://localhost:8080/"
        },
        "id": "pNDAhBmpwKSs",
        "outputId": "3e31fc5a-25c4-4750-86fe-658ae5c557e2"
      },
      "execution_count": 4,
      "outputs": [
        {
          "output_type": "stream",
          "name": "stdout",
          "text": [
            "['1', '10', '11', '12', '13', '14', '15', '16', '17', '18', '19', '2', '20', '21', '22', '23', '24', '25', '26', '27', '28', '3', '4', '5', '6', '7', '8', '9']\n",
            "nember of templates :  28\n"
          ]
        }
      ]
    },
    {
      "cell_type": "code",
      "source": [
        "name = 'hdfs_train'\n",
        "window_size = 10\n",
        "num_sessions = 0\n",
        "inputs = []\n",
        "outputs = []\n",
        "\n",
        "with open('/content/' + name, 'r') as f:\n",
        "        for row in f:\n",
        "            num_sessions += 1\n",
        "            line = [ (int(i)-1) for i in row.strip().split()]\n",
        "            for i in range(len(line) - window_size):\n",
        "                inputs.append(line[i:i + window_size])\n",
        "                outputs.append(line[i + window_size])\n",
        "\n",
        "print('Number of sessions({}): {}'.format(name, num_sessions))\n",
        "print('Number of seqs({}): {}'.format(name, len(inputs)))\n",
        "dataset = TensorDataset(torch.tensor(inputs, dtype=torch.float), torch.tensor(outputs))\n"
      ],
      "metadata": {
        "colab": {
          "base_uri": "https://localhost:8080/"
        },
        "id": "w1P4keFzwKDn",
        "outputId": "3335c0eb-639f-4aac-ba53-090d25a97a5e"
      },
      "execution_count": null,
      "outputs": [
        {
          "output_type": "stream",
          "name": "stdout",
          "text": [
            "Number of sessions(hdfs_train): 4855\n",
            "Number of seqs(hdfs_train): 46575\n"
          ]
        }
      ]
    },
    {
      "cell_type": "code",
      "source": [
        "dataloader = DataLoader(dataset, batch_size=1)\n",
        "for seq, label in dataloader:\n",
        "  print(seq)\n",
        "  print(label)\n",
        "  break"
      ],
      "metadata": {
        "colab": {
          "base_uri": "https://localhost:8080/"
        },
        "id": "yVPNtxoaL6Ol",
        "outputId": "bc9e6eaf-0cd5-4edf-9613-760b02e57a48"
      },
      "execution_count": null,
      "outputs": [
        {
          "output_type": "stream",
          "name": "stdout",
          "text": [
            "tensor([[ 4.,  4.,  4., 21., 10.,  8., 10.,  8., 10.,  8.]])\n",
            "tensor([25])\n"
          ]
        }
      ]
    },
    {
      "cell_type": "code",
      "source": [
        "from collections import Counter\n",
        "Counter([1, 2, 1, 5, 8, 4, 2, 3, 1])\n",
        "seq1 = [0] * 28\n",
        "log_conuter = Counter(seq0)\n",
        "for key in log_conuter:\n",
        "    seq1[key] = log_conuter[key]"
      ],
      "metadata": {
        "colab": {
          "base_uri": "https://localhost:8080/"
        },
        "id": "sZbVs_Ns-YgY",
        "outputId": "e9084ab9-d8b9-4994-8ca6-4b37e3f548e4"
      },
      "execution_count": null,
      "outputs": [
        {
          "output_type": "execute_result",
          "data": {
            "text/plain": [
              "Counter({1: 3, 2: 2, 5: 1, 8: 1, 4: 1, 3: 1})"
            ]
          },
          "metadata": {},
          "execution_count": 2
        }
      ]
    },
    {
      "cell_type": "code",
      "source": [
        "Sequential_pattern = [1, 2, 1, 5, 8, 4, 2, 3, 1]\n",
        "np.array(Sequential_pattern)[:, np.newaxis]"
      ],
      "metadata": {
        "colab": {
          "base_uri": "https://localhost:8080/"
        },
        "id": "3wY9jOGuHOLx",
        "outputId": "a7681b47-b080-4846-aa18-a18d2f6d1af1"
      },
      "execution_count": null,
      "outputs": [
        {
          "output_type": "execute_result",
          "data": {
            "text/plain": [
              "array([[1],\n",
              "       [2],\n",
              "       [1],\n",
              "       [5],\n",
              "       [8],\n",
              "       [4],\n",
              "       [2],\n",
              "       [3],\n",
              "       [1]])"
            ]
          },
          "metadata": {},
          "execution_count": 5
        }
      ]
    },
    {
      "cell_type": "code",
      "source": [
        "Sequential_pattern = [1, 2, 1, 5, 8, 4, 2, 3, 1]\n",
        "Quantitative_pattern = [0] * 10  #0 to 9\n",
        "log_counter = Counter(Sequential_pattern)\n",
        "for key in log_counter:\n",
        "    Quantitative_pattern[key] = log_counter[key]\n",
        "np.array(Quantitative_pattern)[:, np.newaxis]"
      ],
      "metadata": {
        "colab": {
          "base_uri": "https://localhost:8080/"
        },
        "id": "ThQv2AixHpSs",
        "outputId": "3d914f67-189c-4746-8d3a-952be72b55f7"
      },
      "execution_count": null,
      "outputs": [
        {
          "output_type": "execute_result",
          "data": {
            "text/plain": [
              "array([[0],\n",
              "       [3],\n",
              "       [2],\n",
              "       [1],\n",
              "       [1],\n",
              "       [1],\n",
              "       [0],\n",
              "       [0],\n",
              "       [1],\n",
              "       [0]])"
            ]
          },
          "metadata": {},
          "execution_count": 33
        }
      ]
    },
    {
      "cell_type": "code",
      "source": [
        "#import json\n",
        "#def read_json(filename):\n",
        "    #with open(filename, 'r') as load_f:\n",
        "        #file_dict = json.load(load_f)\n",
        "    #return file_dict\n",
        "\n",
        "from collections import Counter\n",
        "\n",
        "def sliding_window(data_dir, window_size):\n",
        "    '''\n",
        "    dataset structure\n",
        "        result_logs(dict):\n",
        "            result_logs['feature0'] = list()\n",
        "            result_logs['feature1'] = list()\n",
        "            ...\n",
        "        labels(list)\n",
        "    '''\n",
        "    #event2semantic_vec = read_json(data_dir + 'hdfs/event2semantic_vec.json')\n",
        "    num_sessions = 0\n",
        "    result_logs = {}\n",
        "    result_logs['Sequentials'] = []\n",
        "    result_logs['Quantitatives'] = []\n",
        "    #result_logs['Semantics'] = []\n",
        "    labels = []\n",
        "\n",
        "    with open(data_dir, 'r') as f:\n",
        "        for line in f.readlines():\n",
        "            num_sessions += 1\n",
        "            line = [(int(i)-1) for i in line.strip().split()]\n",
        "            for i in range(len(line) - window_size):\n",
        "\n",
        "                Sequential_pattern = list(line[i:i + window_size])\n",
        "\n",
        "                Quantitative_pattern = [0] * 28  # 28 templates we have\n",
        "                log_counter = Counter(Sequential_pattern)\n",
        "                for key in log_counter:\n",
        "                    Quantitative_pattern[key] = log_counter[key]\n",
        "\n",
        "                #Semantic_pattern = []\n",
        "                #for event in Sequential_pattern:\n",
        "                    #if event == 0:\n",
        "                        #Semantic_pattern.append([-1] * 300)\n",
        "                    #else:\n",
        "                        #Semantic_pattern.append(event2semantic_vec[str(event - 1)])\n",
        "\n",
        "                #Sequential_pattern = np.array(Sequential_pattern)[:, np.newaxis]\n",
        "                #Quantitative_pattern = np.array(Quantitative_pattern)[:, np.newaxis]\n",
        "                result_logs['Sequentials'].append(Sequential_pattern)\n",
        "                result_logs['Quantitatives'].append(Quantitative_pattern)\n",
        "                #result_logs['Semantics'].append(Semantic_pattern)\n",
        "\n",
        "                labels.append(line[i + window_size])\n",
        "\n",
        "    print('File {}, number of sessions {}'.format(data_dir, num_sessions))\n",
        "    print('File {}, number of seqs {}'.format(data_dir, len(result_logs['Sequentials'])))\n",
        "\n",
        "    return result_logs, labels\n"
      ],
      "metadata": {
        "id": "eZfqkQCoBqMg"
      },
      "execution_count": 5,
      "outputs": []
    },
    {
      "cell_type": "code",
      "source": [
        "result_logs, labels = sliding_window('/content/hdfs_train', 10)"
      ],
      "metadata": {
        "colab": {
          "base_uri": "https://localhost:8080/"
        },
        "id": "Dpio7sLuIQzV",
        "outputId": "5ce78cee-59d7-4838-a7ac-c5fc7d037c29"
      },
      "execution_count": 7,
      "outputs": [
        {
          "output_type": "stream",
          "name": "stdout",
          "text": [
            "File /content/hdfs_train, number of sessions 4855\n",
            "File /content/hdfs_train, number of seqs 46575\n"
          ]
        }
      ]
    },
    {
      "cell_type": "code",
      "source": [
        "print(result_logs['Sequentials'][0])\n",
        "print(result_logs['Quantitatives'][0])\n",
        "print(labels[0])"
      ],
      "metadata": {
        "colab": {
          "base_uri": "https://localhost:8080/"
        },
        "id": "ribwaCGTKMDP",
        "outputId": "0911d0b1-8c6a-45d1-9416-62b386fb7707"
      },
      "execution_count": null,
      "outputs": [
        {
          "output_type": "stream",
          "name": "stdout",
          "text": [
            "[4, 4, 4, 21, 10, 8, 10, 8, 10, 8]\n",
            "[0, 0, 0, 0, 3, 0, 0, 0, 3, 0, 3, 0, 0, 0, 0, 0, 0, 0, 0, 0, 0, 1, 0, 0, 0, 0, 0, 0]\n",
            "25\n"
          ]
        }
      ]
    },
    {
      "cell_type": "code",
      "source": [
        "dataset = TensorDataset(torch.tensor(result_logs['Sequentials'], dtype=torch.float), torch.tensor(labels))\n",
        "dataloader = DataLoader(dataset, batch_size=1)\n",
        "for seq, label in dataloader:\n",
        "  print(seq)\n",
        "  print(label)\n",
        "  break"
      ],
      "metadata": {
        "colab": {
          "base_uri": "https://localhost:8080/"
        },
        "id": "8SXIwQWwMZSS",
        "outputId": "827be171-7c72-4521-a185-d74b066a1c60"
      },
      "execution_count": null,
      "outputs": [
        {
          "output_type": "stream",
          "name": "stdout",
          "text": [
            "tensor([[ 4.,  4.,  4., 21., 10.,  8., 10.,  8., 10.,  8.]])\n",
            "tensor([25])\n"
          ]
        }
      ]
    },
    {
      "cell_type": "code",
      "source": [
        "dataset = TensorDataset(torch.tensor(result_logs['Sequentials'], dtype=torch.float), torch.tensor(result_logs['Quantitatives'], dtype=torch.float), torch.tensor(labels))\n",
        "dataloader = DataLoader(dataset, batch_size=1)\n",
        "for seq,quan, label in dataloader:\n",
        "  print(seq)\n",
        "  print(quan)\n",
        "  print(label)\n",
        "  break"
      ],
      "metadata": {
        "colab": {
          "base_uri": "https://localhost:8080/"
        },
        "id": "lHJ6J37wNEPV",
        "outputId": "1fd231af-9360-4005-e99b-777c6fba3d0a"
      },
      "execution_count": 8,
      "outputs": [
        {
          "output_type": "stream",
          "name": "stdout",
          "text": [
            "tensor([[ 4.,  4.,  4., 21., 10.,  8., 10.,  8., 10.,  8.]])\n",
            "tensor([[0., 0., 0., 0., 3., 0., 0., 0., 3., 0., 3., 0., 0., 0., 0., 0., 0., 0.,\n",
            "         0., 0., 0., 1., 0., 0., 0., 0., 0., 0.]])\n",
            "tensor([25])\n"
          ]
        }
      ]
    },
    {
      "cell_type": "code",
      "source": [
        "from torch.autograd import Variable\n",
        "\n",
        "class loganomaly(nn.Module):\n",
        "    def __init__(self, input_size, hidden_size, num_layers, num_keys):\n",
        "        super(loganomaly, self).__init__()\n",
        "        self.hidden_size = hidden_size\n",
        "        self.num_layers = num_layers\n",
        "        self.lstm0 = nn.LSTM(input_size,\n",
        "                             hidden_size,\n",
        "                             num_layers,\n",
        "                             batch_first=True)\n",
        "        self.lstm1 = nn.LSTM(input_size,\n",
        "                             hidden_size,\n",
        "                             num_layers,\n",
        "                             batch_first=True)\n",
        "        self.fc = nn.Linear(2 * hidden_size, num_keys)\n",
        "        self.attention_size = self.hidden_size\n",
        "\n",
        "        self.w_omega = Variable(\n",
        "            torch.zeros(self.hidden_size, self.attention_size))\n",
        "        self.u_omega = Variable(torch.zeros(self.attention_size))\n",
        "\n",
        "        self.sequence_length = 28\n",
        "\n",
        "    def attention_net(self, lstm_output):\n",
        "        output_reshape = torch.Tensor.reshape(lstm_output,\n",
        "                                              [-1, self.hidden_size])\n",
        "        attn_tanh = torch.tanh(torch.mm(output_reshape, self.w_omega))\n",
        "        attn_hidden_layer = torch.mm(\n",
        "            attn_tanh, torch.Tensor.reshape(self.u_omega, [-1, 1]))\n",
        "        exps = torch.Tensor.reshape(torch.exp(attn_hidden_layer),\n",
        "                                    [-1, self.sequence_length])\n",
        "        alphas = exps / torch.Tensor.reshape(torch.sum(exps, 1), [-1, 1])\n",
        "        alphas_reshape = torch.Tensor.reshape(alphas,\n",
        "                                              [-1, self.sequence_length, 1])\n",
        "        state = lstm_output\n",
        "        attn_output = torch.sum(state * alphas_reshape, 1)\n",
        "        return attn_output\n",
        "\n",
        "    def forward(self, features, device):\n",
        "        input0, input1 = features[0], features[1]\n",
        "\n",
        "        h0_0 = torch.zeros(self.num_layers, input0.size(0),\n",
        "                           self.hidden_size).to(device)\n",
        "        c0_0 = torch.zeros(self.num_layers, input0.size(0),\n",
        "                           self.hidden_size).to(device)\n",
        "\n",
        "        out0, _ = self.lstm0(input0, (h0_0, c0_0))\n",
        "\n",
        "        h0_1 = torch.zeros(self.num_layers, input1.size(0),\n",
        "                           self.hidden_size).to(device)\n",
        "        c0_1 = torch.zeros(self.num_layers, input1.size(0),\n",
        "                           self.hidden_size).to(device)\n",
        "\n",
        "        out1, _ = self.lstm1(input1, (h0_1, c0_1))\n",
        "        multi_out = torch.cat((out0[:, -1, :], out1[:, -1, :]), -1)\n",
        "        out = self.fc(multi_out)\n",
        "        return out"
      ],
      "metadata": {
        "id": "v3DBDvgg7P7U"
      },
      "execution_count": 9,
      "outputs": []
    },
    {
      "cell_type": "code",
      "source": [
        "input_size = 1\n",
        "num_layers = 2\n",
        "hidden_size = 64\n",
        "num_classes = 28  # templates\n",
        "batch_size = 2048\n",
        "num_epochs = 375\n",
        "window_size = 10"
      ],
      "metadata": {
        "id": "R0ht4IKd2QFf"
      },
      "execution_count": 19,
      "outputs": []
    },
    {
      "cell_type": "code",
      "source": [
        "model = loganomaly(input_size, hidden_size, num_layers, num_classes).to(device)\n",
        "dataloader = DataLoader(dataset, batch_size=batch_size, shuffle=True, pin_memory=True)\n",
        "\n",
        "# Loss and optimizer\n",
        "criterion = nn.CrossEntropyLoss()\n"
      ],
      "metadata": {
        "id": "Ve9GNCW-2zDL"
      },
      "execution_count": 20,
      "outputs": []
    },
    {
      "cell_type": "code",
      "source": [
        "def adjust_learning_rate(optimizer, epoch, lr_step=(300, 350), lr_decay_ratio=0.1):\n",
        "    \"\"\"Adjust the learning rate based on the epoch number.\"\"\"\n",
        "    if epoch == 0:\n",
        "        optimizer.param_groups[0]['lr'] /= 32\n",
        "    elif epoch in [1, 2, 3, 4, 5]:  # in step five , we finish warm up ,and start normal learning rate\n",
        "        optimizer.param_groups[0]['lr'] *= 2\n",
        "    if epoch in lr_step: # in these steps , we are geting close to optimal point so we need to have shorter step\n",
        "        optimizer.param_groups[0]['lr'] *= lr_decay_ratio\n",
        "    return optimizer\n",
        "\n",
        "# Define options here\n",
        "options = {\n",
        "    'lr': 0.001,\n",
        "    'lr_step': (300, 350), #steps(epoch) for updating learning rate\n",
        "    'lr_decay_ratio': 0.1,\n",
        "    # Add other options here\n",
        "}\n",
        "\n",
        "optimizer = optim.Adam(model.parameters(), lr=options['lr'], betas=(0.9, 0.999))\n"
      ],
      "metadata": {
        "id": "54g6LFd-IkwN"
      },
      "execution_count": 21,
      "outputs": []
    },
    {
      "cell_type": "code",
      "source": [
        "\n",
        "# Train the model\n",
        "start_time = time.time()\n",
        "total_step = len(dataloader)\n",
        "for epoch in range(num_epochs):  # Loop over the dataset multiple times\n",
        "    optimizer = adjust_learning_rate(optimizer, epoch, options['lr_step'], options['lr_decay_ratio'])\n",
        "    print(optimizer.param_groups[0]['lr'])\n",
        "    train_loss = 0\n",
        "    for step, (seq,quan,label) in enumerate(dataloader):\n",
        "        # Forward pass\n",
        "        print('seq : ',seq.shape)\n",
        "        print('quan : ',quan.shape)\n",
        "        seq = seq.clone().detach().view(-1, window_size, input_size).to(device)\n",
        "        quan = quan.clone().detach().view(-1, 28, input_size).to(device)\n",
        "        print('after')\n",
        "        print('seq : ',seq.shape)\n",
        "        print('quan : ',quan.shape)\n",
        "        break\n",
        "    break"
      ],
      "metadata": {
        "colab": {
          "base_uri": "https://localhost:8080/"
        },
        "id": "PcGWPHLlTqbU",
        "outputId": "31484f8a-29ed-49e9-e1f0-77a3b62a772a"
      },
      "execution_count": null,
      "outputs": [
        {
          "output_type": "stream",
          "name": "stdout",
          "text": [
            "1.862645149230957e-12\n",
            "seq :  torch.Size([2048, 10])\n",
            "quan :  torch.Size([2048, 28])\n",
            "after\n",
            "seq :  torch.Size([2048, 10, 1])\n",
            "quan :  torch.Size([2048, 28, 1])\n"
          ]
        }
      ]
    },
    {
      "cell_type": "code",
      "source": [
        "\n",
        "# Train the model\n",
        "start_time = time.time()\n",
        "total_step = len(dataloader)\n",
        "for epoch in range(num_epochs):  # Loop over the dataset multiple times\n",
        "    optimizer = adjust_learning_rate(optimizer, epoch, options['lr_step'], options['lr_decay_ratio'])\n",
        "    print(optimizer.param_groups[0]['lr'])\n",
        "    train_loss = 0\n",
        "    for step, (seq,quan,label) in enumerate(dataloader):\n",
        "        # Move data to the device\n",
        "        seq = seq.view(-1, window_size, input_size).to(device)\n",
        "        quan = quan.view(-1, 28, input_size).to(device)\n",
        "        label = label.to(device)\n",
        "\n",
        "        # Forward pass\n",
        "        output = model(features=(seq, quan), device=device)\n",
        "        loss = criterion(output, label)\n",
        "\n",
        "        # Backward and optimize\n",
        "        optimizer.zero_grad()\n",
        "        loss.backward()\n",
        "        train_loss += loss.item()\n",
        "        optimizer.step()\n",
        "    print('Epoch [{}/{}], train_loss: {:.4f}'.format(epoch + 1, num_epochs, train_loss / total_step))\n",
        "elapsed_time = time.time() - start_time\n",
        "print('elapsed_time: {:.3f}s'.format(elapsed_time))\n",
        "print('Finished Training')"
      ],
      "metadata": {
        "colab": {
          "base_uri": "https://localhost:8080/"
        },
        "id": "A5NxknEJTzNi",
        "outputId": "6ecf3f99-ad19-4a32-adf0-bed2d2fb4eae"
      },
      "execution_count": 22,
      "outputs": [
        {
          "output_type": "stream",
          "name": "stdout",
          "text": [
            "3.125e-05\n",
            "Epoch [1/375], train_loss: 3.3477\n",
            "6.25e-05\n",
            "Epoch [2/375], train_loss: 3.3107\n",
            "0.000125\n",
            "Epoch [3/375], train_loss: 3.2178\n",
            "0.00025\n",
            "Epoch [4/375], train_loss: 2.7103\n",
            "0.0005\n",
            "Epoch [5/375], train_loss: 1.8556\n",
            "0.001\n",
            "Epoch [6/375], train_loss: 1.6828\n",
            "0.001\n",
            "Epoch [7/375], train_loss: 1.3839\n",
            "0.001\n",
            "Epoch [8/375], train_loss: 1.1256\n",
            "0.001\n",
            "Epoch [9/375], train_loss: 0.9316\n",
            "0.001\n",
            "Epoch [10/375], train_loss: 0.7915\n",
            "0.001\n",
            "Epoch [11/375], train_loss: 0.7029\n",
            "0.001\n",
            "Epoch [12/375], train_loss: 0.6463\n",
            "0.001\n",
            "Epoch [13/375], train_loss: 0.6123\n",
            "0.001\n",
            "Epoch [14/375], train_loss: 0.5831\n",
            "0.001\n",
            "Epoch [15/375], train_loss: 0.5525\n",
            "0.001\n",
            "Epoch [16/375], train_loss: 0.5221\n",
            "0.001\n",
            "Epoch [17/375], train_loss: 0.4924\n",
            "0.001\n",
            "Epoch [18/375], train_loss: 0.4863\n",
            "0.001\n",
            "Epoch [19/375], train_loss: 0.4651\n",
            "0.001\n",
            "Epoch [20/375], train_loss: 0.4407\n",
            "0.001\n",
            "Epoch [21/375], train_loss: 0.4270\n",
            "0.001\n",
            "Epoch [22/375], train_loss: 0.4175\n",
            "0.001\n",
            "Epoch [23/375], train_loss: 0.4108\n",
            "0.001\n",
            "Epoch [24/375], train_loss: 0.4042\n",
            "0.001\n",
            "Epoch [25/375], train_loss: 0.4008\n",
            "0.001\n",
            "Epoch [26/375], train_loss: 0.3952\n",
            "0.001\n",
            "Epoch [27/375], train_loss: 0.3886\n",
            "0.001\n",
            "Epoch [28/375], train_loss: 0.3847\n",
            "0.001\n",
            "Epoch [29/375], train_loss: 0.3819\n",
            "0.001\n",
            "Epoch [30/375], train_loss: 0.3856\n",
            "0.001\n",
            "Epoch [31/375], train_loss: 0.3785\n",
            "0.001\n",
            "Epoch [32/375], train_loss: 0.3710\n",
            "0.001\n",
            "Epoch [33/375], train_loss: 0.3687\n",
            "0.001\n",
            "Epoch [34/375], train_loss: 0.3691\n",
            "0.001\n",
            "Epoch [35/375], train_loss: 0.3652\n",
            "0.001\n",
            "Epoch [36/375], train_loss: 0.3643\n",
            "0.001\n",
            "Epoch [37/375], train_loss: 0.3615\n",
            "0.001\n",
            "Epoch [38/375], train_loss: 0.3648\n",
            "0.001\n",
            "Epoch [39/375], train_loss: 0.3553\n",
            "0.001\n",
            "Epoch [40/375], train_loss: 0.3529\n",
            "0.001\n",
            "Epoch [41/375], train_loss: 0.3483\n",
            "0.001\n",
            "Epoch [42/375], train_loss: 0.3466\n",
            "0.001\n",
            "Epoch [43/375], train_loss: 0.3442\n",
            "0.001\n",
            "Epoch [44/375], train_loss: 0.3428\n",
            "0.001\n",
            "Epoch [45/375], train_loss: 0.3422\n",
            "0.001\n",
            "Epoch [46/375], train_loss: 0.3396\n",
            "0.001\n",
            "Epoch [47/375], train_loss: 0.3366\n",
            "0.001\n",
            "Epoch [48/375], train_loss: 0.3371\n",
            "0.001\n",
            "Epoch [49/375], train_loss: 0.4379\n",
            "0.001\n",
            "Epoch [50/375], train_loss: 0.4234\n",
            "0.001\n",
            "Epoch [51/375], train_loss: 0.3512\n",
            "0.001\n",
            "Epoch [52/375], train_loss: 0.3401\n",
            "0.001\n",
            "Epoch [53/375], train_loss: 0.3358\n",
            "0.001\n",
            "Epoch [54/375], train_loss: 0.3336\n",
            "0.001\n",
            "Epoch [55/375], train_loss: 0.3313\n",
            "0.001\n",
            "Epoch [56/375], train_loss: 0.3301\n",
            "0.001\n",
            "Epoch [57/375], train_loss: 0.3280\n",
            "0.001\n",
            "Epoch [58/375], train_loss: 0.3265\n",
            "0.001\n",
            "Epoch [59/375], train_loss: 0.3250\n",
            "0.001\n",
            "Epoch [60/375], train_loss: 0.3235\n",
            "0.001\n",
            "Epoch [61/375], train_loss: 0.3221\n",
            "0.001\n",
            "Epoch [62/375], train_loss: 0.3199\n",
            "0.001\n",
            "Epoch [63/375], train_loss: 0.3177\n",
            "0.001\n",
            "Epoch [64/375], train_loss: 0.3164\n",
            "0.001\n",
            "Epoch [65/375], train_loss: 0.3181\n",
            "0.001\n",
            "Epoch [66/375], train_loss: 0.3147\n",
            "0.001\n",
            "Epoch [67/375], train_loss: 0.3147\n",
            "0.001\n",
            "Epoch [68/375], train_loss: 0.3120\n",
            "0.001\n",
            "Epoch [69/375], train_loss: 0.3106\n",
            "0.001\n",
            "Epoch [70/375], train_loss: 0.3098\n",
            "0.001\n",
            "Epoch [71/375], train_loss: 0.3117\n",
            "0.001\n",
            "Epoch [72/375], train_loss: 0.3088\n",
            "0.001\n",
            "Epoch [73/375], train_loss: 0.3049\n",
            "0.001\n",
            "Epoch [74/375], train_loss: 0.3035\n",
            "0.001\n",
            "Epoch [75/375], train_loss: 0.3016\n",
            "0.001\n",
            "Epoch [76/375], train_loss: 0.2999\n",
            "0.001\n",
            "Epoch [77/375], train_loss: 0.3055\n",
            "0.001\n",
            "Epoch [78/375], train_loss: 0.3003\n",
            "0.001\n",
            "Epoch [79/375], train_loss: 0.2980\n",
            "0.001\n",
            "Epoch [80/375], train_loss: 0.2978\n",
            "0.001\n",
            "Epoch [81/375], train_loss: 0.2955\n",
            "0.001\n",
            "Epoch [82/375], train_loss: 0.3018\n",
            "0.001\n",
            "Epoch [83/375], train_loss: 0.2942\n",
            "0.001\n",
            "Epoch [84/375], train_loss: 0.2918\n",
            "0.001\n",
            "Epoch [85/375], train_loss: 0.2907\n",
            "0.001\n",
            "Epoch [86/375], train_loss: 0.2883\n",
            "0.001\n",
            "Epoch [87/375], train_loss: 0.2875\n",
            "0.001\n",
            "Epoch [88/375], train_loss: 0.2853\n",
            "0.001\n",
            "Epoch [89/375], train_loss: 0.2838\n",
            "0.001\n",
            "Epoch [90/375], train_loss: 0.2816\n",
            "0.001\n",
            "Epoch [91/375], train_loss: 0.2814\n",
            "0.001\n",
            "Epoch [92/375], train_loss: 0.2791\n",
            "0.001\n",
            "Epoch [93/375], train_loss: 0.2791\n",
            "0.001\n",
            "Epoch [94/375], train_loss: 0.2775\n",
            "0.001\n",
            "Epoch [95/375], train_loss: 0.2771\n",
            "0.001\n",
            "Epoch [96/375], train_loss: 0.2758\n",
            "0.001\n",
            "Epoch [97/375], train_loss: 0.2737\n",
            "0.001\n",
            "Epoch [98/375], train_loss: 0.2724\n",
            "0.001\n",
            "Epoch [99/375], train_loss: 0.2740\n",
            "0.001\n",
            "Epoch [100/375], train_loss: 0.2746\n",
            "0.001\n",
            "Epoch [101/375], train_loss: 0.2698\n",
            "0.001\n",
            "Epoch [102/375], train_loss: 0.2693\n",
            "0.001\n",
            "Epoch [103/375], train_loss: 0.2675\n",
            "0.001\n",
            "Epoch [104/375], train_loss: 0.2676\n",
            "0.001\n",
            "Epoch [105/375], train_loss: 0.2688\n",
            "0.001\n",
            "Epoch [106/375], train_loss: 0.2655\n",
            "0.001\n",
            "Epoch [107/375], train_loss: 0.2638\n",
            "0.001\n",
            "Epoch [108/375], train_loss: 0.2637\n",
            "0.001\n",
            "Epoch [109/375], train_loss: 0.2631\n",
            "0.001\n",
            "Epoch [110/375], train_loss: 0.2624\n",
            "0.001\n",
            "Epoch [111/375], train_loss: 0.2624\n",
            "0.001\n",
            "Epoch [112/375], train_loss: 0.2615\n",
            "0.001\n",
            "Epoch [113/375], train_loss: 0.2612\n",
            "0.001\n",
            "Epoch [114/375], train_loss: 0.2576\n",
            "0.001\n",
            "Epoch [115/375], train_loss: 0.2578\n",
            "0.001\n",
            "Epoch [116/375], train_loss: 0.2578\n",
            "0.001\n",
            "Epoch [117/375], train_loss: 0.2570\n",
            "0.001\n",
            "Epoch [118/375], train_loss: 0.2559\n",
            "0.001\n",
            "Epoch [119/375], train_loss: 0.2544\n",
            "0.001\n",
            "Epoch [120/375], train_loss: 0.2548\n",
            "0.001\n",
            "Epoch [121/375], train_loss: 0.2533\n",
            "0.001\n",
            "Epoch [122/375], train_loss: 0.2517\n",
            "0.001\n",
            "Epoch [123/375], train_loss: 0.2525\n",
            "0.001\n",
            "Epoch [124/375], train_loss: 0.2519\n",
            "0.001\n",
            "Epoch [125/375], train_loss: 0.2509\n",
            "0.001\n",
            "Epoch [126/375], train_loss: 0.2497\n",
            "0.001\n",
            "Epoch [127/375], train_loss: 0.2484\n",
            "0.001\n",
            "Epoch [128/375], train_loss: 0.2490\n",
            "0.001\n",
            "Epoch [129/375], train_loss: 0.2500\n",
            "0.001\n",
            "Epoch [130/375], train_loss: 0.2487\n",
            "0.001\n",
            "Epoch [131/375], train_loss: 0.2477\n",
            "0.001\n",
            "Epoch [132/375], train_loss: 0.2449\n",
            "0.001\n",
            "Epoch [133/375], train_loss: 0.2453\n",
            "0.001\n",
            "Epoch [134/375], train_loss: 0.2453\n",
            "0.001\n",
            "Epoch [135/375], train_loss: 0.2448\n",
            "0.001\n",
            "Epoch [136/375], train_loss: 0.2431\n",
            "0.001\n",
            "Epoch [137/375], train_loss: 0.2423\n",
            "0.001\n",
            "Epoch [138/375], train_loss: 0.2411\n",
            "0.001\n",
            "Epoch [139/375], train_loss: 0.2412\n",
            "0.001\n",
            "Epoch [140/375], train_loss: 0.2403\n",
            "0.001\n",
            "Epoch [141/375], train_loss: 0.2404\n",
            "0.001\n",
            "Epoch [142/375], train_loss: 0.2396\n",
            "0.001\n",
            "Epoch [143/375], train_loss: 0.2389\n",
            "0.001\n",
            "Epoch [144/375], train_loss: 0.2380\n",
            "0.001\n",
            "Epoch [145/375], train_loss: 0.2369\n",
            "0.001\n",
            "Epoch [146/375], train_loss: 0.2374\n",
            "0.001\n",
            "Epoch [147/375], train_loss: 0.2367\n",
            "0.001\n",
            "Epoch [148/375], train_loss: 0.2364\n",
            "0.001\n",
            "Epoch [149/375], train_loss: 0.2386\n",
            "0.001\n",
            "Epoch [150/375], train_loss: 0.3707\n",
            "0.001\n",
            "Epoch [151/375], train_loss: 0.3098\n",
            "0.001\n",
            "Epoch [152/375], train_loss: 0.2621\n",
            "0.001\n",
            "Epoch [153/375], train_loss: 0.2493\n",
            "0.001\n",
            "Epoch [154/375], train_loss: 0.2438\n",
            "0.001\n",
            "Epoch [155/375], train_loss: 0.2403\n",
            "0.001\n",
            "Epoch [156/375], train_loss: 0.2375\n",
            "0.001\n",
            "Epoch [157/375], train_loss: 0.2357\n",
            "0.001\n",
            "Epoch [158/375], train_loss: 0.2355\n",
            "0.001\n",
            "Epoch [159/375], train_loss: 0.2330\n",
            "0.001\n",
            "Epoch [160/375], train_loss: 0.2331\n",
            "0.001\n",
            "Epoch [161/375], train_loss: 0.2323\n",
            "0.001\n",
            "Epoch [162/375], train_loss: 0.2326\n",
            "0.001\n",
            "Epoch [163/375], train_loss: 0.2322\n",
            "0.001\n",
            "Epoch [164/375], train_loss: 0.2310\n",
            "0.001\n",
            "Epoch [165/375], train_loss: 0.2301\n",
            "0.001\n",
            "Epoch [166/375], train_loss: 0.2296\n",
            "0.001\n",
            "Epoch [167/375], train_loss: 0.2295\n",
            "0.001\n",
            "Epoch [168/375], train_loss: 0.2299\n",
            "0.001\n",
            "Epoch [169/375], train_loss: 0.2290\n",
            "0.001\n",
            "Epoch [170/375], train_loss: 0.2289\n",
            "0.001\n",
            "Epoch [171/375], train_loss: 0.2276\n",
            "0.001\n",
            "Epoch [172/375], train_loss: 0.2274\n",
            "0.001\n",
            "Epoch [173/375], train_loss: 0.2274\n",
            "0.001\n",
            "Epoch [174/375], train_loss: 0.2278\n",
            "0.001\n",
            "Epoch [175/375], train_loss: 0.2265\n",
            "0.001\n",
            "Epoch [176/375], train_loss: 0.2254\n",
            "0.001\n",
            "Epoch [177/375], train_loss: 0.2251\n",
            "0.001\n",
            "Epoch [178/375], train_loss: 0.2251\n",
            "0.001\n",
            "Epoch [179/375], train_loss: 0.2245\n",
            "0.001\n",
            "Epoch [180/375], train_loss: 0.2242\n",
            "0.001\n",
            "Epoch [181/375], train_loss: 0.2240\n",
            "0.001\n",
            "Epoch [182/375], train_loss: 0.2244\n",
            "0.001\n",
            "Epoch [183/375], train_loss: 0.2230\n",
            "0.001\n",
            "Epoch [184/375], train_loss: 0.2237\n",
            "0.001\n",
            "Epoch [185/375], train_loss: 0.2222\n",
            "0.001\n",
            "Epoch [186/375], train_loss: 0.2228\n",
            "0.001\n",
            "Epoch [187/375], train_loss: 0.2223\n",
            "0.001\n",
            "Epoch [188/375], train_loss: 0.2228\n",
            "0.001\n",
            "Epoch [189/375], train_loss: 0.2229\n",
            "0.001\n",
            "Epoch [190/375], train_loss: 0.2212\n",
            "0.001\n",
            "Epoch [191/375], train_loss: 0.2204\n",
            "0.001\n",
            "Epoch [192/375], train_loss: 0.2209\n",
            "0.001\n",
            "Epoch [193/375], train_loss: 0.2193\n",
            "0.001\n",
            "Epoch [194/375], train_loss: 0.2205\n",
            "0.001\n",
            "Epoch [195/375], train_loss: 0.2194\n",
            "0.001\n",
            "Epoch [196/375], train_loss: 0.2197\n",
            "0.001\n",
            "Epoch [197/375], train_loss: 0.2201\n",
            "0.001\n",
            "Epoch [198/375], train_loss: 0.2206\n",
            "0.001\n",
            "Epoch [199/375], train_loss: 0.2187\n",
            "0.001\n",
            "Epoch [200/375], train_loss: 0.2185\n",
            "0.001\n",
            "Epoch [201/375], train_loss: 0.2188\n",
            "0.001\n",
            "Epoch [202/375], train_loss: 0.2171\n",
            "0.001\n",
            "Epoch [203/375], train_loss: 0.2175\n",
            "0.001\n",
            "Epoch [204/375], train_loss: 0.2170\n",
            "0.001\n",
            "Epoch [205/375], train_loss: 0.2177\n",
            "0.001\n",
            "Epoch [206/375], train_loss: 0.2170\n",
            "0.001\n",
            "Epoch [207/375], train_loss: 0.2165\n",
            "0.001\n",
            "Epoch [208/375], train_loss: 0.2164\n",
            "0.001\n",
            "Epoch [209/375], train_loss: 0.2165\n",
            "0.001\n",
            "Epoch [210/375], train_loss: 0.2182\n",
            "0.001\n",
            "Epoch [211/375], train_loss: 0.2171\n",
            "0.001\n",
            "Epoch [212/375], train_loss: 0.2145\n",
            "0.001\n",
            "Epoch [213/375], train_loss: 0.2146\n",
            "0.001\n",
            "Epoch [214/375], train_loss: 0.2149\n",
            "0.001\n",
            "Epoch [215/375], train_loss: 0.2160\n",
            "0.001\n",
            "Epoch [216/375], train_loss: 0.2157\n",
            "0.001\n",
            "Epoch [217/375], train_loss: 0.2147\n",
            "0.001\n",
            "Epoch [218/375], train_loss: 0.2148\n",
            "0.001\n",
            "Epoch [219/375], train_loss: 0.2146\n",
            "0.001\n",
            "Epoch [220/375], train_loss: 0.2135\n",
            "0.001\n",
            "Epoch [221/375], train_loss: 0.2137\n",
            "0.001\n",
            "Epoch [222/375], train_loss: 0.2121\n",
            "0.001\n",
            "Epoch [223/375], train_loss: 0.2129\n",
            "0.001\n",
            "Epoch [224/375], train_loss: 0.2132\n",
            "0.001\n",
            "Epoch [225/375], train_loss: 0.2121\n",
            "0.001\n",
            "Epoch [226/375], train_loss: 0.2465\n",
            "0.001\n",
            "Epoch [227/375], train_loss: 0.3103\n",
            "0.001\n",
            "Epoch [228/375], train_loss: 0.2374\n",
            "0.001\n",
            "Epoch [229/375], train_loss: 0.2257\n",
            "0.001\n",
            "Epoch [230/375], train_loss: 0.2210\n",
            "0.001\n",
            "Epoch [231/375], train_loss: 0.2183\n",
            "0.001\n",
            "Epoch [232/375], train_loss: 0.2153\n",
            "0.001\n",
            "Epoch [233/375], train_loss: 0.2143\n",
            "0.001\n",
            "Epoch [234/375], train_loss: 0.2130\n",
            "0.001\n",
            "Epoch [235/375], train_loss: 0.2127\n",
            "0.001\n",
            "Epoch [236/375], train_loss: 0.2131\n",
            "0.001\n",
            "Epoch [237/375], train_loss: 0.2112\n",
            "0.001\n",
            "Epoch [238/375], train_loss: 0.2108\n",
            "0.001\n",
            "Epoch [239/375], train_loss: 0.2103\n",
            "0.001\n",
            "Epoch [240/375], train_loss: 0.2102\n",
            "0.001\n",
            "Epoch [241/375], train_loss: 0.2093\n",
            "0.001\n",
            "Epoch [242/375], train_loss: 0.2100\n",
            "0.001\n",
            "Epoch [243/375], train_loss: 0.2093\n",
            "0.001\n",
            "Epoch [244/375], train_loss: 0.2090\n",
            "0.001\n",
            "Epoch [245/375], train_loss: 0.2085\n",
            "0.001\n",
            "Epoch [246/375], train_loss: 0.2081\n",
            "0.001\n",
            "Epoch [247/375], train_loss: 0.2080\n",
            "0.001\n",
            "Epoch [248/375], train_loss: 0.2082\n",
            "0.001\n",
            "Epoch [249/375], train_loss: 0.2071\n",
            "0.001\n",
            "Epoch [250/375], train_loss: 0.2079\n",
            "0.001\n",
            "Epoch [251/375], train_loss: 0.2074\n",
            "0.001\n",
            "Epoch [252/375], train_loss: 0.2076\n",
            "0.001\n",
            "Epoch [253/375], train_loss: 0.2078\n",
            "0.001\n",
            "Epoch [254/375], train_loss: 0.2075\n",
            "0.001\n",
            "Epoch [255/375], train_loss: 0.2076\n",
            "0.001\n",
            "Epoch [256/375], train_loss: 0.2068\n",
            "0.001\n",
            "Epoch [257/375], train_loss: 0.2065\n",
            "0.001\n",
            "Epoch [258/375], train_loss: 0.2055\n",
            "0.001\n",
            "Epoch [259/375], train_loss: 0.2057\n",
            "0.001\n",
            "Epoch [260/375], train_loss: 0.2058\n",
            "0.001\n",
            "Epoch [261/375], train_loss: 0.2061\n",
            "0.001\n",
            "Epoch [262/375], train_loss: 0.2053\n",
            "0.001\n",
            "Epoch [263/375], train_loss: 0.2050\n",
            "0.001\n",
            "Epoch [264/375], train_loss: 0.2051\n",
            "0.001\n",
            "Epoch [265/375], train_loss: 0.2048\n",
            "0.001\n",
            "Epoch [266/375], train_loss: 0.2049\n",
            "0.001\n",
            "Epoch [267/375], train_loss: 0.2043\n",
            "0.001\n",
            "Epoch [268/375], train_loss: 0.2050\n",
            "0.001\n",
            "Epoch [269/375], train_loss: 0.2045\n",
            "0.001\n",
            "Epoch [270/375], train_loss: 0.2043\n",
            "0.001\n",
            "Epoch [271/375], train_loss: 0.2048\n",
            "0.001\n",
            "Epoch [272/375], train_loss: 0.2041\n",
            "0.001\n",
            "Epoch [273/375], train_loss: 0.2034\n",
            "0.001\n",
            "Epoch [274/375], train_loss: 0.2039\n",
            "0.001\n",
            "Epoch [275/375], train_loss: 0.2034\n",
            "0.001\n",
            "Epoch [276/375], train_loss: 0.2028\n",
            "0.001\n",
            "Epoch [277/375], train_loss: 0.2027\n",
            "0.001\n",
            "Epoch [278/375], train_loss: 0.2028\n",
            "0.001\n",
            "Epoch [279/375], train_loss: 0.2026\n",
            "0.001\n",
            "Epoch [280/375], train_loss: 0.2022\n",
            "0.001\n",
            "Epoch [281/375], train_loss: 0.2022\n",
            "0.001\n",
            "Epoch [282/375], train_loss: 0.2026\n",
            "0.001\n",
            "Epoch [283/375], train_loss: 0.2031\n",
            "0.001\n",
            "Epoch [284/375], train_loss: 0.2044\n",
            "0.001\n",
            "Epoch [285/375], train_loss: 0.2059\n",
            "0.001\n",
            "Epoch [286/375], train_loss: 0.2044\n",
            "0.001\n",
            "Epoch [287/375], train_loss: 0.2025\n",
            "0.001\n",
            "Epoch [288/375], train_loss: 0.2018\n",
            "0.001\n",
            "Epoch [289/375], train_loss: 0.2015\n",
            "0.001\n",
            "Epoch [290/375], train_loss: 0.2024\n",
            "0.001\n",
            "Epoch [291/375], train_loss: 0.2016\n",
            "0.001\n",
            "Epoch [292/375], train_loss: 0.2014\n",
            "0.001\n",
            "Epoch [293/375], train_loss: 0.2004\n",
            "0.001\n",
            "Epoch [294/375], train_loss: 0.1998\n",
            "0.001\n",
            "Epoch [295/375], train_loss: 0.2007\n",
            "0.001\n",
            "Epoch [296/375], train_loss: 0.2014\n",
            "0.001\n",
            "Epoch [297/375], train_loss: 0.2007\n",
            "0.001\n",
            "Epoch [298/375], train_loss: 0.2000\n",
            "0.001\n",
            "Epoch [299/375], train_loss: 0.2008\n",
            "0.001\n",
            "Epoch [300/375], train_loss: 0.2007\n",
            "0.0001\n",
            "Epoch [301/375], train_loss: 0.1972\n",
            "0.0001\n",
            "Epoch [302/375], train_loss: 0.1966\n",
            "0.0001\n",
            "Epoch [303/375], train_loss: 0.1964\n",
            "0.0001\n",
            "Epoch [304/375], train_loss: 0.1966\n",
            "0.0001\n",
            "Epoch [305/375], train_loss: 0.1959\n",
            "0.0001\n",
            "Epoch [306/375], train_loss: 0.1963\n",
            "0.0001\n",
            "Epoch [307/375], train_loss: 0.1961\n",
            "0.0001\n",
            "Epoch [308/375], train_loss: 0.1961\n",
            "0.0001\n",
            "Epoch [309/375], train_loss: 0.1962\n",
            "0.0001\n",
            "Epoch [310/375], train_loss: 0.1960\n",
            "0.0001\n",
            "Epoch [311/375], train_loss: 0.1959\n",
            "0.0001\n",
            "Epoch [312/375], train_loss: 0.1960\n",
            "0.0001\n",
            "Epoch [313/375], train_loss: 0.1961\n",
            "0.0001\n",
            "Epoch [314/375], train_loss: 0.1962\n",
            "0.0001\n",
            "Epoch [315/375], train_loss: 0.1963\n",
            "0.0001\n",
            "Epoch [316/375], train_loss: 0.1958\n",
            "0.0001\n",
            "Epoch [317/375], train_loss: 0.1958\n",
            "0.0001\n",
            "Epoch [318/375], train_loss: 0.1959\n",
            "0.0001\n",
            "Epoch [319/375], train_loss: 0.1957\n",
            "0.0001\n",
            "Epoch [320/375], train_loss: 0.1959\n",
            "0.0001\n",
            "Epoch [321/375], train_loss: 0.1959\n",
            "0.0001\n",
            "Epoch [322/375], train_loss: 0.1957\n",
            "0.0001\n",
            "Epoch [323/375], train_loss: 0.1957\n",
            "0.0001\n",
            "Epoch [324/375], train_loss: 0.1959\n",
            "0.0001\n",
            "Epoch [325/375], train_loss: 0.1958\n",
            "0.0001\n",
            "Epoch [326/375], train_loss: 0.1958\n",
            "0.0001\n",
            "Epoch [327/375], train_loss: 0.1958\n",
            "0.0001\n",
            "Epoch [328/375], train_loss: 0.1960\n",
            "0.0001\n",
            "Epoch [329/375], train_loss: 0.1959\n",
            "0.0001\n",
            "Epoch [330/375], train_loss: 0.1959\n",
            "0.0001\n",
            "Epoch [331/375], train_loss: 0.1958\n",
            "0.0001\n",
            "Epoch [332/375], train_loss: 0.1957\n",
            "0.0001\n",
            "Epoch [333/375], train_loss: 0.1956\n",
            "0.0001\n",
            "Epoch [334/375], train_loss: 0.1958\n",
            "0.0001\n",
            "Epoch [335/375], train_loss: 0.1954\n",
            "0.0001\n",
            "Epoch [336/375], train_loss: 0.1956\n",
            "0.0001\n",
            "Epoch [337/375], train_loss: 0.1957\n",
            "0.0001\n",
            "Epoch [338/375], train_loss: 0.1958\n",
            "0.0001\n",
            "Epoch [339/375], train_loss: 0.1956\n",
            "0.0001\n",
            "Epoch [340/375], train_loss: 0.1954\n",
            "0.0001\n",
            "Epoch [341/375], train_loss: 0.1954\n",
            "0.0001\n",
            "Epoch [342/375], train_loss: 0.1955\n",
            "0.0001\n",
            "Epoch [343/375], train_loss: 0.1957\n",
            "0.0001\n",
            "Epoch [344/375], train_loss: 0.1955\n",
            "0.0001\n",
            "Epoch [345/375], train_loss: 0.1955\n",
            "0.0001\n",
            "Epoch [346/375], train_loss: 0.1955\n",
            "0.0001\n",
            "Epoch [347/375], train_loss: 0.1957\n",
            "0.0001\n",
            "Epoch [348/375], train_loss: 0.1954\n",
            "0.0001\n",
            "Epoch [349/375], train_loss: 0.1950\n",
            "0.0001\n",
            "Epoch [350/375], train_loss: 0.1954\n",
            "1e-05\n",
            "Epoch [351/375], train_loss: 0.1949\n",
            "1e-05\n",
            "Epoch [352/375], train_loss: 0.1948\n",
            "1e-05\n",
            "Epoch [353/375], train_loss: 0.1949\n",
            "1e-05\n",
            "Epoch [354/375], train_loss: 0.1947\n",
            "1e-05\n",
            "Epoch [355/375], train_loss: 0.1949\n",
            "1e-05\n",
            "Epoch [356/375], train_loss: 0.1949\n",
            "1e-05\n",
            "Epoch [357/375], train_loss: 0.1950\n",
            "1e-05\n",
            "Epoch [358/375], train_loss: 0.1951\n",
            "1e-05\n",
            "Epoch [359/375], train_loss: 0.1946\n",
            "1e-05\n",
            "Epoch [360/375], train_loss: 0.1948\n",
            "1e-05\n",
            "Epoch [361/375], train_loss: 0.1944\n",
            "1e-05\n",
            "Epoch [362/375], train_loss: 0.1948\n",
            "1e-05\n",
            "Epoch [363/375], train_loss: 0.1949\n",
            "1e-05\n",
            "Epoch [364/375], train_loss: 0.1949\n",
            "1e-05\n",
            "Epoch [365/375], train_loss: 0.1950\n",
            "1e-05\n",
            "Epoch [366/375], train_loss: 0.1946\n",
            "1e-05\n",
            "Epoch [367/375], train_loss: 0.1947\n",
            "1e-05\n",
            "Epoch [368/375], train_loss: 0.1949\n",
            "1e-05\n",
            "Epoch [369/375], train_loss: 0.1946\n",
            "1e-05\n",
            "Epoch [370/375], train_loss: 0.1947\n",
            "1e-05\n",
            "Epoch [371/375], train_loss: 0.1948\n",
            "1e-05\n",
            "Epoch [372/375], train_loss: 0.1946\n",
            "1e-05\n",
            "Epoch [373/375], train_loss: 0.1949\n",
            "1e-05\n",
            "Epoch [374/375], train_loss: 0.1948\n",
            "1e-05\n",
            "Epoch [375/375], train_loss: 0.1950\n",
            "elapsed_time: 418.461s\n",
            "Finished Training\n"
          ]
        }
      ]
    },
    {
      "cell_type": "code",
      "source": [
        "# Mount Google Drive\n",
        "from google.colab import drive\n",
        "drive.mount('/content/drive')"
      ],
      "metadata": {
        "colab": {
          "base_uri": "https://localhost:8080/"
        },
        "id": "Lsa9Wiv-OUfq",
        "outputId": "72b2f4ec-6e76-4f87-8955-dd538f6206cc"
      },
      "execution_count": 23,
      "outputs": [
        {
          "output_type": "stream",
          "name": "stdout",
          "text": [
            "Mounted at /content/drive\n"
          ]
        }
      ]
    },
    {
      "cell_type": "code",
      "source": [
        "#save the model\n",
        "torch.save(model.state_dict(), '/content/drive/MyDrive/HDFS/loganomaly_model_parameter')"
      ],
      "metadata": {
        "id": "qVHEFEB4NqVS"
      },
      "execution_count": 24,
      "outputs": []
    },
    {
      "cell_type": "code",
      "source": [
        "\n",
        "# upload the model\n",
        "model_path = '/content/drive/MyDrive/HDFS/loganomaly_model_parameter'\n",
        "model.load_state_dict(torch.load(model_path))"
      ],
      "metadata": {
        "id": "pA_FNHo7ORnT"
      },
      "execution_count": null,
      "outputs": []
    },
    {
      "cell_type": "code",
      "source": [
        "def generate(name):\n",
        "    window_size = 10\n",
        "    hdfs = {} #store the unique sequences and their counts.\n",
        "    length = 0\n",
        "    with open('/content/' + name, 'r') as f:\n",
        "        for ln in f.readlines():\n",
        "            ln = [(int(i)-1) for i in ln.strip().split()]\n",
        "            ln = ln + [-1] * (window_size + 1 - len(ln))     #ensure that all sequences have a fixed length of window_size + 1, even if the original line had fewer elements.\n",
        "            hdfs[tuple(ln)] = hdfs.get(tuple(ln), 0) + 1   #If the tuple is not present in the dictionary, hdfs.get(tuple(ln), 0) returns 0, and the code initializes the count to 1.\n",
        "            length += 1\n",
        "    print('Number of sessions({}): {}'.format(name, len(hdfs)))\n",
        "    return hdfs, length"
      ],
      "metadata": {
        "id": "ntfFr0QmwD6x"
      },
      "execution_count": 25,
      "outputs": []
    },
    {
      "cell_type": "code",
      "source": [
        "\n",
        "test_normal_loader, test_normal_length = generate('hdfs_test_normal')\n",
        "test_abnormal_loader, test_abnormal_length = generate('hdfs_test_abnormal')"
      ],
      "metadata": {
        "colab": {
          "base_uri": "https://localhost:8080/"
        },
        "id": "6NnZp1dT75jI",
        "outputId": "09c99d39-4662-4df8-f5e6-da8c0b72905d"
      },
      "execution_count": 26,
      "outputs": [
        {
          "output_type": "stream",
          "name": "stdout",
          "text": [
            "Number of sessions(hdfs_test_normal): 14177\n",
            "Number of sessions(hdfs_test_abnormal): 4123\n"
          ]
        }
      ]
    },
    {
      "cell_type": "code",
      "source": [
        "num_candidates = 9 # on paper is g , top-g(here top 9) probabilities to appear next are considered normal"
      ],
      "metadata": {
        "id": "dSDO2VmH8dRF"
      },
      "execution_count": 28,
      "outputs": []
    },
    {
      "cell_type": "code",
      "source": [
        "# Test the model\n",
        "model.eval()\n",
        "\n",
        "TP = 0\n",
        "FP = 0\n",
        "\n",
        "start_time = time.time()\n",
        "with torch.no_grad():\n",
        "    for line in test_normal_loader.keys():\n",
        "        for i in range(len(line) - window_size):\n",
        "            seq0 = line[i:i + window_size]\n",
        "            label = line[i + window_size]\n",
        "            seq1 = [0] * 28\n",
        "            log_conuter = Counter(seq0)\n",
        "            for key in log_conuter:\n",
        "                seq1[key] = log_conuter[key]\n",
        "\n",
        "            seq0 = torch.tensor(seq0, dtype=torch.float).view(-1, window_size, input_size).to(device)\n",
        "            seq1 = torch.tensor(seq1, dtype=torch.float).view(-1, num_classes, input_size).to(device)\n",
        "            label = torch.tensor(label).view(-1).to(device)\n",
        "            output = model(features=[seq0, seq1], device=device)\n",
        "            predicted = torch.argsort(output,1)[0][-num_candidates:]\n",
        "            if label not in predicted:\n",
        "                FP += test_normal_loader[line]\n",
        "                break\n",
        "\n",
        "with torch.no_grad():\n",
        "    for line in test_abnormal_loader.keys():\n",
        "        for i in range(len(line) - window_size):\n",
        "            seq0 = line[i:i + window_size]\n",
        "            label = line[i + window_size]\n",
        "            seq1 = [0] * 28\n",
        "            log_conuter = Counter(seq0)\n",
        "            for key in log_conuter:\n",
        "                seq1[key] = log_conuter[key]\n",
        "\n",
        "            seq0 = torch.tensor(seq0, dtype=torch.float).view(-1, window_size, input_size).to(device)\n",
        "            seq1 = torch.tensor(seq1, dtype=torch.float).view(-1, num_classes, input_size).to(device)\n",
        "            label = torch.tensor(label).view(-1).to(device)\n",
        "            output = model(features=[seq0, seq1], device=device)\n",
        "            predicted = torch.argsort(output,1)[0][-num_candidates:]\n",
        "            if label not in predicted:\n",
        "                TP += test_abnormal_loader[line]\n",
        "                break\n",
        "elapsed_time = time.time() - start_time\n",
        "print('elapsed_time: {:.3f}s'.format(elapsed_time))\n",
        "# Compute precision, recall and F1-measure\n",
        "FN = test_abnormal_length - TP\n",
        "P = 100 * TP / (TP + FP)\n",
        "R = 100 * TP / (TP + FN)\n",
        "F1 = 2 * P * R / (P + R)\n",
        "print('false positive (FP): {}, false negative (FN): {}, Precision: {:.3f}%, Recall: {:.3f}%, F1-measure: {:.3f}%'.format(FP, FN, P, R, F1))\n",
        "print('Finished Predicting')"
      ],
      "metadata": {
        "colab": {
          "base_uri": "https://localhost:8080/"
        },
        "id": "ZIDRTh2-8ASi",
        "outputId": "8b51f603-6396-4ab6-fca7-4acb3dd2dbd6"
      },
      "execution_count": 29,
      "outputs": [
        {
          "output_type": "stream",
          "name": "stdout",
          "text": [
            "elapsed_time: 293.191s\n",
            "false positive (FP): 1231, false negative (FN): 1072, Precision: 92.758%, Recall: 93.633%, F1-measure: 93.193%\n",
            "Finished Predicting\n"
          ]
        }
      ]
    },
    {
      "cell_type": "code",
      "source": [],
      "metadata": {
        "id": "AAN5NIvfcTwY"
      },
      "execution_count": null,
      "outputs": []
    },
    {
      "cell_type": "code",
      "source": [
        "def test_data(model, data_loader, num_candidates, device):\n",
        "  model.eval()\n",
        "\n",
        "  S = 0\n",
        "\n",
        "  start_time = time.time()\n",
        "  with torch.no_grad():\n",
        "      for line in tqdm(data_loader.keys()):\n",
        "          for i in range(len(line) - window_size):\n",
        "              seq0 = line[i:i + window_size]\n",
        "              label = line[i + window_size]\n",
        "              seq1 = [0] * 28\n",
        "              log_conuter = Counter(seq0)\n",
        "              for key in log_conuter:\n",
        "                  seq1[key] = log_conuter[key]\n",
        "\n",
        "              seq0 = torch.tensor(seq0, dtype=torch.float).view(-1, window_size, input_size).to(device)\n",
        "              seq1 = torch.tensor(seq1, dtype=torch.float).view(-1, num_classes, input_size).to(device)\n",
        "              label = torch.tensor(label).view(-1).to(device)\n",
        "              output = model(features=[seq0, seq1], device=device)\n",
        "              predicted = torch.argsort(output,1)[0][-num_candidates:]\n",
        "              if label not in predicted:\n",
        "                  S += data_loader[line]\n",
        "                  break\n",
        "\n",
        "  return S"
      ],
      "metadata": {
        "id": "MenhoSebeWoE"
      },
      "execution_count": 36,
      "outputs": []
    },
    {
      "cell_type": "code",
      "source": [
        "# Test the model on normal data\n",
        "FP_normal = test_data(model, test_normal_loader, num_candidates, device)\n",
        "\n",
        "# Test the model on abnormal data\n",
        "TP_abnormal = test_data(model, test_abnormal_loader, num_candidates, device)\n",
        "\n",
        "# Compute precision, recall, and F1-measure\n",
        "FN = test_abnormal_length - TP_abnormal\n",
        "P = 100 * TP_abnormal / (TP_abnormal + FP_normal)\n",
        "R = 100 * TP_abnormal / (TP_abnormal + FN)\n",
        "F1 = 2 * P * R / (P + R)\n",
        "\n",
        "print('false positive (FP): {}, false negative (FN): {}, Precision: {:.3f}%, Recall: {:.3f}%, F1-measure: {:.3f}%'.format(FP_normal, FN, P, R, F1))\n",
        "print('Finished Predicting')"
      ],
      "metadata": {
        "colab": {
          "base_uri": "https://localhost:8080/"
        },
        "id": "oHIZ6nb4fLFc",
        "outputId": "a1e5f1ed-830d-495b-d154-cea0f320b58f"
      },
      "execution_count": 37,
      "outputs": [
        {
          "output_type": "stream",
          "name": "stderr",
          "text": [
            "100%|██████████| 14177/14177 [04:06<00:00, 57.53it/s]\n",
            "100%|██████████| 4123/4123 [00:51<00:00, 80.84it/s]"
          ]
        },
        {
          "output_type": "stream",
          "name": "stdout",
          "text": [
            "false positive (FP): 1231, false negative (FN): 1072, Precision: 92.758%, Recall: 93.633%, F1-measure: 93.193%\n",
            "Finished Predicting\n"
          ]
        },
        {
          "output_type": "stream",
          "name": "stderr",
          "text": [
            "\n"
          ]
        }
      ]
    },
    {
      "cell_type": "code",
      "source": [
        "print(TP)\n",
        "print(FN)\n",
        "print(FP)\n",
        "print()"
      ],
      "metadata": {
        "colab": {
          "base_uri": "https://localhost:8080/"
        },
        "id": "MwoQNRr0dfJm",
        "outputId": "bb9183d6-babf-452f-bd3e-23a5269c014b"
      },
      "execution_count": null,
      "outputs": [
        {
          "output_type": "stream",
          "name": "stdout",
          "text": [
            "16584\n",
            "254\n",
            "903\n",
            "\n"
          ]
        }
      ]
    },
    {
      "cell_type": "code",
      "source": [],
      "metadata": {
        "id": "J1VFDfINdlKy"
      },
      "execution_count": null,
      "outputs": []
    }
  ]
}