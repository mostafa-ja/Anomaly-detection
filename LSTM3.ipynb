{
  "nbformat": 4,
  "nbformat_minor": 0,
  "metadata": {
    "colab": {
      "provenance": [],
      "authorship_tag": "ABX9TyPYUUedCeT6x4JieEoVXzUx",
      "include_colab_link": true
    },
    "kernelspec": {
      "name": "python3",
      "display_name": "Python 3"
    },
    "language_info": {
      "name": "python"
    }
  },
  "cells": [
    {
      "cell_type": "markdown",
      "metadata": {
        "id": "view-in-github",
        "colab_type": "text"
      },
      "source": [
        "<a href=\"https://colab.research.google.com/github/mostafa-ja/Anomaly-detection/blob/main/LSTM3.ipynb\" target=\"_parent\"><img src=\"https://colab.research.google.com/assets/colab-badge.svg\" alt=\"Open In Colab\"/></a>"
      ]
    },
    {
      "cell_type": "code",
      "execution_count": 8,
      "metadata": {
        "id": "XoqK7HxH8-EF"
      },
      "outputs": [],
      "source": [
        "import json\n",
        "import pandas as pd\n",
        "import numpy as np\n",
        "from sklearn.decomposition import PCA"
      ]
    },
    {
      "cell_type": "code",
      "source": [
        "def cosine_similarity(vector1, vector2):\n",
        "    dot_product = np.dot(vector1, vector2)\n",
        "    norm1 = np.linalg.norm(vector1)\n",
        "    norm2 = np.linalg.norm(vector2)\n",
        "    cosine_similarity = dot_product / (norm1 * norm2)\n",
        "    return cosine_similarity\n"
      ],
      "metadata": {
        "id": "QauBIBsLgDgA"
      },
      "execution_count": 9,
      "outputs": []
    },
    {
      "cell_type": "code",
      "source": [
        "with open('/content/hdfs_event2semantic_vec.json') as f:\n",
        "    # Step1-1 open file\n",
        "    gdp_list = json.load(f)\n",
        "    value = list(gdp_list.values())"
      ],
      "metadata": {
        "id": "-oP1ng-Z9k60"
      },
      "execution_count": 10,
      "outputs": []
    },
    {
      "cell_type": "code",
      "source": [
        "print(len(value))\n",
        "print(len(value[0]))"
      ],
      "metadata": {
        "colab": {
          "base_uri": "https://localhost:8080/"
        },
        "id": "Quck6Dp39mFP",
        "outputId": "14f0ee4a-876f-472c-af00-78d35c05b1bc"
      },
      "execution_count": 11,
      "outputs": [
        {
          "output_type": "stream",
          "name": "stdout",
          "text": [
            "29\n",
            "300\n"
          ]
        }
      ]
    },
    {
      "cell_type": "code",
      "source": [
        "components = None\n",
        "pca = PCA(n_components = 20) # n_components can not be greater than 29 , because we have 29 data and if they are compeletely independent , we could have 29D, same as one hot encoding\n",
        "# perform PCA on the scaled data\n",
        "pca_result = pca.fit_transform(value)\n",
        "\n",
        "# print the explained variances\n",
        "print(\"Variances (Percentage):\")\n",
        "print(pca.explained_variance_ratio_ * 100)\n",
        "print(sum(pca.explained_variance_ratio_ * 100)) #the percentage of variance for 20D\n"
      ],
      "metadata": {
        "colab": {
          "base_uri": "https://localhost:8080/"
        },
        "id": "N9WAnqITAecY",
        "outputId": "ff4949f2-3381-46e4-fd8e-b8eea5e05a58"
      },
      "execution_count": 12,
      "outputs": [
        {
          "output_type": "stream",
          "name": "stdout",
          "text": [
            "Variances (Percentage):\n",
            "[26.38436577 11.54957801  8.87619262  8.09854493  5.83096291  4.95880394\n",
            "  4.05582561  3.81095343  3.24716904  2.76424442  2.52277546  2.38701665\n",
            "  1.98277494  1.86786663  1.6366585   1.51299209  1.47744943  1.28605957\n",
            "  1.2501469   0.99433261]\n",
            "96.49471344390082\n"
          ]
        }
      ]
    },
    {
      "cell_type": "code",
      "source": [
        "print(pca_result.shape)"
      ],
      "metadata": {
        "colab": {
          "base_uri": "https://localhost:8080/"
        },
        "id": "1dH12x9NCTyy",
        "outputId": "ec61092b-9c39-49bc-e813-e982c8d8b775"
      },
      "execution_count": 13,
      "outputs": [
        {
          "output_type": "stream",
          "name": "stdout",
          "text": [
            "(29, 20)\n"
          ]
        }
      ]
    },
    {
      "cell_type": "code",
      "source": [
        "with open('/content/hdfs_event2semantic_vec.json') as f:\n",
        "    # Step1-1 open file\n",
        "    gdp_list = json.load(f)\n",
        "    value = list(gdp_list.values())\n",
        "\n",
        "    # Step1-2 PCA: Dimensionality reduction to 20-dimensional data\n",
        "\n",
        "    estimator = PCA(n_components=20)\n",
        "    pca_result = estimator.fit_transform(value)\n",
        "\n",
        "    # Step1-3 PPA: De-averaged\n",
        "    ppa_result = []\n",
        "    result = pca_result - np.mean(pca_result)\n",
        "    pca = PCA(n_components=20)\n",
        "    pca_result = pca.fit_transform(result)\n",
        "    U = pca.components_\n",
        "    for i, x in enumerate(result):\n",
        "        for u in U[0:7]:\n",
        "            x = x - np.dot(u.transpose(), x) * u\n",
        "        ppa_result.append(list(x))\n",
        "    ppa_result = np.array(ppa_result)\n"
      ],
      "metadata": {
        "id": "78xulLsb8-7s"
      },
      "execution_count": 14,
      "outputs": []
    },
    {
      "cell_type": "code",
      "source": [
        "similarity = cosine_similarity(value[0], value[1])\n",
        "print(\"Cosine Similarity:\", similarity)\n"
      ],
      "metadata": {
        "colab": {
          "base_uri": "https://localhost:8080/"
        },
        "id": "d8Gr9f1FgF6d",
        "outputId": "e57669f4-8843-4865-a326-5de44058716a"
      },
      "execution_count": 17,
      "outputs": [
        {
          "output_type": "stream",
          "name": "stdout",
          "text": [
            "Cosine Similarity: 0.27651085126256936\n"
          ]
        }
      ]
    },
    {
      "cell_type": "code",
      "source": [
        "similarity = cosine_similarity(pca_result[0], pca_result[1])\n",
        "print(\"Cosine Similarity:\", similarity)"
      ],
      "metadata": {
        "colab": {
          "base_uri": "https://localhost:8080/"
        },
        "id": "0YWefGQWgnUW",
        "outputId": "a781e424-43ca-4efc-9408-e726ed81154f"
      },
      "execution_count": 18,
      "outputs": [
        {
          "output_type": "stream",
          "name": "stdout",
          "text": [
            "Cosine Similarity: 0.21585695356706583\n"
          ]
        }
      ]
    },
    {
      "cell_type": "code",
      "source": [
        "similarity = cosine_similarity(ppa_result[0], ppa_result[1])\n",
        "print(\"Cosine Similarity:\", similarity) # we get lower score , it means that we separate diffrent templates"
      ],
      "metadata": {
        "colab": {
          "base_uri": "https://localhost:8080/"
        },
        "id": "bp0Xq014ggF3",
        "outputId": "869272a3-14e4-4de3-beab-9061b9d31ed7"
      },
      "execution_count": 15,
      "outputs": [
        {
          "output_type": "stream",
          "name": "stdout",
          "text": [
            "Cosine Similarity: 0.1741783979116341\n"
          ]
        }
      ]
    },
    {
      "cell_type": "markdown",
      "source": [
        "![image.png](data:image/png;base64,iVBORw0KGgoAAAANSUhEUgAAAYEAAAApCAYAAADTYZUTAAAH20lEQVR4nO2dPXbyOhCGX99z9/E1kIKTFdgrgK+hSpvOLqG5Xcp0aewydGlTpYm9AryCHIrYBVmJboEBSdaPTWzAaJ5zKIIleWY0kiwN8Xjb7ZaBIAiCcJJ/AeDPnz+XluNi/Pz8OK0/QbiM6+P/5+cH/1xaCIIgCOJy0CJAEAThMLQIEARBOAwtAgRBEA5Di0BrSiRBgKS8tBxDoEQSeIgyfYks8uCZCnR0H3v9IfRpB3JmEbwgwXWoOhS73zbSIrAbTJ4nfoKkVF/79eAdEpX+wSdwD+Azguc1cWCVTSOcw3JZ5DUe8G3K3g6n9um5uT45yyT4xfi/Pn1cRrkTCFMGxo6f9WKkvvY6PZugl+Lo7CMs1gzsDXhf5Vhu5mBsjcUIu6cry8Tux8XBbmm4wuwMC+j0lYGtFxjZi7YqO3S66lOSsx23ps+tQMdBGsokgOd5eMRbtdhVTy+PwEPoI558HJ9epq9gbI6Phk/503kIfH1zT93ybkFqo0wQcDuJ4/phrscftdSPXXZ1g+rxS7y+P17JEB3alp7Usqi2Y9Q/GRraqXGqLWTZ6vfpsk/3bYk6ZYi8AEkSibJrZNbtvjr1PeHeAZLvdvau67krP17mwGrGnRScSR+ie7bbLTtSsNgHC1OmYHcN2H98FheqcsNC1J+xIvZ3+qmNwHZ2MOhexMwHGBCy9FAezD9UqOzItZ+G4t9F7DP4MdvVSFkIvn7KwuqauZ50PQ05mfZyHvUQ29r3te56ykLuWhH7GnvV29nZ9yiH8r6yTofyOltwfpuGNd/svE+LmPm8LQ/s5BPsbOs/rr/6971KPp2PMMmHtHqq+7x/fbpHHv+usd1umXIROE70+g6QB/NQ4fWXJ9FfcZh06zb1xRlKmIyrysdJVp68m9Zjqon7uMAbFwzVw0Aa6icH/poopOKhwiCjctJpYIv9feK6TXrp02pyqs9too2FOpam+5NTunetHw0+pNXTtPD3qE8XbUnQIrBlDWICr1Cd/I8WTwixwscN7ddGizWKh3eMfxP03m+/Z0DK2e4QE0hD5MsXaZubYznmt+QzrPjL/gRj5c0s9QSmmIfA6iMDUOLzPUf4dGIMYHSHe3zhu9r3Zx8r4P6uRVs5NoXi62KDvPblGBOfK6+1BbBaLmv1e+nT0QLrIsbXzBOOQ7QYZO5VTqU9ZQw+1FbPvvU5rRXCwukxgfIbX/AxsXn3wBgt1mCMoZg8t3T86tx7vMGTYfHE9D/E/grPQrshUiYG4w+BMgDIN1DNmdZ6tVvH8FcfyMpPvOch5qeOqvIbX9zkMVuFSFv9SEDjN+MJ/NqXBTY5V15ri93DSxEDy0fxXLqXPh0tsGYMjKW4X47NP081yMzTuZxKe8pYfKiNnn3rQ/RC40Ugi8RAW/ayRO4/4O+N/pxk78BveLQ/yWQRPO8D80YOO8LiidsNjP7iobYocEznCMFfzxAFCUpbPeWtqzqP78jD+ekDq9ggD1PrbnHPanb0nTJ5xkrnN5V8/C+nhPI6W/BNLN4QY4mxos/66dMxJqaZ1iCzLpDamZyjO9zz9y4TBDNur9jKhxR6Cj9uOIM+RD/YYwLVGXYait93dd53Yfo/E5SDc4zVz44VduftewiQyQF5cz056Ldrahesk49zW8UE9uWt/lAF/lJefvFsty7jPriqaVdpC1leORjbMfJY0MRdzDLXA6m9UEi2L2LmC/c0+JBWT7HdvZ3Pok/HUExgy7ztdstcf5Wqy/qfQpkEGL8/oOD+ryCLPDxPCuF/Sgji2nF9/NOrpImTKDa5FAgu8f11QYEIgjiZfy8tADE8pq8F4mAMzzt+58e0CyCIIUKLAHECu3/7X1xaDIIgfo1HOYYJgiDchXIMOx4YIgjCXSgwTBAE4Ti0CBAEQTgMLQIEQRAOQ4sAQRCEw9Ai0BrKiwrAkKuW8gp3C+UVbtZm9RbUq9GT57p9rUWO4aqEMqOSC9x2jmF3GEp+2+uT82rzCmcvWObV21BbpEjtf3xcXx+qaJVj+PDOmAavLb4VXMkxfOsMJb/tUORsytn0aZCzQaav8TG0PmxxHJThZQnEb25MKq7lGG4ngypXrQzlFaa8wl2NH728ZRLAm62AfKlNYKM7vRDGhNRfoi9Z/LMXnc9I4xzDVSo639e8WnagUI7hJjLYc9WK9qG8wpRXuFt99P7BDOlNzfqoXrV+aL+pvXrR+Xy0yzEsDzRD/tEhQTmGG7Rly1UrCkZ5hSmvcL/6SP5kXwTU+qgXAalti72GkktZxwk5hu9xd0g79xcPPvD1fWVRjl/gdo5hQ1uNctXaoLzCMpRX+FR9JP8wC9VKnyyaYRU+SbFOvb1uIZdy85jAeAKfSy5+q7ibY9jQVqNctTYor7AKyit8ij6Sf9iFaqZPFmnyZZvtNfhcyo1jAvJZo+IcdojY0svZtsCMMcs2TpFeUiivSj8pNG48EzelUKxvd6s6vqxTSxn2Z5htYgLaM1bNma81JsL7ar2NmlS/7se6jrvmVCklm8cEupfT1ld2v1HrqT766F8fm38w83GQQR/Tcalcp02q0m59rV8axgQUDlV9hh4PYIxyDMtyNpNBlauWb4fyClNe4S6x+IdpETDoU//hhGiTxuNzwFCOYdCrpAmCcBd6lTRBEITj0CJAEAThMLQIEARBOAzlGCYIgnCY/wHoZL7bUTeMPAAAAABJRU5ErkJggg==)"
      ],
      "metadata": {
        "id": "eZroAtxpmOTo"
      }
    },
    {
      "cell_type": "code",
      "source": [
        "cosine_similarity(value[22], value[23])"
      ],
      "metadata": {
        "colab": {
          "base_uri": "https://localhost:8080/"
        },
        "id": "m6_NUsAOlvFg",
        "outputId": "10d697e8-480e-4267-85c3-b7b6df45c646"
      },
      "execution_count": 42,
      "outputs": [
        {
          "output_type": "execute_result",
          "data": {
            "text/plain": [
              "0.6125285006859826"
            ]
          },
          "metadata": {},
          "execution_count": 42
        }
      ]
    },
    {
      "cell_type": "code",
      "source": [
        "cosine_similarity(value[4], value[5])"
      ],
      "metadata": {
        "id": "AlBTJ23amRiG"
      },
      "execution_count": null,
      "outputs": []
    },
    {
      "cell_type": "code",
      "source": [
        "for i in range(len(value)):\n",
        "  similarity = cosine_similarity(value[0], value[i])\n",
        "  print(\"Cosine Similarity\", i, \":\", similarity)\n"
      ],
      "metadata": {
        "colab": {
          "base_uri": "https://localhost:8080/"
        },
        "id": "XLgpLoZWFgcf",
        "outputId": "1038b93a-4e9a-4dfa-95ed-06bc75aecdde"
      },
      "execution_count": 22,
      "outputs": [
        {
          "output_type": "stream",
          "name": "stdout",
          "text": [
            "Cosine Similarity 0 : 0.9999999999999998\n",
            "Cosine Similarity 1 : 0.27651085126256936\n",
            "Cosine Similarity 2 : 0.18122023805649887\n",
            "Cosine Similarity 3 : 0.3267673760215494\n",
            "Cosine Similarity 4 : 0.19405120213133703\n",
            "Cosine Similarity 5 : 0.20316513371303502\n",
            "Cosine Similarity 6 : 0.2639310231083585\n",
            "Cosine Similarity 7 : 0.15637567678739486\n",
            "Cosine Similarity 8 : 0.24820938538048493\n",
            "Cosine Similarity 9 : 0.1561963943455993\n",
            "Cosine Similarity 10 : 0.2372774115291913\n",
            "Cosine Similarity 11 : 0.29712514758161357\n",
            "Cosine Similarity 12 : 0.2278927913226847\n",
            "Cosine Similarity 13 : 0.28872930529168567\n",
            "Cosine Similarity 14 : 0.4392014716690768\n",
            "Cosine Similarity 15 : 0.13692091522222488\n",
            "Cosine Similarity 16 : 0.25919821759075473\n",
            "Cosine Similarity 17 : 0.36363383721916986\n",
            "Cosine Similarity 18 : 0.28679718478954275\n",
            "Cosine Similarity 19 : 0.36286394372749203\n",
            "Cosine Similarity 20 : 0.3932855801000819\n",
            "Cosine Similarity 21 : 0.381467123264216\n",
            "Cosine Similarity 22 : 0.5077544939704627\n",
            "Cosine Similarity 23 : 0.5305253280777736\n",
            "Cosine Similarity 24 : 0.24469862383974658\n",
            "Cosine Similarity 25 : 0.593324124312568\n",
            "Cosine Similarity 26 : 0.6387564190658435\n",
            "Cosine Similarity 27 : 0.5479711274645406\n",
            "Cosine Similarity 28 : 0.2561833310642217\n"
          ]
        }
      ]
    },
    {
      "cell_type": "code",
      "source": [
        "for i in range(len(value)):\n",
        "  similarity = cosine_similarity(ppa_result[0], ppa_result[i])\n",
        "  print(\"Cosine Similarity\", i, \":\", similarity)"
      ],
      "metadata": {
        "colab": {
          "base_uri": "https://localhost:8080/"
        },
        "id": "FWTA4uXehLSp",
        "outputId": "2a5a1aa3-2c1f-4eb8-b0a4-049ebdb68f2a"
      },
      "execution_count": 21,
      "outputs": [
        {
          "output_type": "stream",
          "name": "stdout",
          "text": [
            "Cosine Similarity 0 : 1.0\n",
            "Cosine Similarity 1 : 0.1741783979116341\n",
            "Cosine Similarity 2 : 0.0493952189889063\n",
            "Cosine Similarity 3 : -0.12110205166171253\n",
            "Cosine Similarity 4 : 0.4949030223096774\n",
            "Cosine Similarity 5 : -0.36309477407223495\n",
            "Cosine Similarity 6 : -0.15579346821526416\n",
            "Cosine Similarity 7 : 0.15441210513430262\n",
            "Cosine Similarity 8 : -0.39983119924253396\n",
            "Cosine Similarity 9 : 0.17218881653353296\n",
            "Cosine Similarity 10 : 0.27673970945399423\n",
            "Cosine Similarity 11 : -0.003356796468733433\n",
            "Cosine Similarity 12 : -0.02221830077151306\n",
            "Cosine Similarity 13 : 0.058041876946014086\n",
            "Cosine Similarity 14 : -0.05381434457666614\n",
            "Cosine Similarity 15 : -0.026950592332469072\n",
            "Cosine Similarity 16 : -0.5163487074011823\n",
            "Cosine Similarity 17 : -0.03393731379219344\n",
            "Cosine Similarity 18 : -0.024216832845201562\n",
            "Cosine Similarity 19 : -0.31041876009404873\n",
            "Cosine Similarity 20 : -0.3879588455974878\n",
            "Cosine Similarity 21 : 0.06479137940119888\n",
            "Cosine Similarity 22 : -0.2168865550818318\n",
            "Cosine Similarity 23 : 0.43676821484485134\n",
            "Cosine Similarity 24 : 0.26553421969243385\n",
            "Cosine Similarity 25 : 0.0772144163116586\n",
            "Cosine Similarity 26 : 0.42466439065802625\n",
            "Cosine Similarity 27 : 0.13064142784514993\n",
            "Cosine Similarity 28 : -0.15253015410183746\n"
          ]
        }
      ]
    },
    {
      "cell_type": "code",
      "source": [],
      "metadata": {
        "id": "L6JuuCwIppmd"
      },
      "execution_count": null,
      "outputs": []
    },
    {
      "cell_type": "code",
      "source": [],
      "metadata": {
        "id": "yG7sV91ippd8"
      },
      "execution_count": null,
      "outputs": []
    },
    {
      "cell_type": "code",
      "source": [
        "# Load the data from the JSON file\n",
        "with open('/content/templates2vec.json', 'r') as file:\n",
        "    vector_list = json.load(file)\n",
        "\n",
        "# Convert the list of lists back to a list of numpy arrays\n",
        "templates2vec = [np.array(vector) for vector in vector_list]"
      ],
      "metadata": {
        "id": "tuPFT0o1yc5B"
      },
      "execution_count": 65,
      "outputs": []
    },
    {
      "cell_type": "code",
      "source": [
        "print(len(templates2vec))\n",
        "print(len(templates2vec[0]))"
      ],
      "metadata": {
        "colab": {
          "base_uri": "https://localhost:8080/"
        },
        "id": "fXL4NZoq0x1L",
        "outputId": "4fc060be-3d80-43aa-f150-9af402e9d87d"
      },
      "execution_count": 66,
      "outputs": [
        {
          "output_type": "stream",
          "name": "stdout",
          "text": [
            "30\n",
            "384\n"
          ]
        }
      ]
    },
    {
      "cell_type": "code",
      "source": [
        " # Step1-2 PCA: Dimensionality reduction to 20-dimensional data\n",
        "\n",
        "estimator = PCA(n_components=20)\n",
        "pca_result = estimator.fit_transform(templates2vec)\n",
        "\n",
        "# Step1-3 PPA: De-averaged\n",
        "ppa_result = []\n",
        "result = pca_result - np.mean(pca_result)\n",
        "pca = PCA(n_components=20)\n",
        "pca_result = pca.fit_transform(result)\n",
        "U = pca.components_\n",
        "for i, x in enumerate(result):\n",
        "    for u in U[0:7]:\n",
        "        x = x - np.dot(u.transpose(), x) * u\n",
        "    ppa_result.append(list(x))\n",
        "ppa_result = np.array(ppa_result)\n"
      ],
      "metadata": {
        "id": "LD-HYrwV0jgs"
      },
      "execution_count": 67,
      "outputs": []
    },
    {
      "cell_type": "code",
      "source": [
        "# print the explained variances\n",
        "print(\"Variances (Percentage):\")\n",
        "print(estimator.explained_variance_ratio_ * 100)\n",
        "print(sum(estimator.explained_variance_ratio_ * 100)) #the percentage of variance for 20D"
      ],
      "metadata": {
        "colab": {
          "base_uri": "https://localhost:8080/"
        },
        "id": "oGUXSRN30jdm",
        "outputId": "7c9987fe-48cf-4c80-b8a7-9dad24bb1e89"
      },
      "execution_count": 68,
      "outputs": [
        {
          "output_type": "stream",
          "name": "stdout",
          "text": [
            "Variances (Percentage):\n",
            "[17.19343452  9.78053891  7.66650029  7.13861271  6.40005176  5.85359304\n",
            "  4.88185956  4.61380362  4.21747056  3.44720373  3.27457676  2.94803634\n",
            "  2.62977877  2.51702516  2.36034375  1.9441829   1.9068179   1.77823564\n",
            "  1.56182657  1.36230143]\n",
            "93.47619390949846\n"
          ]
        }
      ]
    },
    {
      "cell_type": "code",
      "source": [
        "print(len(ppa_result))\n",
        "print(len(ppa_result[0]))"
      ],
      "metadata": {
        "colab": {
          "base_uri": "https://localhost:8080/"
        },
        "id": "AnXNbpiU1abH",
        "outputId": "b5e0955c-a734-4393-f236-327aa175b825"
      },
      "execution_count": 69,
      "outputs": [
        {
          "output_type": "stream",
          "name": "stdout",
          "text": [
            "30\n",
            "20\n"
          ]
        }
      ]
    },
    {
      "cell_type": "code",
      "source": [],
      "metadata": {
        "id": "rMSEW9n72IA4"
      },
      "execution_count": null,
      "outputs": []
    },
    {
      "cell_type": "code",
      "source": [],
      "metadata": {
        "id": "fPXOotba0jbZ"
      },
      "execution_count": null,
      "outputs": []
    },
    {
      "cell_type": "code",
      "source": [],
      "metadata": {
        "id": "lkWT_oWv0jYy"
      },
      "execution_count": null,
      "outputs": []
    },
    {
      "cell_type": "code",
      "source": [],
      "metadata": {
        "id": "Aoq7vTsa0jWS"
      },
      "execution_count": null,
      "outputs": []
    },
    {
      "cell_type": "code",
      "source": [],
      "metadata": {
        "id": "McGLrSUr0jTr"
      },
      "execution_count": null,
      "outputs": []
    },
    {
      "cell_type": "code",
      "source": [],
      "metadata": {
        "id": "ZSsHW7ez0jQ3"
      },
      "execution_count": null,
      "outputs": []
    },
    {
      "cell_type": "code",
      "source": [],
      "metadata": {
        "id": "m7VGhaV4pqBE"
      },
      "execution_count": null,
      "outputs": []
    },
    {
      "cell_type": "code",
      "execution_count": 23,
      "metadata": {
        "colab": {
          "base_uri": "https://localhost:8080/"
        },
        "id": "4Z7U4p6skT_u",
        "outputId": "81eb1a6b-7e00-4219-8ae3-0bdb4fafeacc"
      },
      "outputs": [
        {
          "output_type": "stream",
          "name": "stdout",
          "text": [
            "--2023-07-20 13:40:45--  https://raw.githubusercontent.com/donglee-afar/logdeep/master/data/hdfs/hdfs_train\n",
            "Resolving raw.githubusercontent.com (raw.githubusercontent.com)... 185.199.108.133, 185.199.109.133, 185.199.110.133, ...\n",
            "Connecting to raw.githubusercontent.com (raw.githubusercontent.com)|185.199.108.133|:443... connected.\n",
            "HTTP request sent, awaiting response... 200 OK\n",
            "Length: 257875 (252K) [text/plain]\n",
            "Saving to: ‘hdfs_train’\n",
            "\n",
            "\rhdfs_train            0%[                    ]       0  --.-KB/s               \rhdfs_train          100%[===================>] 251.83K  --.-KB/s    in 0.03s   \n",
            "\n",
            "2023-07-20 13:40:45 (7.34 MB/s) - ‘hdfs_train’ saved [257875/257875]\n",
            "\n",
            "--2023-07-20 13:40:45--  https://raw.githubusercontent.com/donglee-afar/logdeep/master/data/hdfs/hdfs_test_normal\n",
            "Resolving raw.githubusercontent.com (raw.githubusercontent.com)... 185.199.108.133, 185.199.109.133, 185.199.110.133, ...\n",
            "Connecting to raw.githubusercontent.com (raw.githubusercontent.com)|185.199.108.133|:443... connected.\n",
            "HTTP request sent, awaiting response... 200 OK\n",
            "Length: 29284282 (28M) [text/plain]\n",
            "Saving to: ‘hdfs_test_normal’\n",
            "\n",
            "hdfs_test_normal    100%[===================>]  27.93M   153MB/s    in 0.2s    \n",
            "\n",
            "2023-07-20 13:40:46 (153 MB/s) - ‘hdfs_test_normal’ saved [29284282/29284282]\n",
            "\n",
            "--2023-07-20 13:40:46--  https://raw.githubusercontent.com/donglee-afar/logdeep/master/data/hdfs/hdfs_test_abnormal\n",
            "Resolving raw.githubusercontent.com (raw.githubusercontent.com)... 185.199.110.133, 185.199.108.133, 185.199.111.133, ...\n",
            "Connecting to raw.githubusercontent.com (raw.githubusercontent.com)|185.199.110.133|:443... connected.\n",
            "HTTP request sent, awaiting response... 200 OK\n",
            "Length: 782479 (764K) [text/plain]\n",
            "Saving to: ‘hdfs_test_abnormal’\n",
            "\n",
            "hdfs_test_abnormal  100%[===================>] 764.14K  --.-KB/s    in 0.05s   \n",
            "\n",
            "2023-07-20 13:40:46 (15.4 MB/s) - ‘hdfs_test_abnormal’ saved [782479/782479]\n",
            "\n"
          ]
        }
      ],
      "source": [
        "# download datasets\n",
        "!wget 'https://raw.githubusercontent.com/donglee-afar/logdeep/master/data/hdfs/hdfs_train'\n",
        "!wget 'https://raw.githubusercontent.com/donglee-afar/logdeep/master/data/hdfs/hdfs_test_normal'\n",
        "!wget 'https://raw.githubusercontent.com/donglee-afar/logdeep/master/data/hdfs/hdfs_test_abnormal'"
      ]
    },
    {
      "cell_type": "code",
      "source": [
        "import time\n",
        "import torch\n",
        "import torch.nn as nn\n",
        "import torch.optim as optim\n",
        "from torch.utils.tensorboard import SummaryWriter\n",
        "from torch.utils.data import TensorDataset, DataLoader\n",
        "import os\n",
        "import numpy as np\n",
        "\n",
        "# Device configuration\n",
        "device = torch.device(\"cuda\" if torch.cuda.is_available() else \"cpu\")"
      ],
      "metadata": {
        "id": "rNI34FVblAMn"
      },
      "execution_count": 24,
      "outputs": []
    },
    {
      "cell_type": "code",
      "source": [
        "names = ['hdfs_train','hdfs_test_normal','hdfs_test_abnormal']\n",
        "templates = set()\n",
        "\n",
        "for name in names:\n",
        "  with open('/content/' + name, 'r') as f:\n",
        "          for row in f:\n",
        "            for temp in row.split():\n",
        "              templates.add(temp)\n",
        "\n",
        "print(templates)"
      ],
      "metadata": {
        "colab": {
          "base_uri": "https://localhost:8080/"
        },
        "id": "oFchHkYHi2uB",
        "outputId": "bfc69cd1-da5e-45f8-c49d-1f9b5ccee9e0"
      },
      "execution_count": 28,
      "outputs": [
        {
          "output_type": "stream",
          "name": "stdout",
          "text": [
            "{'6', '27', '28', '21', '5', '20', '8', '18', '16', '2', '13', '25', '10', '7', '17', '1', '19', '9', '12', '4', '22', '23', '3', '26', '24', '11', '14', '15'}\n"
          ]
        }
      ]
    },
    {
      "cell_type": "code",
      "source": [
        "sorted([int(num) for num in templates])\n"
      ],
      "metadata": {
        "colab": {
          "base_uri": "https://localhost:8080/"
        },
        "id": "NsxxaYg_jqKf",
        "outputId": "0b1b2106-a906-48bd-b2ba-973ac0dc3fa4"
      },
      "execution_count": 35,
      "outputs": [
        {
          "output_type": "execute_result",
          "data": {
            "text/plain": [
              "[1,\n",
              " 2,\n",
              " 3,\n",
              " 4,\n",
              " 5,\n",
              " 6,\n",
              " 7,\n",
              " 8,\n",
              " 9,\n",
              " 10,\n",
              " 11,\n",
              " 12,\n",
              " 13,\n",
              " 14,\n",
              " 15,\n",
              " 16,\n",
              " 17,\n",
              " 18,\n",
              " 19,\n",
              " 20,\n",
              " 21,\n",
              " 22,\n",
              " 23,\n",
              " 24,\n",
              " 25,\n",
              " 26,\n",
              " 27,\n",
              " 28]"
            ]
          },
          "metadata": {},
          "execution_count": 35
        }
      ]
    },
    {
      "cell_type": "code",
      "source": [
        "name = 'hdfs_train'\n",
        "window_size = 10\n",
        "num_sessions = 0\n",
        "inputs = []\n",
        "outputs = []\n",
        "\n",
        "with open('/content/' + name, 'r') as f:\n",
        "        for row in f:\n",
        "            num_sessions += 1\n",
        "            line = [ppa_result[int(i) - 1] for i in row.strip().split()] # we substract by one from templates index for starting from zero\n",
        "            for i in range(len(line) - window_size):\n",
        "                inputs.append(line[i:i + window_size])\n",
        "                outputs.append(line[i + window_size])\n",
        "\n",
        "print('Number of sessions({}): {}'.format(name, num_sessions))\n",
        "print('Number of seqs({}): {}'.format(name, len(inputs)))\n",
        "dataset = TensorDataset(torch.tensor(inputs, dtype=torch.float), torch.tensor(outputs,dtype=torch.float ))"
      ],
      "metadata": {
        "colab": {
          "base_uri": "https://localhost:8080/"
        },
        "id": "2EMsKC8NthzK",
        "outputId": "75a3ba98-b92e-4868-9275-faa6c8f8c876"
      },
      "execution_count": 70,
      "outputs": [
        {
          "output_type": "stream",
          "name": "stdout",
          "text": [
            "Number of sessions(hdfs_train): 4855\n",
            "Number of seqs(hdfs_train): 46575\n"
          ]
        }
      ]
    },
    {
      "cell_type": "code",
      "source": [
        "class Model(nn.Module):\n",
        "    def __init__(self, input_size, hidden_size, num_layers, num_classes):\n",
        "        super(Model, self).__init__()\n",
        "        self.hidden_size = hidden_size\n",
        "        self.num_layers = num_layers\n",
        "        self.lstm = nn.LSTM(input_size, hidden_size, num_layers, batch_first=True)\n",
        "        self.fc = nn.Linear(hidden_size, num_classes)\n",
        "\n",
        "    def forward(self, x):\n",
        "        h0 = torch.zeros(self.num_layers, x.size(0), self.hidden_size).to(device)\n",
        "        c0 = torch.zeros(self.num_layers, x.size(0), self.hidden_size).to(device)\n",
        "        out, _ = self.lstm(x, (h0, c0))  # out.shape : [batch_size, sequence_length, hidden_size]\n",
        "        out = self.fc(out[:, -1, :]) #The : before , -1, : indicates that we want to include all elements along the first dimension (batch dimension). -1 represents the index of the last element along the second dimension (sequence length). : after , -1 indicates that we want to include all elements along the third dimension (hidden size)\n",
        "        return out"
      ],
      "metadata": {
        "id": "Pck9q_A7uV47"
      },
      "execution_count": 71,
      "outputs": []
    },
    {
      "cell_type": "code",
      "source": [
        "input_size = 20\n",
        "num_layers = 2\n",
        "hidden_size = 64\n",
        "num_classes = 20\n",
        "batch_size = 2048\n",
        "num_epochs = 300"
      ],
      "metadata": {
        "id": "fbnCcSOiudxf"
      },
      "execution_count": 86,
      "outputs": []
    },
    {
      "cell_type": "code",
      "source": [
        "model = Model(input_size, hidden_size, num_layers, num_classes).to(device)\n",
        "dataloader = DataLoader(dataset, batch_size=batch_size, shuffle=True, pin_memory=True)\n",
        "\n",
        "# Loss and optimizer\n",
        "criterion = nn.MSELoss()\n",
        "optimizer = optim.Adam(model.parameters())"
      ],
      "metadata": {
        "id": "EV1cKoL2uj7I"
      },
      "execution_count": 94,
      "outputs": []
    },
    {
      "cell_type": "code",
      "source": [
        "# Train the model\n",
        "start_time = time.time()\n",
        "total_step = len(dataloader)\n",
        "for epoch in range(num_epochs):  # Loop over the dataset multiple times\n",
        "    train_loss = 0\n",
        "    for step, (seq, label) in enumerate(dataloader):\n",
        "        # Forward pass\n",
        "        seq = seq.clone().detach().view(-1, window_size, input_size).to(device)\n",
        "        output = model(seq)\n",
        "        loss = criterion(output, label.to(device))\n",
        "\n",
        "        # Backward and optimize\n",
        "        optimizer.zero_grad()\n",
        "        loss.backward()\n",
        "        train_loss += loss.item()\n",
        "        optimizer.step()\n",
        "    print('Epoch [{}/{}], train_loss: {:.4f}'.format(epoch + 1, num_epochs, train_loss / total_step))\n",
        "elapsed_time = time.time() - start_time\n",
        "print('elapsed_time: {:.3f}s'.format(elapsed_time))\n",
        "print('Finished Training')"
      ],
      "metadata": {
        "colab": {
          "base_uri": "https://localhost:8080/"
        },
        "id": "nWAjr1QOvB-n",
        "outputId": "68f13f07-e06e-44cf-9b81-ec5a1c4a9074"
      },
      "execution_count": null,
      "outputs": [
        {
          "output_type": "stream",
          "name": "stdout",
          "text": [
            "Epoch [1/300], train_loss: 0.0093\n",
            "Epoch [2/300], train_loss: 0.0069\n",
            "Epoch [3/300], train_loss: 0.0059\n",
            "Epoch [4/300], train_loss: 0.0047\n"
          ]
        }
      ]
    },
    {
      "cell_type": "code",
      "source": [],
      "metadata": {
        "id": "a-FjaSnr3VNs"
      },
      "execution_count": null,
      "outputs": []
    }
  ]
}