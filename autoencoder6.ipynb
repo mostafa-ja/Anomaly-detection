{
  "nbformat": 4,
  "nbformat_minor": 0,
  "metadata": {
    "colab": {
      "provenance": [],
      "authorship_tag": "ABX9TyNY3dF5OIxewVNYAhx1c7tP",
      "include_colab_link": true
    },
    "kernelspec": {
      "name": "python3",
      "display_name": "Python 3"
    },
    "language_info": {
      "name": "python"
    }
  },
  "cells": [
    {
      "cell_type": "markdown",
      "metadata": {
        "id": "view-in-github",
        "colab_type": "text"
      },
      "source": [
        "<a href=\"https://colab.research.google.com/github/mostafa-ja/Anomaly-detection/blob/main/autoencoder6.ipynb\" target=\"_parent\"><img src=\"https://colab.research.google.com/assets/colab-badge.svg\" alt=\"Open In Colab\"/></a>"
      ]
    },
    {
      "cell_type": "code",
      "source": [
        "\n",
        "import torch\n",
        "import os\n",
        "import numpy as np\n",
        "import pandas as pd\n",
        "import torch.nn.functional as F\n",
        "import torch.nn as nn"
      ],
      "metadata": {
        "id": "Kwi3oSNAERMM"
      },
      "execution_count": 4,
      "outputs": []
    },
    {
      "cell_type": "code",
      "source": [
        "class Encoder(nn.Module):\n",
        "    def __init__(self, seq_len, n_features,embedding_dim,n_layers):\n",
        "        super(Encoder, self).__init__()\n",
        "\n",
        "        self.seq_len = seq_len\n",
        "        self.n_features = n_features\n",
        "        self.embedding_dim = embedding_dim\n",
        "        self.hidden_dim = 2 * embedding_dim\n",
        "\n",
        "        self.rnn1 = nn.LSTM(\n",
        "          input_size=n_features,\n",
        "          hidden_size=self.hidden_dim,\n",
        "          num_layers=n_layers,\n",
        "          batch_first=True  # True = (batch_size, seq_len, n_features)\n",
        "                            # False = (seq_len, batch_size, n_features)\n",
        "                            #default = false\n",
        "        )\n",
        "        self.rnn2 = nn.LSTM(\n",
        "          input_size=self.hidden_dim,\n",
        "          hidden_size=embedding_dim,\n",
        "          num_layers=n_layers,\n",
        "          batch_first=True\n",
        "        )\n",
        "\n",
        "    def forward(self, x):\n",
        "        # (batch, seq, feature)   #(1,4,1)\n",
        "        x, (_, _) = self.rnn1(x) #(1,4,256)\n",
        "        x, (hidden_n, _) = self.rnn2(x)\n",
        "        # x shape (1,4,128)\n",
        "        # hidden_n (1,1,128)\n",
        "        return x"
      ],
      "metadata": {
        "id": "OMjAu34TEDJ6"
      },
      "execution_count": 11,
      "outputs": []
    },
    {
      "cell_type": "code",
      "source": [
        "model = Encoder(10,15,64,1)\n",
        "model"
      ],
      "metadata": {
        "colab": {
          "base_uri": "https://localhost:8080/"
        },
        "id": "mc88y2l3F9kZ",
        "outputId": "c8e2a43c-32a1-4c2b-acbe-6bf39d11dd41"
      },
      "execution_count": 13,
      "outputs": [
        {
          "output_type": "execute_result",
          "data": {
            "text/plain": [
              "Encoder(\n",
              "  (rnn1): LSTM(15, 128, batch_first=True)\n",
              "  (rnn2): LSTM(128, 64, batch_first=True)\n",
              ")"
            ]
          },
          "metadata": {},
          "execution_count": 13
        }
      ]
    },
    {
      "cell_type": "code",
      "source": [
        "input_data = torch.rand(1, 10, 15)\n",
        "model(input_data).shape"
      ],
      "metadata": {
        "colab": {
          "base_uri": "https://localhost:8080/"
        },
        "id": "l9aH20E2GSnx",
        "outputId": "c891085d-1303-4224-b166-89de6a33f47e"
      },
      "execution_count": 14,
      "outputs": [
        {
          "output_type": "execute_result",
          "data": {
            "text/plain": [
              "torch.Size([1, 10, 64])"
            ]
          },
          "metadata": {},
          "execution_count": 14
        }
      ]
    }
  ]
}