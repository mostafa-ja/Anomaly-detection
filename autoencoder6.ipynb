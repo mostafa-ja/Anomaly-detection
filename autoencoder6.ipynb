{
  "nbformat": 4,
  "nbformat_minor": 0,
  "metadata": {
    "colab": {
      "provenance": [],
      "authorship_tag": "ABX9TyPeeKwCS7QvgJJirvfHMoUs",
      "include_colab_link": true
    },
    "kernelspec": {
      "name": "python3",
      "display_name": "Python 3"
    },
    "language_info": {
      "name": "python"
    }
  },
  "cells": [
    {
      "cell_type": "markdown",
      "metadata": {
        "id": "view-in-github",
        "colab_type": "text"
      },
      "source": [
        "<a href=\"https://colab.research.google.com/github/mostafa-ja/Anomaly-detection/blob/main/autoencoder6.ipynb\" target=\"_parent\"><img src=\"https://colab.research.google.com/assets/colab-badge.svg\" alt=\"Open In Colab\"/></a>"
      ]
    },
    {
      "cell_type": "code",
      "source": [
        "class Encoder(nn.Module):\n",
        "    def __init__(self, input_dim, hid_dim, n_layers):  #input_dim:features\n",
        "        super().__init__()\n",
        "\n",
        "        self.hid_dim = hid_dim\n",
        "        self.n_layers = n_layers\n",
        "\n",
        "        self.rnn = nn.LSTM(input_dim, hid_dim, n_layers,batch_first=True)\n",
        "\n",
        "\n",
        "    def forward(self, src):\n",
        "\n",
        "        #src = [src len, batch size]\n",
        "\n",
        "\n",
        "        outputs, (hidden, cell) = self.rnn(src)\n",
        "        print('outputs.shape = ',outputs.shape)\n",
        "        print('hidden.shape = ',hidden.shape)\n",
        "        print('cell.shape = ',cell.shape)\n",
        "\n",
        "        #outputs = [batch size,src len, hid dim * n directions]\n",
        "        #hidden = [batch size,n layers * n directions,  hid dim]\n",
        "        #cell = [batch size, n layers * n directions, hid dim]\n",
        "\n",
        "        #outputs are always from the top hidden layer\n",
        "\n",
        "        return outputs,hidden, cell"
      ],
      "metadata": {
        "id": "H81D596-doFl"
      },
      "execution_count": 56,
      "outputs": []
    },
    {
      "cell_type": "code",
      "source": [
        "model = Encoder(15,16,1)\n",
        "model"
      ],
      "metadata": {
        "colab": {
          "base_uri": "https://localhost:8080/"
        },
        "id": "zTaDAmizWcUF",
        "outputId": "3299cb75-5e81-4f07-ec03-751f9bfa29a4"
      },
      "execution_count": 57,
      "outputs": [
        {
          "output_type": "execute_result",
          "data": {
            "text/plain": [
              "Encoder(\n",
              "  (rnn): LSTM(15, 16, batch_first=True)\n",
              ")"
            ]
          },
          "metadata": {},
          "execution_count": 57
        }
      ]
    },
    {
      "cell_type": "code",
      "source": [
        "input_data = torch.rand(1, 10, 15)\n",
        "output,hidden, cell = model(input_data)"
      ],
      "metadata": {
        "colab": {
          "base_uri": "https://localhost:8080/"
        },
        "id": "kNwD5tp8WWWn",
        "outputId": "8f8b1e7e-e792-4f06-dde8-bf6ae8bdb96f"
      },
      "execution_count": 58,
      "outputs": [
        {
          "output_type": "stream",
          "name": "stdout",
          "text": [
            "outputs.shape =  torch.Size([1, 10, 16])\n",
            "hidden.shape =  torch.Size([1, 1, 16])\n",
            "cell.shape =  torch.Size([1, 1, 16])\n"
          ]
        }
      ]
    },
    {
      "cell_type": "code",
      "source": [
        "output[:,-1,:]== hidden"
      ],
      "metadata": {
        "colab": {
          "base_uri": "https://localhost:8080/"
        },
        "id": "VX_77lLae_BK",
        "outputId": "f421b17d-5f55-489c-ea89-f7ff99e3e148"
      },
      "execution_count": 61,
      "outputs": [
        {
          "output_type": "execute_result",
          "data": {
            "text/plain": [
              "tensor([[[True, True, True, True, True, True, True, True, True, True, True,\n",
              "          True, True, True, True, True]]])"
            ]
          },
          "metadata": {},
          "execution_count": 61
        }
      ]
    },
    {
      "cell_type": "code",
      "source": [
        "hidden ==cell"
      ],
      "metadata": {
        "colab": {
          "base_uri": "https://localhost:8080/"
        },
        "id": "bVZlZeKzftdk",
        "outputId": "e6813830-2bb6-4d23-d964-4b319786f5eb"
      },
      "execution_count": 64,
      "outputs": [
        {
          "output_type": "execute_result",
          "data": {
            "text/plain": [
              "tensor([[[False, False, False, False, False, False, False, False, False, False,\n",
              "          False, False, False, False, False, False]]])"
            ]
          },
          "metadata": {},
          "execution_count": 64
        }
      ]
    },
    {
      "cell_type": "code",
      "source": [],
      "metadata": {
        "id": "JOvW85_lgE9T"
      },
      "execution_count": null,
      "outputs": []
    },
    {
      "cell_type": "code",
      "source": [
        "class Encoder(nn.Module):\n",
        "    def __init__(self, input_dim, hid_dim, n_layers): #embedding dimensions\n",
        "        super().__init__()\n",
        "\n",
        "        self.hid_dim = hid_dim\n",
        "        self.n_layers = n_layers\n",
        "\n",
        "        self.rnn = nn.LSTM(input_dim, hid_dim, n_layers, bidirectional=True,batch_first=True)\n",
        "\n",
        "\n",
        "    def forward(self, src):\n",
        "\n",
        "        #src = [src len, batch size]\n",
        "\n",
        "\n",
        "        outputs, (hidden, cell) = self.rnn(src)\n",
        "        print('outputs.shape = ',outputs.shape)\n",
        "        print('hidden.shape = ',hidden.shape)\n",
        "        print('cell.shape = ',cell.shape)\n",
        "\n",
        "        #outputs = [batch size,src len, hid dim * n directions]\n",
        "        #hidden = [batch size,n layers * n directions,  hid dim]\n",
        "        #cell = [batch size, n layers * n directions, hid dim]\n",
        "\n",
        "        #outputs are always from the top hidden layer\n",
        "\n",
        "        return outputs[:,-1:,:]  #outputs[:,-1:,:]=output of the end of blocks which is concatenated of two directions(we use -1: for keeping the dimensions)"
      ],
      "metadata": {
        "id": "6nhlt6_YgE6X"
      },
      "execution_count": 97,
      "outputs": []
    },
    {
      "cell_type": "code",
      "source": [
        "model = Encoder(15,32,1) #embedding dimensions\n",
        "model"
      ],
      "metadata": {
        "colab": {
          "base_uri": "https://localhost:8080/"
        },
        "id": "W0fPKf-cgE32",
        "outputId": "503213f6-738a-44d4-cd55-a11c0af0830f"
      },
      "execution_count": 102,
      "outputs": [
        {
          "output_type": "execute_result",
          "data": {
            "text/plain": [
              "Encoder(\n",
              "  (rnn): LSTM(15, 32, batch_first=True, bidirectional=True)\n",
              ")"
            ]
          },
          "metadata": {},
          "execution_count": 102
        }
      ]
    },
    {
      "cell_type": "code",
      "source": [
        "input_data = torch.rand(1, 10, 15)\n",
        "output= model(input_data)\n",
        "print(output.shape)"
      ],
      "metadata": {
        "colab": {
          "base_uri": "https://localhost:8080/"
        },
        "id": "bCUKKKyLgE1K",
        "outputId": "429d538d-67ff-4407-dcaa-b9bd5a0f7f5c"
      },
      "execution_count": 103,
      "outputs": [
        {
          "output_type": "stream",
          "name": "stdout",
          "text": [
            "outputs.shape =  torch.Size([1, 10, 64])\n",
            "hidden.shape =  torch.Size([2, 1, 32])\n",
            "cell.shape =  torch.Size([2, 1, 32])\n",
            "torch.Size([1, 1, 64])\n"
          ]
        }
      ]
    },
    {
      "cell_type": "code",
      "source": [
        "input_data = torch.rand(1, 10, 15)\n",
        "print(input_data[:,-1,:].shape)\n",
        "print(input_data[:,-1:,:].shape)"
      ],
      "metadata": {
        "colab": {
          "base_uri": "https://localhost:8080/"
        },
        "id": "GLoXVBWJgEyQ",
        "outputId": "f10e6ed7-993f-4583-ea4d-1b91fd5dcdeb"
      },
      "execution_count": 91,
      "outputs": [
        {
          "output_type": "stream",
          "name": "stdout",
          "text": [
            "torch.Size([1, 15])\n",
            "torch.Size([1, 1, 15])\n"
          ]
        }
      ]
    },
    {
      "cell_type": "code",
      "source": [],
      "metadata": {
        "id": "hYjVFhYnpFWg"
      },
      "execution_count": null,
      "outputs": []
    },
    {
      "cell_type": "code",
      "source": [
        "import numpy as np\n",
        "\n",
        "# Create a vector of shape [1, 5]\n",
        "vector = np.array([[1, 2, 3, 4, 5]])\n",
        "\n",
        "# Repeat the vector along the second dimension to create a tensor of shape [1, 10, 5]\n",
        "tensor = np.tile(vector, (1, 10, 1))\n",
        "\n",
        "# Check the shape of the resulting tensor\n",
        "print(tensor.shape)\n",
        "print(tensor)\n"
      ],
      "metadata": {
        "colab": {
          "base_uri": "https://localhost:8080/"
        },
        "id": "8BhSGZ0vmlrw",
        "outputId": "e04715ce-5641-49df-c386-141b08b5408a"
      },
      "execution_count": 81,
      "outputs": [
        {
          "output_type": "stream",
          "name": "stdout",
          "text": [
            "(1, 10, 5)\n",
            "[[[1 2 3 4 5]\n",
            "  [1 2 3 4 5]\n",
            "  [1 2 3 4 5]\n",
            "  [1 2 3 4 5]\n",
            "  [1 2 3 4 5]\n",
            "  [1 2 3 4 5]\n",
            "  [1 2 3 4 5]\n",
            "  [1 2 3 4 5]\n",
            "  [1 2 3 4 5]\n",
            "  [1 2 3 4 5]]]\n"
          ]
        }
      ]
    },
    {
      "cell_type": "code",
      "source": [],
      "metadata": {
        "id": "sqLSO6QHm1-E"
      },
      "execution_count": null,
      "outputs": []
    },
    {
      "cell_type": "code",
      "source": [
        "class Decoder(nn.Module):\n",
        "    def __init__(self, input_dim, hid_dim, n_layers):       #input _dim depends on encoder's output\n",
        "        super().__init__()\n",
        "\n",
        "        self.hid_dim = hid_dim\n",
        "        self.n_layers = n_layers\n",
        "\n",
        "        self.rnn = nn.LSTM(input_dim, hid_dim, n_layers, bidirectional=False,batch_first=True)\n",
        "\n",
        "    def forward(self, src):\n",
        "\n",
        "        #src = [src len, batch size]\n",
        "        src = torch.tile(src, (1, 10, 1)) # give the output of encoder to each cell of decoder\n",
        "\n",
        "        outputs, (hidden, cell) = self.rnn(src)\n",
        "        print('outputs.shape = ',outputs.shape)\n",
        "        print('hidden.shape = ',hidden.shape)\n",
        "        print('cell.shape = ',cell.shape)\n",
        "\n",
        "        #outputs = [batch size,src len, hid dim * n directions]\n",
        "        #hidden = [batch size,n layers * n directions,  hid dim]\n",
        "        #cell = [batch size, n layers * n directions, hid dim]\n",
        "\n",
        "        #outputs are always from the top hidden layer\n",
        "\n",
        "        return outputs"
      ],
      "metadata": {
        "id": "ACMo5WexgEu8"
      },
      "execution_count": 85,
      "outputs": []
    },
    {
      "cell_type": "code",
      "source": [
        "model = Decoder(64,15,1)\n",
        "model"
      ],
      "metadata": {
        "colab": {
          "base_uri": "https://localhost:8080/"
        },
        "id": "5cbr85yilUQd",
        "outputId": "b3f37439-8ba3-4988-cbba-8312f9a0d64f"
      },
      "execution_count": 106,
      "outputs": [
        {
          "output_type": "execute_result",
          "data": {
            "text/plain": [
              "Decoder(\n",
              "  (rnn): LSTM(64, 15, batch_first=True)\n",
              ")"
            ]
          },
          "metadata": {},
          "execution_count": 106
        }
      ]
    },
    {
      "cell_type": "code",
      "source": [
        "input_data = torch.rand(1, 1, 64)\n",
        "output= model(input_data)\n",
        "print(output.shape)"
      ],
      "metadata": {
        "colab": {
          "base_uri": "https://localhost:8080/"
        },
        "id": "Q8NwUntglUNb",
        "outputId": "c54a6ac3-7ce9-4096-b127-78cc84a28eb0"
      },
      "execution_count": 107,
      "outputs": [
        {
          "output_type": "stream",
          "name": "stdout",
          "text": [
            "outputs.shape =  torch.Size([1, 10, 15])\n",
            "hidden.shape =  torch.Size([1, 1, 15])\n",
            "cell.shape =  torch.Size([1, 1, 15])\n",
            "torch.Size([1, 10, 15])\n"
          ]
        }
      ]
    },
    {
      "cell_type": "code",
      "source": [],
      "metadata": {
        "id": "3BAYkZS7lUKh"
      },
      "execution_count": null,
      "outputs": []
    },
    {
      "cell_type": "code",
      "source": [
        "class Autoencoder(nn.Module):\n",
        "    def __init__(self, encoder, decoder, device):\n",
        "        super().__init__()\n",
        "\n",
        "        self.encoder = encoder\n",
        "        self.decoder = decoder\n",
        "        self.device = device\n",
        "\n",
        "    def forward(self, src):\n",
        "        encoded, _ = self.encoder(src)\n",
        "        decoded, _ = self.decoder(encoded)\n",
        "        print(encoded.shape)\n",
        "        print(decoded.shape)\n",
        "        return decoded"
      ],
      "metadata": {
        "id": "JG8oRUuZqqZ5"
      },
      "execution_count": null,
      "outputs": []
    },
    {
      "cell_type": "code",
      "source": [
        "model = Autoencoder(64,15,1)\n",
        "model"
      ],
      "metadata": {
        "id": "34Yo8Nb_qqOd"
      },
      "execution_count": null,
      "outputs": []
    },
    {
      "cell_type": "code",
      "source": [
        "input_data = torch.rand(1, 1, 64)\n",
        "output= model(input_data)\n",
        "print(output.shape)"
      ],
      "metadata": {
        "id": "C_hCS16UrxL_"
      },
      "execution_count": null,
      "outputs": []
    },
    {
      "cell_type": "code",
      "source": [],
      "metadata": {
        "id": "7m-HRilBrzmz"
      },
      "execution_count": null,
      "outputs": []
    },
    {
      "cell_type": "code",
      "source": [],
      "metadata": {
        "id": "R-Hhq1Y9rzjb"
      },
      "execution_count": null,
      "outputs": []
    },
    {
      "cell_type": "code",
      "source": [],
      "metadata": {
        "id": "LD6mTLatrzgc"
      },
      "execution_count": null,
      "outputs": []
    },
    {
      "cell_type": "code",
      "source": [
        "import torch\n",
        "import torch.nn as nn\n",
        "\n",
        "class LSTMAutoencoder(nn.Module):\n",
        "\n",
        "  def __init__(self, input_size, hidden_size, num_layers=1):\n",
        "    super(LSTMAutoencoder, self).__init__()\n",
        "    self.encoder = nn.LSTM(input_size, hidden_size, num_layers=num_layers, bidirectional=False)\n",
        "\n",
        "  def forward(self, inputs):\n",
        "    a,(b,c) = self.encoder(inputs)\n",
        "    print(a.shape,b.shape,c.shape)\n",
        "    return a,b,c"
      ],
      "metadata": {
        "id": "rnikzriwWGtw"
      },
      "execution_count": 37,
      "outputs": []
    },
    {
      "cell_type": "code",
      "source": [
        "\n",
        "import torch\n",
        "import os\n",
        "import numpy as np\n",
        "import pandas as pd\n",
        "import torch.nn.functional as F\n",
        "import torch.nn as nn"
      ],
      "metadata": {
        "id": "Kwi3oSNAERMM"
      },
      "execution_count": 4,
      "outputs": []
    },
    {
      "cell_type": "code",
      "source": [
        "class Encoder(nn.Module):\n",
        "    def __init__(self, seq_len, n_features,embedding_dim,n_layers):\n",
        "        super(Encoder, self).__init__()\n",
        "\n",
        "        self.seq_len = seq_len\n",
        "        self.n_features = n_features\n",
        "        self.embedding_dim = embedding_dim\n",
        "        self.hidden_dim = 2 * embedding_dim\n",
        "\n",
        "        self.rnn1 = nn.LSTM(\n",
        "          input_size=n_features,\n",
        "          hidden_size=self.hidden_dim,\n",
        "          num_layers=n_layers,\n",
        "          batch_first=True  # True = (batch_size, seq_len, n_features)\n",
        "                            # False = (seq_len, batch_size, n_features)\n",
        "                            #default = false\n",
        "        )\n",
        "        self.rnn2 = nn.LSTM(\n",
        "          input_size=self.hidden_dim,\n",
        "          hidden_size=embedding_dim,\n",
        "          num_layers=n_layers,\n",
        "          batch_first=True\n",
        "        )\n",
        "        self.linear = nn.Linear(embedding_dim,8)\n",
        "    def forward(self, x):\n",
        "        # (batch, seq, feature)   #(1,4,1)\n",
        "        a,(b,c) = self.rnn1(x)\n",
        "        print(a.shape,b.shape,c.shape)\n",
        "        x, (_, _) = self.rnn1(x) #(1,4,256)\n",
        "        x, (hidden_n, _) = self.rnn2(x)\n",
        "        x = self.linear(x)\n",
        "        # x shape (1,4,128)\n",
        "        # hidden_n (1,1,128)\n",
        "        return x"
      ],
      "metadata": {
        "id": "OMjAu34TEDJ6"
      },
      "execution_count": 30,
      "outputs": []
    },
    {
      "cell_type": "code",
      "source": [
        "model = Encoder(10,15,16,2)\n",
        "model"
      ],
      "metadata": {
        "colab": {
          "base_uri": "https://localhost:8080/"
        },
        "id": "mc88y2l3F9kZ",
        "outputId": "64f2eccf-064a-452c-9a6b-48b91cb50f6a"
      },
      "execution_count": 31,
      "outputs": [
        {
          "output_type": "execute_result",
          "data": {
            "text/plain": [
              "Encoder(\n",
              "  (rnn1): LSTM(15, 32, num_layers=2, batch_first=True)\n",
              "  (rnn2): LSTM(32, 16, num_layers=2, batch_first=True)\n",
              "  (linear): Linear(in_features=16, out_features=8, bias=True)\n",
              ")"
            ]
          },
          "metadata": {},
          "execution_count": 31
        }
      ]
    },
    {
      "cell_type": "code",
      "source": [
        "input_data = torch.rand(1, 10, 15)\n",
        "output = model(input_data)\n",
        "output.shape"
      ],
      "metadata": {
        "colab": {
          "base_uri": "https://localhost:8080/"
        },
        "id": "l9aH20E2GSnx",
        "outputId": "e86b6e84-ba7f-4219-a818-de010409106f"
      },
      "execution_count": 32,
      "outputs": [
        {
          "output_type": "stream",
          "name": "stdout",
          "text": [
            "torch.Size([1, 10, 32]) torch.Size([2, 1, 32]) torch.Size([2, 1, 32])\n"
          ]
        },
        {
          "output_type": "execute_result",
          "data": {
            "text/plain": [
              "torch.Size([1, 10, 8])"
            ]
          },
          "metadata": {},
          "execution_count": 32
        }
      ]
    },
    {
      "cell_type": "code",
      "source": [
        "class Decoder(nn.Module):\n",
        "    def __init__(self, seq_len, n_features,embedding_dim,n_layers):\n",
        "        super(Decoder, self).__init__()\n",
        "\n",
        "        self.seq_len = seq_len\n",
        "        self.hidden_dim = 2 * embedding_dim\n",
        "        self.n_features = n_features\n",
        "\n",
        "        self.rnn1 = nn.LSTM(\n",
        "        input_size=embedding_dim,\n",
        "        hidden_size=embedding_dim,\n",
        "        num_layers=n_layers,\n",
        "        batch_first=True\n",
        "        )\n",
        "        self.rnn2 = nn.LSTM(\n",
        "        input_size=embedding_dim,\n",
        "        hidden_size=self.hidden_dim,\n",
        "        num_layers=n_layers,\n",
        "        batch_first=True\n",
        "        )\n",
        "        self.output_layer = nn.Linear(self.hidden_dim, n_features)\n",
        "\n",
        "    def forward(self, x):\n",
        "\n",
        "        x, (hidden_n, cell_n) = self.rnn1(x) #(1,4,128)\n",
        "        x, (hidden_n, cell_n) = self.rnn2(x) #(1,4,256)\n",
        "        x = x.reshape((self.seq_len, self.hidden_dim)) #(4,256)\n",
        "\n",
        "        return self.output_layer(x) # (4,1)"
      ],
      "metadata": {
        "id": "r_2RzF4WKQ1g"
      },
      "execution_count": null,
      "outputs": []
    },
    {
      "cell_type": "code",
      "source": [
        "import torch\n",
        "import torch.nn as nn\n",
        "\n",
        "class LSTMAutoencoder(nn.Module):\n",
        "\n",
        "  def __init__(self, input_size, hidden_size, num_layers=2):\n",
        "    super(LSTMAutoencoder, self).__init__()\n",
        "    self.encoder = nn.LSTM(input_size, hidden_size, num_layers=num_layers, bidirectional=True)\n",
        "    self.decoder = nn.LSTM(hidden_size * 2, input_size, num_layers=num_layers)\n",
        "\n",
        "  def forward(self, inputs):\n",
        "    encoded, _ = self.encoder(inputs)\n",
        "    decoded, _ = self.decoder(encoded)\n",
        "    return decoded\n",
        "\n"
      ],
      "metadata": {
        "id": "bVEL6f8gVf-h"
      },
      "execution_count": null,
      "outputs": []
    }
  ]
}