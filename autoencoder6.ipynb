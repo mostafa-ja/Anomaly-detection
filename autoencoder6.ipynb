{
  "nbformat": 4,
  "nbformat_minor": 0,
  "metadata": {
    "colab": {
      "provenance": [],
      "authorship_tag": "ABX9TyOm3jIAD2P+tC5LzvqKT5Ae",
      "include_colab_link": true
    },
    "kernelspec": {
      "name": "python3",
      "display_name": "Python 3"
    },
    "language_info": {
      "name": "python"
    }
  },
  "cells": [
    {
      "cell_type": "markdown",
      "metadata": {
        "id": "view-in-github",
        "colab_type": "text"
      },
      "source": [
        "<a href=\"https://colab.research.google.com/github/mostafa-ja/Anomaly-detection/blob/main/autoencoder6.ipynb\" target=\"_parent\"><img src=\"https://colab.research.google.com/assets/colab-badge.svg\" alt=\"Open In Colab\"/></a>"
      ]
    },
    {
      "cell_type": "code",
      "source": [
        "class Encoder(nn.Module):\n",
        "    def __init__(self, input_dim, hid_dim, n_layers):\n",
        "        super().__init__()\n",
        "\n",
        "        self.hid_dim = hid_dim\n",
        "        self.n_layers = n_layers\n",
        "\n",
        "        self.rnn = nn.LSTM(input_dim, hid_dim, n_layers,batch_first=True)\n",
        "\n",
        "\n",
        "    def forward(self, src):\n",
        "\n",
        "        #src = [src len, batch size]\n",
        "\n",
        "\n",
        "        outputs, (hidden, cell) = self.rnn(src)\n",
        "        print('outputs.shape = ',outputs.shape)\n",
        "        print('hidden.shape = ',hidden.shape)\n",
        "        print('cell.shape = ',cell.shape)\n",
        "\n",
        "        #outputs = [src len, batch size, hid dim * n directions]\n",
        "        #hidden = [n layers * n directions, batch size, hid dim]\n",
        "        #cell = [n layers * n directions, batch size, hid dim]\n",
        "\n",
        "        #outputs are always from the top hidden layer\n",
        "\n",
        "        return outputs,hidden, cell"
      ],
      "metadata": {
        "id": "H81D596-doFl"
      },
      "execution_count": 56,
      "outputs": []
    },
    {
      "cell_type": "code",
      "source": [
        "model = Encoder(15,16,1)\n",
        "model"
      ],
      "metadata": {
        "colab": {
          "base_uri": "https://localhost:8080/"
        },
        "id": "zTaDAmizWcUF",
        "outputId": "3299cb75-5e81-4f07-ec03-751f9bfa29a4"
      },
      "execution_count": 57,
      "outputs": [
        {
          "output_type": "execute_result",
          "data": {
            "text/plain": [
              "Encoder(\n",
              "  (rnn): LSTM(15, 16, batch_first=True)\n",
              ")"
            ]
          },
          "metadata": {},
          "execution_count": 57
        }
      ]
    },
    {
      "cell_type": "code",
      "source": [
        "input_data = torch.rand(1, 10, 15)\n",
        "output,hidden, cell = model(input_data)"
      ],
      "metadata": {
        "colab": {
          "base_uri": "https://localhost:8080/"
        },
        "id": "kNwD5tp8WWWn",
        "outputId": "8f8b1e7e-e792-4f06-dde8-bf6ae8bdb96f"
      },
      "execution_count": 58,
      "outputs": [
        {
          "output_type": "stream",
          "name": "stdout",
          "text": [
            "outputs.shape =  torch.Size([1, 10, 16])\n",
            "hidden.shape =  torch.Size([1, 1, 16])\n",
            "cell.shape =  torch.Size([1, 1, 16])\n"
          ]
        }
      ]
    },
    {
      "cell_type": "code",
      "source": [
        "output[:,-1,:]== hidden"
      ],
      "metadata": {
        "colab": {
          "base_uri": "https://localhost:8080/"
        },
        "id": "VX_77lLae_BK",
        "outputId": "f421b17d-5f55-489c-ea89-f7ff99e3e148"
      },
      "execution_count": 61,
      "outputs": [
        {
          "output_type": "execute_result",
          "data": {
            "text/plain": [
              "tensor([[[True, True, True, True, True, True, True, True, True, True, True,\n",
              "          True, True, True, True, True]]])"
            ]
          },
          "metadata": {},
          "execution_count": 61
        }
      ]
    },
    {
      "cell_type": "code",
      "source": [
        "hidden ==cell"
      ],
      "metadata": {
        "colab": {
          "base_uri": "https://localhost:8080/"
        },
        "id": "bVZlZeKzftdk",
        "outputId": "e6813830-2bb6-4d23-d964-4b319786f5eb"
      },
      "execution_count": 64,
      "outputs": [
        {
          "output_type": "execute_result",
          "data": {
            "text/plain": [
              "tensor([[[False, False, False, False, False, False, False, False, False, False,\n",
              "          False, False, False, False, False, False]]])"
            ]
          },
          "metadata": {},
          "execution_count": 64
        }
      ]
    },
    {
      "cell_type": "code",
      "source": [],
      "metadata": {
        "id": "JOvW85_lgE9T"
      },
      "execution_count": null,
      "outputs": []
    },
    {
      "cell_type": "code",
      "source": [
        "class Encoder(nn.Module):\n",
        "    def __init__(self, input_dim, hid_dim, n_layers):\n",
        "        super().__init__()\n",
        "\n",
        "        self.hid_dim = hid_dim\n",
        "        self.n_layers = n_layers\n",
        "\n",
        "        self.rnn = nn.LSTM(input_dim, hid_dim, n_layers, bidirectional=True,batch_first=True)\n",
        "\n",
        "\n",
        "    def forward(self, src):\n",
        "\n",
        "        #src = [src len, batch size]\n",
        "\n",
        "\n",
        "        outputs, (hidden, cell) = self.rnn(src)\n",
        "        print('outputs.shape = ',outputs.shape)\n",
        "        print('hidden.shape = ',hidden.shape)\n",
        "        print('cell.shape = ',cell.shape)\n",
        "\n",
        "        #outputs = [src len, batch size, hid dim * n directions]\n",
        "        #hidden = [n layers * n directions, batch size, hid dim]\n",
        "        #cell = [n layers * n directions, batch size, hid dim]\n",
        "\n",
        "        #outputs are always from the top hidden layer\n",
        "\n",
        "        return outputs,hidden, cell"
      ],
      "metadata": {
        "id": "6nhlt6_YgE6X"
      },
      "execution_count": 65,
      "outputs": []
    },
    {
      "cell_type": "code",
      "source": [
        "model = Encoder(15,16,1)\n",
        "model"
      ],
      "metadata": {
        "colab": {
          "base_uri": "https://localhost:8080/"
        },
        "id": "W0fPKf-cgE32",
        "outputId": "c1063ce9-fbee-43b8-9272-0f71fbf0b47e"
      },
      "execution_count": 66,
      "outputs": [
        {
          "output_type": "execute_result",
          "data": {
            "text/plain": [
              "Encoder(\n",
              "  (rnn): LSTM(15, 16, batch_first=True, bidirectional=True)\n",
              ")"
            ]
          },
          "metadata": {},
          "execution_count": 66
        }
      ]
    },
    {
      "cell_type": "code",
      "source": [
        "input_data = torch.rand(1, 10, 15)\n",
        "output,hidden, cell = model(input_data)"
      ],
      "metadata": {
        "colab": {
          "base_uri": "https://localhost:8080/"
        },
        "id": "bCUKKKyLgE1K",
        "outputId": "151e9ac5-16ab-4f68-96ac-c8abe4470ecc"
      },
      "execution_count": 67,
      "outputs": [
        {
          "output_type": "stream",
          "name": "stdout",
          "text": [
            "outputs.shape =  torch.Size([1, 10, 32])\n",
            "hidden.shape =  torch.Size([2, 1, 16])\n",
            "cell.shape =  torch.Size([2, 1, 16])\n"
          ]
        }
      ]
    },
    {
      "cell_type": "code",
      "source": [],
      "metadata": {
        "id": "GLoXVBWJgEyQ"
      },
      "execution_count": null,
      "outputs": []
    },
    {
      "cell_type": "code",
      "source": [],
      "metadata": {
        "id": "ACMo5WexgEu8"
      },
      "execution_count": null,
      "outputs": []
    },
    {
      "cell_type": "code",
      "source": [
        "import torch\n",
        "import torch.nn as nn\n",
        "\n",
        "class LSTMAutoencoder(nn.Module):\n",
        "\n",
        "  def __init__(self, input_size, hidden_size, num_layers=1):\n",
        "    super(LSTMAutoencoder, self).__init__()\n",
        "    self.encoder = nn.LSTM(input_size, hidden_size, num_layers=num_layers, bidirectional=False)\n",
        "\n",
        "  def forward(self, inputs):\n",
        "    a,(b,c) = self.encoder(inputs)\n",
        "    print(a.shape,b.shape,c.shape)\n",
        "    return a,b,c"
      ],
      "metadata": {
        "id": "rnikzriwWGtw"
      },
      "execution_count": 37,
      "outputs": []
    },
    {
      "cell_type": "code",
      "source": [
        "\n",
        "import torch\n",
        "import os\n",
        "import numpy as np\n",
        "import pandas as pd\n",
        "import torch.nn.functional as F\n",
        "import torch.nn as nn"
      ],
      "metadata": {
        "id": "Kwi3oSNAERMM"
      },
      "execution_count": 4,
      "outputs": []
    },
    {
      "cell_type": "code",
      "source": [
        "class Encoder(nn.Module):\n",
        "    def __init__(self, seq_len, n_features,embedding_dim,n_layers):\n",
        "        super(Encoder, self).__init__()\n",
        "\n",
        "        self.seq_len = seq_len\n",
        "        self.n_features = n_features\n",
        "        self.embedding_dim = embedding_dim\n",
        "        self.hidden_dim = 2 * embedding_dim\n",
        "\n",
        "        self.rnn1 = nn.LSTM(\n",
        "          input_size=n_features,\n",
        "          hidden_size=self.hidden_dim,\n",
        "          num_layers=n_layers,\n",
        "          batch_first=True  # True = (batch_size, seq_len, n_features)\n",
        "                            # False = (seq_len, batch_size, n_features)\n",
        "                            #default = false\n",
        "        )\n",
        "        self.rnn2 = nn.LSTM(\n",
        "          input_size=self.hidden_dim,\n",
        "          hidden_size=embedding_dim,\n",
        "          num_layers=n_layers,\n",
        "          batch_first=True\n",
        "        )\n",
        "        self.linear = nn.Linear(embedding_dim,8)\n",
        "    def forward(self, x):\n",
        "        # (batch, seq, feature)   #(1,4,1)\n",
        "        a,(b,c) = self.rnn1(x)\n",
        "        print(a.shape,b.shape,c.shape)\n",
        "        x, (_, _) = self.rnn1(x) #(1,4,256)\n",
        "        x, (hidden_n, _) = self.rnn2(x)\n",
        "        x = self.linear(x)\n",
        "        # x shape (1,4,128)\n",
        "        # hidden_n (1,1,128)\n",
        "        return x"
      ],
      "metadata": {
        "id": "OMjAu34TEDJ6"
      },
      "execution_count": 30,
      "outputs": []
    },
    {
      "cell_type": "code",
      "source": [
        "model = Encoder(10,15,16,2)\n",
        "model"
      ],
      "metadata": {
        "colab": {
          "base_uri": "https://localhost:8080/"
        },
        "id": "mc88y2l3F9kZ",
        "outputId": "64f2eccf-064a-452c-9a6b-48b91cb50f6a"
      },
      "execution_count": 31,
      "outputs": [
        {
          "output_type": "execute_result",
          "data": {
            "text/plain": [
              "Encoder(\n",
              "  (rnn1): LSTM(15, 32, num_layers=2, batch_first=True)\n",
              "  (rnn2): LSTM(32, 16, num_layers=2, batch_first=True)\n",
              "  (linear): Linear(in_features=16, out_features=8, bias=True)\n",
              ")"
            ]
          },
          "metadata": {},
          "execution_count": 31
        }
      ]
    },
    {
      "cell_type": "code",
      "source": [
        "input_data = torch.rand(1, 10, 15)\n",
        "output = model(input_data)\n",
        "output.shape"
      ],
      "metadata": {
        "colab": {
          "base_uri": "https://localhost:8080/"
        },
        "id": "l9aH20E2GSnx",
        "outputId": "e86b6e84-ba7f-4219-a818-de010409106f"
      },
      "execution_count": 32,
      "outputs": [
        {
          "output_type": "stream",
          "name": "stdout",
          "text": [
            "torch.Size([1, 10, 32]) torch.Size([2, 1, 32]) torch.Size([2, 1, 32])\n"
          ]
        },
        {
          "output_type": "execute_result",
          "data": {
            "text/plain": [
              "torch.Size([1, 10, 8])"
            ]
          },
          "metadata": {},
          "execution_count": 32
        }
      ]
    },
    {
      "cell_type": "code",
      "source": [
        "class Decoder(nn.Module):\n",
        "    def __init__(self, seq_len, n_features,embedding_dim,n_layers):\n",
        "        super(Decoder, self).__init__()\n",
        "\n",
        "        self.seq_len = seq_len\n",
        "        self.hidden_dim = 2 * embedding_dim\n",
        "        self.n_features = n_features\n",
        "\n",
        "        self.rnn1 = nn.LSTM(\n",
        "        input_size=embedding_dim,\n",
        "        hidden_size=embedding_dim,\n",
        "        num_layers=n_layers,\n",
        "        batch_first=True\n",
        "        )\n",
        "        self.rnn2 = nn.LSTM(\n",
        "        input_size=embedding_dim,\n",
        "        hidden_size=self.hidden_dim,\n",
        "        num_layers=n_layers,\n",
        "        batch_first=True\n",
        "        )\n",
        "        self.output_layer = nn.Linear(self.hidden_dim, n_features)\n",
        "\n",
        "    def forward(self, x):\n",
        "\n",
        "        x, (hidden_n, cell_n) = self.rnn1(x) #(1,4,128)\n",
        "        x, (hidden_n, cell_n) = self.rnn2(x) #(1,4,256)\n",
        "        x = x.reshape((self.seq_len, self.hidden_dim)) #(4,256)\n",
        "\n",
        "        return self.output_layer(x) # (4,1)"
      ],
      "metadata": {
        "id": "r_2RzF4WKQ1g"
      },
      "execution_count": null,
      "outputs": []
    },
    {
      "cell_type": "code",
      "source": [
        "import torch\n",
        "import torch.nn as nn\n",
        "\n",
        "class LSTMAutoencoder(nn.Module):\n",
        "\n",
        "  def __init__(self, input_size, hidden_size, num_layers=2):\n",
        "    super(LSTMAutoencoder, self).__init__()\n",
        "    self.encoder = nn.LSTM(input_size, hidden_size, num_layers=num_layers, bidirectional=True)\n",
        "    self.decoder = nn.LSTM(hidden_size * 2, input_size, num_layers=num_layers)\n",
        "\n",
        "  def forward(self, inputs):\n",
        "    encoded, _ = self.encoder(inputs)\n",
        "    decoded, _ = self.decoder(encoded)\n",
        "    return decoded\n",
        "\n"
      ],
      "metadata": {
        "id": "bVEL6f8gVf-h"
      },
      "execution_count": null,
      "outputs": []
    }
  ]
}