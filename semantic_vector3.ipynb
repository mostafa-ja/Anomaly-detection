{
  "nbformat": 4,
  "nbformat_minor": 0,
  "metadata": {
    "colab": {
      "provenance": [],
      "authorship_tag": "ABX9TyONo/9P2ryKpPQfRjGwEe8L",
      "include_colab_link": true
    },
    "kernelspec": {
      "name": "python3",
      "display_name": "Python 3"
    },
    "language_info": {
      "name": "python"
    },
    "widgets": {
      "application/vnd.jupyter.widget-state+json": {
        "7017c694b781459fb8fa7a711e16208b": {
          "model_module": "@jupyter-widgets/controls",
          "model_name": "HBoxModel",
          "model_module_version": "1.5.0",
          "state": {
            "_dom_classes": [],
            "_model_module": "@jupyter-widgets/controls",
            "_model_module_version": "1.5.0",
            "_model_name": "HBoxModel",
            "_view_count": null,
            "_view_module": "@jupyter-widgets/controls",
            "_view_module_version": "1.5.0",
            "_view_name": "HBoxView",
            "box_style": "",
            "children": [
              "IPY_MODEL_8815c4ffc5964e8a9379bd65db830174",
              "IPY_MODEL_72c414422f86410395f0aacb3dabb9c8",
              "IPY_MODEL_ecd77f43bac1415d9c7608c808042f01"
            ],
            "layout": "IPY_MODEL_6c029c1f7343410caa367e7d54fd8f23"
          }
        },
        "8815c4ffc5964e8a9379bd65db830174": {
          "model_module": "@jupyter-widgets/controls",
          "model_name": "HTMLModel",
          "model_module_version": "1.5.0",
          "state": {
            "_dom_classes": [],
            "_model_module": "@jupyter-widgets/controls",
            "_model_module_version": "1.5.0",
            "_model_name": "HTMLModel",
            "_view_count": null,
            "_view_module": "@jupyter-widgets/controls",
            "_view_module_version": "1.5.0",
            "_view_name": "HTMLView",
            "description": "",
            "description_tooltip": null,
            "layout": "IPY_MODEL_897d497c1a744fcc964dc66b2143dbc8",
            "placeholder": "​",
            "style": "IPY_MODEL_404e62a252304e2caf8f58222b16115a",
            "value": "Downloading model.bin: 100%"
          }
        },
        "72c414422f86410395f0aacb3dabb9c8": {
          "model_module": "@jupyter-widgets/controls",
          "model_name": "FloatProgressModel",
          "model_module_version": "1.5.0",
          "state": {
            "_dom_classes": [],
            "_model_module": "@jupyter-widgets/controls",
            "_model_module_version": "1.5.0",
            "_model_name": "FloatProgressModel",
            "_view_count": null,
            "_view_module": "@jupyter-widgets/controls",
            "_view_module_version": "1.5.0",
            "_view_name": "ProgressView",
            "bar_style": "success",
            "description": "",
            "description_tooltip": null,
            "layout": "IPY_MODEL_95d1a7241cf64be6a457b5990dcb49aa",
            "max": 7237176312,
            "min": 0,
            "orientation": "horizontal",
            "style": "IPY_MODEL_e9890839bd554677bdef77bbfc8e6e02",
            "value": 7237176312
          }
        },
        "ecd77f43bac1415d9c7608c808042f01": {
          "model_module": "@jupyter-widgets/controls",
          "model_name": "HTMLModel",
          "model_module_version": "1.5.0",
          "state": {
            "_dom_classes": [],
            "_model_module": "@jupyter-widgets/controls",
            "_model_module_version": "1.5.0",
            "_model_name": "HTMLModel",
            "_view_count": null,
            "_view_module": "@jupyter-widgets/controls",
            "_view_module_version": "1.5.0",
            "_view_name": "HTMLView",
            "description": "",
            "description_tooltip": null,
            "layout": "IPY_MODEL_0987646c866c48e1bea510af1f0602e1",
            "placeholder": "​",
            "style": "IPY_MODEL_eccb886e573a47e28f6e3f2a087cfea8",
            "value": " 7.24G/7.24G [02:36&lt;00:00, 49.2MB/s]"
          }
        },
        "6c029c1f7343410caa367e7d54fd8f23": {
          "model_module": "@jupyter-widgets/base",
          "model_name": "LayoutModel",
          "model_module_version": "1.2.0",
          "state": {
            "_model_module": "@jupyter-widgets/base",
            "_model_module_version": "1.2.0",
            "_model_name": "LayoutModel",
            "_view_count": null,
            "_view_module": "@jupyter-widgets/base",
            "_view_module_version": "1.2.0",
            "_view_name": "LayoutView",
            "align_content": null,
            "align_items": null,
            "align_self": null,
            "border": null,
            "bottom": null,
            "display": null,
            "flex": null,
            "flex_flow": null,
            "grid_area": null,
            "grid_auto_columns": null,
            "grid_auto_flow": null,
            "grid_auto_rows": null,
            "grid_column": null,
            "grid_gap": null,
            "grid_row": null,
            "grid_template_areas": null,
            "grid_template_columns": null,
            "grid_template_rows": null,
            "height": null,
            "justify_content": null,
            "justify_items": null,
            "left": null,
            "margin": null,
            "max_height": null,
            "max_width": null,
            "min_height": null,
            "min_width": null,
            "object_fit": null,
            "object_position": null,
            "order": null,
            "overflow": null,
            "overflow_x": null,
            "overflow_y": null,
            "padding": null,
            "right": null,
            "top": null,
            "visibility": null,
            "width": null
          }
        },
        "897d497c1a744fcc964dc66b2143dbc8": {
          "model_module": "@jupyter-widgets/base",
          "model_name": "LayoutModel",
          "model_module_version": "1.2.0",
          "state": {
            "_model_module": "@jupyter-widgets/base",
            "_model_module_version": "1.2.0",
            "_model_name": "LayoutModel",
            "_view_count": null,
            "_view_module": "@jupyter-widgets/base",
            "_view_module_version": "1.2.0",
            "_view_name": "LayoutView",
            "align_content": null,
            "align_items": null,
            "align_self": null,
            "border": null,
            "bottom": null,
            "display": null,
            "flex": null,
            "flex_flow": null,
            "grid_area": null,
            "grid_auto_columns": null,
            "grid_auto_flow": null,
            "grid_auto_rows": null,
            "grid_column": null,
            "grid_gap": null,
            "grid_row": null,
            "grid_template_areas": null,
            "grid_template_columns": null,
            "grid_template_rows": null,
            "height": null,
            "justify_content": null,
            "justify_items": null,
            "left": null,
            "margin": null,
            "max_height": null,
            "max_width": null,
            "min_height": null,
            "min_width": null,
            "object_fit": null,
            "object_position": null,
            "order": null,
            "overflow": null,
            "overflow_x": null,
            "overflow_y": null,
            "padding": null,
            "right": null,
            "top": null,
            "visibility": null,
            "width": null
          }
        },
        "404e62a252304e2caf8f58222b16115a": {
          "model_module": "@jupyter-widgets/controls",
          "model_name": "DescriptionStyleModel",
          "model_module_version": "1.5.0",
          "state": {
            "_model_module": "@jupyter-widgets/controls",
            "_model_module_version": "1.5.0",
            "_model_name": "DescriptionStyleModel",
            "_view_count": null,
            "_view_module": "@jupyter-widgets/base",
            "_view_module_version": "1.2.0",
            "_view_name": "StyleView",
            "description_width": ""
          }
        },
        "95d1a7241cf64be6a457b5990dcb49aa": {
          "model_module": "@jupyter-widgets/base",
          "model_name": "LayoutModel",
          "model_module_version": "1.2.0",
          "state": {
            "_model_module": "@jupyter-widgets/base",
            "_model_module_version": "1.2.0",
            "_model_name": "LayoutModel",
            "_view_count": null,
            "_view_module": "@jupyter-widgets/base",
            "_view_module_version": "1.2.0",
            "_view_name": "LayoutView",
            "align_content": null,
            "align_items": null,
            "align_self": null,
            "border": null,
            "bottom": null,
            "display": null,
            "flex": null,
            "flex_flow": null,
            "grid_area": null,
            "grid_auto_columns": null,
            "grid_auto_flow": null,
            "grid_auto_rows": null,
            "grid_column": null,
            "grid_gap": null,
            "grid_row": null,
            "grid_template_areas": null,
            "grid_template_columns": null,
            "grid_template_rows": null,
            "height": null,
            "justify_content": null,
            "justify_items": null,
            "left": null,
            "margin": null,
            "max_height": null,
            "max_width": null,
            "min_height": null,
            "min_width": null,
            "object_fit": null,
            "object_position": null,
            "order": null,
            "overflow": null,
            "overflow_x": null,
            "overflow_y": null,
            "padding": null,
            "right": null,
            "top": null,
            "visibility": null,
            "width": null
          }
        },
        "e9890839bd554677bdef77bbfc8e6e02": {
          "model_module": "@jupyter-widgets/controls",
          "model_name": "ProgressStyleModel",
          "model_module_version": "1.5.0",
          "state": {
            "_model_module": "@jupyter-widgets/controls",
            "_model_module_version": "1.5.0",
            "_model_name": "ProgressStyleModel",
            "_view_count": null,
            "_view_module": "@jupyter-widgets/base",
            "_view_module_version": "1.2.0",
            "_view_name": "StyleView",
            "bar_color": null,
            "description_width": ""
          }
        },
        "0987646c866c48e1bea510af1f0602e1": {
          "model_module": "@jupyter-widgets/base",
          "model_name": "LayoutModel",
          "model_module_version": "1.2.0",
          "state": {
            "_model_module": "@jupyter-widgets/base",
            "_model_module_version": "1.2.0",
            "_model_name": "LayoutModel",
            "_view_count": null,
            "_view_module": "@jupyter-widgets/base",
            "_view_module_version": "1.2.0",
            "_view_name": "LayoutView",
            "align_content": null,
            "align_items": null,
            "align_self": null,
            "border": null,
            "bottom": null,
            "display": null,
            "flex": null,
            "flex_flow": null,
            "grid_area": null,
            "grid_auto_columns": null,
            "grid_auto_flow": null,
            "grid_auto_rows": null,
            "grid_column": null,
            "grid_gap": null,
            "grid_row": null,
            "grid_template_areas": null,
            "grid_template_columns": null,
            "grid_template_rows": null,
            "height": null,
            "justify_content": null,
            "justify_items": null,
            "left": null,
            "margin": null,
            "max_height": null,
            "max_width": null,
            "min_height": null,
            "min_width": null,
            "object_fit": null,
            "object_position": null,
            "order": null,
            "overflow": null,
            "overflow_x": null,
            "overflow_y": null,
            "padding": null,
            "right": null,
            "top": null,
            "visibility": null,
            "width": null
          }
        },
        "eccb886e573a47e28f6e3f2a087cfea8": {
          "model_module": "@jupyter-widgets/controls",
          "model_name": "DescriptionStyleModel",
          "model_module_version": "1.5.0",
          "state": {
            "_model_module": "@jupyter-widgets/controls",
            "_model_module_version": "1.5.0",
            "_model_name": "DescriptionStyleModel",
            "_view_count": null,
            "_view_module": "@jupyter-widgets/base",
            "_view_module_version": "1.2.0",
            "_view_name": "StyleView",
            "description_width": ""
          }
        }
      }
    }
  },
  "cells": [
    {
      "cell_type": "markdown",
      "metadata": {
        "id": "view-in-github",
        "colab_type": "text"
      },
      "source": [
        "<a href=\"https://colab.research.google.com/github/mostafa-ja/Anomaly-detection/blob/main/semantic_vector3.ipynb\" target=\"_parent\"><img src=\"https://colab.research.google.com/assets/colab-badge.svg\" alt=\"Open In Colab\"/></a>"
      ]
    },
    {
      "cell_type": "markdown",
      "source": [
        "https://huggingface.co/sentence-transformers/all-MiniLM-L6-v2\n",
        "\n",
        "https://huggingface.co/transformers/v3.2.0/glossary.html#:~:text=Token%20Type%20IDs,-Some%20models'%20purpose&text=They%20are%20represented%20as%20a,%2C%201%2C%201%2C%201%5D\n",
        "\n",
        "https://scikit-learn.org/stable/modules/generated/sklearn.feature_extraction.text.TfidfVectorizer.html\n",
        "\n"
      ],
      "metadata": {
        "id": "KPuL9ValLP62"
      }
    },
    {
      "cell_type": "code",
      "source": [
        "from sklearn.feature_extraction.text import TfidfVectorizer\n",
        "import re\n",
        "import pandas as pd\n"
      ],
      "metadata": {
        "id": "u9dLChDqL5TU"
      },
      "execution_count": 10,
      "outputs": []
    },
    {
      "cell_type": "code",
      "source": [
        "# Read the CSV file into a DataFrame\n",
        "df = pd.read_csv('/content/HDFS_templates.csv')\n",
        "df.head()"
      ],
      "metadata": {
        "colab": {
          "base_uri": "https://localhost:8080/",
          "height": 206
        },
        "id": "_81RcGL4Mmr4",
        "outputId": "22413291-2fbc-47ca-8655-52b7dc655538"
      },
      "execution_count": 11,
      "outputs": [
        {
          "output_type": "execute_result",
          "data": {
            "text/plain": [
              "  EventId                           EventTemplate\n",
              "0      E1  <*>Adding an already existing block<*>\n",
              "1      E2        <*>Verification succeeded for<*>\n",
              "2      E3                 <*>Served block<*>to<*>\n",
              "3      E4  <*>Got exception while serving<*>to<*>\n",
              "4      E5    <*>Receiving block<*>src:<*>dest:<*>"
            ],
            "text/html": [
              "\n",
              "\n",
              "  <div id=\"df-ff47372e-abb4-460f-86b4-9d4a448359ec\">\n",
              "    <div class=\"colab-df-container\">\n",
              "      <div>\n",
              "<style scoped>\n",
              "    .dataframe tbody tr th:only-of-type {\n",
              "        vertical-align: middle;\n",
              "    }\n",
              "\n",
              "    .dataframe tbody tr th {\n",
              "        vertical-align: top;\n",
              "    }\n",
              "\n",
              "    .dataframe thead th {\n",
              "        text-align: right;\n",
              "    }\n",
              "</style>\n",
              "<table border=\"1\" class=\"dataframe\">\n",
              "  <thead>\n",
              "    <tr style=\"text-align: right;\">\n",
              "      <th></th>\n",
              "      <th>EventId</th>\n",
              "      <th>EventTemplate</th>\n",
              "    </tr>\n",
              "  </thead>\n",
              "  <tbody>\n",
              "    <tr>\n",
              "      <th>0</th>\n",
              "      <td>E1</td>\n",
              "      <td>&lt;*&gt;Adding an already existing block&lt;*&gt;</td>\n",
              "    </tr>\n",
              "    <tr>\n",
              "      <th>1</th>\n",
              "      <td>E2</td>\n",
              "      <td>&lt;*&gt;Verification succeeded for&lt;*&gt;</td>\n",
              "    </tr>\n",
              "    <tr>\n",
              "      <th>2</th>\n",
              "      <td>E3</td>\n",
              "      <td>&lt;*&gt;Served block&lt;*&gt;to&lt;*&gt;</td>\n",
              "    </tr>\n",
              "    <tr>\n",
              "      <th>3</th>\n",
              "      <td>E4</td>\n",
              "      <td>&lt;*&gt;Got exception while serving&lt;*&gt;to&lt;*&gt;</td>\n",
              "    </tr>\n",
              "    <tr>\n",
              "      <th>4</th>\n",
              "      <td>E5</td>\n",
              "      <td>&lt;*&gt;Receiving block&lt;*&gt;src:&lt;*&gt;dest:&lt;*&gt;</td>\n",
              "    </tr>\n",
              "  </tbody>\n",
              "</table>\n",
              "</div>\n",
              "      <button class=\"colab-df-convert\" onclick=\"convertToInteractive('df-ff47372e-abb4-460f-86b4-9d4a448359ec')\"\n",
              "              title=\"Convert this dataframe to an interactive table.\"\n",
              "              style=\"display:none;\">\n",
              "\n",
              "  <svg xmlns=\"http://www.w3.org/2000/svg\" height=\"24px\"viewBox=\"0 0 24 24\"\n",
              "       width=\"24px\">\n",
              "    <path d=\"M0 0h24v24H0V0z\" fill=\"none\"/>\n",
              "    <path d=\"M18.56 5.44l.94 2.06.94-2.06 2.06-.94-2.06-.94-.94-2.06-.94 2.06-2.06.94zm-11 1L8.5 8.5l.94-2.06 2.06-.94-2.06-.94L8.5 2.5l-.94 2.06-2.06.94zm10 10l.94 2.06.94-2.06 2.06-.94-2.06-.94-.94-2.06-.94 2.06-2.06.94z\"/><path d=\"M17.41 7.96l-1.37-1.37c-.4-.4-.92-.59-1.43-.59-.52 0-1.04.2-1.43.59L10.3 9.45l-7.72 7.72c-.78.78-.78 2.05 0 2.83L4 21.41c.39.39.9.59 1.41.59.51 0 1.02-.2 1.41-.59l7.78-7.78 2.81-2.81c.8-.78.8-2.07 0-2.86zM5.41 20L4 18.59l7.72-7.72 1.47 1.35L5.41 20z\"/>\n",
              "  </svg>\n",
              "      </button>\n",
              "\n",
              "\n",
              "\n",
              "    <div id=\"df-aff53593-3708-433a-ab79-29c2dbad243d\">\n",
              "      <button class=\"colab-df-quickchart\" onclick=\"quickchart('df-aff53593-3708-433a-ab79-29c2dbad243d')\"\n",
              "              title=\"Suggest charts.\"\n",
              "              style=\"display:none;\">\n",
              "\n",
              "<svg xmlns=\"http://www.w3.org/2000/svg\" height=\"24px\"viewBox=\"0 0 24 24\"\n",
              "     width=\"24px\">\n",
              "    <g>\n",
              "        <path d=\"M19 3H5c-1.1 0-2 .9-2 2v14c0 1.1.9 2 2 2h14c1.1 0 2-.9 2-2V5c0-1.1-.9-2-2-2zM9 17H7v-7h2v7zm4 0h-2V7h2v10zm4 0h-2v-4h2v4z\"/>\n",
              "    </g>\n",
              "</svg>\n",
              "      </button>\n",
              "    </div>\n",
              "\n",
              "<style>\n",
              "  .colab-df-quickchart {\n",
              "    background-color: #E8F0FE;\n",
              "    border: none;\n",
              "    border-radius: 50%;\n",
              "    cursor: pointer;\n",
              "    display: none;\n",
              "    fill: #1967D2;\n",
              "    height: 32px;\n",
              "    padding: 0 0 0 0;\n",
              "    width: 32px;\n",
              "  }\n",
              "\n",
              "  .colab-df-quickchart:hover {\n",
              "    background-color: #E2EBFA;\n",
              "    box-shadow: 0px 1px 2px rgba(60, 64, 67, 0.3), 0px 1px 3px 1px rgba(60, 64, 67, 0.15);\n",
              "    fill: #174EA6;\n",
              "  }\n",
              "\n",
              "  [theme=dark] .colab-df-quickchart {\n",
              "    background-color: #3B4455;\n",
              "    fill: #D2E3FC;\n",
              "  }\n",
              "\n",
              "  [theme=dark] .colab-df-quickchart:hover {\n",
              "    background-color: #434B5C;\n",
              "    box-shadow: 0px 1px 3px 1px rgba(0, 0, 0, 0.15);\n",
              "    filter: drop-shadow(0px 1px 2px rgba(0, 0, 0, 0.3));\n",
              "    fill: #FFFFFF;\n",
              "  }\n",
              "</style>\n",
              "\n",
              "    <script>\n",
              "      async function quickchart(key) {\n",
              "        const containerElement = document.querySelector('#' + key);\n",
              "        const charts = await google.colab.kernel.invokeFunction(\n",
              "            'suggestCharts', [key], {});\n",
              "      }\n",
              "    </script>\n",
              "\n",
              "      <script>\n",
              "\n",
              "function displayQuickchartButton(domScope) {\n",
              "  let quickchartButtonEl =\n",
              "    domScope.querySelector('#df-aff53593-3708-433a-ab79-29c2dbad243d button.colab-df-quickchart');\n",
              "  quickchartButtonEl.style.display =\n",
              "    google.colab.kernel.accessAllowed ? 'block' : 'none';\n",
              "}\n",
              "\n",
              "        displayQuickchartButton(document);\n",
              "      </script>\n",
              "      <style>\n",
              "    .colab-df-container {\n",
              "      display:flex;\n",
              "      flex-wrap:wrap;\n",
              "      gap: 12px;\n",
              "    }\n",
              "\n",
              "    .colab-df-convert {\n",
              "      background-color: #E8F0FE;\n",
              "      border: none;\n",
              "      border-radius: 50%;\n",
              "      cursor: pointer;\n",
              "      display: none;\n",
              "      fill: #1967D2;\n",
              "      height: 32px;\n",
              "      padding: 0 0 0 0;\n",
              "      width: 32px;\n",
              "    }\n",
              "\n",
              "    .colab-df-convert:hover {\n",
              "      background-color: #E2EBFA;\n",
              "      box-shadow: 0px 1px 2px rgba(60, 64, 67, 0.3), 0px 1px 3px 1px rgba(60, 64, 67, 0.15);\n",
              "      fill: #174EA6;\n",
              "    }\n",
              "\n",
              "    [theme=dark] .colab-df-convert {\n",
              "      background-color: #3B4455;\n",
              "      fill: #D2E3FC;\n",
              "    }\n",
              "\n",
              "    [theme=dark] .colab-df-convert:hover {\n",
              "      background-color: #434B5C;\n",
              "      box-shadow: 0px 1px 3px 1px rgba(0, 0, 0, 0.15);\n",
              "      filter: drop-shadow(0px 1px 2px rgba(0, 0, 0, 0.3));\n",
              "      fill: #FFFFFF;\n",
              "    }\n",
              "  </style>\n",
              "\n",
              "      <script>\n",
              "        const buttonEl =\n",
              "          document.querySelector('#df-ff47372e-abb4-460f-86b4-9d4a448359ec button.colab-df-convert');\n",
              "        buttonEl.style.display =\n",
              "          google.colab.kernel.accessAllowed ? 'block' : 'none';\n",
              "\n",
              "        async function convertToInteractive(key) {\n",
              "          const element = document.querySelector('#df-ff47372e-abb4-460f-86b4-9d4a448359ec');\n",
              "          const dataTable =\n",
              "            await google.colab.kernel.invokeFunction('convertToInteractive',\n",
              "                                                     [key], {});\n",
              "          if (!dataTable) return;\n",
              "\n",
              "          const docLinkHtml = 'Like what you see? Visit the ' +\n",
              "            '<a target=\"_blank\" href=https://colab.research.google.com/notebooks/data_table.ipynb>data table notebook</a>'\n",
              "            + ' to learn more about interactive tables.';\n",
              "          element.innerHTML = '';\n",
              "          dataTable['output_type'] = 'display_data';\n",
              "          await google.colab.output.renderOutput(dataTable, element);\n",
              "          const docLink = document.createElement('div');\n",
              "          docLink.innerHTML = docLinkHtml;\n",
              "          element.appendChild(docLink);\n",
              "        }\n",
              "      </script>\n",
              "    </div>\n",
              "  </div>\n"
            ]
          },
          "metadata": {},
          "execution_count": 11
        }
      ]
    },
    {
      "cell_type": "code",
      "source": [
        "!pip install stop_words"
      ],
      "metadata": {
        "colab": {
          "base_uri": "https://localhost:8080/"
        },
        "id": "UZHYqt7QirL8",
        "outputId": "3033da80-e928-442b-fa6f-0181a7414849"
      },
      "execution_count": 35,
      "outputs": [
        {
          "output_type": "stream",
          "name": "stdout",
          "text": [
            "Collecting stop_words\n",
            "  Downloading stop-words-2018.7.23.tar.gz (31 kB)\n",
            "  Preparing metadata (setup.py) ... \u001b[?25l\u001b[?25hdone\n",
            "Building wheels for collected packages: stop_words\n",
            "  Building wheel for stop_words (setup.py) ... \u001b[?25l\u001b[?25hdone\n",
            "  Created wheel for stop_words: filename=stop_words-2018.7.23-py3-none-any.whl size=32897 sha256=20b52a868769e08f59d19ec850f696e56a137d1ab66f5ff637ba90ceca98830a\n",
            "  Stored in directory: /root/.cache/pip/wheels/d0/1a/23/f12552a50cb09bcc1694a5ebb6c2cd5f2a0311de2b8c3d9a89\n",
            "Successfully built stop_words\n",
            "Installing collected packages: stop_words\n",
            "Successfully installed stop_words-2018.7.23\n"
          ]
        }
      ]
    },
    {
      "cell_type": "code",
      "source": [
        "import stop_words\n"
      ],
      "metadata": {
        "id": "hIRLvBk0jCTe"
      },
      "execution_count": 37,
      "outputs": []
    },
    {
      "cell_type": "code",
      "source": [
        "stop_words.get_stop_words('english')"
      ],
      "metadata": {
        "colab": {
          "base_uri": "https://localhost:8080/"
        },
        "id": "-YWsWu5CjGI3",
        "outputId": "a8889a1c-7f6b-45de-c164-eb0d7968debc"
      },
      "execution_count": 42,
      "outputs": [
        {
          "output_type": "execute_result",
          "data": {
            "text/plain": [
              "['a',\n",
              " 'about',\n",
              " 'above',\n",
              " 'after',\n",
              " 'again',\n",
              " 'against',\n",
              " 'all',\n",
              " 'am',\n",
              " 'an',\n",
              " 'and',\n",
              " 'any',\n",
              " 'are',\n",
              " \"aren't\",\n",
              " 'as',\n",
              " 'at',\n",
              " 'be',\n",
              " 'because',\n",
              " 'been',\n",
              " 'before',\n",
              " 'being',\n",
              " 'below',\n",
              " 'between',\n",
              " 'both',\n",
              " 'but',\n",
              " 'by',\n",
              " \"can't\",\n",
              " 'cannot',\n",
              " 'could',\n",
              " \"couldn't\",\n",
              " 'did',\n",
              " \"didn't\",\n",
              " 'do',\n",
              " 'does',\n",
              " \"doesn't\",\n",
              " 'doing',\n",
              " \"don't\",\n",
              " 'down',\n",
              " 'during',\n",
              " 'each',\n",
              " 'few',\n",
              " 'for',\n",
              " 'from',\n",
              " 'further',\n",
              " 'had',\n",
              " \"hadn't\",\n",
              " 'has',\n",
              " \"hasn't\",\n",
              " 'have',\n",
              " \"haven't\",\n",
              " 'having',\n",
              " 'he',\n",
              " \"he'd\",\n",
              " \"he'll\",\n",
              " \"he's\",\n",
              " 'her',\n",
              " 'here',\n",
              " \"here's\",\n",
              " 'hers',\n",
              " 'herself',\n",
              " 'him',\n",
              " 'himself',\n",
              " 'his',\n",
              " 'how',\n",
              " \"how's\",\n",
              " 'i',\n",
              " \"i'd\",\n",
              " \"i'll\",\n",
              " \"i'm\",\n",
              " \"i've\",\n",
              " 'if',\n",
              " 'in',\n",
              " 'into',\n",
              " 'is',\n",
              " \"isn't\",\n",
              " 'it',\n",
              " \"it's\",\n",
              " 'its',\n",
              " 'itself',\n",
              " \"let's\",\n",
              " 'me',\n",
              " 'more',\n",
              " 'most',\n",
              " \"mustn't\",\n",
              " 'my',\n",
              " 'myself',\n",
              " 'no',\n",
              " 'nor',\n",
              " 'not',\n",
              " 'of',\n",
              " 'off',\n",
              " 'on',\n",
              " 'once',\n",
              " 'only',\n",
              " 'or',\n",
              " 'other',\n",
              " 'ought',\n",
              " 'our',\n",
              " 'ours',\n",
              " 'ourselves',\n",
              " 'out',\n",
              " 'over',\n",
              " 'own',\n",
              " 'same',\n",
              " \"shan't\",\n",
              " 'she',\n",
              " \"she'd\",\n",
              " \"she'll\",\n",
              " \"she's\",\n",
              " 'should',\n",
              " \"shouldn't\",\n",
              " 'so',\n",
              " 'some',\n",
              " 'such',\n",
              " 'than',\n",
              " 'that',\n",
              " \"that's\",\n",
              " 'the',\n",
              " 'their',\n",
              " 'theirs',\n",
              " 'them',\n",
              " 'themselves',\n",
              " 'then',\n",
              " 'there',\n",
              " \"there's\",\n",
              " 'these',\n",
              " 'they',\n",
              " \"they'd\",\n",
              " \"they'll\",\n",
              " \"they're\",\n",
              " \"they've\",\n",
              " 'this',\n",
              " 'those',\n",
              " 'through',\n",
              " 'to',\n",
              " 'too',\n",
              " 'under',\n",
              " 'until',\n",
              " 'up',\n",
              " 'very',\n",
              " 'was',\n",
              " \"wasn't\",\n",
              " 'we',\n",
              " \"we'd\",\n",
              " \"we'll\",\n",
              " \"we're\",\n",
              " \"we've\",\n",
              " 'were',\n",
              " \"weren't\",\n",
              " 'what',\n",
              " \"what's\",\n",
              " 'when',\n",
              " \"when's\",\n",
              " 'where',\n",
              " \"where's\",\n",
              " 'which',\n",
              " 'while',\n",
              " 'who',\n",
              " \"who's\",\n",
              " 'whom',\n",
              " 'why',\n",
              " \"why's\",\n",
              " 'with',\n",
              " \"won't\",\n",
              " 'would',\n",
              " \"wouldn't\",\n",
              " 'you',\n",
              " \"you'd\",\n",
              " \"you'll\",\n",
              " \"you're\",\n",
              " \"you've\",\n",
              " 'your',\n",
              " 'yours',\n",
              " 'yourself',\n",
              " 'yourselves']"
            ]
          },
          "metadata": {},
          "execution_count": 42
        }
      ]
    },
    {
      "cell_type": "code",
      "source": [
        "import stop_words\n",
        "stop_word = stop_words.get_stop_words('english')\n",
        "\n",
        "def normalize_text(text):\n",
        "  \"\"\"\n",
        "  Normalize text to extract most salient tokens\n",
        "  Ref: https://github.com/MLWorkshops/nlp-dealing-with-text-data/blob/master/Dealing-with-text-data.ipynb\n",
        "  Ref: turn a Unicode string to plain ASCII, thanks to https://stackoverflow.com/a/518232/2809427\n",
        "  \"\"\"\n",
        "  # replace special characters with space and remove digits\n",
        "  text = re.sub(r'\\W+', ' ', text)\n",
        "  text = re.sub('\\d', '', text)\n",
        "  # convert camel case to snake case, then replace _ with space\n",
        "  text = re.sub('(.)([A-Z][a-z]+)', r'\\1_\\2', text)\n",
        "  text = re.sub('([a-z0-9])([A-Z])', r'\\1_\\2', text).lower().replace('_', ' ')\n",
        "  # tokenize, removing stop words (from SpaCy)\n",
        "  normalized_tokens = [t for t in text.split(' ') if t not in stop_word and t != '']\n",
        "  return normalized_tokens"
      ],
      "metadata": {
        "id": "99s5QUbbiIn5"
      },
      "execution_count": 46,
      "outputs": []
    },
    {
      "cell_type": "code",
      "source": [
        "normalize_text('<*>Received block<*>src:<*>dest:<*>of size<*>')"
      ],
      "metadata": {
        "colab": {
          "base_uri": "https://localhost:8080/"
        },
        "id": "pXf2F2r8iKDC",
        "outputId": "28f30d87-a48e-45a4-88db-c44caa2b8e42"
      },
      "execution_count": 44,
      "outputs": [
        {
          "output_type": "execute_result",
          "data": {
            "text/plain": [
              "['received', 'block', 'src', 'dest', 'size']"
            ]
          },
          "metadata": {},
          "execution_count": 44
        }
      ]
    },
    {
      "cell_type": "code",
      "source": [
        "normalize_text('<*>BLOCK* NameSystem<*>addStoredBlock: addStoredBlock request received for<*>on<*>size<*>But it does not belong to any file.')"
      ],
      "metadata": {
        "colab": {
          "base_uri": "https://localhost:8080/"
        },
        "id": "pxbeWKOHjtls",
        "outputId": "3d9373cb-59e4-4804-ffee-13f88cbb9ccb"
      },
      "execution_count": 47,
      "outputs": [
        {
          "output_type": "stream",
          "name": "stdout",
          "text": [
            " block  name system add stored block add stored block request received for on size  but it does not belong to any file \n"
          ]
        },
        {
          "output_type": "execute_result",
          "data": {
            "text/plain": [
              "['block',\n",
              " 'name',\n",
              " 'system',\n",
              " 'add',\n",
              " 'stored',\n",
              " 'block',\n",
              " 'add',\n",
              " 'stored',\n",
              " 'block',\n",
              " 'request',\n",
              " 'received',\n",
              " 'size',\n",
              " 'belong',\n",
              " 'file']"
            ]
          },
          "metadata": {},
          "execution_count": 47
        }
      ]
    },
    {
      "cell_type": "code",
      "source": [
        "import stop_words\n",
        "stop_word = stop_words.get_stop_words('english')\n",
        "\n",
        "def normalize_text(text):\n",
        "  \"\"\"\n",
        "  Normalize text to extract most salient tokens\n",
        "  Ref: https://github.com/MLWorkshops/nlp-dealing-with-text-data/blob/master/Dealing-with-text-data.ipynb\n",
        "  Ref: turn a Unicode string to plain ASCII, thanks to https://stackoverflow.com/a/518232/2809427\n",
        "  \"\"\"\n",
        "  # replace special characters with space and remove digits\n",
        "  text = re.sub(r'\\W+', ' ', text)\n",
        "  text = re.sub('\\d', '', text)\n",
        "  # convert camel case to snake case, then replace _ with space\n",
        "  text = re.sub('(.)([A-Z][a-z]+)', r'\\1_\\2', text)\n",
        "  text = re.sub('([a-z0-9])([A-Z])', r'\\1_\\2', text).lower().replace('_', ' ')\n",
        "  # tokenize, removing stop words (from SpaCy)\n",
        "  normalized_tokens = [t for t in text.split(' ') if t not in stop_word and t != '']\n",
        "  # Reconstruct the sentence\n",
        "  filtered_sentence = ' '.join(normalized_tokens) # our output will be sentences not a list of words\n",
        "  return filtered_sentence"
      ],
      "metadata": {
        "id": "2SFzj27-kGf3"
      },
      "execution_count": 50,
      "outputs": []
    },
    {
      "cell_type": "code",
      "source": [
        "normalize_text('<*>BLOCK* NameSystem<*>addStoredBlock: addStoredBlock request received for<*>on<*>size<*>But it does not belong to any file.')"
      ],
      "metadata": {
        "colab": {
          "base_uri": "https://localhost:8080/",
          "height": 36
        },
        "id": "04XutRIJlYa5",
        "outputId": "28bbf6f4-aae8-44cb-b39b-3a197fda9c9f"
      },
      "execution_count": 51,
      "outputs": [
        {
          "output_type": "execute_result",
          "data": {
            "text/plain": [
              "'block name system add stored block add stored block request received size belong file'"
            ],
            "application/vnd.google.colaboratory.intrinsic+json": {
              "type": "string"
            }
          },
          "metadata": {},
          "execution_count": 51
        }
      ]
    },
    {
      "cell_type": "code",
      "source": [
        "normalized_templates = []\n",
        "for sentence in df['EventTemplate']:\n",
        "  normalized_templates.append(normalize_text(sentence))\n",
        "\n",
        "print(normalized_templates)"
      ],
      "metadata": {
        "colab": {
          "base_uri": "https://localhost:8080/"
        },
        "id": "BbhVQ28Sl9Cn",
        "outputId": "1d3ac709-5487-4733-9b2b-ff5c1bba489f"
      },
      "execution_count": 52,
      "outputs": [
        {
          "output_type": "stream",
          "name": "stdout",
          "text": [
            "['adding already existing block', 'verification succeeded', 'served block', 'got exception serving', 'receiving block src dest', 'received block src dest size', 'write block received exception', 'packet responder block interrupted', 'received block size', 'packet responder exception', 'packet responder block terminating', 'exception writing block mirror', 'receiving empty packet block', 'exception receive block block', 'changing block file offset block meta file offset', 'transmitted block', 'failed transfer got', 'starting thread transfer block', 'reopen block', 'unexpected error trying delete block block info found volume map', 'deleting block file', 'block name system allocate block', 'block name system delete added invalid set', 'block removing block needed replications belong file', 'block ask replicate', 'block name system add stored block block map updated added size', 'block name system add stored block redundant add stored block request received size', 'block name system add stored block add stored block request received size belong file', 'pending replication monitor timed block', 'block ask delete']\n"
          ]
        }
      ]
    },
    {
      "cell_type": "code",
      "source": [
        "# Create TF-IDF vectorizer\n",
        "tfidf_vectorizer = TfidfVectorizer()\n",
        "\n",
        "# Compute TF-IDF features\n",
        "tfidf_features = tfidf_vectorizer.fit_transform(normalized_templates)\n",
        "\n",
        "# Access the TF-IDF feature matrix\n",
        "print(tfidf_features.toarray())"
      ],
      "metadata": {
        "colab": {
          "base_uri": "https://localhost:8080/"
        },
        "id": "dTuUSnCYnBnB",
        "outputId": "2cd838f5-95f4-4fbc-e180-e066ea805143"
      },
      "execution_count": 98,
      "outputs": [
        {
          "output_type": "stream",
          "name": "stdout",
          "text": [
            "[[0.         0.         0.56864388 ... 0.         0.         0.        ]\n",
            " [0.         0.         0.         ... 0.         0.         0.        ]\n",
            " [0.         0.         0.         ... 0.         0.         0.        ]\n",
            " ...\n",
            " [0.50773918 0.         0.         ... 0.         0.         0.        ]\n",
            " [0.         0.         0.         ... 0.         0.         0.        ]\n",
            " [0.         0.         0.         ... 0.         0.         0.        ]]\n"
          ]
        }
      ]
    },
    {
      "cell_type": "code",
      "source": [
        "tfidf_features.toarray().shape"
      ],
      "metadata": {
        "colab": {
          "base_uri": "https://localhost:8080/"
        },
        "id": "HKcYEuYvnUVC",
        "outputId": "18ae474a-92e2-46ad-95cc-17080cf76e22"
      },
      "execution_count": 99,
      "outputs": [
        {
          "output_type": "execute_result",
          "data": {
            "text/plain": [
              "(30, 64)"
            ]
          },
          "metadata": {},
          "execution_count": 99
        }
      ]
    },
    {
      "cell_type": "code",
      "source": [
        "tfidf_vectorizer.get_feature_names_out()"
      ],
      "metadata": {
        "colab": {
          "base_uri": "https://localhost:8080/"
        },
        "id": "clQCzXirnafq",
        "outputId": "250b3287-0c9b-49f0-94ba-837f45e87ee7"
      },
      "execution_count": 100,
      "outputs": [
        {
          "output_type": "execute_result",
          "data": {
            "text/plain": [
              "array(['add', 'added', 'adding', 'allocate', 'already', 'ask', 'belong',\n",
              "       'block', 'changing', 'delete', 'deleting', 'dest', 'empty',\n",
              "       'error', 'exception', 'existing', 'failed', 'file', 'found', 'got',\n",
              "       'info', 'interrupted', 'invalid', 'map', 'meta', 'mirror',\n",
              "       'monitor', 'name', 'needed', 'offset', 'packet', 'pending',\n",
              "       'receive', 'received', 'receiving', 'redundant', 'removing',\n",
              "       'reopen', 'replicate', 'replication', 'replications', 'request',\n",
              "       'responder', 'served', 'serving', 'set', 'size', 'src', 'starting',\n",
              "       'stored', 'succeeded', 'system', 'terminating', 'thread', 'timed',\n",
              "       'transfer', 'transmitted', 'trying', 'unexpected', 'updated',\n",
              "       'verification', 'volume', 'write', 'writing'], dtype=object)"
            ]
          },
          "metadata": {},
          "execution_count": 100
        }
      ]
    },
    {
      "cell_type": "code",
      "source": [
        "normalized_templates[0]"
      ],
      "metadata": {
        "colab": {
          "base_uri": "https://localhost:8080/",
          "height": 36
        },
        "id": "l4hC-KlDn03-",
        "outputId": "6a32beee-696f-4af5-8255-eac25e9ee503"
      },
      "execution_count": 101,
      "outputs": [
        {
          "output_type": "execute_result",
          "data": {
            "text/plain": [
              "'adding already existing block'"
            ],
            "application/vnd.google.colaboratory.intrinsic+json": {
              "type": "string"
            }
          },
          "metadata": {},
          "execution_count": 101
        }
      ]
    },
    {
      "cell_type": "code",
      "source": [
        "tfidf_features.toarray()[0]"
      ],
      "metadata": {
        "colab": {
          "base_uri": "https://localhost:8080/"
        },
        "id": "K9p-aOFGnveU",
        "outputId": "a921abc2-5034-441b-f164-9fee250a8ede"
      },
      "execution_count": 102,
      "outputs": [
        {
          "output_type": "execute_result",
          "data": {
            "text/plain": [
              "array([0.        , 0.        , 0.56864388, 0.        , 0.56864388,\n",
              "       0.        , 0.        , 0.17300986, 0.        , 0.        ,\n",
              "       0.        , 0.        , 0.        , 0.        , 0.        ,\n",
              "       0.56864388, 0.        , 0.        , 0.        , 0.        ,\n",
              "       0.        , 0.        , 0.        , 0.        , 0.        ,\n",
              "       0.        , 0.        , 0.        , 0.        , 0.        ,\n",
              "       0.        , 0.        , 0.        , 0.        , 0.        ,\n",
              "       0.        , 0.        , 0.        , 0.        , 0.        ,\n",
              "       0.        , 0.        , 0.        , 0.        , 0.        ,\n",
              "       0.        , 0.        , 0.        , 0.        , 0.        ,\n",
              "       0.        , 0.        , 0.        , 0.        , 0.        ,\n",
              "       0.        , 0.        , 0.        , 0.        , 0.        ,\n",
              "       0.        , 0.        , 0.        , 0.        ])"
            ]
          },
          "metadata": {},
          "execution_count": 102
        }
      ]
    },
    {
      "cell_type": "code",
      "source": [
        "tfidf_vectorizer.vocabulary_"
      ],
      "metadata": {
        "colab": {
          "base_uri": "https://localhost:8080/"
        },
        "id": "y0mjfX7xudLs",
        "outputId": "210a69c7-9f05-47a7-c2d0-4cb3449fe0f1"
      },
      "execution_count": 103,
      "outputs": [
        {
          "output_type": "execute_result",
          "data": {
            "text/plain": [
              "{'adding': 2,\n",
              " 'already': 4,\n",
              " 'existing': 15,\n",
              " 'block': 7,\n",
              " 'verification': 60,\n",
              " 'succeeded': 50,\n",
              " 'served': 43,\n",
              " 'got': 19,\n",
              " 'exception': 14,\n",
              " 'serving': 44,\n",
              " 'receiving': 34,\n",
              " 'src': 47,\n",
              " 'dest': 11,\n",
              " 'received': 33,\n",
              " 'size': 46,\n",
              " 'write': 62,\n",
              " 'packet': 30,\n",
              " 'responder': 42,\n",
              " 'interrupted': 21,\n",
              " 'terminating': 52,\n",
              " 'writing': 63,\n",
              " 'mirror': 25,\n",
              " 'empty': 12,\n",
              " 'receive': 32,\n",
              " 'changing': 8,\n",
              " 'file': 17,\n",
              " 'offset': 29,\n",
              " 'meta': 24,\n",
              " 'transmitted': 56,\n",
              " 'failed': 16,\n",
              " 'transfer': 55,\n",
              " 'starting': 48,\n",
              " 'thread': 53,\n",
              " 'reopen': 37,\n",
              " 'unexpected': 58,\n",
              " 'error': 13,\n",
              " 'trying': 57,\n",
              " 'delete': 9,\n",
              " 'info': 20,\n",
              " 'found': 18,\n",
              " 'volume': 61,\n",
              " 'map': 23,\n",
              " 'deleting': 10,\n",
              " 'name': 27,\n",
              " 'system': 51,\n",
              " 'allocate': 3,\n",
              " 'added': 1,\n",
              " 'invalid': 22,\n",
              " 'set': 45,\n",
              " 'removing': 36,\n",
              " 'needed': 28,\n",
              " 'replications': 40,\n",
              " 'belong': 6,\n",
              " 'ask': 5,\n",
              " 'replicate': 38,\n",
              " 'add': 0,\n",
              " 'stored': 49,\n",
              " 'updated': 59,\n",
              " 'redundant': 35,\n",
              " 'request': 41,\n",
              " 'pending': 31,\n",
              " 'replication': 39,\n",
              " 'monitor': 26,\n",
              " 'timed': 54}"
            ]
          },
          "metadata": {},
          "execution_count": 103
        }
      ]
    },
    {
      "cell_type": "code",
      "source": [
        "dic = tfidf_vectorizer.vocabulary_\n",
        "matrix_weight = tfidf_features.toarray()\n",
        "\n",
        "for i, sentence in enumerate(normalized_templates):\n",
        "  for word in sentence.split():\n",
        "    j = dic[word]\n",
        "    print(matrix_weight[i,j])\n",
        "  break"
      ],
      "metadata": {
        "colab": {
          "base_uri": "https://localhost:8080/"
        },
        "id": "RhaSrvNfudIZ",
        "outputId": "5e5812c7-4c18-4fd3-a86d-6f7aeac0023b"
      },
      "execution_count": 108,
      "outputs": [
        {
          "output_type": "stream",
          "name": "stdout",
          "text": [
            "0.5686438800308434\n",
            "0.5686438800308434\n",
            "0.5686438800308434\n",
            "0.17300986419971287\n"
          ]
        }
      ]
    },
    {
      "cell_type": "code",
      "source": [
        "dic = tfidf_vectorizer.vocabulary_\n",
        "matrix_weight = tfidf_features.toarray()\n",
        "\n",
        "for i, sentence in enumerate(normalized_templates):\n",
        "  for word in sentence.split():\n",
        "    j = dic[word]\n",
        "\n",
        "    print(matrix_weight[i,j])"
      ],
      "metadata": {
        "id": "78B48MPkzG5u"
      },
      "execution_count": null,
      "outputs": []
    },
    {
      "cell_type": "code",
      "source": [
        "!pip install -U sentence-transformers"
      ],
      "metadata": {
        "id": "BiMNBzOt2Dqb"
      },
      "execution_count": null,
      "outputs": []
    },
    {
      "cell_type": "code",
      "source": [
        "from sentence_transformers import SentenceTransformer, util\n",
        "model = SentenceTransformer('sentence-transformers/all-MiniLM-L6-v2')"
      ],
      "metadata": {
        "id": "lu8xPr7a2FL9"
      },
      "execution_count": null,
      "outputs": []
    },
    {
      "cell_type": "code",
      "source": [
        "import numpy as np\n",
        "\n",
        "dic = tfidf_vectorizer.vocabulary_\n",
        "matrix_weight = tfidf_features.toarray()\n",
        "\n",
        "for i, sentence in enumerate(normalized_templates):\n",
        "  vector = np.zeros(384) # same shape of embedding word : model.encode(word).shape\n",
        "  for word in sentence.split():\n",
        "    j = dic[word]\n",
        "    vector += matrix_weight[i,j] * model.encode(word)\n",
        "  print(vector)\n",
        "  break"
      ],
      "metadata": {
        "colab": {
          "base_uri": "https://localhost:8080/"
        },
        "id": "WAyDf3S8zG3v",
        "outputId": "d65e444b-d266-4a02-8a45-9ee463c2d2d2"
      },
      "execution_count": 119,
      "outputs": [
        {
          "output_type": "stream",
          "name": "stdout",
          "text": [
            "[-1.80113429e-01 -1.09971861e-01 -1.06542357e-01  6.68778112e-02\n",
            " -3.32805095e-02 -7.26378756e-02  8.62967707e-02  4.94848946e-02\n",
            " -2.23741233e-02 -3.61979739e-02  3.85551292e-02 -9.88341146e-02\n",
            " -4.72236846e-02 -1.31167155e-02  2.50095909e-03  5.90501354e-02\n",
            " -2.93646432e-02  1.94864930e-02 -6.10656147e-02 -6.79288320e-02\n",
            " -1.05333840e-01 -2.59006550e-02 -5.75589610e-02  5.12239481e-02\n",
            " -7.73542016e-02 -3.79162414e-02  2.99382433e-02  1.37190510e-01\n",
            "  1.03255286e-01 -1.63155144e-01  3.11684615e-02  3.72643088e-02\n",
            "  1.75148904e-01  3.31691294e-02  1.06008295e-02 -3.04072550e-02\n",
            "  5.25512046e-03  9.06611665e-02  9.20893392e-03 -5.63610825e-02\n",
            " -4.53872127e-02 -1.57304783e-01 -1.98428368e-02  2.92548062e-02\n",
            "  1.00008427e-02 -3.25734167e-02  5.19716414e-02 -1.72517244e-02\n",
            "  1.06152553e-01  1.02917659e-01 -3.88947483e-02  1.08350320e-02\n",
            " -4.04431445e-02  3.84758371e-02  4.21657576e-02  6.48404891e-02\n",
            " -8.48910310e-02  8.73956953e-02  7.42673338e-03 -7.34068900e-02\n",
            "  1.60374568e-01  4.46552642e-02 -9.93623489e-02  4.12861635e-02\n",
            "  2.79795458e-02 -1.79360581e-02 -1.69066107e-02  5.27131021e-02\n",
            " -8.46598786e-03  5.43270819e-02 -1.74954635e-02  7.82227395e-02\n",
            " -1.35920893e-02 -4.46838224e-02  7.63767497e-02 -5.73583585e-02\n",
            "  2.34847944e-02 -4.22993503e-02  7.55287441e-02  3.39400191e-02\n",
            " -7.78452321e-02 -2.57773125e-02 -9.53907119e-02  3.88353153e-02\n",
            "  6.78390581e-02  3.71176638e-02  7.98470238e-02 -1.18736839e-02\n",
            " -6.03251772e-02  2.11259346e-02  6.10435379e-02 -6.08751317e-04\n",
            "  6.75474848e-02 -3.53717012e-02 -3.51082536e-02  7.01621459e-02\n",
            "  9.79522127e-02 -8.71901857e-02 -1.65500000e-01  4.04169638e-01\n",
            "  1.14065022e-02 -4.49947403e-02 -9.54705775e-02  1.89662526e-02\n",
            "  6.49880036e-03 -1.48759331e-02 -7.86470345e-02  1.13718154e-01\n",
            " -4.73562041e-02 -4.48863492e-02 -1.53710952e-02  4.47311299e-03\n",
            " -4.87112658e-02 -1.64870443e-02  3.26296045e-02  1.90844391e-02\n",
            " -9.30084451e-03  9.76838511e-02  3.60523220e-02 -7.02692273e-02\n",
            "  3.78786372e-02  5.09751565e-03 -7.19945766e-02 -1.44439377e-03\n",
            " -5.30862939e-02 -1.61752223e-01 -8.94394582e-02 -4.07211325e-33\n",
            "  2.49858713e-02  1.91780383e-02 -7.30428580e-02  1.08622264e-01\n",
            "  4.14668070e-02  7.09840767e-02  5.65128181e-02 -5.08885612e-02\n",
            " -8.40526313e-02  2.75114322e-02 -7.95122184e-02  4.62387637e-02\n",
            " -3.40966685e-02  5.73792867e-03  8.78072986e-02 -2.37156868e-02\n",
            "  4.65868218e-02  6.47132113e-02  2.81596138e-02 -4.54739633e-02\n",
            " -8.25506728e-02  8.05569883e-02 -1.40520019e-02  7.27906437e-02\n",
            " -3.15190179e-02  5.12908088e-02  2.08659740e-02 -1.67429473e-01\n",
            "  2.42444442e-02  3.45871793e-02  1.53407948e-02 -7.96943731e-02\n",
            " -1.05393651e-01  2.73139770e-02 -2.17825930e-02 -1.41941151e-03\n",
            "  1.71545076e-02 -1.20244373e-01  2.27122642e-02 -1.26750104e-01\n",
            "  2.37195333e-02  6.48810880e-02 -1.61071060e-01 -1.78839776e-02\n",
            "  2.69064341e-02 -6.62778172e-03  6.99530281e-02 -4.88248896e-02\n",
            "  1.48052238e-02  9.40185328e-02  3.86312604e-06 -7.36050890e-02\n",
            " -1.07366396e-01 -9.81400954e-04 -1.97017680e-01  6.41993457e-03\n",
            " -1.60785572e-02 -4.96523003e-02  1.30110516e-01 -1.94346231e-02\n",
            "  1.45465999e-01  1.53191594e-01 -4.36675888e-02  1.96299232e-02\n",
            " -2.20612092e-02  3.17261380e-04  1.41469583e-01 -2.77518929e-02\n",
            "  4.83750820e-03 -1.16827144e-01 -1.23201943e-01 -1.27543695e-04\n",
            "  1.35008693e-01  1.02582256e-01  8.09040917e-02 -1.55004411e-01\n",
            "  1.11926389e-02  3.40823769e-02 -3.73500464e-02  4.70696352e-02\n",
            " -7.14481939e-02 -9.08969878e-03 -6.98917583e-02  1.10198901e-01\n",
            "  1.21931384e-01  2.48449771e-02  3.67856160e-02 -8.15881751e-02\n",
            "  4.98901587e-03  3.84728790e-02 -6.93068723e-02 -2.93608106e-02\n",
            "  2.27863372e-02  4.55498081e-02 -5.52007938e-02  5.01272533e-33\n",
            " -1.01773184e-01 -2.05596217e-02 -4.63156495e-02  4.05726156e-02\n",
            "  5.30396446e-02  2.83810212e-02  1.04272002e-01 -2.79359748e-02\n",
            " -3.97897607e-02 -2.30998714e-02 -2.83333773e-02 -3.02279051e-02\n",
            "  4.40185498e-02  5.44195892e-02  3.49601439e-02  1.58075882e-01\n",
            "  7.97346103e-02  6.60123638e-02 -7.93009782e-02  5.09674011e-02\n",
            " -8.81925509e-02  1.09309749e-02 -2.63497676e-03  4.26873351e-02\n",
            " -4.28235724e-02  1.05068912e-01  1.16354143e-01  7.60906087e-02\n",
            " -3.71034708e-02 -1.07288779e-02  1.07592083e-01  7.72977411e-03\n",
            " -1.04453034e-01  5.28769772e-02  9.14366539e-02  6.36211585e-02\n",
            "  2.06751337e-01  5.84841303e-02 -6.23949692e-02  1.82977743e-02\n",
            "  1.55810162e-01 -5.30365882e-02 -2.65137911e-02  2.02426304e-01\n",
            "  3.57120996e-03 -1.60444099e-02  5.75773306e-02  7.96862887e-02\n",
            "  7.88465485e-02  6.91408655e-02 -3.95966293e-02  3.41643977e-02\n",
            " -9.07901432e-02 -5.52533591e-02 -5.18426982e-02 -2.07089895e-02\n",
            " -6.07203105e-02 -4.44541164e-03  1.37193415e-01 -9.25509881e-02\n",
            "  9.27119143e-03  3.96965845e-02 -4.69341900e-02 -2.79322665e-02\n",
            "  1.27345198e-01  4.52353086e-02 -1.24246180e-02  8.62264971e-02\n",
            "  2.82362134e-02 -1.18282163e-01 -4.89413760e-02 -1.36489943e-02\n",
            " -1.45959393e-01  1.46873486e-02 -3.53965862e-02 -6.37257150e-02\n",
            "  2.06236015e-02 -3.22312689e-02  4.26115631e-03 -2.23092744e-02\n",
            " -9.24366321e-02 -5.93255572e-02  7.61001799e-02 -1.09485390e-01\n",
            "  3.04354401e-02 -1.08329675e-01  1.20100586e-01  8.88082081e-02\n",
            " -1.43654882e-02 -2.74902200e-02 -6.23116278e-02  7.11058187e-02\n",
            " -1.92429363e-02  7.52749119e-02 -7.68700717e-02 -2.64630371e-08\n",
            "  3.97175685e-02  5.36737349e-02 -4.04994953e-02  2.95726921e-02\n",
            "  1.17625967e-01  5.41057414e-02 -4.68690874e-02 -2.38838600e-02\n",
            "  5.27577568e-03 -6.09137965e-02  1.03931080e-01 -2.92579699e-02\n",
            "  8.37463392e-02  1.27861445e-01  7.70884810e-03 -4.83866571e-02\n",
            " -1.33172966e-01  2.34422507e-03 -8.01740070e-02  4.62188958e-02\n",
            "  2.08188694e-02  7.98350880e-02  6.11067656e-02 -9.78936441e-03\n",
            " -1.51814300e-02 -3.69040194e-02  1.47346100e-02  3.42793385e-02\n",
            " -2.95291310e-02  1.06877462e-02  1.26702688e-02  5.83075089e-02\n",
            " -3.69358216e-02  2.59377761e-03  1.71386944e-02 -1.10476352e-02\n",
            " -1.26882441e-01  6.16281075e-02 -5.06368038e-02  3.31356755e-03\n",
            "  2.45670858e-02 -3.26566980e-02  1.27215104e-01 -3.56940534e-02\n",
            " -3.54480743e-03 -5.12946579e-02 -9.92928701e-02 -8.32203534e-02\n",
            " -2.72144973e-02  1.27484591e-02 -2.25321482e-02 -2.99020514e-02\n",
            "  9.54718236e-02 -2.95328238e-02  5.76654598e-02  1.01737104e-01\n",
            "  6.19136207e-02  1.30514922e-02  1.32340353e-02  1.47403384e-01\n",
            "  1.40472341e-01 -4.56727154e-02  1.99603491e-02  3.27987396e-02]\n"
          ]
        }
      ]
    },
    {
      "cell_type": "code",
      "source": [
        "print(\"Similarity:\", util.cos_sim(query_embedding, passage_embedding))"
      ],
      "metadata": {
        "id": "mUqnU-AQzGus"
      },
      "execution_count": null,
      "outputs": []
    },
    {
      "cell_type": "code",
      "source": [],
      "metadata": {
        "id": "r6JydsEWzGrN"
      },
      "execution_count": null,
      "outputs": []
    },
    {
      "cell_type": "code",
      "source": [],
      "metadata": {
        "id": "6D1g2RahzGnM"
      },
      "execution_count": null,
      "outputs": []
    },
    {
      "cell_type": "code",
      "source": [],
      "metadata": {
        "id": "GPxFy-KizGbK"
      },
      "execution_count": null,
      "outputs": []
    },
    {
      "cell_type": "code",
      "source": [],
      "metadata": {
        "id": "x5SApDUEudDE"
      },
      "execution_count": null,
      "outputs": []
    },
    {
      "cell_type": "code",
      "source": [
        "!pip install -U sentence-transformers"
      ],
      "metadata": {
        "id": "PxTLeAOirBsm"
      },
      "execution_count": 65,
      "outputs": []
    },
    {
      "cell_type": "code",
      "source": [
        "\n",
        "from sentence_transformers import SentenceTransformer, util\n",
        "model = SentenceTransformer('sentence-transformers/all-MiniLM-L6-v2')\n",
        "query_embedding = model.encode('How big is London')\n",
        "passage_embedding = model.encode(['London has 9,787,426 inhabitants at the 2011 census',\n",
        "                                  'London is known for its finacial district'])\n",
        "\n",
        "print(\"Similarity:\", util.cos_sim(query_embedding, passage_embedding))"
      ],
      "metadata": {
        "colab": {
          "base_uri": "https://localhost:8080/"
        },
        "id": "t-AHSpTiqpIW",
        "outputId": "f67fd67e-c355-4c80-e2b9-3c93952a327a"
      },
      "execution_count": 67,
      "outputs": [
        {
          "output_type": "stream",
          "name": "stdout",
          "text": [
            "Similarity: tensor([[0.5627, 0.5645]])\n"
          ]
        }
      ]
    },
    {
      "cell_type": "code",
      "source": [
        "\n",
        "!pip install fasttext\n"
      ],
      "metadata": {
        "colab": {
          "base_uri": "https://localhost:8080/"
        },
        "id": "LJCpWpEirpBH",
        "outputId": "7b9b1305-f453-4eca-ae6f-a2911741598d"
      },
      "execution_count": 68,
      "outputs": [
        {
          "output_type": "stream",
          "name": "stdout",
          "text": [
            "Collecting fasttext\n",
            "  Downloading fasttext-0.9.2.tar.gz (68 kB)\n",
            "\u001b[?25l     \u001b[90m━━━━━━━━━━━━━━━━━━━━━━━━━━━━━━━━━━━━━━━━\u001b[0m \u001b[32m0.0/68.8 kB\u001b[0m \u001b[31m?\u001b[0m eta \u001b[36m-:--:--\u001b[0m\r\u001b[2K     \u001b[90m━━━━━━━━━━━━━━━━━━━━━━━━━━━━━━━━━━━━━━━━\u001b[0m \u001b[32m68.8/68.8 kB\u001b[0m \u001b[31m3.2 MB/s\u001b[0m eta \u001b[36m0:00:00\u001b[0m\n",
            "\u001b[?25h  Preparing metadata (setup.py) ... \u001b[?25l\u001b[?25hdone\n",
            "Collecting pybind11>=2.2 (from fasttext)\n",
            "  Using cached pybind11-2.11.0-py3-none-any.whl (227 kB)\n",
            "Requirement already satisfied: setuptools>=0.7.0 in /usr/local/lib/python3.10/dist-packages (from fasttext) (67.7.2)\n",
            "Requirement already satisfied: numpy in /usr/local/lib/python3.10/dist-packages (from fasttext) (1.22.4)\n",
            "Building wheels for collected packages: fasttext\n",
            "  Building wheel for fasttext (setup.py) ... \u001b[?25l\u001b[?25hdone\n",
            "  Created wheel for fasttext: filename=fasttext-0.9.2-cp310-cp310-linux_x86_64.whl size=4479746 sha256=5c469aa195ae7a2edb7714e412a8e8d55d713fc1ce75b11f9d645d08bca061f5\n",
            "  Stored in directory: /root/.cache/pip/wheels/a5/13/75/f811c84a8ab36eedbaef977a6a58a98990e8e0f1967f98f394\n",
            "Successfully built fasttext\n",
            "Installing collected packages: pybind11, fasttext\n",
            "Successfully installed fasttext-0.9.2 pybind11-2.11.0\n"
          ]
        }
      ]
    },
    {
      "cell_type": "code",
      "source": [
        "import fasttext\n",
        "from huggingface_hub import hf_hub_download\n",
        "\n",
        "model_path = hf_hub_download(repo_id=\"facebook/fasttext-en-vectors\", filename=\"model.bin\")\n",
        "model2 = fasttext.load_model(model_path)\n"
      ],
      "metadata": {
        "colab": {
          "base_uri": "https://localhost:8080/",
          "height": 67,
          "referenced_widgets": [
            "7017c694b781459fb8fa7a711e16208b",
            "8815c4ffc5964e8a9379bd65db830174",
            "72c414422f86410395f0aacb3dabb9c8",
            "ecd77f43bac1415d9c7608c808042f01",
            "6c029c1f7343410caa367e7d54fd8f23",
            "897d497c1a744fcc964dc66b2143dbc8",
            "404e62a252304e2caf8f58222b16115a",
            "95d1a7241cf64be6a457b5990dcb49aa",
            "e9890839bd554677bdef77bbfc8e6e02",
            "0987646c866c48e1bea510af1f0602e1",
            "eccb886e573a47e28f6e3f2a087cfea8"
          ]
        },
        "id": "Dq9jD4JSrL6T",
        "outputId": "94d285a4-b232-4b92-a532-038eb54331b7"
      },
      "execution_count": 69,
      "outputs": [
        {
          "output_type": "display_data",
          "data": {
            "text/plain": [
              "Downloading model.bin:   0%|          | 0.00/7.24G [00:00<?, ?B/s]"
            ],
            "application/vnd.jupyter.widget-view+json": {
              "version_major": 2,
              "version_minor": 0,
              "model_id": "7017c694b781459fb8fa7a711e16208b"
            }
          },
          "metadata": {}
        },
        {
          "output_type": "stream",
          "name": "stderr",
          "text": [
            "Warning : `load_model` does not return WordVectorModel or SupervisedModel any more, but a `FastText` object which is very similar.\n"
          ]
        }
      ]
    },
    {
      "cell_type": "code",
      "source": [
        "print(\"Similarity:\", util.cos_sim(model.encode('How big is London'),  model.encode('London has 9,787,426 inhabitants at the 2011 census')))\n",
        "print(\"Similarity:\", util.cos_sim(model2.get_word_vector('How big is London'), model2.get_word_vector('London has 9,787,426 inhabitants at the 2011 census')))"
      ],
      "metadata": {
        "colab": {
          "base_uri": "https://localhost:8080/"
        },
        "id": "AKzT49YAsJD8",
        "outputId": "c7fd2ec1-11af-4164-938c-972bb6869972"
      },
      "execution_count": 71,
      "outputs": [
        {
          "output_type": "stream",
          "name": "stdout",
          "text": [
            "Similarity: tensor([[0.5627]])\n",
            "Similarity: tensor([[0.3327]])\n"
          ]
        }
      ]
    },
    {
      "cell_type": "code",
      "source": [
        "print(\"Similarity:\", util.cos_sim(model.encode('i am good'),  model.encode('i am bad')))\n",
        "print(\"Similarity:\", util.cos_sim(model2.get_word_vector('i am good'), model2.get_word_vector('i am bad')))"
      ],
      "metadata": {
        "colab": {
          "base_uri": "https://localhost:8080/"
        },
        "id": "0hWTPQTyshv-",
        "outputId": "435ad765-615f-4319-96c5-c2991b704d78"
      },
      "execution_count": 73,
      "outputs": [
        {
          "output_type": "stream",
          "name": "stdout",
          "text": [
            "Similarity: tensor([[0.6359]])\n",
            "Similarity: tensor([[0.1455]])\n"
          ]
        }
      ]
    },
    {
      "cell_type": "code",
      "source": [
        "print(\"Similarity:\", util.cos_sim(model.encode('i am good'),  model.encode('i am well')))\n",
        "print(\"Similarity:\", util.cos_sim(model2.get_word_vector('i am good'), model2.get_word_vector('i am well')))"
      ],
      "metadata": {
        "colab": {
          "base_uri": "https://localhost:8080/"
        },
        "id": "QYCaJKEbtIS4",
        "outputId": "4a621313-cad3-44ca-944a-030eac61e0a4"
      },
      "execution_count": 74,
      "outputs": [
        {
          "output_type": "stream",
          "name": "stdout",
          "text": [
            "Similarity: tensor([[0.7635]])\n",
            "Similarity: tensor([[0.3196]])\n"
          ]
        }
      ]
    },
    {
      "cell_type": "code",
      "source": [
        "print(\"Similarity:\", util.cos_sim(model.encode('good'),  model.encode('well')))\n",
        "print(\"Similarity:\", util.cos_sim(model2.get_word_vector('good'), model2.get_word_vector('well')))"
      ],
      "metadata": {
        "colab": {
          "base_uri": "https://localhost:8080/"
        },
        "id": "Ae67OobFtUpm",
        "outputId": "30a41a21-c85a-417e-c414-907932786aad"
      },
      "execution_count": 75,
      "outputs": [
        {
          "output_type": "stream",
          "name": "stdout",
          "text": [
            "Similarity: tensor([[0.6304]])\n",
            "Similarity: tensor([[0.5233]])\n"
          ]
        }
      ]
    },
    {
      "cell_type": "code",
      "source": [
        "print(\"Similarity:\", util.cos_sim(model.encode('beautiful'),  model.encode('ugly')))\n",
        "print(\"Similarity:\", util.cos_sim(model2.get_word_vector('beautiful'), model2.get_word_vector('ugly')))"
      ],
      "metadata": {
        "colab": {
          "base_uri": "https://localhost:8080/"
        },
        "id": "xCTRxS1ltdOZ",
        "outputId": "c178ab3f-e930-42eb-8d71-937df8e39f21"
      },
      "execution_count": 77,
      "outputs": [
        {
          "output_type": "stream",
          "name": "stdout",
          "text": [
            "Similarity: tensor([[0.3960]])\n",
            "Similarity: tensor([[0.4063]])\n"
          ]
        }
      ]
    },
    {
      "cell_type": "code",
      "source": [
        "print(\"Similarity:\", util.cos_sim(model.encode('car'),  model.encode('automobile')))\n",
        "print(\"Similarity:\", util.cos_sim(model2.get_word_vector('car'), model2.get_word_vector('automobile')))"
      ],
      "metadata": {
        "colab": {
          "base_uri": "https://localhost:8080/"
        },
        "id": "cu-jdxUxtzAi",
        "outputId": "ce6446ea-13b1-45a4-841a-859f097ef2e3"
      },
      "execution_count": 80,
      "outputs": [
        {
          "output_type": "stream",
          "name": "stdout",
          "text": [
            "Similarity: tensor([[0.8645]])\n",
            "Similarity: tensor([[0.7022]])\n"
          ]
        }
      ]
    },
    {
      "cell_type": "code",
      "source": [
        "model.encode('car').shape"
      ],
      "metadata": {
        "colab": {
          "base_uri": "https://localhost:8080/"
        },
        "id": "qdBq6qsWuWsA",
        "outputId": "91217a4c-150d-4575-d70e-a561fd846438"
      },
      "execution_count": 110,
      "outputs": [
        {
          "output_type": "execute_result",
          "data": {
            "text/plain": [
              "(384,)"
            ]
          },
          "metadata": {},
          "execution_count": 110
        }
      ]
    }
  ]
}