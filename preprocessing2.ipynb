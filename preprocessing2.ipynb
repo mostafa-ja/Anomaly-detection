{
  "nbformat": 4,
  "nbformat_minor": 0,
  "metadata": {
    "colab": {
      "provenance": [],
      "authorship_tag": "ABX9TyMU4pcbyR2bLe1P6m/CWJDR",
      "include_colab_link": true
    },
    "kernelspec": {
      "name": "python3",
      "display_name": "Python 3"
    },
    "language_info": {
      "name": "python"
    }
  },
  "cells": [
    {
      "cell_type": "markdown",
      "metadata": {
        "id": "view-in-github",
        "colab_type": "text"
      },
      "source": [
        "<a href=\"https://colab.research.google.com/github/mostafa-ja/Anomaly-detection/blob/main/preprocessing2.ipynb\" target=\"_parent\"><img src=\"https://colab.research.google.com/assets/colab-badge.svg\" alt=\"Open In Colab\"/></a>"
      ]
    },
    {
      "cell_type": "code",
      "execution_count": 1,
      "metadata": {
        "colab": {
          "base_uri": "https://localhost:8080/"
        },
        "id": "24_5kf6yl6yD",
        "outputId": "7b959172-22fa-4e9a-fe45-b227204d2e86"
      },
      "outputs": [
        {
          "output_type": "stream",
          "name": "stdout",
          "text": [
            "--2023-07-11 15:43:52--  https://raw.githubusercontent.com/donglee-afar/logdeep/master/data/hdfs/event2semantic_vec.json\n",
            "Resolving raw.githubusercontent.com (raw.githubusercontent.com)... 185.199.108.133, 185.199.109.133, 185.199.110.133, ...\n",
            "Connecting to raw.githubusercontent.com (raw.githubusercontent.com)|185.199.108.133|:443... connected.\n",
            "HTTP request sent, awaiting response... 200 OK\n",
            "Length: 259484 (253K) [text/plain]\n",
            "Saving to: ‘event2semantic_vec.json’\n",
            "\n",
            "\revent2semantic_vec.   0%[                    ]       0  --.-KB/s               \revent2semantic_vec. 100%[===================>] 253.40K  --.-KB/s    in 0.03s   \n",
            "\n",
            "2023-07-11 15:43:52 (7.85 MB/s) - ‘event2semantic_vec.json’ saved [259484/259484]\n",
            "\n",
            "--2023-07-11 15:43:52--  https://raw.githubusercontent.com/donglee-afar/logdeep/master/data/hdfs/hdfs_train\n",
            "Resolving raw.githubusercontent.com (raw.githubusercontent.com)... 185.199.108.133, 185.199.109.133, 185.199.110.133, ...\n",
            "Connecting to raw.githubusercontent.com (raw.githubusercontent.com)|185.199.108.133|:443... connected.\n",
            "HTTP request sent, awaiting response... 200 OK\n",
            "Length: 257875 (252K) [text/plain]\n",
            "Saving to: ‘hdfs_train’\n",
            "\n",
            "hdfs_train          100%[===================>] 251.83K  --.-KB/s    in 0.04s   \n",
            "\n",
            "2023-07-11 15:43:52 (6.73 MB/s) - ‘hdfs_train’ saved [257875/257875]\n",
            "\n",
            "--2023-07-11 15:43:52--  https://raw.githubusercontent.com/donglee-afar/logdeep/master/data/hdfs/hdfs_test_normal\n",
            "Resolving raw.githubusercontent.com (raw.githubusercontent.com)... 185.199.108.133, 185.199.109.133, 185.199.110.133, ...\n",
            "Connecting to raw.githubusercontent.com (raw.githubusercontent.com)|185.199.108.133|:443... connected.\n",
            "HTTP request sent, awaiting response... 200 OK\n",
            "Length: 29284282 (28M) [text/plain]\n",
            "Saving to: ‘hdfs_test_normal’\n",
            "\n",
            "hdfs_test_normal    100%[===================>]  27.93M   170MB/s    in 0.2s    \n",
            "\n",
            "2023-07-11 15:43:53 (170 MB/s) - ‘hdfs_test_normal’ saved [29284282/29284282]\n",
            "\n",
            "--2023-07-11 15:43:53--  https://raw.githubusercontent.com/donglee-afar/logdeep/master/data/hdfs/hdfs_test_abnormal\n",
            "Resolving raw.githubusercontent.com (raw.githubusercontent.com)... 185.199.108.133, 185.199.109.133, 185.199.110.133, ...\n",
            "Connecting to raw.githubusercontent.com (raw.githubusercontent.com)|185.199.108.133|:443... connected.\n",
            "HTTP request sent, awaiting response... 200 OK\n",
            "Length: 782479 (764K) [text/plain]\n",
            "Saving to: ‘hdfs_test_abnormal’\n",
            "\n",
            "hdfs_test_abnormal  100%[===================>] 764.14K  --.-KB/s    in 0.06s   \n",
            "\n",
            "2023-07-11 15:43:53 (12.3 MB/s) - ‘hdfs_test_abnormal’ saved [782479/782479]\n",
            "\n"
          ]
        }
      ],
      "source": [
        "# download datasets\n",
        "! wget 'https://raw.githubusercontent.com/donglee-afar/logdeep/master/data/hdfs/event2semantic_vec.json'\n",
        "! wget 'https://raw.githubusercontent.com/donglee-afar/logdeep/master/data/hdfs/hdfs_train'\n",
        "! wget 'https://raw.githubusercontent.com/donglee-afar/logdeep/master/data/hdfs/hdfs_test_normal'\n",
        "! wget 'https://raw.githubusercontent.com/donglee-afar/logdeep/master/data/hdfs/hdfs_test_abnormal'"
      ]
    },
    {
      "cell_type": "code",
      "source": [
        "import json\n",
        "from collections import Counter\n",
        "\n",
        "import numpy as np\n",
        "import pandas as pd\n",
        "from tqdm import tqdm\n"
      ],
      "metadata": {
        "id": "gxxiTnc_nLD7"
      },
      "execution_count": 2,
      "outputs": []
    },
    {
      "cell_type": "code",
      "source": [
        "with open('/content/event2semantic_vec.json', 'r') as load_f:\n",
        "  event2semantic_vec  = json.load(load_f) #it is a dictionary, for exaple, first template is '0'and each templates is 300 demension"
      ],
      "metadata": {
        "id": "JZJp0mEKoZL4"
      },
      "execution_count": 4,
      "outputs": []
    },
    {
      "cell_type": "code",
      "source": [
        "len(event2semantic_vec)"
      ],
      "metadata": {
        "colab": {
          "base_uri": "https://localhost:8080/"
        },
        "id": "QXe8Sd0sonY4",
        "outputId": "2414f5d7-6ed0-4fcd-b996-d893b57485aa"
      },
      "execution_count": 6,
      "outputs": [
        {
          "output_type": "execute_result",
          "data": {
            "text/plain": [
              "29"
            ]
          },
          "metadata": {},
          "execution_count": 6
        }
      ]
    },
    {
      "cell_type": "code",
      "source": [
        "len(event2semantic_vec['0'])"
      ],
      "metadata": {
        "colab": {
          "base_uri": "https://localhost:8080/"
        },
        "id": "RAPiqrvxoyqI",
        "outputId": "ea737212-707b-4220-bcd4-70b33e2a4db2"
      },
      "execution_count": 11,
      "outputs": [
        {
          "output_type": "execute_result",
          "data": {
            "text/plain": [
              "300"
            ]
          },
          "metadata": {},
          "execution_count": 11
        }
      ]
    },
    {
      "cell_type": "code",
      "source": [
        "num_sessions = 0\n",
        "result_logs = {}\n",
        "result_logs['Sequentials'] = []\n",
        "result_logs['Quantitatives'] = []\n",
        "result_logs['Semantics'] = []\n",
        "labels = []\n",
        "\n",
        "with open('/content/hdfs_train', 'r') as f:\n",
        "    for line in f:\n",
        "        num_sessions += 1\n",
        "        line = [int(i) - 1 for i in line.strip().split()] # we substract by one from templates index for starting from zero\n",
        ""
      ],
      "metadata": {
        "id": "xVlP6yDbpTS9"
      },
      "execution_count": null,
      "outputs": []
    }
  ]
}