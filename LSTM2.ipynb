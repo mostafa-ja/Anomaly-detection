{
  "nbformat": 4,
  "nbformat_minor": 0,
  "metadata": {
    "colab": {
      "provenance": [],
      "gpuType": "T4",
      "authorship_tag": "ABX9TyOgLa9hke2LAgYDI2gMQgBA",
      "include_colab_link": true
    },
    "kernelspec": {
      "name": "python3",
      "display_name": "Python 3"
    },
    "language_info": {
      "name": "python"
    },
    "accelerator": "GPU"
  },
  "cells": [
    {
      "cell_type": "markdown",
      "metadata": {
        "id": "view-in-github",
        "colab_type": "text"
      },
      "source": [
        "<a href=\"https://colab.research.google.com/github/mostafa-ja/Anomaly-detection/blob/main/LSTM2.ipynb\" target=\"_parent\"><img src=\"https://colab.research.google.com/assets/colab-badge.svg\" alt=\"Open In Colab\"/></a>"
      ]
    },
    {
      "cell_type": "code",
      "execution_count": 28,
      "metadata": {
        "colab": {
          "base_uri": "https://localhost:8080/"
        },
        "id": "4Z7U4p6skT_u",
        "outputId": "72ab6a8f-def6-49f9-a38c-70d42e097f3b"
      },
      "outputs": [
        {
          "output_type": "stream",
          "name": "stdout",
          "text": [
            "--2023-07-19 19:59:45--  https://raw.githubusercontent.com/donglee-afar/logdeep/master/data/hdfs/hdfs_train\n",
            "Resolving raw.githubusercontent.com (raw.githubusercontent.com)... 185.199.109.133, 185.199.108.133, 185.199.111.133, ...\n",
            "Connecting to raw.githubusercontent.com (raw.githubusercontent.com)|185.199.109.133|:443... connected.\n",
            "HTTP request sent, awaiting response... 200 OK\n",
            "Length: 257875 (252K) [text/plain]\n",
            "Saving to: ‘hdfs_train.3’\n",
            "\n",
            "\rhdfs_train.3          0%[                    ]       0  --.-KB/s               \rhdfs_train.3        100%[===================>] 251.83K  --.-KB/s    in 0.009s  \n",
            "\n",
            "2023-07-19 19:59:45 (27.4 MB/s) - ‘hdfs_train.3’ saved [257875/257875]\n",
            "\n",
            "--2023-07-19 19:59:45--  https://raw.githubusercontent.com/donglee-afar/logdeep/master/data/hdfs/hdfs_test_normal\n",
            "Resolving raw.githubusercontent.com (raw.githubusercontent.com)... 185.199.109.133, 185.199.108.133, 185.199.111.133, ...\n",
            "Connecting to raw.githubusercontent.com (raw.githubusercontent.com)|185.199.109.133|:443... connected.\n",
            "HTTP request sent, awaiting response... 200 OK\n",
            "Length: 29284282 (28M) [text/plain]\n",
            "Saving to: ‘hdfs_test_normal.3’\n",
            "\n",
            "hdfs_test_normal.3  100%[===================>]  27.93M  --.-KB/s    in 0.07s   \n",
            "\n",
            "2023-07-19 19:59:45 (381 MB/s) - ‘hdfs_test_normal.3’ saved [29284282/29284282]\n",
            "\n",
            "--2023-07-19 19:59:45--  https://raw.githubusercontent.com/donglee-afar/logdeep/master/data/hdfs/hdfs_test_abnormal\n",
            "Resolving raw.githubusercontent.com (raw.githubusercontent.com)... 185.199.111.133, 185.199.108.133, 185.199.109.133, ...\n",
            "Connecting to raw.githubusercontent.com (raw.githubusercontent.com)|185.199.111.133|:443... connected.\n",
            "HTTP request sent, awaiting response... 200 OK\n",
            "Length: 782479 (764K) [text/plain]\n",
            "Saving to: ‘hdfs_test_abnormal.3’\n",
            "\n",
            "hdfs_test_abnormal. 100%[===================>] 764.14K  --.-KB/s    in 0.01s   \n",
            "\n",
            "2023-07-19 19:59:45 (56.6 MB/s) - ‘hdfs_test_abnormal.3’ saved [782479/782479]\n",
            "\n"
          ]
        }
      ],
      "source": [
        "# download datasets\n",
        "!wget 'https://raw.githubusercontent.com/donglee-afar/logdeep/master/data/hdfs/hdfs_train'\n",
        "!wget 'https://raw.githubusercontent.com/donglee-afar/logdeep/master/data/hdfs/hdfs_test_normal'\n",
        "!wget 'https://raw.githubusercontent.com/donglee-afar/logdeep/master/data/hdfs/hdfs_test_abnormal'"
      ]
    },
    {
      "cell_type": "code",
      "source": [
        "import time\n",
        "import torch\n",
        "import torch.nn as nn\n",
        "import torch.optim as optim\n",
        "from torch.utils.tensorboard import SummaryWriter\n",
        "from torch.utils.data import TensorDataset, DataLoader\n",
        "import os\n",
        "import numpy as np\n",
        "\n",
        "# Device configuration\n",
        "device = torch.device(\"cuda\" if torch.cuda.is_available() else \"cpu\")"
      ],
      "metadata": {
        "id": "rNI34FVblAMn"
      },
      "execution_count": 29,
      "outputs": []
    },
    {
      "cell_type": "code",
      "source": [
        "n_templates = 28 #total number of unique templates\n",
        "\n",
        "def template_to_tensor(template):\n",
        "    tensor = [0] * n_templates\n",
        "    if template != -1 :    # we put template= -1 for session less than windows_size in empty part and it will be all zero\n",
        "      tensor[template] = 1\n",
        "    return tensor"
      ],
      "metadata": {
        "id": "kq5LGA7NrsgN"
      },
      "execution_count": 30,
      "outputs": []
    },
    {
      "cell_type": "code",
      "source": [
        "window_size = 10\n",
        "inputs = []\n",
        "outputs = []\n",
        "row = '1 2 3 4 '\n",
        "line = [int(i) - 1 for i in row.strip().split()] # we substract by one from templates index for starting from zero\n",
        "line = line + [-1] * (window_size + 1 - len(line)) #if the length of the line is less than windows size, it covers by new defined template 28\n",
        "for i in range(len(line) - window_size):\n",
        "    inputs.append(line[i:i + window_size])\n",
        "    outputs.append(line[i + window_size])\n",
        "\n",
        "print(inputs)\n",
        "print(outputs)"
      ],
      "metadata": {
        "colab": {
          "base_uri": "https://localhost:8080/"
        },
        "id": "Y9mgogXPn1DY",
        "outputId": "c2cb3bbc-c7b0-4f4d-ce73-1f8177bf6778"
      },
      "execution_count": 31,
      "outputs": [
        {
          "output_type": "stream",
          "name": "stdout",
          "text": [
            "[[0, 1, 2, 3, -1, -1, -1, -1, -1, -1]]\n",
            "[-1]\n"
          ]
        }
      ]
    },
    {
      "cell_type": "code",
      "source": [
        "window_size = 10\n",
        "inputs = []\n",
        "outputs = []\n",
        "row = '1 2 3 4 '\n",
        "line = [int(i) - 1 for i in row.strip().split()] # we substract by one from templates index for starting from zero\n",
        "line = line + [-1] * (window_size + 1 - len(line)) #if the length of the line is less than windows size, it covers by new defined template 28\n",
        "line = [template_to_tensor(i) for i in line]\n",
        "for i in range(len(line) - window_size):\n",
        "    inputs.append(line[i:i + window_size])\n",
        "    outputs.append(line[i + window_size])\n",
        "\n",
        "print(inputs)\n",
        "print(outputs)"
      ],
      "metadata": {
        "colab": {
          "base_uri": "https://localhost:8080/"
        },
        "id": "NgKn67fRmtV9",
        "outputId": "9aa66917-32fc-4570-ab7d-d358b3bdefbe"
      },
      "execution_count": 32,
      "outputs": [
        {
          "output_type": "stream",
          "name": "stdout",
          "text": [
            "[[[1, 0, 0, 0, 0, 0, 0, 0, 0, 0, 0, 0, 0, 0, 0, 0, 0, 0, 0, 0, 0, 0, 0, 0, 0, 0, 0, 0], [0, 1, 0, 0, 0, 0, 0, 0, 0, 0, 0, 0, 0, 0, 0, 0, 0, 0, 0, 0, 0, 0, 0, 0, 0, 0, 0, 0], [0, 0, 1, 0, 0, 0, 0, 0, 0, 0, 0, 0, 0, 0, 0, 0, 0, 0, 0, 0, 0, 0, 0, 0, 0, 0, 0, 0], [0, 0, 0, 1, 0, 0, 0, 0, 0, 0, 0, 0, 0, 0, 0, 0, 0, 0, 0, 0, 0, 0, 0, 0, 0, 0, 0, 0], [0, 0, 0, 0, 0, 0, 0, 0, 0, 0, 0, 0, 0, 0, 0, 0, 0, 0, 0, 0, 0, 0, 0, 0, 0, 0, 0, 0], [0, 0, 0, 0, 0, 0, 0, 0, 0, 0, 0, 0, 0, 0, 0, 0, 0, 0, 0, 0, 0, 0, 0, 0, 0, 0, 0, 0], [0, 0, 0, 0, 0, 0, 0, 0, 0, 0, 0, 0, 0, 0, 0, 0, 0, 0, 0, 0, 0, 0, 0, 0, 0, 0, 0, 0], [0, 0, 0, 0, 0, 0, 0, 0, 0, 0, 0, 0, 0, 0, 0, 0, 0, 0, 0, 0, 0, 0, 0, 0, 0, 0, 0, 0], [0, 0, 0, 0, 0, 0, 0, 0, 0, 0, 0, 0, 0, 0, 0, 0, 0, 0, 0, 0, 0, 0, 0, 0, 0, 0, 0, 0], [0, 0, 0, 0, 0, 0, 0, 0, 0, 0, 0, 0, 0, 0, 0, 0, 0, 0, 0, 0, 0, 0, 0, 0, 0, 0, 0, 0]]]\n",
            "[[0, 0, 0, 0, 0, 0, 0, 0, 0, 0, 0, 0, 0, 0, 0, 0, 0, 0, 0, 0, 0, 0, 0, 0, 0, 0, 0, 0]]\n"
          ]
        }
      ]
    },
    {
      "cell_type": "code",
      "source": [
        "name = 'hdfs_train'\n",
        "window_size = 10\n",
        "num_sessions = 0\n",
        "inputs = []\n",
        "outputs = []\n",
        "\n",
        "with open('/content/' + name, 'r') as f:\n",
        "        for row in f:\n",
        "            num_sessions += 1\n",
        "            line = [int(i) - 1 for i in row.strip().split()] # we substract by one from templates index for starting from zero\n",
        "            if len(line)<11:\n",
        "              print(line)\n",
        "            line = line + [-1] * (window_size + 1 - len(line)) #if the length of the line is less than windows size, it covers by new defined template 28\n",
        "            line = [template_to_tensor(i) for i in line]\n",
        "            for i in range(len(line) - window_size):\n",
        "                inputs.append(line[i:i + window_size])\n",
        "                outputs.append(line[i + window_size])\n",
        "\n",
        "print('Number of sessions({}): {}'.format(name, num_sessions))\n",
        "print('Number of seqs({}): {}'.format(name, len(inputs)))\n",
        "dataset = TensorDataset(torch.tensor(inputs, dtype=torch.float), torch.tensor(outputs,dtype=torch.float ))"
      ],
      "metadata": {
        "colab": {
          "base_uri": "https://localhost:8080/"
        },
        "id": "2EMsKC8NthzK",
        "outputId": "34a41070-2eb7-4b6f-da78-d69546a10a63"
      },
      "execution_count": 42,
      "outputs": [
        {
          "output_type": "stream",
          "name": "stdout",
          "text": [
            "Number of sessions(hdfs_train): 4855\n",
            "Number of seqs(hdfs_train): 46575\n"
          ]
        }
      ]
    },
    {
      "cell_type": "code",
      "source": [
        "class Model(nn.Module):\n",
        "    def __init__(self, input_size, hidden_size, num_layers, num_classes):\n",
        "        super(Model, self).__init__()\n",
        "        self.hidden_size = hidden_size\n",
        "        self.num_layers = num_layers\n",
        "        self.lstm = nn.LSTM(input_size, hidden_size, num_layers, batch_first=True)\n",
        "        self.fc = nn.Linear(hidden_size, num_classes)\n",
        "\n",
        "    def forward(self, x):\n",
        "        h0 = torch.zeros(self.num_layers, x.size(0), self.hidden_size).to(device)\n",
        "        c0 = torch.zeros(self.num_layers, x.size(0), self.hidden_size).to(device)\n",
        "        out, _ = self.lstm(x, (h0, c0))  # out.shape : [batch_size, sequence_length, hidden_size]\n",
        "        out = self.fc(out[:, -1, :]) #The : before , -1, : indicates that we want to include all elements along the first dimension (batch dimension). -1 represents the index of the last element along the second dimension (sequence length). : after , -1 indicates that we want to include all elements along the third dimension (hidden size)\n",
        "        return out"
      ],
      "metadata": {
        "id": "Pck9q_A7uV47"
      },
      "execution_count": 34,
      "outputs": []
    },
    {
      "cell_type": "code",
      "source": [
        "input_size = 28 # means each input has one feature(template's code)\n",
        "num_layers = 2\n",
        "hidden_size = 64\n",
        "num_classes = 28\n",
        "batch_size = 2048\n",
        "num_epochs = 300\n",
        "model_dir = 'model'"
      ],
      "metadata": {
        "id": "fbnCcSOiudxf"
      },
      "execution_count": 35,
      "outputs": []
    },
    {
      "cell_type": "code",
      "source": [
        "model = Model(input_size, hidden_size, num_layers, num_classes).to(device)\n",
        "dataloader = DataLoader(dataset, batch_size=batch_size, shuffle=True, pin_memory=True)\n",
        "\n",
        "# Loss and optimizer\n",
        "criterion = nn.CrossEntropyLoss()\n",
        "optimizer = optim.Adam(model.parameters())"
      ],
      "metadata": {
        "id": "EV1cKoL2uj7I"
      },
      "execution_count": 36,
      "outputs": []
    },
    {
      "cell_type": "code",
      "source": [
        "# Train the model\n",
        "start_time = time.time()\n",
        "total_step = len(dataloader)\n",
        "for epoch in range(num_epochs):  # Loop over the dataset multiple times\n",
        "    train_loss = 0\n",
        "    for step, (seq, label) in enumerate(dataloader):\n",
        "        # Forward pass\n",
        "        seq = seq.clone().detach().view(-1, window_size, input_size).to(device)\n",
        "        output = model(seq)\n",
        "        loss = criterion(output, label.to(device))\n",
        "\n",
        "        # Backward and optimize\n",
        "        optimizer.zero_grad()\n",
        "        loss.backward()\n",
        "        train_loss += loss.item()\n",
        "        optimizer.step()\n",
        "    print('Epoch [{}/{}], train_loss: {:.4f}'.format(epoch + 1, num_epochs, train_loss / total_step))\n",
        "elapsed_time = time.time() - start_time\n",
        "print('elapsed_time: {:.3f}s'.format(elapsed_time))\n",
        "print('Finished Training')"
      ],
      "metadata": {
        "colab": {
          "base_uri": "https://localhost:8080/"
        },
        "id": "nWAjr1QOvB-n",
        "outputId": "6283ffbf-2eed-4450-c852-9a439244c757"
      },
      "execution_count": 37,
      "outputs": [
        {
          "output_type": "stream",
          "name": "stdout",
          "text": [
            "Epoch [1/300], train_loss: 3.0254\n",
            "Epoch [2/300], train_loss: 1.9258\n",
            "Epoch [3/300], train_loss: 1.8150\n",
            "Epoch [4/300], train_loss: 1.8064\n",
            "Epoch [5/300], train_loss: 1.7902\n",
            "Epoch [6/300], train_loss: 1.6996\n",
            "Epoch [7/300], train_loss: 1.4445\n",
            "Epoch [8/300], train_loss: 1.1754\n",
            "Epoch [9/300], train_loss: 0.9764\n",
            "Epoch [10/300], train_loss: 0.8460\n",
            "Epoch [11/300], train_loss: 0.7777\n",
            "Epoch [12/300], train_loss: 0.7354\n",
            "Epoch [13/300], train_loss: 0.6956\n",
            "Epoch [14/300], train_loss: 0.6622\n",
            "Epoch [15/300], train_loss: 0.6295\n",
            "Epoch [16/300], train_loss: 0.5886\n",
            "Epoch [17/300], train_loss: 0.5558\n",
            "Epoch [18/300], train_loss: 0.5298\n",
            "Epoch [19/300], train_loss: 0.5058\n",
            "Epoch [20/300], train_loss: 0.4819\n",
            "Epoch [21/300], train_loss: 0.4574\n",
            "Epoch [22/300], train_loss: 0.4390\n",
            "Epoch [23/300], train_loss: 0.4241\n",
            "Epoch [24/300], train_loss: 0.4092\n",
            "Epoch [25/300], train_loss: 0.3973\n",
            "Epoch [26/300], train_loss: 0.3898\n",
            "Epoch [27/300], train_loss: 0.3859\n",
            "Epoch [28/300], train_loss: 0.3810\n",
            "Epoch [29/300], train_loss: 0.3765\n",
            "Epoch [30/300], train_loss: 0.3718\n",
            "Epoch [31/300], train_loss: 0.3676\n",
            "Epoch [32/300], train_loss: 0.3620\n",
            "Epoch [33/300], train_loss: 0.3571\n",
            "Epoch [34/300], train_loss: 0.3509\n",
            "Epoch [35/300], train_loss: 0.3449\n",
            "Epoch [36/300], train_loss: 0.3428\n",
            "Epoch [37/300], train_loss: 0.3368\n",
            "Epoch [38/300], train_loss: 0.3306\n",
            "Epoch [39/300], train_loss: 0.3259\n",
            "Epoch [40/300], train_loss: 0.3206\n",
            "Epoch [41/300], train_loss: 0.3161\n",
            "Epoch [42/300], train_loss: 0.3123\n",
            "Epoch [43/300], train_loss: 0.3089\n",
            "Epoch [44/300], train_loss: 0.3033\n",
            "Epoch [45/300], train_loss: 0.2992\n",
            "Epoch [46/300], train_loss: 0.2952\n",
            "Epoch [47/300], train_loss: 0.2911\n",
            "Epoch [48/300], train_loss: 0.2886\n",
            "Epoch [49/300], train_loss: 0.2847\n",
            "Epoch [50/300], train_loss: 0.2825\n",
            "Epoch [51/300], train_loss: 0.2796\n",
            "Epoch [52/300], train_loss: 0.2773\n",
            "Epoch [53/300], train_loss: 0.2760\n",
            "Epoch [54/300], train_loss: 0.2734\n",
            "Epoch [55/300], train_loss: 0.2710\n",
            "Epoch [56/300], train_loss: 0.2705\n",
            "Epoch [57/300], train_loss: 0.2681\n",
            "Epoch [58/300], train_loss: 0.2657\n",
            "Epoch [59/300], train_loss: 0.2635\n",
            "Epoch [60/300], train_loss: 0.2614\n",
            "Epoch [61/300], train_loss: 0.2593\n",
            "Epoch [62/300], train_loss: 0.2584\n",
            "Epoch [63/300], train_loss: 0.2556\n",
            "Epoch [64/300], train_loss: 0.2519\n",
            "Epoch [65/300], train_loss: 0.2505\n",
            "Epoch [66/300], train_loss: 0.2494\n",
            "Epoch [67/300], train_loss: 0.2464\n",
            "Epoch [68/300], train_loss: 0.2462\n",
            "Epoch [69/300], train_loss: 0.2448\n",
            "Epoch [70/300], train_loss: 0.2425\n",
            "Epoch [71/300], train_loss: 0.2435\n",
            "Epoch [72/300], train_loss: 0.2419\n",
            "Epoch [73/300], train_loss: 0.2396\n",
            "Epoch [74/300], train_loss: 0.2372\n",
            "Epoch [75/300], train_loss: 0.2362\n",
            "Epoch [76/300], train_loss: 0.2363\n",
            "Epoch [77/300], train_loss: 0.2355\n",
            "Epoch [78/300], train_loss: 0.2337\n",
            "Epoch [79/300], train_loss: 0.2326\n",
            "Epoch [80/300], train_loss: 0.2316\n",
            "Epoch [81/300], train_loss: 0.2315\n",
            "Epoch [82/300], train_loss: 0.2307\n",
            "Epoch [83/300], train_loss: 0.2293\n",
            "Epoch [84/300], train_loss: 0.2286\n",
            "Epoch [85/300], train_loss: 0.2285\n",
            "Epoch [86/300], train_loss: 0.2283\n",
            "Epoch [87/300], train_loss: 0.2282\n",
            "Epoch [88/300], train_loss: 0.2279\n",
            "Epoch [89/300], train_loss: 0.2252\n",
            "Epoch [90/300], train_loss: 0.2243\n",
            "Epoch [91/300], train_loss: 0.2252\n",
            "Epoch [92/300], train_loss: 0.2244\n",
            "Epoch [93/300], train_loss: 0.2230\n",
            "Epoch [94/300], train_loss: 0.2231\n",
            "Epoch [95/300], train_loss: 0.2250\n",
            "Epoch [96/300], train_loss: 0.2226\n",
            "Epoch [97/300], train_loss: 0.2207\n",
            "Epoch [98/300], train_loss: 0.2206\n",
            "Epoch [99/300], train_loss: 0.2200\n",
            "Epoch [100/300], train_loss: 0.2204\n",
            "Epoch [101/300], train_loss: 0.2194\n",
            "Epoch [102/300], train_loss: 0.2187\n",
            "Epoch [103/300], train_loss: 0.2191\n",
            "Epoch [104/300], train_loss: 0.2179\n",
            "Epoch [105/300], train_loss: 0.2179\n",
            "Epoch [106/300], train_loss: 0.2160\n",
            "Epoch [107/300], train_loss: 0.2162\n",
            "Epoch [108/300], train_loss: 0.2151\n",
            "Epoch [109/300], train_loss: 0.2162\n",
            "Epoch [110/300], train_loss: 0.2149\n",
            "Epoch [111/300], train_loss: 0.2141\n",
            "Epoch [112/300], train_loss: 0.2141\n",
            "Epoch [113/300], train_loss: 0.2152\n",
            "Epoch [114/300], train_loss: 0.2152\n",
            "Epoch [115/300], train_loss: 0.2122\n",
            "Epoch [116/300], train_loss: 0.2134\n",
            "Epoch [117/300], train_loss: 0.2120\n",
            "Epoch [118/300], train_loss: 0.2112\n",
            "Epoch [119/300], train_loss: 0.2109\n",
            "Epoch [120/300], train_loss: 0.2107\n",
            "Epoch [121/300], train_loss: 0.2105\n",
            "Epoch [122/300], train_loss: 0.2115\n",
            "Epoch [123/300], train_loss: 0.2107\n",
            "Epoch [124/300], train_loss: 0.2093\n",
            "Epoch [125/300], train_loss: 0.2117\n",
            "Epoch [126/300], train_loss: 0.2103\n",
            "Epoch [127/300], train_loss: 0.2101\n",
            "Epoch [128/300], train_loss: 0.2101\n",
            "Epoch [129/300], train_loss: 0.2090\n",
            "Epoch [130/300], train_loss: 0.2085\n",
            "Epoch [131/300], train_loss: 0.2072\n",
            "Epoch [132/300], train_loss: 0.2098\n",
            "Epoch [133/300], train_loss: 0.2087\n",
            "Epoch [134/300], train_loss: 0.2077\n",
            "Epoch [135/300], train_loss: 0.2083\n",
            "Epoch [136/300], train_loss: 0.2066\n",
            "Epoch [137/300], train_loss: 0.2075\n",
            "Epoch [138/300], train_loss: 0.2060\n",
            "Epoch [139/300], train_loss: 0.2057\n",
            "Epoch [140/300], train_loss: 0.2083\n",
            "Epoch [141/300], train_loss: 0.2097\n",
            "Epoch [142/300], train_loss: 0.2071\n",
            "Epoch [143/300], train_loss: 0.2074\n",
            "Epoch [144/300], train_loss: 0.2054\n",
            "Epoch [145/300], train_loss: 0.2058\n",
            "Epoch [146/300], train_loss: 0.2059\n",
            "Epoch [147/300], train_loss: 0.2049\n",
            "Epoch [148/300], train_loss: 0.2056\n",
            "Epoch [149/300], train_loss: 0.2054\n",
            "Epoch [150/300], train_loss: 0.2046\n",
            "Epoch [151/300], train_loss: 0.2045\n",
            "Epoch [152/300], train_loss: 0.2048\n",
            "Epoch [153/300], train_loss: 0.2050\n",
            "Epoch [154/300], train_loss: 0.2046\n",
            "Epoch [155/300], train_loss: 0.2032\n",
            "Epoch [156/300], train_loss: 0.2027\n",
            "Epoch [157/300], train_loss: 0.2029\n",
            "Epoch [158/300], train_loss: 0.2027\n",
            "Epoch [159/300], train_loss: 0.2035\n",
            "Epoch [160/300], train_loss: 0.2032\n",
            "Epoch [161/300], train_loss: 0.2027\n",
            "Epoch [162/300], train_loss: 0.2030\n",
            "Epoch [163/300], train_loss: 0.2024\n",
            "Epoch [164/300], train_loss: 0.2023\n",
            "Epoch [165/300], train_loss: 0.2017\n",
            "Epoch [166/300], train_loss: 0.2017\n",
            "Epoch [167/300], train_loss: 0.2011\n",
            "Epoch [168/300], train_loss: 0.2017\n",
            "Epoch [169/300], train_loss: 0.2025\n",
            "Epoch [170/300], train_loss: 0.2030\n",
            "Epoch [171/300], train_loss: 0.2012\n",
            "Epoch [172/300], train_loss: 0.2011\n",
            "Epoch [173/300], train_loss: 0.2004\n",
            "Epoch [174/300], train_loss: 0.2005\n",
            "Epoch [175/300], train_loss: 0.2011\n",
            "Epoch [176/300], train_loss: 0.2009\n",
            "Epoch [177/300], train_loss: 0.2000\n",
            "Epoch [178/300], train_loss: 0.1998\n",
            "Epoch [179/300], train_loss: 0.1998\n",
            "Epoch [180/300], train_loss: 0.1990\n",
            "Epoch [181/300], train_loss: 0.2000\n",
            "Epoch [182/300], train_loss: 0.1998\n",
            "Epoch [183/300], train_loss: 0.2003\n",
            "Epoch [184/300], train_loss: 0.2000\n",
            "Epoch [185/300], train_loss: 0.2001\n",
            "Epoch [186/300], train_loss: 0.2000\n",
            "Epoch [187/300], train_loss: 0.2003\n",
            "Epoch [188/300], train_loss: 0.1987\n",
            "Epoch [189/300], train_loss: 0.1986\n",
            "Epoch [190/300], train_loss: 0.1992\n",
            "Epoch [191/300], train_loss: 0.1986\n",
            "Epoch [192/300], train_loss: 0.1981\n",
            "Epoch [193/300], train_loss: 0.1985\n",
            "Epoch [194/300], train_loss: 0.1976\n",
            "Epoch [195/300], train_loss: 0.1981\n",
            "Epoch [196/300], train_loss: 0.1983\n",
            "Epoch [197/300], train_loss: 0.1984\n",
            "Epoch [198/300], train_loss: 0.1974\n",
            "Epoch [199/300], train_loss: 0.1980\n",
            "Epoch [200/300], train_loss: 0.1985\n",
            "Epoch [201/300], train_loss: 0.1979\n",
            "Epoch [202/300], train_loss: 0.1979\n",
            "Epoch [203/300], train_loss: 0.1977\n",
            "Epoch [204/300], train_loss: 0.1974\n",
            "Epoch [205/300], train_loss: 0.1973\n",
            "Epoch [206/300], train_loss: 0.1977\n",
            "Epoch [207/300], train_loss: 0.1974\n",
            "Epoch [208/300], train_loss: 0.1982\n",
            "Epoch [209/300], train_loss: 0.1983\n",
            "Epoch [210/300], train_loss: 0.1975\n",
            "Epoch [211/300], train_loss: 0.1983\n",
            "Epoch [212/300], train_loss: 0.1974\n",
            "Epoch [213/300], train_loss: 0.1967\n",
            "Epoch [214/300], train_loss: 0.1965\n",
            "Epoch [215/300], train_loss: 0.1960\n",
            "Epoch [216/300], train_loss: 0.1971\n",
            "Epoch [217/300], train_loss: 0.1961\n",
            "Epoch [218/300], train_loss: 0.1981\n",
            "Epoch [219/300], train_loss: 0.1968\n",
            "Epoch [220/300], train_loss: 0.1962\n",
            "Epoch [221/300], train_loss: 0.1960\n",
            "Epoch [222/300], train_loss: 0.1957\n",
            "Epoch [223/300], train_loss: 0.1959\n",
            "Epoch [224/300], train_loss: 0.1955\n",
            "Epoch [225/300], train_loss: 0.1965\n",
            "Epoch [226/300], train_loss: 0.1960\n",
            "Epoch [227/300], train_loss: 0.1958\n",
            "Epoch [228/300], train_loss: 0.1957\n",
            "Epoch [229/300], train_loss: 0.1958\n",
            "Epoch [230/300], train_loss: 0.1950\n",
            "Epoch [231/300], train_loss: 0.1953\n",
            "Epoch [232/300], train_loss: 0.1959\n",
            "Epoch [233/300], train_loss: 0.1955\n",
            "Epoch [234/300], train_loss: 0.1948\n",
            "Epoch [235/300], train_loss: 0.1957\n",
            "Epoch [236/300], train_loss: 0.1949\n",
            "Epoch [237/300], train_loss: 0.1950\n",
            "Epoch [238/300], train_loss: 0.1949\n",
            "Epoch [239/300], train_loss: 0.1951\n",
            "Epoch [240/300], train_loss: 0.1959\n",
            "Epoch [241/300], train_loss: 0.1952\n",
            "Epoch [242/300], train_loss: 0.1939\n",
            "Epoch [243/300], train_loss: 0.1939\n",
            "Epoch [244/300], train_loss: 0.1948\n",
            "Epoch [245/300], train_loss: 0.1944\n",
            "Epoch [246/300], train_loss: 0.1940\n",
            "Epoch [247/300], train_loss: 0.1941\n",
            "Epoch [248/300], train_loss: 0.1946\n",
            "Epoch [249/300], train_loss: 0.1942\n",
            "Epoch [250/300], train_loss: 0.1930\n",
            "Epoch [251/300], train_loss: 0.1932\n",
            "Epoch [252/300], train_loss: 0.1943\n",
            "Epoch [253/300], train_loss: 0.1938\n",
            "Epoch [254/300], train_loss: 0.1941\n",
            "Epoch [255/300], train_loss: 0.1935\n",
            "Epoch [256/300], train_loss: 0.1928\n",
            "Epoch [257/300], train_loss: 0.1935\n",
            "Epoch [258/300], train_loss: 0.1932\n",
            "Epoch [259/300], train_loss: 0.1933\n",
            "Epoch [260/300], train_loss: 0.1932\n",
            "Epoch [261/300], train_loss: 0.1932\n",
            "Epoch [262/300], train_loss: 0.1929\n",
            "Epoch [263/300], train_loss: 0.1933\n",
            "Epoch [264/300], train_loss: 0.1939\n",
            "Epoch [265/300], train_loss: 0.1930\n",
            "Epoch [266/300], train_loss: 0.1935\n",
            "Epoch [267/300], train_loss: 0.1942\n",
            "Epoch [268/300], train_loss: 0.1932\n",
            "Epoch [269/300], train_loss: 0.1936\n",
            "Epoch [270/300], train_loss: 0.1930\n",
            "Epoch [271/300], train_loss: 0.1920\n",
            "Epoch [272/300], train_loss: 0.1925\n",
            "Epoch [273/300], train_loss: 0.1920\n",
            "Epoch [274/300], train_loss: 0.1917\n",
            "Epoch [275/300], train_loss: 0.1925\n",
            "Epoch [276/300], train_loss: 0.1919\n",
            "Epoch [277/300], train_loss: 0.1919\n",
            "Epoch [278/300], train_loss: 0.1921\n",
            "Epoch [279/300], train_loss: 0.1916\n",
            "Epoch [280/300], train_loss: 0.1914\n",
            "Epoch [281/300], train_loss: 0.1918\n",
            "Epoch [282/300], train_loss: 0.1919\n",
            "Epoch [283/300], train_loss: 0.1911\n",
            "Epoch [284/300], train_loss: 0.1914\n",
            "Epoch [285/300], train_loss: 0.1919\n",
            "Epoch [286/300], train_loss: 0.1914\n",
            "Epoch [287/300], train_loss: 0.1909\n",
            "Epoch [288/300], train_loss: 0.1911\n",
            "Epoch [289/300], train_loss: 0.1915\n",
            "Epoch [290/300], train_loss: 0.1911\n",
            "Epoch [291/300], train_loss: 0.1908\n",
            "Epoch [292/300], train_loss: 0.1906\n",
            "Epoch [293/300], train_loss: 0.1911\n",
            "Epoch [294/300], train_loss: 0.1911\n",
            "Epoch [295/300], train_loss: 0.1912\n",
            "Epoch [296/300], train_loss: 0.1910\n",
            "Epoch [297/300], train_loss: 0.1918\n",
            "Epoch [298/300], train_loss: 0.1924\n",
            "Epoch [299/300], train_loss: 0.1914\n",
            "Epoch [300/300], train_loss: 0.1912\n",
            "elapsed_time: 226.492s\n",
            "Finished Training\n"
          ]
        }
      ]
    },
    {
      "cell_type": "code",
      "source": [
        "num_candidates = 9 # on paper is g , top-g(here top 9) probabilities to appear next are considered normal\n"
      ],
      "metadata": {
        "id": "MOkcg6QZssbC"
      },
      "execution_count": 38,
      "outputs": []
    },
    {
      "cell_type": "code",
      "source": [
        "def generate(name):\n",
        "    # If you what to replicate the DeepLog paper results(Actually, I have a better result than DeepLog paper results),\n",
        "    # you should use the 'list' not 'set' to obtain the full dataset, I use 'set' just for test and acceleration.\n",
        "    hdfs = set()\n",
        "    # hdfs = []\n",
        "    with open('/content/' + name, 'r') as f:\n",
        "        for row in f:\n",
        "            line = [int(i) - 1 for i in row.strip().split()]\n",
        "            line = line + [-1] * (window_size + 1 - len(line)) #if the length of the line is less than windows size, it covers by -1\n",
        "            hdfs.add(tuple(line))\n",
        "            # hdfs.append(tuple(line))\n",
        "    print('Number of sessions({}): {}'.format(name, len(hdfs)))\n",
        "    return hdfs"
      ],
      "metadata": {
        "id": "-wdcBKVIszz4"
      },
      "execution_count": 39,
      "outputs": []
    },
    {
      "cell_type": "code",
      "source": [
        "test_normal_loader = generate('hdfs_test_normal')\n",
        "test_abnormal_loader = generate('hdfs_test_abnormal')"
      ],
      "metadata": {
        "colab": {
          "base_uri": "https://localhost:8080/"
        },
        "id": "JSMY2N3nMD-u",
        "outputId": "b8c35771-ad55-4930-8732-cecb2e4035cb"
      },
      "execution_count": 40,
      "outputs": [
        {
          "output_type": "stream",
          "name": "stdout",
          "text": [
            "Number of sessions(hdfs_test_normal): 14177\n",
            "Number of sessions(hdfs_test_abnormal): 4123\n"
          ]
        }
      ]
    },
    {
      "cell_type": "code",
      "source": [
        "# Test the model\n",
        "TP = 0\n",
        "FP = 0\n",
        "\n",
        "start_time = time.time()\n",
        "with torch.no_grad():\n",
        "    for line in test_normal_loader:\n",
        "        for i in range(len(line) - window_size):\n",
        "            session = line[i:i + window_size]\n",
        "            seq = [template_to_tensor(temp) for temp in session]\n",
        "            label = template_to_tensor(line[i + window_size])\n",
        "            seq = torch.tensor(seq, dtype=torch.float).view(-1, window_size, input_size).to(device)\n",
        "            label = torch.tensor(label).view(-1).to(device)\n",
        "            output = model(seq)\n",
        "            predicted = torch.argsort(output, 1)[0][-num_candidates:]\n",
        "            if torch.argmax(label) not in predicted:\n",
        "                FP += 1\n",
        "                break   #with just one wrong prediction in a line , we assume , abnormal\n",
        "with torch.no_grad():\n",
        "    for line in test_abnormal_loader:\n",
        "        for i in range(len(line) - window_size):\n",
        "            session = line[i:i + window_size]\n",
        "            seq = [template_to_tensor(temp) for temp in session]\n",
        "            label = template_to_tensor(line[i + window_size])\n",
        "            seq = torch.tensor(seq, dtype=torch.float).view(-1, window_size, input_size).to(device)\n",
        "            label = torch.tensor(label).view(-1).to(device)\n",
        "            output = model(seq)\n",
        "            predicted = torch.argsort(output, 1)[0][-num_candidates:]\n",
        "            if torch.argmax(label) not in predicted:\n",
        "                TP += 1\n",
        "                break\n",
        "elapsed_time = time.time() - start_time\n",
        "print('elapsed_time: {:.3f}s'.format(elapsed_time))\n",
        "# Compute precision, recall and F1-measure\n",
        "FN = len(test_abnormal_loader) - TP\n",
        "P = 100 * TP / (TP + FP)\n",
        "R = 100 * TP / (TP + FN)\n",
        "F1 = 2 * P * R / (P + R)\n",
        "print('false positive (FP): {}, false negative (FN): {}, Precision: {:.3f}%, Recall: {:.3f}%, F1-measure: {:.3f}%'.format(FP, FN, P, R, F1))\n",
        "print('Finished Predicting')"
      ],
      "metadata": {
        "colab": {
          "base_uri": "https://localhost:8080/"
        },
        "id": "QT3vZzUbOFUr",
        "outputId": "291aa68f-d160-47b2-cae6-0177a0900a6b"
      },
      "execution_count": 41,
      "outputs": [
        {
          "output_type": "stream",
          "name": "stdout",
          "text": [
            "elapsed_time: 178.250s\n",
            "false positive (FP): 368, false negative (FN): 967, Precision: 89.557%, Recall: 76.546%, F1-measure: 82.542%\n",
            "Finished Predicting\n"
          ]
        }
      ]
    }
  ]
}