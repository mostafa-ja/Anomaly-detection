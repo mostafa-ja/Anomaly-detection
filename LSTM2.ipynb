{
  "nbformat": 4,
  "nbformat_minor": 0,
  "metadata": {
    "colab": {
      "provenance": [],
      "gpuType": "T4",
      "authorship_tag": "ABX9TyMez3eh2qgN6o1neOvvrzMm",
      "include_colab_link": true
    },
    "kernelspec": {
      "name": "python3",
      "display_name": "Python 3"
    },
    "language_info": {
      "name": "python"
    },
    "accelerator": "GPU"
  },
  "cells": [
    {
      "cell_type": "markdown",
      "metadata": {
        "id": "view-in-github",
        "colab_type": "text"
      },
      "source": [
        "<a href=\"https://colab.research.google.com/github/mostafa-ja/Anomaly-detection/blob/main/LSTM2.ipynb\" target=\"_parent\"><img src=\"https://colab.research.google.com/assets/colab-badge.svg\" alt=\"Open In Colab\"/></a>"
      ]
    },
    {
      "cell_type": "code",
      "execution_count": 3,
      "metadata": {
        "colab": {
          "base_uri": "https://localhost:8080/"
        },
        "id": "4Z7U4p6skT_u",
        "outputId": "0ec7c7dd-f8e0-4425-e95c-bc47668de641"
      },
      "outputs": [
        {
          "output_type": "stream",
          "name": "stdout",
          "text": [
            "--2023-07-19 22:12:58--  https://raw.githubusercontent.com/donglee-afar/logdeep/master/data/hdfs/hdfs_train\n",
            "Resolving raw.githubusercontent.com (raw.githubusercontent.com)... 185.199.108.133, 185.199.109.133, 185.199.111.133, ...\n",
            "Connecting to raw.githubusercontent.com (raw.githubusercontent.com)|185.199.108.133|:443... connected.\n",
            "HTTP request sent, awaiting response... 200 OK\n",
            "Length: 257875 (252K) [text/plain]\n",
            "Saving to: ‘hdfs_train.5’\n",
            "\n",
            "\rhdfs_train.5          0%[                    ]       0  --.-KB/s               \rhdfs_train.5        100%[===================>] 251.83K  --.-KB/s    in 0.004s  \n",
            "\n",
            "2023-07-19 22:12:59 (59.5 MB/s) - ‘hdfs_train.5’ saved [257875/257875]\n",
            "\n",
            "--2023-07-19 22:12:59--  https://raw.githubusercontent.com/donglee-afar/logdeep/master/data/hdfs/hdfs_test_normal\n",
            "Resolving raw.githubusercontent.com (raw.githubusercontent.com)... 185.199.108.133, 185.199.109.133, 185.199.110.133, ...\n",
            "Connecting to raw.githubusercontent.com (raw.githubusercontent.com)|185.199.108.133|:443... connected.\n",
            "HTTP request sent, awaiting response... 200 OK\n",
            "Length: 29284282 (28M) [text/plain]\n",
            "Saving to: ‘hdfs_test_normal.5’\n",
            "\n",
            "hdfs_test_normal.5  100%[===================>]  27.93M  --.-KB/s    in 0.1s    \n",
            "\n",
            "2023-07-19 22:13:01 (293 MB/s) - ‘hdfs_test_normal.5’ saved [29284282/29284282]\n",
            "\n",
            "--2023-07-19 22:13:01--  https://raw.githubusercontent.com/donglee-afar/logdeep/master/data/hdfs/hdfs_test_abnormal\n",
            "Resolving raw.githubusercontent.com (raw.githubusercontent.com)... 185.199.111.133, 185.199.109.133, 185.199.108.133, ...\n",
            "Connecting to raw.githubusercontent.com (raw.githubusercontent.com)|185.199.111.133|:443... connected.\n",
            "HTTP request sent, awaiting response... 200 OK\n",
            "Length: 782479 (764K) [text/plain]\n",
            "Saving to: ‘hdfs_test_abnormal.5’\n",
            "\n",
            "hdfs_test_abnormal. 100%[===================>] 764.14K  --.-KB/s    in 0.006s  \n",
            "\n",
            "2023-07-19 22:13:01 (135 MB/s) - ‘hdfs_test_abnormal.5’ saved [782479/782479]\n",
            "\n"
          ]
        }
      ],
      "source": [
        "# download datasets\n",
        "!wget 'https://raw.githubusercontent.com/donglee-afar/logdeep/master/data/hdfs/hdfs_train'\n",
        "!wget 'https://raw.githubusercontent.com/donglee-afar/logdeep/master/data/hdfs/hdfs_test_normal'\n",
        "!wget 'https://raw.githubusercontent.com/donglee-afar/logdeep/master/data/hdfs/hdfs_test_abnormal'"
      ]
    },
    {
      "cell_type": "code",
      "source": [
        "import time\n",
        "import torch\n",
        "import torch.nn as nn\n",
        "import torch.optim as optim\n",
        "from torch.utils.tensorboard import SummaryWriter\n",
        "from torch.utils.data import TensorDataset, DataLoader\n",
        "import os\n",
        "import numpy as np\n",
        "\n",
        "# Device configuration\n",
        "device = torch.device(\"cuda\" if torch.cuda.is_available() else \"cpu\")"
      ],
      "metadata": {
        "id": "rNI34FVblAMn"
      },
      "execution_count": 4,
      "outputs": []
    },
    {
      "cell_type": "code",
      "source": [
        "n_templates = 28 #total number of unique templates\n",
        "\n",
        "def template_to_tensor(template):\n",
        "    tensor = [0] * n_templates\n",
        "    if template != -1 :    # we put template= -1 for session less than windows_size in empty part and it will be all zero\n",
        "      tensor[template] = 1\n",
        "    return tensor"
      ],
      "metadata": {
        "id": "kq5LGA7NrsgN"
      },
      "execution_count": 5,
      "outputs": []
    },
    {
      "cell_type": "code",
      "source": [
        "window_size = 10\n",
        "inputs = []\n",
        "outputs = []\n",
        "row = '1 2 3 4 '\n",
        "line = [int(i) - 1 for i in row.strip().split()] # we substract by one from templates index for starting from zero\n",
        "line = line + [-1] * (window_size + 1 - len(line)) #if the length of the line is less than windows size, it covers by new defined template 28\n",
        "for i in range(len(line) - window_size):\n",
        "    inputs.append(line[i:i + window_size])\n",
        "    outputs.append(line[i + window_size])\n",
        "\n",
        "print(inputs)\n",
        "print(outputs)"
      ],
      "metadata": {
        "colab": {
          "base_uri": "https://localhost:8080/"
        },
        "id": "Y9mgogXPn1DY",
        "outputId": "0b108f70-fd0d-4db2-fea6-70ffbeaee8e0"
      },
      "execution_count": 6,
      "outputs": [
        {
          "output_type": "stream",
          "name": "stdout",
          "text": [
            "[[0, 1, 2, 3, -1, -1, -1, -1, -1, -1]]\n",
            "[-1]\n"
          ]
        }
      ]
    },
    {
      "cell_type": "code",
      "source": [
        "window_size = 10\n",
        "inputs = []\n",
        "outputs = []\n",
        "row = '1 2 3 4 '\n",
        "line = [int(i) - 1 for i in row.strip().split()] # we substract by one from templates index for starting from zero\n",
        "line = line + [-1] * (window_size + 1 - len(line)) #if the length of the line is less than windows size, it covers by new defined template 28\n",
        "line = [template_to_tensor(i) for i in line]\n",
        "for i in range(len(line) - window_size):\n",
        "    inputs.append(line[i:i + window_size])\n",
        "    outputs.append(line[i + window_size])\n",
        "\n",
        "print(inputs)\n",
        "print(outputs)"
      ],
      "metadata": {
        "colab": {
          "base_uri": "https://localhost:8080/"
        },
        "id": "NgKn67fRmtV9",
        "outputId": "6ebf667f-7e9f-4de3-bade-c201c345205c"
      },
      "execution_count": 7,
      "outputs": [
        {
          "output_type": "stream",
          "name": "stdout",
          "text": [
            "[[[1, 0, 0, 0, 0, 0, 0, 0, 0, 0, 0, 0, 0, 0, 0, 0, 0, 0, 0, 0, 0, 0, 0, 0, 0, 0, 0, 0], [0, 1, 0, 0, 0, 0, 0, 0, 0, 0, 0, 0, 0, 0, 0, 0, 0, 0, 0, 0, 0, 0, 0, 0, 0, 0, 0, 0], [0, 0, 1, 0, 0, 0, 0, 0, 0, 0, 0, 0, 0, 0, 0, 0, 0, 0, 0, 0, 0, 0, 0, 0, 0, 0, 0, 0], [0, 0, 0, 1, 0, 0, 0, 0, 0, 0, 0, 0, 0, 0, 0, 0, 0, 0, 0, 0, 0, 0, 0, 0, 0, 0, 0, 0], [0, 0, 0, 0, 0, 0, 0, 0, 0, 0, 0, 0, 0, 0, 0, 0, 0, 0, 0, 0, 0, 0, 0, 0, 0, 0, 0, 0], [0, 0, 0, 0, 0, 0, 0, 0, 0, 0, 0, 0, 0, 0, 0, 0, 0, 0, 0, 0, 0, 0, 0, 0, 0, 0, 0, 0], [0, 0, 0, 0, 0, 0, 0, 0, 0, 0, 0, 0, 0, 0, 0, 0, 0, 0, 0, 0, 0, 0, 0, 0, 0, 0, 0, 0], [0, 0, 0, 0, 0, 0, 0, 0, 0, 0, 0, 0, 0, 0, 0, 0, 0, 0, 0, 0, 0, 0, 0, 0, 0, 0, 0, 0], [0, 0, 0, 0, 0, 0, 0, 0, 0, 0, 0, 0, 0, 0, 0, 0, 0, 0, 0, 0, 0, 0, 0, 0, 0, 0, 0, 0], [0, 0, 0, 0, 0, 0, 0, 0, 0, 0, 0, 0, 0, 0, 0, 0, 0, 0, 0, 0, 0, 0, 0, 0, 0, 0, 0, 0]]]\n",
            "[[0, 0, 0, 0, 0, 0, 0, 0, 0, 0, 0, 0, 0, 0, 0, 0, 0, 0, 0, 0, 0, 0, 0, 0, 0, 0, 0, 0]]\n"
          ]
        }
      ]
    },
    {
      "cell_type": "code",
      "source": [
        "name = 'hdfs_train'\n",
        "window_size = 10\n",
        "num_sessions = 0\n",
        "inputs = []\n",
        "outputs = []\n",
        "\n",
        "with open('/content/' + name, 'r') as f:\n",
        "        for row in f:\n",
        "            num_sessions += 1\n",
        "            line = [int(i) - 1 for i in row.strip().split()] # we substract by one from templates index for starting from zero\n",
        "            if len(line)<11:\n",
        "              print(line)\n",
        "            line = line + [-1] * (window_size + 1 - len(line)) #if the length of the line is less than windows size, it covers by new defined template 28\n",
        "            line = [template_to_tensor(i) for i in line]\n",
        "            for i in range(len(line) - window_size):\n",
        "                inputs.append(line[i:i + window_size])\n",
        "                outputs.append(line[i + window_size])\n",
        "\n",
        "print('Number of sessions({}): {}'.format(name, num_sessions))\n",
        "print('Number of seqs({}): {}'.format(name, len(inputs)))\n",
        "dataset = TensorDataset(torch.tensor(inputs, dtype=torch.float), torch.tensor(outputs,dtype=torch.float ))"
      ],
      "metadata": {
        "colab": {
          "base_uri": "https://localhost:8080/"
        },
        "id": "2EMsKC8NthzK",
        "outputId": "3bd39b54-b9ab-4e5b-d858-6460f871dd19"
      },
      "execution_count": 8,
      "outputs": [
        {
          "output_type": "stream",
          "name": "stdout",
          "text": [
            "Number of sessions(hdfs_train): 4855\n",
            "Number of seqs(hdfs_train): 46575\n"
          ]
        }
      ]
    },
    {
      "cell_type": "code",
      "source": [
        "class Model(nn.Module):\n",
        "    def __init__(self, input_size, hidden_size, num_layers, num_classes):\n",
        "        super(Model, self).__init__()\n",
        "        self.hidden_size = hidden_size\n",
        "        self.num_layers = num_layers\n",
        "        self.lstm = nn.LSTM(input_size, hidden_size, num_layers, batch_first=True)\n",
        "        self.fc = nn.Linear(hidden_size, num_classes)\n",
        "\n",
        "    def forward(self, x):\n",
        "        h0 = torch.zeros(self.num_layers, x.size(0), self.hidden_size).to(device)\n",
        "        c0 = torch.zeros(self.num_layers, x.size(0), self.hidden_size).to(device)\n",
        "        out, _ = self.lstm(x, (h0, c0))  # out.shape : [batch_size, sequence_length, hidden_size]\n",
        "        out = self.fc(out[:, -1, :]) #The : before , -1, : indicates that we want to include all elements along the first dimension (batch dimension). -1 represents the index of the last element along the second dimension (sequence length). : after , -1 indicates that we want to include all elements along the third dimension (hidden size)\n",
        "        return out"
      ],
      "metadata": {
        "id": "Pck9q_A7uV47"
      },
      "execution_count": 9,
      "outputs": []
    },
    {
      "cell_type": "code",
      "source": [
        "input_size = 28 # means each input has one feature(template's code)\n",
        "num_layers = 2\n",
        "hidden_size = 64\n",
        "num_classes = 28\n",
        "batch_size = 2048\n",
        "num_epochs = 300\n",
        "model_dir = 'model'"
      ],
      "metadata": {
        "id": "fbnCcSOiudxf"
      },
      "execution_count": 10,
      "outputs": []
    },
    {
      "cell_type": "code",
      "source": [
        "model = Model(input_size, hidden_size, num_layers, num_classes).to(device)\n",
        "dataloader = DataLoader(dataset, batch_size=batch_size, shuffle=True, pin_memory=True)\n",
        "\n",
        "# Loss and optimizer\n",
        "criterion = nn.CrossEntropyLoss()\n",
        "optimizer = optim.Adam(model.parameters())"
      ],
      "metadata": {
        "id": "EV1cKoL2uj7I"
      },
      "execution_count": 11,
      "outputs": []
    },
    {
      "cell_type": "code",
      "source": [
        "# Train the model\n",
        "start_time = time.time()\n",
        "total_step = len(dataloader)\n",
        "for epoch in range(num_epochs):  # Loop over the dataset multiple times\n",
        "    train_loss = 0\n",
        "    for step, (seq, label) in enumerate(dataloader):\n",
        "        # Forward pass\n",
        "        seq = seq.clone().detach().view(-1, window_size, input_size).to(device)\n",
        "        output = model(seq)\n",
        "        loss = criterion(output, label.to(device))\n",
        "\n",
        "        # Backward and optimize\n",
        "        optimizer.zero_grad()\n",
        "        loss.backward()\n",
        "        train_loss += loss.item()\n",
        "        optimizer.step()\n",
        "    print('Epoch [{}/{}], train_loss: {:.4f}'.format(epoch + 1, num_epochs, train_loss / total_step))\n",
        "elapsed_time = time.time() - start_time\n",
        "print('elapsed_time: {:.3f}s'.format(elapsed_time))\n",
        "print('Finished Training')"
      ],
      "metadata": {
        "colab": {
          "base_uri": "https://localhost:8080/"
        },
        "id": "nWAjr1QOvB-n",
        "outputId": "4db708bc-dd33-438e-9ab0-3337b32311fb"
      },
      "execution_count": 12,
      "outputs": [
        {
          "output_type": "stream",
          "name": "stdout",
          "text": [
            "Epoch [1/300], train_loss: 3.0240\n",
            "Epoch [2/300], train_loss: 1.9071\n",
            "Epoch [3/300], train_loss: 1.8107\n",
            "Epoch [4/300], train_loss: 1.7301\n",
            "Epoch [5/300], train_loss: 1.5251\n",
            "Epoch [6/300], train_loss: 1.2932\n",
            "Epoch [7/300], train_loss: 1.0563\n",
            "Epoch [8/300], train_loss: 0.8862\n",
            "Epoch [9/300], train_loss: 0.8033\n",
            "Epoch [10/300], train_loss: 0.7578\n",
            "Epoch [11/300], train_loss: 0.7210\n",
            "Epoch [12/300], train_loss: 0.6860\n",
            "Epoch [13/300], train_loss: 0.6531\n",
            "Epoch [14/300], train_loss: 0.6242\n",
            "Epoch [15/300], train_loss: 0.6011\n",
            "Epoch [16/300], train_loss: 0.5822\n",
            "Epoch [17/300], train_loss: 0.5634\n",
            "Epoch [18/300], train_loss: 0.5440\n",
            "Epoch [19/300], train_loss: 0.5221\n",
            "Epoch [20/300], train_loss: 0.5019\n",
            "Epoch [21/300], train_loss: 0.4850\n",
            "Epoch [22/300], train_loss: 0.4703\n",
            "Epoch [23/300], train_loss: 0.4567\n",
            "Epoch [24/300], train_loss: 0.4426\n",
            "Epoch [25/300], train_loss: 0.4236\n",
            "Epoch [26/300], train_loss: 0.4088\n",
            "Epoch [27/300], train_loss: 0.3995\n",
            "Epoch [28/300], train_loss: 0.3877\n",
            "Epoch [29/300], train_loss: 0.3802\n",
            "Epoch [30/300], train_loss: 0.3732\n",
            "Epoch [31/300], train_loss: 0.3667\n",
            "Epoch [32/300], train_loss: 0.3607\n",
            "Epoch [33/300], train_loss: 0.3549\n",
            "Epoch [34/300], train_loss: 0.3476\n",
            "Epoch [35/300], train_loss: 0.3416\n",
            "Epoch [36/300], train_loss: 0.3364\n",
            "Epoch [37/300], train_loss: 0.3309\n",
            "Epoch [38/300], train_loss: 0.3263\n",
            "Epoch [39/300], train_loss: 0.3191\n",
            "Epoch [40/300], train_loss: 0.3141\n",
            "Epoch [41/300], train_loss: 0.3108\n",
            "Epoch [42/300], train_loss: 0.3064\n",
            "Epoch [43/300], train_loss: 0.3014\n",
            "Epoch [44/300], train_loss: 0.2986\n",
            "Epoch [45/300], train_loss: 0.2947\n",
            "Epoch [46/300], train_loss: 0.2909\n",
            "Epoch [47/300], train_loss: 0.2876\n",
            "Epoch [48/300], train_loss: 0.2840\n",
            "Epoch [49/300], train_loss: 0.2827\n",
            "Epoch [50/300], train_loss: 0.2801\n",
            "Epoch [51/300], train_loss: 0.2761\n",
            "Epoch [52/300], train_loss: 0.2730\n",
            "Epoch [53/300], train_loss: 0.2712\n",
            "Epoch [54/300], train_loss: 0.2676\n",
            "Epoch [55/300], train_loss: 0.2661\n",
            "Epoch [56/300], train_loss: 0.2634\n",
            "Epoch [57/300], train_loss: 0.2606\n",
            "Epoch [58/300], train_loss: 0.2583\n",
            "Epoch [59/300], train_loss: 0.2559\n",
            "Epoch [60/300], train_loss: 0.2536\n",
            "Epoch [61/300], train_loss: 0.2524\n",
            "Epoch [62/300], train_loss: 0.2497\n",
            "Epoch [63/300], train_loss: 0.2477\n",
            "Epoch [64/300], train_loss: 0.2449\n",
            "Epoch [65/300], train_loss: 0.2426\n",
            "Epoch [66/300], train_loss: 0.2420\n",
            "Epoch [67/300], train_loss: 0.2403\n",
            "Epoch [68/300], train_loss: 0.2385\n",
            "Epoch [69/300], train_loss: 0.2371\n",
            "Epoch [70/300], train_loss: 0.2367\n",
            "Epoch [71/300], train_loss: 0.2351\n",
            "Epoch [72/300], train_loss: 0.2328\n",
            "Epoch [73/300], train_loss: 0.2325\n",
            "Epoch [74/300], train_loss: 0.2304\n",
            "Epoch [75/300], train_loss: 0.2287\n",
            "Epoch [76/300], train_loss: 0.2293\n",
            "Epoch [77/300], train_loss: 0.2292\n",
            "Epoch [78/300], train_loss: 0.2266\n",
            "Epoch [79/300], train_loss: 0.2251\n",
            "Epoch [80/300], train_loss: 0.2238\n",
            "Epoch [81/300], train_loss: 0.2227\n",
            "Epoch [82/300], train_loss: 0.2224\n",
            "Epoch [83/300], train_loss: 0.2218\n",
            "Epoch [84/300], train_loss: 0.2220\n",
            "Epoch [85/300], train_loss: 0.2213\n",
            "Epoch [86/300], train_loss: 0.2207\n",
            "Epoch [87/300], train_loss: 0.2196\n",
            "Epoch [88/300], train_loss: 0.2189\n",
            "Epoch [89/300], train_loss: 0.2196\n",
            "Epoch [90/300], train_loss: 0.2199\n",
            "Epoch [91/300], train_loss: 0.2178\n",
            "Epoch [92/300], train_loss: 0.2178\n",
            "Epoch [93/300], train_loss: 0.2167\n",
            "Epoch [94/300], train_loss: 0.2158\n",
            "Epoch [95/300], train_loss: 0.2163\n",
            "Epoch [96/300], train_loss: 0.2166\n",
            "Epoch [97/300], train_loss: 0.2145\n",
            "Epoch [98/300], train_loss: 0.2142\n",
            "Epoch [99/300], train_loss: 0.2143\n",
            "Epoch [100/300], train_loss: 0.2136\n",
            "Epoch [101/300], train_loss: 0.2137\n",
            "Epoch [102/300], train_loss: 0.2137\n",
            "Epoch [103/300], train_loss: 0.2126\n",
            "Epoch [104/300], train_loss: 0.2135\n",
            "Epoch [105/300], train_loss: 0.2132\n",
            "Epoch [106/300], train_loss: 0.2126\n",
            "Epoch [107/300], train_loss: 0.2111\n",
            "Epoch [108/300], train_loss: 0.2113\n",
            "Epoch [109/300], train_loss: 0.2106\n",
            "Epoch [110/300], train_loss: 0.2113\n",
            "Epoch [111/300], train_loss: 0.2105\n",
            "Epoch [112/300], train_loss: 0.2103\n",
            "Epoch [113/300], train_loss: 0.2099\n",
            "Epoch [114/300], train_loss: 0.2094\n",
            "Epoch [115/300], train_loss: 0.2098\n",
            "Epoch [116/300], train_loss: 0.2097\n",
            "Epoch [117/300], train_loss: 0.2083\n",
            "Epoch [118/300], train_loss: 0.2081\n",
            "Epoch [119/300], train_loss: 0.2082\n",
            "Epoch [120/300], train_loss: 0.2074\n",
            "Epoch [121/300], train_loss: 0.2096\n",
            "Epoch [122/300], train_loss: 0.2077\n",
            "Epoch [123/300], train_loss: 0.2061\n",
            "Epoch [124/300], train_loss: 0.2077\n",
            "Epoch [125/300], train_loss: 0.2064\n",
            "Epoch [126/300], train_loss: 0.2072\n",
            "Epoch [127/300], train_loss: 0.2059\n",
            "Epoch [128/300], train_loss: 0.2059\n",
            "Epoch [129/300], train_loss: 0.2055\n",
            "Epoch [130/300], train_loss: 0.2067\n",
            "Epoch [131/300], train_loss: 0.2061\n",
            "Epoch [132/300], train_loss: 0.2066\n",
            "Epoch [133/300], train_loss: 0.2055\n",
            "Epoch [134/300], train_loss: 0.2050\n",
            "Epoch [135/300], train_loss: 0.2044\n",
            "Epoch [136/300], train_loss: 0.2049\n",
            "Epoch [137/300], train_loss: 0.2050\n",
            "Epoch [138/300], train_loss: 0.2055\n",
            "Epoch [139/300], train_loss: 0.2053\n",
            "Epoch [140/300], train_loss: 0.2035\n",
            "Epoch [141/300], train_loss: 0.2036\n",
            "Epoch [142/300], train_loss: 0.2036\n",
            "Epoch [143/300], train_loss: 0.2032\n",
            "Epoch [144/300], train_loss: 0.2034\n",
            "Epoch [145/300], train_loss: 0.2033\n",
            "Epoch [146/300], train_loss: 0.2034\n",
            "Epoch [147/300], train_loss: 0.2044\n",
            "Epoch [148/300], train_loss: 0.2030\n",
            "Epoch [149/300], train_loss: 0.2018\n",
            "Epoch [150/300], train_loss: 0.2018\n",
            "Epoch [151/300], train_loss: 0.2021\n",
            "Epoch [152/300], train_loss: 0.2025\n",
            "Epoch [153/300], train_loss: 0.2016\n",
            "Epoch [154/300], train_loss: 0.2011\n",
            "Epoch [155/300], train_loss: 0.2016\n",
            "Epoch [156/300], train_loss: 0.2023\n",
            "Epoch [157/300], train_loss: 0.2016\n",
            "Epoch [158/300], train_loss: 0.2021\n",
            "Epoch [159/300], train_loss: 0.2011\n",
            "Epoch [160/300], train_loss: 0.2007\n",
            "Epoch [161/300], train_loss: 0.2006\n",
            "Epoch [162/300], train_loss: 0.2003\n",
            "Epoch [163/300], train_loss: 0.2004\n",
            "Epoch [164/300], train_loss: 0.2014\n",
            "Epoch [165/300], train_loss: 0.2010\n",
            "Epoch [166/300], train_loss: 0.2000\n",
            "Epoch [167/300], train_loss: 0.2009\n",
            "Epoch [168/300], train_loss: 0.2005\n",
            "Epoch [169/300], train_loss: 0.2002\n",
            "Epoch [170/300], train_loss: 0.1992\n",
            "Epoch [171/300], train_loss: 0.1991\n",
            "Epoch [172/300], train_loss: 0.1987\n",
            "Epoch [173/300], train_loss: 0.1986\n",
            "Epoch [174/300], train_loss: 0.1989\n",
            "Epoch [175/300], train_loss: 0.1984\n",
            "Epoch [176/300], train_loss: 0.1988\n",
            "Epoch [177/300], train_loss: 0.1988\n",
            "Epoch [178/300], train_loss: 0.1986\n",
            "Epoch [179/300], train_loss: 0.1993\n",
            "Epoch [180/300], train_loss: 0.1984\n",
            "Epoch [181/300], train_loss: 0.1983\n",
            "Epoch [182/300], train_loss: 0.1988\n",
            "Epoch [183/300], train_loss: 0.1984\n",
            "Epoch [184/300], train_loss: 0.1986\n",
            "Epoch [185/300], train_loss: 0.1979\n",
            "Epoch [186/300], train_loss: 0.1979\n",
            "Epoch [187/300], train_loss: 0.1987\n",
            "Epoch [188/300], train_loss: 0.1971\n",
            "Epoch [189/300], train_loss: 0.1967\n",
            "Epoch [190/300], train_loss: 0.1968\n",
            "Epoch [191/300], train_loss: 0.1973\n",
            "Epoch [192/300], train_loss: 0.1972\n",
            "Epoch [193/300], train_loss: 0.1964\n",
            "Epoch [194/300], train_loss: 0.1965\n",
            "Epoch [195/300], train_loss: 0.1973\n",
            "Epoch [196/300], train_loss: 0.1970\n",
            "Epoch [197/300], train_loss: 0.1970\n",
            "Epoch [198/300], train_loss: 0.1958\n",
            "Epoch [199/300], train_loss: 0.1965\n",
            "Epoch [200/300], train_loss: 0.1965\n",
            "Epoch [201/300], train_loss: 0.1964\n",
            "Epoch [202/300], train_loss: 0.1956\n",
            "Epoch [203/300], train_loss: 0.1958\n",
            "Epoch [204/300], train_loss: 0.1970\n",
            "Epoch [205/300], train_loss: 0.1956\n",
            "Epoch [206/300], train_loss: 0.1949\n",
            "Epoch [207/300], train_loss: 0.1955\n",
            "Epoch [208/300], train_loss: 0.1951\n",
            "Epoch [209/300], train_loss: 0.1953\n",
            "Epoch [210/300], train_loss: 0.1960\n",
            "Epoch [211/300], train_loss: 0.1962\n",
            "Epoch [212/300], train_loss: 0.1946\n",
            "Epoch [213/300], train_loss: 0.1947\n",
            "Epoch [214/300], train_loss: 0.1951\n",
            "Epoch [215/300], train_loss: 0.1955\n",
            "Epoch [216/300], train_loss: 0.1950\n",
            "Epoch [217/300], train_loss: 0.1949\n",
            "Epoch [218/300], train_loss: 0.1944\n",
            "Epoch [219/300], train_loss: 0.1944\n",
            "Epoch [220/300], train_loss: 0.1947\n",
            "Epoch [221/300], train_loss: 0.1942\n",
            "Epoch [222/300], train_loss: 0.1943\n",
            "Epoch [223/300], train_loss: 0.1941\n",
            "Epoch [224/300], train_loss: 0.1941\n",
            "Epoch [225/300], train_loss: 0.1939\n",
            "Epoch [226/300], train_loss: 0.1946\n",
            "Epoch [227/300], train_loss: 0.1941\n",
            "Epoch [228/300], train_loss: 0.1932\n",
            "Epoch [229/300], train_loss: 0.1932\n",
            "Epoch [230/300], train_loss: 0.1943\n",
            "Epoch [231/300], train_loss: 0.1930\n",
            "Epoch [232/300], train_loss: 0.1935\n",
            "Epoch [233/300], train_loss: 0.1931\n",
            "Epoch [234/300], train_loss: 0.1946\n",
            "Epoch [235/300], train_loss: 0.1938\n",
            "Epoch [236/300], train_loss: 0.1941\n",
            "Epoch [237/300], train_loss: 0.1953\n",
            "Epoch [238/300], train_loss: 0.1930\n",
            "Epoch [239/300], train_loss: 0.1929\n",
            "Epoch [240/300], train_loss: 0.1928\n",
            "Epoch [241/300], train_loss: 0.1934\n",
            "Epoch [242/300], train_loss: 0.1932\n",
            "Epoch [243/300], train_loss: 0.1921\n",
            "Epoch [244/300], train_loss: 0.1921\n",
            "Epoch [245/300], train_loss: 0.1932\n",
            "Epoch [246/300], train_loss: 0.1936\n",
            "Epoch [247/300], train_loss: 0.1923\n",
            "Epoch [248/300], train_loss: 0.1924\n",
            "Epoch [249/300], train_loss: 0.1923\n",
            "Epoch [250/300], train_loss: 0.1924\n",
            "Epoch [251/300], train_loss: 0.1922\n",
            "Epoch [252/300], train_loss: 0.1919\n",
            "Epoch [253/300], train_loss: 0.1916\n",
            "Epoch [254/300], train_loss: 0.1915\n",
            "Epoch [255/300], train_loss: 0.1921\n",
            "Epoch [256/300], train_loss: 0.1925\n",
            "Epoch [257/300], train_loss: 0.1915\n",
            "Epoch [258/300], train_loss: 0.1907\n",
            "Epoch [259/300], train_loss: 0.1911\n",
            "Epoch [260/300], train_loss: 0.1919\n",
            "Epoch [261/300], train_loss: 0.1913\n",
            "Epoch [262/300], train_loss: 0.1910\n",
            "Epoch [263/300], train_loss: 0.1910\n",
            "Epoch [264/300], train_loss: 0.1920\n",
            "Epoch [265/300], train_loss: 0.1917\n",
            "Epoch [266/300], train_loss: 0.1911\n",
            "Epoch [267/300], train_loss: 0.1917\n",
            "Epoch [268/300], train_loss: 0.1919\n",
            "Epoch [269/300], train_loss: 0.1908\n",
            "Epoch [270/300], train_loss: 0.1913\n",
            "Epoch [271/300], train_loss: 0.1906\n",
            "Epoch [272/300], train_loss: 0.1905\n",
            "Epoch [273/300], train_loss: 0.1908\n",
            "Epoch [274/300], train_loss: 0.1908\n",
            "Epoch [275/300], train_loss: 0.1913\n",
            "Epoch [276/300], train_loss: 0.1903\n",
            "Epoch [277/300], train_loss: 0.1901\n",
            "Epoch [278/300], train_loss: 0.1910\n",
            "Epoch [279/300], train_loss: 0.1906\n",
            "Epoch [280/300], train_loss: 0.1907\n",
            "Epoch [281/300], train_loss: 0.1901\n",
            "Epoch [282/300], train_loss: 0.1901\n",
            "Epoch [283/300], train_loss: 0.1906\n",
            "Epoch [284/300], train_loss: 0.1904\n",
            "Epoch [285/300], train_loss: 0.1909\n",
            "Epoch [286/300], train_loss: 0.1905\n",
            "Epoch [287/300], train_loss: 0.1905\n",
            "Epoch [288/300], train_loss: 0.1899\n",
            "Epoch [289/300], train_loss: 0.1901\n",
            "Epoch [290/300], train_loss: 0.1910\n",
            "Epoch [291/300], train_loss: 0.1897\n",
            "Epoch [292/300], train_loss: 0.1898\n",
            "Epoch [293/300], train_loss: 0.1902\n",
            "Epoch [294/300], train_loss: 0.1901\n",
            "Epoch [295/300], train_loss: 0.1892\n",
            "Epoch [296/300], train_loss: 0.1898\n",
            "Epoch [297/300], train_loss: 0.1899\n",
            "Epoch [298/300], train_loss: 0.1899\n",
            "Epoch [299/300], train_loss: 0.1897\n",
            "Epoch [300/300], train_loss: 0.1894\n",
            "elapsed_time: 248.692s\n",
            "Finished Training\n"
          ]
        }
      ]
    },
    {
      "cell_type": "code",
      "source": [
        "num_candidates = 9 # on paper is g , top-g(here top 9) probabilities to appear next are considered normal\n"
      ],
      "metadata": {
        "id": "MOkcg6QZssbC"
      },
      "execution_count": 13,
      "outputs": []
    },
    {
      "cell_type": "code",
      "source": [
        "def generate(name):\n",
        "    # If you what to replicate the DeepLog paper results(Actually, I have a better result than DeepLog paper results),\n",
        "    # you should use the 'list' not 'set' to obtain the full dataset, I use 'set' just for test and acceleration.\n",
        "    hdfs = set()\n",
        "    # hdfs = []\n",
        "    with open('/content/' + name, 'r') as f:\n",
        "        for row in f:\n",
        "            line = [int(i) - 1 for i in row.strip().split()]\n",
        "            line = line + [-1] * (window_size + 1 - len(line)) #if the length of the line is less than windows size, it covers by -1\n",
        "            hdfs.add(tuple(line))\n",
        "            # hdfs.append(tuple(line))\n",
        "    print('Number of sessions({}): {}'.format(name, len(hdfs)))\n",
        "    return hdfs"
      ],
      "metadata": {
        "id": "-wdcBKVIszz4"
      },
      "execution_count": 14,
      "outputs": []
    },
    {
      "cell_type": "code",
      "source": [
        "test_normal_loader = generate('hdfs_test_normal')\n",
        "test_abnormal_loader = generate('hdfs_test_abnormal')"
      ],
      "metadata": {
        "colab": {
          "base_uri": "https://localhost:8080/"
        },
        "id": "JSMY2N3nMD-u",
        "outputId": "1ff4f34b-70e5-4a9d-9333-06788a076c10"
      },
      "execution_count": 15,
      "outputs": [
        {
          "output_type": "stream",
          "name": "stdout",
          "text": [
            "Number of sessions(hdfs_test_normal): 14177\n",
            "Number of sessions(hdfs_test_abnormal): 4123\n"
          ]
        }
      ]
    },
    {
      "cell_type": "code",
      "source": [
        "# Test the model\n",
        "TP = 0\n",
        "FP = 0\n",
        "\n",
        "fp_set = set()\n",
        "fn_set = set()  # Initialize the FN list\n",
        "\n",
        "start_time = time.time()\n",
        "with torch.no_grad():\n",
        "    for line in test_normal_loader:\n",
        "        for i in range(len(line) - window_size):\n",
        "            session = line[i:i + window_size]\n",
        "            seq = [template_to_tensor(temp) for temp in session]\n",
        "            label = template_to_tensor(line[i + window_size])\n",
        "            seq = torch.tensor(seq, dtype=torch.float).view(-1, window_size, input_size).to(device)\n",
        "            label = torch.tensor(label).view(-1).to(device)\n",
        "            output = model(seq)\n",
        "            predicted = torch.argsort(output, 1)[0][-num_candidates:]\n",
        "            if torch.argmax(label) not in predicted:\n",
        "                FP += 1\n",
        "                fp_set.add(line)\n",
        "                break   #with just one wrong prediction in a line , we assume , abnormal\n",
        "with torch.no_grad():\n",
        "    for line in test_abnormal_loader:\n",
        "        for i in range(len(line) - window_size):\n",
        "            session = line[i:i + window_size]\n",
        "            seq = [template_to_tensor(temp) for temp in session]\n",
        "            label = template_to_tensor(line[i + window_size])\n",
        "            seq = torch.tensor(seq, dtype=torch.float).view(-1, window_size, input_size).to(device)\n",
        "            label = torch.tensor(label).view(-1).to(device)\n",
        "            output = model(seq)\n",
        "            predicted = torch.argsort(output, 1)[0][-num_candidates:]\n",
        "            if torch.argmax(label) not in predicted:\n",
        "                TP += 1\n",
        "                break\n",
        "            else:\n",
        "                fn_set.add(line)  # Append the line to the FN list when a false negative occurs\n",
        "\n",
        "elapsed_time = time.time() - start_time\n",
        "print('elapsed_time: {:.3f}s'.format(elapsed_time))\n",
        "# Compute precision, recall and F1-measure\n",
        "FN = len(test_abnormal_loader) - TP\n",
        "P = 100 * TP / (TP + FP)\n",
        "R = 100 * TP / (TP + FN)\n",
        "F1 = 2 * P * R / (P + R)\n",
        "print('false positive (FP): {}, false negative (FN): {}, Precision: {:.3f}%, Recall: {:.3f}%, F1-measure: {:.3f}%'.format(FP, FN, P, R, F1))\n",
        "print('Finished Predicting')"
      ],
      "metadata": {
        "colab": {
          "base_uri": "https://localhost:8080/"
        },
        "id": "H9oqMZAbC_so",
        "outputId": "74473f0a-4829-428f-b304-9d5177000a8b"
      },
      "execution_count": 16,
      "outputs": [
        {
          "output_type": "stream",
          "name": "stdout",
          "text": [
            "elapsed_time: 181.796s\n",
            "false positive (FP): 372, false negative (FN): 644, Precision: 90.340%, Recall: 84.380%, F1-measure: 87.259%\n",
            "Finished Predicting\n"
          ]
        }
      ]
    },
    {
      "cell_type": "code",
      "source": [
        "len(fp_set)"
      ],
      "metadata": {
        "colab": {
          "base_uri": "https://localhost:8080/"
        },
        "id": "mNvfaq_Q9nqO",
        "outputId": "4c6ba37e-e7d0-4519-92fc-da5a38b00cf9"
      },
      "execution_count": 17,
      "outputs": [
        {
          "output_type": "execute_result",
          "data": {
            "text/plain": [
              "372"
            ]
          },
          "metadata": {},
          "execution_count": 17
        }
      ]
    },
    {
      "cell_type": "code",
      "source": [
        "len(fn_set)"
      ],
      "metadata": {
        "colab": {
          "base_uri": "https://localhost:8080/"
        },
        "id": "ZmrBcs7B9fe8",
        "outputId": "e98501bc-76cd-42e6-ca50-207f17f4d0a5"
      },
      "execution_count": 18,
      "outputs": [
        {
          "output_type": "execute_result",
          "data": {
            "text/plain": [
              "3964"
            ]
          },
          "metadata": {},
          "execution_count": 18
        }
      ]
    },
    {
      "cell_type": "code",
      "source": [
        "fn_list = []\n",
        "with torch.no_grad():\n",
        "    for line in test_abnormal_loader:\n",
        "      for i in range(len(line) - window_size):\n",
        "          session = line[i:i + window_size]\n",
        "          seq = [template_to_tensor(temp) for temp in session]\n",
        "          label = template_to_tensor(line[i + window_size])\n",
        "          seq = torch.tensor(seq, dtype=torch.float).view(-1, window_size, input_size).to(device)\n",
        "          label = torch.tensor(label).view(-1).to(device)\n",
        "          output = model(seq)\n",
        "          predicted = torch.argsort(output, 1)[0][-num_candidates:]\n",
        "          if torch.argmax(label) not in predicted:\n",
        "              TP += 1\n",
        "              break\n",
        "          else:\n",
        "              if line[-11:-1] == session : #it means we came to the last sliding windows of the line(include line[-2], and line[-1] is our last label) without predicting abnormal\n",
        "                fn_list.append(line)\n",
        "\n",
        "\n",
        ""
      ],
      "metadata": {
        "id": "eERtmXGdHeDm"
      },
      "execution_count": 39,
      "outputs": []
    },
    {
      "cell_type": "code",
      "source": [
        "len(fn_list)"
      ],
      "metadata": {
        "colab": {
          "base_uri": "https://localhost:8080/"
        },
        "id": "lPuRBtzfQzNj",
        "outputId": "172a6e59-ea8c-4850-b8a3-a1b12fa64a7a"
      },
      "execution_count": 40,
      "outputs": [
        {
          "output_type": "execute_result",
          "data": {
            "text/plain": [
              "649"
            ]
          },
          "metadata": {},
          "execution_count": 40
        }
      ]
    },
    {
      "cell_type": "code",
      "source": [
        "k=0\n",
        "for line in fp_list:\n",
        "  k+=1\n",
        "  for i in range(len(line) - window_size):\n",
        "    session = line[i:i + window_size]\n",
        "    seq = [template_to_tensor(temp) for temp in session]\n",
        "    label = template_to_tensor(line[i + window_size])\n",
        "    seq = torch.tensor(seq, dtype=torch.float).view(-1, window_size, input_size).to(device)\n",
        "    label = torch.tensor(label).view(-1).to(device)\n",
        "    output = model(seq)\n",
        "    predicted = torch.argsort(output, 1)[0][-num_candidates:]\n",
        "    if torch.argmax(label) not in predicted:\n",
        "      #print(seq)\n",
        "      print(torch.argmax(label))\n",
        "      print(output)\n",
        "      print(torch.argsort(output, 1)[0][-15:])\n",
        "      break\n",
        "  if k==5:\n",
        "    break"
      ],
      "metadata": {
        "colab": {
          "base_uri": "https://localhost:8080/",
          "height": 246
        },
        "id": "_XxtcPXS42zn",
        "outputId": "f8f32879-0e31-4c73-dcec-c6c01e97ebc2"
      },
      "execution_count": 42,
      "outputs": [
        {
          "output_type": "error",
          "ename": "NameError",
          "evalue": "ignored",
          "traceback": [
            "\u001b[0;31m---------------------------------------------------------------------------\u001b[0m",
            "\u001b[0;31mNameError\u001b[0m                                 Traceback (most recent call last)",
            "\u001b[0;32m<ipython-input-42-3f56c6615365>\u001b[0m in \u001b[0;36m<cell line: 2>\u001b[0;34m()\u001b[0m\n\u001b[1;32m      1\u001b[0m \u001b[0mk\u001b[0m\u001b[0;34m=\u001b[0m\u001b[0;36m0\u001b[0m\u001b[0;34m\u001b[0m\u001b[0;34m\u001b[0m\u001b[0m\n\u001b[0;32m----> 2\u001b[0;31m \u001b[0;32mfor\u001b[0m \u001b[0mline\u001b[0m \u001b[0;32min\u001b[0m \u001b[0mfp_list\u001b[0m\u001b[0;34m:\u001b[0m\u001b[0;34m\u001b[0m\u001b[0;34m\u001b[0m\u001b[0m\n\u001b[0m\u001b[1;32m      3\u001b[0m   \u001b[0mk\u001b[0m\u001b[0;34m+=\u001b[0m\u001b[0;36m1\u001b[0m\u001b[0;34m\u001b[0m\u001b[0;34m\u001b[0m\u001b[0m\n\u001b[1;32m      4\u001b[0m   \u001b[0;32mfor\u001b[0m \u001b[0mi\u001b[0m \u001b[0;32min\u001b[0m \u001b[0mrange\u001b[0m\u001b[0;34m(\u001b[0m\u001b[0mlen\u001b[0m\u001b[0;34m(\u001b[0m\u001b[0mline\u001b[0m\u001b[0;34m)\u001b[0m \u001b[0;34m-\u001b[0m \u001b[0mwindow_size\u001b[0m\u001b[0;34m)\u001b[0m\u001b[0;34m:\u001b[0m\u001b[0;34m\u001b[0m\u001b[0;34m\u001b[0m\u001b[0m\n\u001b[1;32m      5\u001b[0m     \u001b[0msession\u001b[0m \u001b[0;34m=\u001b[0m \u001b[0mline\u001b[0m\u001b[0;34m[\u001b[0m\u001b[0mi\u001b[0m\u001b[0;34m:\u001b[0m\u001b[0mi\u001b[0m \u001b[0;34m+\u001b[0m \u001b[0mwindow_size\u001b[0m\u001b[0;34m]\u001b[0m\u001b[0;34m\u001b[0m\u001b[0;34m\u001b[0m\u001b[0m\n",
            "\u001b[0;31mNameError\u001b[0m: name 'fp_list' is not defined"
          ]
        }
      ]
    },
    {
      "cell_type": "code",
      "source": [
        "k=0\n",
        "for line in fn_list:\n",
        "  k+=1\n",
        "  print(line)\n",
        "  for i in range(len(line) - window_size):\n",
        "    session = line[i:i + window_size]\n",
        "    seq = [template_to_tensor(temp) for temp in session]\n",
        "    label = template_to_tensor(line[i + window_size])\n",
        "    seq = torch.tensor(seq, dtype=torch.float).view(-1, window_size, input_size).to(device)\n",
        "    label = torch.tensor(label).view(-1).to(device)\n",
        "    output = model(seq)\n",
        "    predicted = torch.argsort(output, 1)[0][-num_candidates:]\n",
        "    if torch.argmax(label) in predicted:\n",
        "      #print(seq)\n",
        "      print(torch.argmax(label))\n",
        "      print(output)\n",
        "      print(torch.argsort(output, 1)[0][-15:])\n",
        "      break\n",
        "  if k==15:\n",
        "    break"
      ],
      "metadata": {
        "colab": {
          "base_uri": "https://localhost:8080/"
        },
        "id": "cZ_xSdF68iUC",
        "outputId": "ffdb7862-1cca-4bf5-9a03-4443440a0b1f"
      },
      "execution_count": 44,
      "outputs": [
        {
          "output_type": "stream",
          "name": "stdout",
          "text": [
            "(4, 4, 21, 4, 10, 8, 25, 25, 10, 8, 10, 8, 25, 2, 3, 2, 24, 17, 4, 5, 15, 25, 25, 20, 24, 17, 4, 5, 15, 25, 25, 20, 2, 3, 2, 22, 22, 22, 20, 20, 20)\n",
            "tensor(10, device='cuda:0')\n",
            "tensor([[-3.9015, -0.0990,  1.5863, -3.8834, -1.0817, -3.5460, -3.1518, -3.9147,\n",
            "          3.9864, -4.2262, 11.5035, -3.8253, -3.4973, -4.0609, -3.8128, -0.8991,\n",
            "         -3.7993, -1.5726, -4.8105, -3.3805, -4.0684, -0.7707,  0.7654, -4.1127,\n",
            "         -0.4764,  6.4379, -3.2284, -3.7026]], device='cuda:0',\n",
            "       grad_fn=<AddmmBackward0>)\n",
            "tensor([12, 19, 26,  6, 17,  4, 15, 21, 24,  1, 22,  2,  8, 25, 10],\n",
            "       device='cuda:0')\n",
            "(21, 4, 4, 4, 10, 8, 10, 8, 25, 25, 10, 8, 24, 4, 17, 25, 5, 15, 25, 20, 22, 22, 22, 20, 20, 20)\n",
            "tensor(10, device='cuda:0')\n",
            "tensor([[-4.1400,  0.0220,  1.4041, -3.6026, -2.8916, -4.3265, -3.4762, -4.3217,\n",
            "          3.7456, -4.2130,  9.1355, -4.0597, -3.7541, -4.0977, -4.0241, -2.0453,\n",
            "         -3.9458, -1.4266, -4.7337, -3.5215, -4.1359, -0.4249,  1.4820, -4.0578,\n",
            "         -1.1853,  8.2023, -3.2882, -3.7479]], device='cuda:0',\n",
            "       grad_fn=<AddmmBackward0>)\n",
            "tensor([ 3, 19,  6, 26,  4, 15, 17, 24, 21,  1,  2, 22,  8, 25, 10],\n",
            "       device='cuda:0')\n",
            "(4, 4, 4, 21, 10, 8, 10, 8, 10, 8, 25, 25, 25, 24, 17, 4, 5, 15, 25, 25, 20, 17, 24, 4, 5, 15, 25, 25, 20)\n",
            "tensor(25, device='cuda:0')\n",
            "tensor([[-4.5072,  1.3027, -0.2479, -4.6171, -5.3914, -4.7350, -3.8875, -4.9118,\n",
            "          0.4225, -4.4719,  2.1411, -4.2178, -4.2529, -4.3715, -4.6133, -3.3623,\n",
            "         -4.3796, -1.4777, -5.0568, -4.3236, -1.5295, -0.4409,  0.6166, -4.2790,\n",
            "         -1.3216, 12.8251, -3.5494, -3.7722]], device='cuda:0',\n",
            "       grad_fn=<AddmmBackward0>)\n",
            "tensor([11,  6, 27, 26, 15, 20, 17, 24, 21,  2,  8, 22,  1, 10, 25],\n",
            "       device='cuda:0')\n",
            "(4, 4, 21, 4, 25, 10, 8, 10, 8, 10, 8, 25, 25, 3, 2, 2, 24, 17, 4, 15, 5, 25, 25, 20, 17, 24, 4, 5, 15, 25, 25, 20, 3, 2, 2, 22, 22, 22, 20, 20, 20)\n",
            "tensor(8, device='cuda:0')\n",
            "tensor([[-3.2276, -2.3649,  2.6641, -0.5894, -4.3359, -2.3272, -2.7253, -3.2965,\n",
            "         12.3376, -3.2429,  3.3722, -3.2840, -3.0928, -3.2425, -3.2923, -2.7753,\n",
            "         -3.1068,  0.0755, -4.0523, -2.9492, -4.9278, -0.5266,  0.5888, -3.3133,\n",
            "         -4.5830,  5.6443, -2.9186, -2.4008]], device='cuda:0',\n",
            "       grad_fn=<AddmmBackward0>)\n",
            "tensor([19, 26, 15,  6, 27,  1,  5,  3, 21, 17, 22,  2, 10, 25,  8],\n",
            "       device='cuda:0')\n",
            "(4, 21, 4, 4, 10, 8, 25, 10, 8, 10, 8, 25, 25, 24, 17, 4, 5, 15, 25, 25, 20, 22, 22, 22, 20, 20, 20)\n",
            "tensor(8, device='cuda:0')\n",
            "tensor([[-2.9009, -1.8417,  2.8254, -0.3827, -3.9986, -2.9928, -2.5679, -3.0107,\n",
            "         12.6905, -2.9728,  3.4011, -3.0861, -2.8737, -2.9480, -2.9886, -3.4220,\n",
            "         -2.7545,  0.7910, -3.7161, -2.7068, -5.6118, -0.5979,  0.8726, -2.9890,\n",
            "         -3.9695,  5.2091, -2.6621, -2.2461]], device='cuda:0',\n",
            "       grad_fn=<AddmmBackward0>)\n",
            "tensor([12, 16, 19, 26,  6, 27,  1, 21,  3, 17, 22,  2, 10, 25,  8],\n",
            "       device='cuda:0')\n",
            "(4, 4, 21, 4, 10, 8, 25, 25, 10, 8, 10, 8, 25, 1, 2, 2, 3, 24, 17, 4, 15, 5, 25, 25, 20, 24, 4, 17, 5, 15, 25, 25, 20, 2, 2, 3, 22, 22, 22, 20, 20, 20)\n",
            "tensor(10, device='cuda:0')\n",
            "tensor([[-3.9015, -0.0990,  1.5863, -3.8834, -1.0817, -3.5460, -3.1518, -3.9147,\n",
            "          3.9864, -4.2262, 11.5035, -3.8253, -3.4973, -4.0609, -3.8128, -0.8991,\n",
            "         -3.7993, -1.5726, -4.8105, -3.3805, -4.0684, -0.7707,  0.7654, -4.1127,\n",
            "         -0.4764,  6.4379, -3.2284, -3.7026]], device='cuda:0',\n",
            "       grad_fn=<AddmmBackward0>)\n",
            "tensor([12, 19, 26,  6, 17,  4, 15, 21, 24,  1, 22,  2,  8, 25, 10],\n",
            "       device='cuda:0')\n",
            "(4, 4, 21, 4, 10, 8, 25, 10, 8, 10, 8, 25, 17, 24, 4, 5, 25, 15, 25, 20, 24, 17, 4, 5, 25, 15, 25, 20, 22, 22, 22, 20, 20, 20)\n",
            "tensor(8, device='cuda:0')\n",
            "tensor([[-2.8640, -1.9437,  2.9273,  0.0682, -4.0307, -2.7709, -2.5344, -2.9552,\n",
            "         12.9231, -2.9430,  3.8117, -3.0609, -2.8223, -2.8968, -2.9492, -3.4651,\n",
            "         -2.7344,  0.7891, -3.6865, -2.6616, -5.6946, -0.5715,  0.6735, -2.9791,\n",
            "         -3.9105,  4.8432, -2.6688, -2.2293]], device='cuda:0',\n",
            "       grad_fn=<AddmmBackward0>)\n",
            "tensor([ 5, 16, 26, 19,  6, 27,  1, 21,  3, 22, 17,  2, 10, 25,  8],\n",
            "       device='cuda:0')\n",
            "(4, 4, 21, 4, 10, 8, 10, 8, 25, 25, 25, 10, 8, 2, 2, 3, 24, 17, 4, 15, 5, 25, 25, 20, 24, 4, 17, 5, 15, 25, 25, 20, 1, 2, 2, 3, 22, 22, 22, 20, 20, 20)\n",
            "tensor(25, device='cuda:0')\n",
            "tensor([[-4.2410, -0.0363,  1.3107, -3.5246, -2.8947, -4.3523, -3.5596, -4.4190,\n",
            "          3.7351, -4.3296,  9.5196, -4.1754, -3.8547, -4.2313, -4.1489, -2.1135,\n",
            "         -4.0930, -1.5477, -4.8695, -3.6125, -4.0188, -0.4545,  1.4280, -4.2138,\n",
            "         -1.1252,  8.1675, -3.4029, -3.8781]], device='cuda:0',\n",
            "       grad_fn=<AddmmBackward0>)\n",
            "tensor([19,  6,  3, 26,  4, 15, 17, 24, 21,  1,  2, 22,  8, 25, 10],\n",
            "       device='cuda:0')\n",
            "(4, 4, 4, 21, 10, 8, 10, 8, 25, 10, 8, 25, 24, 17, 4, 15, 5, 25, 25, 20, 1, 1, 22, 22, 22, 20, 20, 20)\n",
            "tensor(8, device='cuda:0')\n",
            "tensor([[-3.0302, -1.8826,  2.8125,  0.8743, -4.5247, -2.5039, -2.6712, -3.1624,\n",
            "         12.2676, -3.1074,  4.5786, -3.3193, -2.8983, -2.9743, -3.0729, -3.6700,\n",
            "         -2.9937,  0.3745, -3.7913, -2.7805, -5.5944, -0.3237,  0.3678, -3.0917,\n",
            "         -3.9514,  5.0591, -2.8406, -2.3756]], device='cuda:0',\n",
            "       grad_fn=<AddmmBackward0>)\n",
            "tensor([12, 26, 19,  6,  5, 27,  1, 21, 22, 17,  3,  2, 10, 25,  8],\n",
            "       device='cuda:0')\n",
            "(21, 4, 4, 4, 25, 25, 10, 8, 10, 8, 10, 8, 24, 17, 4, 25, 5, 15, 25, 20, 1, 2, 1, 22, 22, 22, 20, 20, 20)\n",
            "tensor(10, device='cuda:0')\n",
            "tensor([[-3.7332,  0.4004,  1.4033, -5.5173, -1.1255, -4.8718, -3.0299, -3.9257,\n",
            "          3.5778, -4.0291,  8.3661, -3.5874, -3.6068, -4.0039, -3.8002, -1.3370,\n",
            "         -3.4608, -1.1927, -4.6595, -3.4603, -3.8517, -1.0197,  1.8647, -3.9094,\n",
            "         -0.9316,  7.8440, -2.9264, -3.4560]], device='cuda:0',\n",
            "       grad_fn=<AddmmBackward0>)\n",
            "tensor([19, 27,  6, 26, 15, 17,  4, 21, 24,  1,  2, 22,  8, 25, 10],\n",
            "       device='cuda:0')\n",
            "(4, 21, 4, 4, 10, 8, 10, 8, 25, 25, 25, 10, 8, 2, 2, 3, 24, 17, 4, 5, 15, 25, 25, 20, 4, 17, 24, 5, 15, 25, 25, 20, 2, 2, 3, 22, 22, 22, 20, 20, 20)\n",
            "tensor(25, device='cuda:0')\n",
            "tensor([[-4.1944, -0.1782,  1.3685, -3.3533, -2.8472, -4.1094, -3.5113, -4.3619,\n",
            "          3.9917, -4.2764,  9.5469, -4.1172, -3.8028, -4.1878, -4.0943, -1.9597,\n",
            "         -4.0278, -1.4559, -4.8150, -3.5593, -4.0791, -0.4297,  1.2308, -4.1552,\n",
            "         -1.1369,  8.0863, -3.3649, -3.8298]], device='cuda:0',\n",
            "       grad_fn=<AddmmBackward0>)\n",
            "tensor([19,  6, 26,  3,  4, 15, 17, 24, 21,  1, 22,  2,  8, 25, 10],\n",
            "       device='cuda:0')\n",
            "(21, 4, 4, 4, 25, 10, 8, 10, 8, 10, 8, 25, 17, 24, 4, 25, 15, 5, 25, 20, 1, 3, 2, 3, 1, 1, 22, 22, 22, 20, 20, 20)\n",
            "tensor(8, device='cuda:0')\n",
            "tensor([[-3.0073, -1.9668,  2.7606, -0.5739, -4.3157, -2.8990, -2.6383, -3.1160,\n",
            "         12.8233, -3.0519,  2.5782, -3.1440, -2.9720, -3.0652, -3.1089, -3.3709,\n",
            "         -2.8693,  0.6518, -3.8336, -2.8482, -5.4138, -0.6460,  0.9962, -3.0916,\n",
            "         -4.4933,  5.6364, -2.7565, -2.2724]], device='cuda:0',\n",
            "       grad_fn=<AddmmBackward0>)\n",
            "tensor([ 5, 16, 19, 26,  6, 27,  1, 21,  3, 17, 22, 10,  2, 25,  8],\n",
            "       device='cuda:0')\n",
            "(4, 4, 4, 21, 10, 8, 10, 8, 10, 8, 25, 25, 17, 24, 4, 5, 15, 25, 25, 20, 22, 22, 22, 20, 20, 20)\n",
            "tensor(25, device='cuda:0')\n",
            "tensor([[-4.5072,  1.3027, -0.2479, -4.6171, -5.3914, -4.7350, -3.8875, -4.9118,\n",
            "          0.4225, -4.4719,  2.1411, -4.2178, -4.2529, -4.3715, -4.6133, -3.3623,\n",
            "         -4.3796, -1.4777, -5.0568, -4.3236, -1.5295, -0.4409,  0.6166, -4.2790,\n",
            "         -1.3216, 12.8251, -3.5494, -3.7722]], device='cuda:0',\n",
            "       grad_fn=<AddmmBackward0>)\n",
            "tensor([11,  6, 27, 26, 15, 20, 17, 24, 21,  2,  8, 22,  1, 10, 25],\n",
            "       device='cuda:0')\n",
            "(4, 4, 21, 4, 10, 8, 10, 8, 25, 25, 25, 10, 8, 2, 2, 3, 24, 17, 4, 15, 5, 25, 25, 20, 24, 17, 4, 5, 15, 25, 25, 20, 1, 2, 3, 2, 22, 22, 22, 20, 20, 20)\n",
            "tensor(25, device='cuda:0')\n",
            "tensor([[-4.2410, -0.0363,  1.3107, -3.5246, -2.8947, -4.3523, -3.5596, -4.4190,\n",
            "          3.7351, -4.3296,  9.5196, -4.1754, -3.8547, -4.2313, -4.1489, -2.1135,\n",
            "         -4.0930, -1.5477, -4.8695, -3.6125, -4.0188, -0.4545,  1.4280, -4.2138,\n",
            "         -1.1252,  8.1675, -3.4029, -3.8781]], device='cuda:0',\n",
            "       grad_fn=<AddmmBackward0>)\n",
            "tensor([19,  6,  3, 26,  4, 15, 17, 24, 21,  1,  2, 22,  8, 25, 10],\n",
            "       device='cuda:0')\n",
            "(4, 4, 21, 4, 10, 8, 10, 8, 10, 8, 24, 25, 25, 25, 4, 17, 5, 15, 25, 20, 24, 17, 4, 5, 15, 25, 25, 20, 24, 17, 4, 15, 5, 25, 25, 20, 24, 17, 4, 15, 5, 25, 25, 20)\n",
            "tensor(24, device='cuda:0')\n",
            "tensor([[-4.4967,  1.2474, -0.0515, -4.7598, -5.3886, -4.8024, -3.8505, -4.8827,\n",
            "          0.8026, -4.4415,  2.1532, -4.1891, -4.2581, -4.3969, -4.6457, -3.2886,\n",
            "         -4.3474, -1.5165, -5.0282, -4.3164, -1.7178, -0.5081,  0.8487, -4.2723,\n",
            "         -1.4493, 12.6986, -3.5370, -3.7831]], device='cuda:0',\n",
            "       grad_fn=<AddmmBackward0>)\n",
            "tensor([11,  6, 27, 26, 15, 20, 17, 24, 21,  2,  8, 22,  1, 10, 25],\n",
            "       device='cuda:0')\n"
          ]
        }
      ]
    }
  ]
}