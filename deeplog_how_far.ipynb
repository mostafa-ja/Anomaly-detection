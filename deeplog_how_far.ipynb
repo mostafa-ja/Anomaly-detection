{
  "nbformat": 4,
  "nbformat_minor": 0,
  "metadata": {
    "colab": {
      "provenance": [],
      "authorship_tag": "ABX9TyMD3ls5SyOt13l8/tPTPbs3",
      "include_colab_link": true
    },
    "kernelspec": {
      "name": "python3",
      "display_name": "Python 3"
    },
    "language_info": {
      "name": "python"
    }
  },
  "cells": [
    {
      "cell_type": "markdown",
      "metadata": {
        "id": "view-in-github",
        "colab_type": "text"
      },
      "source": [
        "<a href=\"https://colab.research.google.com/github/mostafa-ja/Anomaly-detection/blob/main/deeplog_how_far.ipynb\" target=\"_parent\"><img src=\"https://colab.research.google.com/assets/colab-badge.svg\" alt=\"Open In Colab\"/></a>"
      ]
    },
    {
      "cell_type": "markdown",
      "source": [
        "[Log-based Anomaly Detection with Deep Learning: How Far Are We?](https://colab.research.google.com/drive/13og-BnOONCyEJ2dup6fDstkYY-y23NmC#scrollTo=FlbDlUAoxCWX)"
      ],
      "metadata": {
        "id": "FlbDlUAoxCWX"
      }
    },
    {
      "cell_type": "code",
      "source": [
        "import sys\n",
        "sys.path.append('/content/')"
      ],
      "metadata": {
        "id": "rnIRkokivgoc"
      },
      "execution_count": 4,
      "outputs": []
    },
    {
      "cell_type": "code",
      "source": [
        "import Drain"
      ],
      "metadata": {
        "id": "qpdRAEySvm0S"
      },
      "execution_count": 5,
      "outputs": []
    },
    {
      "cell_type": "code",
      "execution_count": 9,
      "metadata": {
        "id": "wnFJvcdstthf"
      },
      "outputs": [],
      "source": [
        "def parse_log(data_dir, output_dir, log_file, parser_type,log_format, regex, keep_para=False, st=0.3, depth=3, max_child=1000, tau=0.35):\n",
        "\n",
        "  # the hyper parameter is set according to http://jmzhu.logpai.com/pub/pjhe_icws2017.pdf\n",
        "  # Drain is modified\n",
        "  parser = Drain.LogParser(log_format,\n",
        "                            indir=data_dir,\n",
        "                            outdir=output_dir,\n",
        "                            depth=depth,\n",
        "                            st=st,\n",
        "                            rex=regex,\n",
        "                            keep_para=keep_para, maxChild=max_child)\n",
        "  parser.parse(log_file)"
      ]
    },
    {
      "cell_type": "code",
      "source": [],
      "metadata": {
        "id": "8xpZHew0wE0g"
      },
      "execution_count": null,
      "outputs": []
    },
    {
      "cell_type": "code",
      "source": [],
      "metadata": {
        "id": "HaZAwnq-v5l9"
      },
      "execution_count": null,
      "outputs": []
    }
  ]
}